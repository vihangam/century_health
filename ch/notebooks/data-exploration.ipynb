{
 "cells": [
  {
   "cell_type": "code",
   "execution_count": 1,
   "id": "55fff855-db84-4797-b561-319faa081502",
   "metadata": {},
   "outputs": [
    {
     "data": {
      "text/html": [
       "<pre style=\"white-space:pre;overflow-x:auto;line-height:normal;font-family:Menlo,'DejaVu Sans Mono',consolas,'Courier New',monospace\"><span style=\"color: #7fbfbf; text-decoration-color: #7fbfbf\">[04/28/25 23:05:15] </span><span style=\"color: #000080; text-decoration-color: #000080\">INFO    </span> Using                                                                  <a href=\"file:///Users/vihangamagarwal/miniconda3/envs/ch_env/lib/python3.10/site-packages/kedro/framework/project/__init__.py\" target=\"_blank\"><span style=\"color: #7f7f7f; text-decoration-color: #7f7f7f\">__init__.py</span></a><span style=\"color: #7f7f7f; text-decoration-color: #7f7f7f\">:</span><a href=\"file:///Users/vihangamagarwal/miniconda3/envs/ch_env/lib/python3.10/site-packages/kedro/framework/project/__init__.py#270\" target=\"_blank\"><span style=\"color: #7f7f7f; text-decoration-color: #7f7f7f\">270</span></a>\n",
       "<span style=\"color: #7fbfbf; text-decoration-color: #7fbfbf\">                    </span>         <span style=\"color: #008000; text-decoration-color: #008000\">'/Users/vihangamagarwal/miniconda3/envs/ch_env/lib/python3.10/site-pac</span> <span style=\"color: #7f7f7f; text-decoration-color: #7f7f7f\">               </span>\n",
       "<span style=\"color: #7fbfbf; text-decoration-color: #7fbfbf\">                    </span>         <span style=\"color: #008000; text-decoration-color: #008000\">kages/kedro/framework/project/rich_logging.yml'</span> as logging             <span style=\"color: #7f7f7f; text-decoration-color: #7f7f7f\">               </span>\n",
       "<span style=\"color: #7fbfbf; text-decoration-color: #7fbfbf\">                    </span>         configuration.                                                         <span style=\"color: #7f7f7f; text-decoration-color: #7f7f7f\">               </span>\n",
       "</pre>\n"
      ],
      "text/plain": [
       "\u001b[2;36m[04/28/25 23:05:15]\u001b[0m\u001b[2;36m \u001b[0m\u001b[34mINFO    \u001b[0m Using                                                                  \u001b]8;id=7838;file:///Users/vihangamagarwal/miniconda3/envs/ch_env/lib/python3.10/site-packages/kedro/framework/project/__init__.py\u001b\\\u001b[2m__init__.py\u001b[0m\u001b]8;;\u001b\\\u001b[2m:\u001b[0m\u001b]8;id=780140;file:///Users/vihangamagarwal/miniconda3/envs/ch_env/lib/python3.10/site-packages/kedro/framework/project/__init__.py#270\u001b\\\u001b[2m270\u001b[0m\u001b]8;;\u001b\\\n",
       "\u001b[2;36m                    \u001b[0m         \u001b[32m'/Users/vihangamagarwal/miniconda3/envs/ch_env/lib/python3.10/site-pac\u001b[0m \u001b[2m               \u001b[0m\n",
       "\u001b[2;36m                    \u001b[0m         \u001b[32mkages/kedro/framework/project/rich_logging.yml'\u001b[0m as logging             \u001b[2m               \u001b[0m\n",
       "\u001b[2;36m                    \u001b[0m         configuration.                                                         \u001b[2m               \u001b[0m\n"
      ]
     },
     "metadata": {},
     "output_type": "display_data"
    },
    {
     "data": {
      "text/html": [
       "<pre style=\"white-space:pre;overflow-x:auto;line-height:normal;font-family:Menlo,'DejaVu Sans Mono',consolas,'Courier New',monospace\"><span style=\"color: #7fbfbf; text-decoration-color: #7fbfbf\">                    </span><span style=\"color: #000080; text-decoration-color: #000080\">INFO    </span> Registered line magic <span style=\"color: #008000; text-decoration-color: #008000\">'%reload_kedro'</span>                                   <a href=\"file:///Users/vihangamagarwal/miniconda3/envs/ch_env/lib/python3.10/site-packages/kedro/ipython/__init__.py\" target=\"_blank\"><span style=\"color: #7f7f7f; text-decoration-color: #7f7f7f\">__init__.py</span></a><span style=\"color: #7f7f7f; text-decoration-color: #7f7f7f\">:</span><a href=\"file:///Users/vihangamagarwal/miniconda3/envs/ch_env/lib/python3.10/site-packages/kedro/ipython/__init__.py#63\" target=\"_blank\"><span style=\"color: #7f7f7f; text-decoration-color: #7f7f7f\">63</span></a>\n",
       "</pre>\n"
      ],
      "text/plain": [
       "\u001b[2;36m                   \u001b[0m\u001b[2;36m \u001b[0m\u001b[34mINFO    \u001b[0m Registered line magic \u001b[32m'%reload_kedro'\u001b[0m                                   \u001b]8;id=214111;file:///Users/vihangamagarwal/miniconda3/envs/ch_env/lib/python3.10/site-packages/kedro/ipython/__init__.py\u001b\\\u001b[2m__init__.py\u001b[0m\u001b]8;;\u001b\\\u001b[2m:\u001b[0m\u001b]8;id=798780;file:///Users/vihangamagarwal/miniconda3/envs/ch_env/lib/python3.10/site-packages/kedro/ipython/__init__.py#63\u001b\\\u001b[2m63\u001b[0m\u001b]8;;\u001b\\\n"
      ]
     },
     "metadata": {},
     "output_type": "display_data"
    },
    {
     "data": {
      "text/html": [
       "<pre style=\"white-space:pre;overflow-x:auto;line-height:normal;font-family:Menlo,'DejaVu Sans Mono',consolas,'Courier New',monospace\"><span style=\"color: #7fbfbf; text-decoration-color: #7fbfbf\">                    </span><span style=\"color: #000080; text-decoration-color: #000080\">INFO    </span> Registered line magic <span style=\"color: #008000; text-decoration-color: #008000\">'%load_node'</span>                                      <a href=\"file:///Users/vihangamagarwal/miniconda3/envs/ch_env/lib/python3.10/site-packages/kedro/ipython/__init__.py\" target=\"_blank\"><span style=\"color: #7f7f7f; text-decoration-color: #7f7f7f\">__init__.py</span></a><span style=\"color: #7f7f7f; text-decoration-color: #7f7f7f\">:</span><a href=\"file:///Users/vihangamagarwal/miniconda3/envs/ch_env/lib/python3.10/site-packages/kedro/ipython/__init__.py#65\" target=\"_blank\"><span style=\"color: #7f7f7f; text-decoration-color: #7f7f7f\">65</span></a>\n",
       "</pre>\n"
      ],
      "text/plain": [
       "\u001b[2;36m                   \u001b[0m\u001b[2;36m \u001b[0m\u001b[34mINFO    \u001b[0m Registered line magic \u001b[32m'%load_node'\u001b[0m                                      \u001b]8;id=737012;file:///Users/vihangamagarwal/miniconda3/envs/ch_env/lib/python3.10/site-packages/kedro/ipython/__init__.py\u001b\\\u001b[2m__init__.py\u001b[0m\u001b]8;;\u001b\\\u001b[2m:\u001b[0m\u001b]8;id=158715;file:///Users/vihangamagarwal/miniconda3/envs/ch_env/lib/python3.10/site-packages/kedro/ipython/__init__.py#65\u001b\\\u001b[2m65\u001b[0m\u001b]8;;\u001b\\\n"
      ]
     },
     "metadata": {},
     "output_type": "display_data"
    },
    {
     "data": {
      "text/html": [
       "<pre style=\"white-space:pre;overflow-x:auto;line-height:normal;font-family:Menlo,'DejaVu Sans Mono',consolas,'Courier New',monospace\"><span style=\"color: #7fbfbf; text-decoration-color: #7fbfbf\">                    </span><span style=\"color: #000080; text-decoration-color: #000080\">INFO    </span> Resolved project path as:                                              <a href=\"file:///Users/vihangamagarwal/miniconda3/envs/ch_env/lib/python3.10/site-packages/kedro/ipython/__init__.py\" target=\"_blank\"><span style=\"color: #7f7f7f; text-decoration-color: #7f7f7f\">__init__.py</span></a><span style=\"color: #7f7f7f; text-decoration-color: #7f7f7f\">:</span><a href=\"file:///Users/vihangamagarwal/miniconda3/envs/ch_env/lib/python3.10/site-packages/kedro/ipython/__init__.py#180\" target=\"_blank\"><span style=\"color: #7f7f7f; text-decoration-color: #7f7f7f\">180</span></a>\n",
       "<span style=\"color: #7fbfbf; text-decoration-color: #7fbfbf\">                    </span>         <span style=\"color: #800080; text-decoration-color: #800080\">/Users/vihangamagarwal/code/century_health/century_health/</span><span style=\"color: #ff00ff; text-decoration-color: #ff00ff\">ch.</span>          <span style=\"color: #7f7f7f; text-decoration-color: #7f7f7f\">               </span>\n",
       "<span style=\"color: #7fbfbf; text-decoration-color: #7fbfbf\">                    </span>         To set a different path, run <span style=\"color: #008000; text-decoration-color: #008000\">'%reload_kedro &lt;project_root&gt;'</span>            <span style=\"color: #7f7f7f; text-decoration-color: #7f7f7f\">               </span>\n",
       "</pre>\n"
      ],
      "text/plain": [
       "\u001b[2;36m                   \u001b[0m\u001b[2;36m \u001b[0m\u001b[34mINFO    \u001b[0m Resolved project path as:                                              \u001b]8;id=83047;file:///Users/vihangamagarwal/miniconda3/envs/ch_env/lib/python3.10/site-packages/kedro/ipython/__init__.py\u001b\\\u001b[2m__init__.py\u001b[0m\u001b]8;;\u001b\\\u001b[2m:\u001b[0m\u001b]8;id=30123;file:///Users/vihangamagarwal/miniconda3/envs/ch_env/lib/python3.10/site-packages/kedro/ipython/__init__.py#180\u001b\\\u001b[2m180\u001b[0m\u001b]8;;\u001b\\\n",
       "\u001b[2;36m                    \u001b[0m         \u001b[35m/Users/vihangamagarwal/code/century_health/century_health/\u001b[0m\u001b[95mch.\u001b[0m          \u001b[2m               \u001b[0m\n",
       "\u001b[2;36m                    \u001b[0m         To set a different path, run \u001b[32m'%reload_kedro \u001b[0m\u001b[32m<\u001b[0m\u001b[32mproject_root\u001b[0m\u001b[32m>\u001b[0m\u001b[32m'\u001b[0m            \u001b[2m               \u001b[0m\n"
      ]
     },
     "metadata": {},
     "output_type": "display_data"
    },
    {
     "data": {
      "text/html": [
       "<pre style=\"white-space:pre;overflow-x:auto;line-height:normal;font-family:Menlo,'DejaVu Sans Mono',consolas,'Courier New',monospace\"><span style=\"color: #7fbfbf; text-decoration-color: #7fbfbf\">                    </span><span style=\"color: #808000; text-decoration-color: #808000\">WARNING </span> <span style=\"color: #800080; text-decoration-color: #800080\">/Users/vihangamagarwal/miniconda3/envs/ch_env/lib/python3.10/site-pack</span> <a href=\"file:///Users/vihangamagarwal/miniconda3/envs/ch_env/lib/python3.10/warnings.py\" target=\"_blank\"><span style=\"color: #7f7f7f; text-decoration-color: #7f7f7f\">warnings.py</span></a><span style=\"color: #7f7f7f; text-decoration-color: #7f7f7f\">:</span><a href=\"file:///Users/vihangamagarwal/miniconda3/envs/ch_env/lib/python3.10/warnings.py#109\" target=\"_blank\"><span style=\"color: #7f7f7f; text-decoration-color: #7f7f7f\">109</span></a>\n",
       "<span style=\"color: #7fbfbf; text-decoration-color: #7fbfbf\">                    </span>         <span style=\"color: #800080; text-decoration-color: #800080\">ages/kedro/io/</span><span style=\"color: #ff00ff; text-decoration-color: #ff00ff\">data_catalog.py</span>:<span style=\"color: #008080; text-decoration-color: #008080; font-weight: bold\">165</span>: KedroDeprecationWarning:            <span style=\"color: #7f7f7f; text-decoration-color: #7f7f7f\">               </span>\n",
       "<span style=\"color: #7fbfbf; text-decoration-color: #7fbfbf\">                    </span>         `DataCatalog` has been deprecated and will be replaced by              <span style=\"color: #7f7f7f; text-decoration-color: #7f7f7f\">               </span>\n",
       "<span style=\"color: #7fbfbf; text-decoration-color: #7fbfbf\">                    </span>         `KedroDataCatalog`, in Kedro <span style=\"color: #008080; text-decoration-color: #008080; font-weight: bold\">1.0</span>.<span style=\"color: #008080; text-decoration-color: #008080; font-weight: bold\">0.</span>Currently some `KedroDataCatalog`   <span style=\"color: #7f7f7f; text-decoration-color: #7f7f7f\">               </span>\n",
       "<span style=\"color: #7fbfbf; text-decoration-color: #7fbfbf\">                    </span>         APIs have been retained for compatibility with `DataCatalog`,          <span style=\"color: #7f7f7f; text-decoration-color: #7f7f7f\">               </span>\n",
       "<span style=\"color: #7fbfbf; text-decoration-color: #7fbfbf\">                    </span>         including the `datasets` property and the `get_datasets`,              <span style=\"color: #7f7f7f; text-decoration-color: #7f7f7f\">               </span>\n",
       "<span style=\"color: #7fbfbf; text-decoration-color: #7fbfbf\">                    </span>         `_get_datasets`, `add`,` list`, `add_feed_dict`, and `shallow_copy`    <span style=\"color: #7f7f7f; text-decoration-color: #7f7f7f\">               </span>\n",
       "<span style=\"color: #7fbfbf; text-decoration-color: #7fbfbf\">                    </span>         methods. These will be removed or replaced with updated alternatives   <span style=\"color: #7f7f7f; text-decoration-color: #7f7f7f\">               </span>\n",
       "<span style=\"color: #7fbfbf; text-decoration-color: #7fbfbf\">                    </span>         in Kedro <span style=\"color: #008080; text-decoration-color: #008080; font-weight: bold\">1.0</span>.<span style=\"color: #008080; text-decoration-color: #008080; font-weight: bold\">0</span>. For more details, refer to the documentation:          <span style=\"color: #7f7f7f; text-decoration-color: #7f7f7f\">               </span>\n",
       "<span style=\"color: #7fbfbf; text-decoration-color: #7fbfbf\">                    </span>         <span style=\"color: #0000ff; text-decoration-color: #0000ff; text-decoration: underline\">https://docs.kedro.org/en/stable/data/index.html#kedrodatacatalog-expe</span> <span style=\"color: #7f7f7f; text-decoration-color: #7f7f7f\">               </span>\n",
       "<span style=\"color: #7fbfbf; text-decoration-color: #7fbfbf\">                    </span>         <span style=\"color: #0000ff; text-decoration-color: #0000ff; text-decoration: underline\">rimental-feature</span>                                                       <span style=\"color: #7f7f7f; text-decoration-color: #7f7f7f\">               </span>\n",
       "<span style=\"color: #7fbfbf; text-decoration-color: #7fbfbf\">                    </span>           <span style=\"color: #800080; text-decoration-color: #800080; font-weight: bold\">warnings.warn</span><span style=\"font-weight: bold\">(</span>                                                       <span style=\"color: #7f7f7f; text-decoration-color: #7f7f7f\">               </span>\n",
       "<span style=\"color: #7fbfbf; text-decoration-color: #7fbfbf\">                    </span>                                                                                <span style=\"color: #7f7f7f; text-decoration-color: #7f7f7f\">               </span>\n",
       "</pre>\n"
      ],
      "text/plain": [
       "\u001b[2;36m                   \u001b[0m\u001b[2;36m \u001b[0m\u001b[33mWARNING \u001b[0m \u001b[35m/Users/vihangamagarwal/miniconda3/envs/ch_env/lib/python3.10/site-pack\u001b[0m \u001b]8;id=961491;file:///Users/vihangamagarwal/miniconda3/envs/ch_env/lib/python3.10/warnings.py\u001b\\\u001b[2mwarnings.py\u001b[0m\u001b]8;;\u001b\\\u001b[2m:\u001b[0m\u001b]8;id=747826;file:///Users/vihangamagarwal/miniconda3/envs/ch_env/lib/python3.10/warnings.py#109\u001b\\\u001b[2m109\u001b[0m\u001b]8;;\u001b\\\n",
       "\u001b[2;36m                    \u001b[0m         \u001b[35mages/kedro/io/\u001b[0m\u001b[95mdata_catalog.py\u001b[0m:\u001b[1;36m165\u001b[0m: KedroDeprecationWarning:            \u001b[2m               \u001b[0m\n",
       "\u001b[2;36m                    \u001b[0m         `DataCatalog` has been deprecated and will be replaced by              \u001b[2m               \u001b[0m\n",
       "\u001b[2;36m                    \u001b[0m         `KedroDataCatalog`, in Kedro \u001b[1;36m1.0\u001b[0m.\u001b[1;36m0.\u001b[0mCurrently some `KedroDataCatalog`   \u001b[2m               \u001b[0m\n",
       "\u001b[2;36m                    \u001b[0m         APIs have been retained for compatibility with `DataCatalog`,          \u001b[2m               \u001b[0m\n",
       "\u001b[2;36m                    \u001b[0m         including the `datasets` property and the `get_datasets`,              \u001b[2m               \u001b[0m\n",
       "\u001b[2;36m                    \u001b[0m         `_get_datasets`, `add`,` list`, `add_feed_dict`, and `shallow_copy`    \u001b[2m               \u001b[0m\n",
       "\u001b[2;36m                    \u001b[0m         methods. These will be removed or replaced with updated alternatives   \u001b[2m               \u001b[0m\n",
       "\u001b[2;36m                    \u001b[0m         in Kedro \u001b[1;36m1.0\u001b[0m.\u001b[1;36m0\u001b[0m. For more details, refer to the documentation:          \u001b[2m               \u001b[0m\n",
       "\u001b[2;36m                    \u001b[0m         \u001b[4;94mhttps://docs.kedro.org/en/stable/data/index.html#kedrodatacatalog-expe\u001b[0m \u001b[2m               \u001b[0m\n",
       "\u001b[2;36m                    \u001b[0m         \u001b[4;94mrimental-feature\u001b[0m                                                       \u001b[2m               \u001b[0m\n",
       "\u001b[2;36m                    \u001b[0m           \u001b[1;35mwarnings.warn\u001b[0m\u001b[1m(\u001b[0m                                                       \u001b[2m               \u001b[0m\n",
       "\u001b[2;36m                    \u001b[0m                                                                                \u001b[2m               \u001b[0m\n"
      ]
     },
     "metadata": {},
     "output_type": "display_data"
    },
    {
     "name": "stderr",
     "output_type": "stream",
     "text": [
      "25/04/28 23:05:18 WARN Utils: Your hostname, Vihangams-MacBook-Air.local resolves to a loopback address: 127.0.0.1; using 192.168.1.10 instead (on interface en0)\n",
      "25/04/28 23:05:18 WARN Utils: Set SPARK_LOCAL_IP if you need to bind to another address\n",
      "Setting default log level to \"WARN\".\n",
      "To adjust logging level use sc.setLogLevel(newLevel). For SparkR, use setLogLevel(newLevel).\n",
      "25/04/28 23:05:20 WARN NativeCodeLoader: Unable to load native-hadoop library for your platform... using builtin-java classes where applicable\n"
     ]
    },
    {
     "data": {
      "text/html": [
       "<pre style=\"white-space:pre;overflow-x:auto;line-height:normal;font-family:Menlo,'DejaVu Sans Mono',consolas,'Courier New',monospace\"><span style=\"color: #7fbfbf; text-decoration-color: #7fbfbf\">[04/28/25 23:05:24] </span><span style=\"color: #808000; text-decoration-color: #808000\">WARNING </span> <span style=\"color: #800080; text-decoration-color: #800080\">/Users/vihangamagarwal/miniconda3/envs/ch_env/lib/python3.10/site-pack</span> <a href=\"file:///Users/vihangamagarwal/miniconda3/envs/ch_env/lib/python3.10/warnings.py\" target=\"_blank\"><span style=\"color: #7f7f7f; text-decoration-color: #7f7f7f\">warnings.py</span></a><span style=\"color: #7f7f7f; text-decoration-color: #7f7f7f\">:</span><a href=\"file:///Users/vihangamagarwal/miniconda3/envs/ch_env/lib/python3.10/warnings.py#109\" target=\"_blank\"><span style=\"color: #7f7f7f; text-decoration-color: #7f7f7f\">109</span></a>\n",
       "<span style=\"color: #7fbfbf; text-decoration-color: #7fbfbf\">                    </span>         <span style=\"color: #800080; text-decoration-color: #800080\">ages/kedro/io/</span><span style=\"color: #ff00ff; text-decoration-color: #ff00ff\">data_catalog.py</span>:<span style=\"color: #008080; text-decoration-color: #008080; font-weight: bold\">165</span>: KedroDeprecationWarning:            <span style=\"color: #7f7f7f; text-decoration-color: #7f7f7f\">               </span>\n",
       "<span style=\"color: #7fbfbf; text-decoration-color: #7fbfbf\">                    </span>         `DataCatalog` has been deprecated and will be replaced by              <span style=\"color: #7f7f7f; text-decoration-color: #7f7f7f\">               </span>\n",
       "<span style=\"color: #7fbfbf; text-decoration-color: #7fbfbf\">                    </span>         `KedroDataCatalog`, in Kedro <span style=\"color: #008080; text-decoration-color: #008080; font-weight: bold\">1.0</span>.<span style=\"color: #008080; text-decoration-color: #008080; font-weight: bold\">0.</span>Currently some `KedroDataCatalog`   <span style=\"color: #7f7f7f; text-decoration-color: #7f7f7f\">               </span>\n",
       "<span style=\"color: #7fbfbf; text-decoration-color: #7fbfbf\">                    </span>         APIs have been retained for compatibility with `DataCatalog`,          <span style=\"color: #7f7f7f; text-decoration-color: #7f7f7f\">               </span>\n",
       "<span style=\"color: #7fbfbf; text-decoration-color: #7fbfbf\">                    </span>         including the `datasets` property and the `get_datasets`,              <span style=\"color: #7f7f7f; text-decoration-color: #7f7f7f\">               </span>\n",
       "<span style=\"color: #7fbfbf; text-decoration-color: #7fbfbf\">                    </span>         `_get_datasets`, `add`,` list`, `add_feed_dict`, and `shallow_copy`    <span style=\"color: #7f7f7f; text-decoration-color: #7f7f7f\">               </span>\n",
       "<span style=\"color: #7fbfbf; text-decoration-color: #7fbfbf\">                    </span>         methods. These will be removed or replaced with updated alternatives   <span style=\"color: #7f7f7f; text-decoration-color: #7f7f7f\">               </span>\n",
       "<span style=\"color: #7fbfbf; text-decoration-color: #7fbfbf\">                    </span>         in Kedro <span style=\"color: #008080; text-decoration-color: #008080; font-weight: bold\">1.0</span>.<span style=\"color: #008080; text-decoration-color: #008080; font-weight: bold\">0</span>. For more details, refer to the documentation:          <span style=\"color: #7f7f7f; text-decoration-color: #7f7f7f\">               </span>\n",
       "<span style=\"color: #7fbfbf; text-decoration-color: #7fbfbf\">                    </span>         <span style=\"color: #0000ff; text-decoration-color: #0000ff; text-decoration: underline\">https://docs.kedro.org/en/stable/data/index.html#kedrodatacatalog-expe</span> <span style=\"color: #7f7f7f; text-decoration-color: #7f7f7f\">               </span>\n",
       "<span style=\"color: #7fbfbf; text-decoration-color: #7fbfbf\">                    </span>         <span style=\"color: #0000ff; text-decoration-color: #0000ff; text-decoration: underline\">rimental-feature</span>                                                       <span style=\"color: #7f7f7f; text-decoration-color: #7f7f7f\">               </span>\n",
       "<span style=\"color: #7fbfbf; text-decoration-color: #7fbfbf\">                    </span>           <span style=\"color: #800080; text-decoration-color: #800080; font-weight: bold\">warnings.warn</span><span style=\"font-weight: bold\">(</span>                                                       <span style=\"color: #7f7f7f; text-decoration-color: #7f7f7f\">               </span>\n",
       "<span style=\"color: #7fbfbf; text-decoration-color: #7fbfbf\">                    </span>                                                                                <span style=\"color: #7f7f7f; text-decoration-color: #7f7f7f\">               </span>\n",
       "</pre>\n"
      ],
      "text/plain": [
       "\u001b[2;36m[04/28/25 23:05:24]\u001b[0m\u001b[2;36m \u001b[0m\u001b[33mWARNING \u001b[0m \u001b[35m/Users/vihangamagarwal/miniconda3/envs/ch_env/lib/python3.10/site-pack\u001b[0m \u001b]8;id=808276;file:///Users/vihangamagarwal/miniconda3/envs/ch_env/lib/python3.10/warnings.py\u001b\\\u001b[2mwarnings.py\u001b[0m\u001b]8;;\u001b\\\u001b[2m:\u001b[0m\u001b]8;id=318972;file:///Users/vihangamagarwal/miniconda3/envs/ch_env/lib/python3.10/warnings.py#109\u001b\\\u001b[2m109\u001b[0m\u001b]8;;\u001b\\\n",
       "\u001b[2;36m                    \u001b[0m         \u001b[35mages/kedro/io/\u001b[0m\u001b[95mdata_catalog.py\u001b[0m:\u001b[1;36m165\u001b[0m: KedroDeprecationWarning:            \u001b[2m               \u001b[0m\n",
       "\u001b[2;36m                    \u001b[0m         `DataCatalog` has been deprecated and will be replaced by              \u001b[2m               \u001b[0m\n",
       "\u001b[2;36m                    \u001b[0m         `KedroDataCatalog`, in Kedro \u001b[1;36m1.0\u001b[0m.\u001b[1;36m0.\u001b[0mCurrently some `KedroDataCatalog`   \u001b[2m               \u001b[0m\n",
       "\u001b[2;36m                    \u001b[0m         APIs have been retained for compatibility with `DataCatalog`,          \u001b[2m               \u001b[0m\n",
       "\u001b[2;36m                    \u001b[0m         including the `datasets` property and the `get_datasets`,              \u001b[2m               \u001b[0m\n",
       "\u001b[2;36m                    \u001b[0m         `_get_datasets`, `add`,` list`, `add_feed_dict`, and `shallow_copy`    \u001b[2m               \u001b[0m\n",
       "\u001b[2;36m                    \u001b[0m         methods. These will be removed or replaced with updated alternatives   \u001b[2m               \u001b[0m\n",
       "\u001b[2;36m                    \u001b[0m         in Kedro \u001b[1;36m1.0\u001b[0m.\u001b[1;36m0\u001b[0m. For more details, refer to the documentation:          \u001b[2m               \u001b[0m\n",
       "\u001b[2;36m                    \u001b[0m         \u001b[4;94mhttps://docs.kedro.org/en/stable/data/index.html#kedrodatacatalog-expe\u001b[0m \u001b[2m               \u001b[0m\n",
       "\u001b[2;36m                    \u001b[0m         \u001b[4;94mrimental-feature\u001b[0m                                                       \u001b[2m               \u001b[0m\n",
       "\u001b[2;36m                    \u001b[0m           \u001b[1;35mwarnings.warn\u001b[0m\u001b[1m(\u001b[0m                                                       \u001b[2m               \u001b[0m\n",
       "\u001b[2;36m                    \u001b[0m                                                                                \u001b[2m               \u001b[0m\n"
      ]
     },
     "metadata": {},
     "output_type": "display_data"
    },
    {
     "data": {
      "text/html": [
       "<pre style=\"white-space:pre;overflow-x:auto;line-height:normal;font-family:Menlo,'DejaVu Sans Mono',consolas,'Courier New',monospace\"><span style=\"color: #7fbfbf; text-decoration-color: #7fbfbf\">                    </span><span style=\"color: #808000; text-decoration-color: #808000\">WARNING </span> <span style=\"color: #800080; text-decoration-color: #800080\">/Users/vihangamagarwal/miniconda3/envs/ch_env/lib/python3.10/site-pack</span> <a href=\"file:///Users/vihangamagarwal/miniconda3/envs/ch_env/lib/python3.10/warnings.py\" target=\"_blank\"><span style=\"color: #7f7f7f; text-decoration-color: #7f7f7f\">warnings.py</span></a><span style=\"color: #7f7f7f; text-decoration-color: #7f7f7f\">:</span><a href=\"file:///Users/vihangamagarwal/miniconda3/envs/ch_env/lib/python3.10/warnings.py#109\" target=\"_blank\"><span style=\"color: #7f7f7f; text-decoration-color: #7f7f7f\">109</span></a>\n",
       "<span style=\"color: #7fbfbf; text-decoration-color: #7fbfbf\">                    </span>         <span style=\"color: #800080; text-decoration-color: #800080\">ages/kedro/framework/project/</span><span style=\"color: #ff00ff; text-decoration-color: #ff00ff\">__init__.py</span>:<span style=\"color: #008080; text-decoration-color: #008080; font-weight: bold\">450</span>: UserWarning: An error    <span style=\"color: #7f7f7f; text-decoration-color: #7f7f7f\">               </span>\n",
       "<span style=\"color: #7fbfbf; text-decoration-color: #7fbfbf\">                    </span>         occurred while importing the <span style=\"color: #008000; text-decoration-color: #008000\">'ch.pipelines.reporting'</span> module. Nothing  <span style=\"color: #7f7f7f; text-decoration-color: #7f7f7f\">               </span>\n",
       "<span style=\"color: #7fbfbf; text-decoration-color: #7fbfbf\">                    </span>         defined therein will be returned by <span style=\"color: #008000; text-decoration-color: #008000\">'find_pipelines'</span>.                  <span style=\"color: #7f7f7f; text-decoration-color: #7f7f7f\">               </span>\n",
       "<span style=\"color: #7fbfbf; text-decoration-color: #7fbfbf\">                    </span>                                                                                <span style=\"color: #7f7f7f; text-decoration-color: #7f7f7f\">               </span>\n",
       "<span style=\"color: #7fbfbf; text-decoration-color: #7fbfbf\">                    </span>         Traceback <span style=\"font-weight: bold\">(</span>most recent call last<span style=\"font-weight: bold\">)</span>:                                     <span style=\"color: #7f7f7f; text-decoration-color: #7f7f7f\">               </span>\n",
       "<span style=\"color: #7fbfbf; text-decoration-color: #7fbfbf\">                    </span>           File                                                                 <span style=\"color: #7f7f7f; text-decoration-color: #7f7f7f\">               </span>\n",
       "<span style=\"color: #7fbfbf; text-decoration-color: #7fbfbf\">                    </span>         <span style=\"color: #008000; text-decoration-color: #008000\">\"/Users/vihangamagarwal/miniconda3/envs/ch_env/lib/python3.10/site-pac</span> <span style=\"color: #7f7f7f; text-decoration-color: #7f7f7f\">               </span>\n",
       "<span style=\"color: #7fbfbf; text-decoration-color: #7fbfbf\">                    </span>         <span style=\"color: #008000; text-decoration-color: #008000\">kages/kedro/framework/project/__init__.py\"</span>, line <span style=\"color: #008080; text-decoration-color: #008080; font-weight: bold\">442</span>, in               <span style=\"color: #7f7f7f; text-decoration-color: #7f7f7f\">               </span>\n",
       "<span style=\"color: #7fbfbf; text-decoration-color: #7fbfbf\">                    </span>         find_pipelines                                                         <span style=\"color: #7f7f7f; text-decoration-color: #7f7f7f\">               </span>\n",
       "<span style=\"color: #7fbfbf; text-decoration-color: #7fbfbf\">                    </span>             pipeline_module = <span style=\"color: #800080; text-decoration-color: #800080; font-weight: bold\">importlib.import_module</span><span style=\"font-weight: bold\">(</span>pipeline_module_name<span style=\"font-weight: bold\">)</span>    <span style=\"color: #7f7f7f; text-decoration-color: #7f7f7f\">               </span>\n",
       "<span style=\"color: #7fbfbf; text-decoration-color: #7fbfbf\">                    </span>           File                                                                 <span style=\"color: #7f7f7f; text-decoration-color: #7f7f7f\">               </span>\n",
       "<span style=\"color: #7fbfbf; text-decoration-color: #7fbfbf\">                    </span>         <span style=\"color: #008000; text-decoration-color: #008000\">\"/Users/vihangamagarwal/miniconda3/envs/ch_env/lib/python3.10/importli</span> <span style=\"color: #7f7f7f; text-decoration-color: #7f7f7f\">               </span>\n",
       "<span style=\"color: #7fbfbf; text-decoration-color: #7fbfbf\">                    </span>         <span style=\"color: #008000; text-decoration-color: #008000\">b/__init__.py\"</span>, line <span style=\"color: #008080; text-decoration-color: #008080; font-weight: bold\">126</span>, in import_module                             <span style=\"color: #7f7f7f; text-decoration-color: #7f7f7f\">               </span>\n",
       "<span style=\"color: #7fbfbf; text-decoration-color: #7fbfbf\">                    </span>             return <span style=\"color: #800080; text-decoration-color: #800080; font-weight: bold\">_bootstrap._gcd_import</span><span style=\"font-weight: bold\">(</span>name, package, level<span style=\"font-weight: bold\">)</span>                <span style=\"color: #7f7f7f; text-decoration-color: #7f7f7f\">               </span>\n",
       "<span style=\"color: #7fbfbf; text-decoration-color: #7fbfbf\">                    </span>           File <span style=\"color: #008000; text-decoration-color: #008000\">\"&lt;frozen importlib._bootstrap&gt;\"</span><span style=\"color: #000000; text-decoration-color: #000000\">, line </span><span style=\"color: #008080; text-decoration-color: #008080; font-weight: bold\">1050</span><span style=\"color: #000000; text-decoration-color: #000000\">, in _gcd_import</span>      <span style=\"color: #7f7f7f; text-decoration-color: #7f7f7f\">               </span>\n",
       "<span style=\"color: #7fbfbf; text-decoration-color: #7fbfbf\">                    </span>         <span style=\"color: #000000; text-decoration-color: #000000\">  File </span><span style=\"color: #008000; text-decoration-color: #008000\">\"&lt;frozen importlib._bootstrap&gt;\"</span><span style=\"color: #000000; text-decoration-color: #000000\">, line </span><span style=\"color: #008080; text-decoration-color: #008080; font-weight: bold\">1027</span><span style=\"color: #000000; text-decoration-color: #000000\">, in _find_and_load</span>   <span style=\"color: #7f7f7f; text-decoration-color: #7f7f7f\">               </span>\n",
       "<span style=\"color: #7fbfbf; text-decoration-color: #7fbfbf\">                    </span>         <span style=\"color: #000000; text-decoration-color: #000000\">  File </span><span style=\"color: #008000; text-decoration-color: #008000\">\"&lt;frozen importlib._bootstrap&gt;\"</span><span style=\"color: #000000; text-decoration-color: #000000\">, line </span><span style=\"color: #008080; text-decoration-color: #008080; font-weight: bold\">1006</span><span style=\"color: #000000; text-decoration-color: #000000\">, in </span>                 <span style=\"color: #7f7f7f; text-decoration-color: #7f7f7f\">               </span>\n",
       "<span style=\"color: #7fbfbf; text-decoration-color: #7fbfbf\">                    </span>         <span style=\"color: #000000; text-decoration-color: #000000\">_find_and_load_unlocked</span>                                                <span style=\"color: #7f7f7f; text-decoration-color: #7f7f7f\">               </span>\n",
       "<span style=\"color: #7fbfbf; text-decoration-color: #7fbfbf\">                    </span>         <span style=\"color: #000000; text-decoration-color: #000000\">  File </span><span style=\"color: #008000; text-decoration-color: #008000\">\"&lt;frozen importlib._bootstrap&gt;\"</span><span style=\"color: #000000; text-decoration-color: #000000\">, line </span><span style=\"color: #008080; text-decoration-color: #008080; font-weight: bold\">688</span><span style=\"color: #000000; text-decoration-color: #000000\">, in _load_unlocked</span>    <span style=\"color: #7f7f7f; text-decoration-color: #7f7f7f\">               </span>\n",
       "<span style=\"color: #7fbfbf; text-decoration-color: #7fbfbf\">                    </span>         <span style=\"color: #000000; text-decoration-color: #000000\">  File </span><span style=\"color: #008000; text-decoration-color: #008000\">\"&lt;frozen importlib._bootstrap_external&gt;\"</span><span style=\"color: #000000; text-decoration-color: #000000\">, line </span><span style=\"color: #008080; text-decoration-color: #008080; font-weight: bold\">883</span><span style=\"color: #000000; text-decoration-color: #000000\">, in </span>         <span style=\"color: #7f7f7f; text-decoration-color: #7f7f7f\">               </span>\n",
       "<span style=\"color: #7fbfbf; text-decoration-color: #7fbfbf\">                    </span>         <span style=\"color: #000000; text-decoration-color: #000000\">exec_module</span>                                                            <span style=\"color: #7f7f7f; text-decoration-color: #7f7f7f\">               </span>\n",
       "<span style=\"color: #7fbfbf; text-decoration-color: #7fbfbf\">                    </span>         <span style=\"color: #000000; text-decoration-color: #000000\">  File </span><span style=\"color: #008000; text-decoration-color: #008000\">\"&lt;frozen importlib._bootstrap&gt;\"</span><span style=\"color: #000000; text-decoration-color: #000000\">, line </span><span style=\"color: #008080; text-decoration-color: #008080; font-weight: bold\">241</span><span style=\"color: #000000; text-decoration-color: #000000\">, in </span>                  <span style=\"color: #7f7f7f; text-decoration-color: #7f7f7f\">               </span>\n",
       "<span style=\"color: #7fbfbf; text-decoration-color: #7fbfbf\">                    </span>         <span style=\"color: #000000; text-decoration-color: #000000\">_call_with_frames_removed</span>                                              <span style=\"color: #7f7f7f; text-decoration-color: #7f7f7f\">               </span>\n",
       "<span style=\"color: #7fbfbf; text-decoration-color: #7fbfbf\">                    </span>         <span style=\"color: #000000; text-decoration-color: #000000\">  File </span>                                                                <span style=\"color: #7f7f7f; text-decoration-color: #7f7f7f\">               </span>\n",
       "<span style=\"color: #7fbfbf; text-decoration-color: #7fbfbf\">                    </span>         <span style=\"color: #008000; text-decoration-color: #008000\">\"/Users/vihangamagarwal/code/century_health/century_health/ch/src/ch/p</span> <span style=\"color: #7f7f7f; text-decoration-color: #7f7f7f\">               </span>\n",
       "<span style=\"color: #7fbfbf; text-decoration-color: #7fbfbf\">                    </span>         <span style=\"color: #008000; text-decoration-color: #008000\">ipelines/reporting/__init__.py\"</span><span style=\"color: #000000; text-decoration-color: #000000\">, line </span><span style=\"color: #008080; text-decoration-color: #008080; font-weight: bold\">3</span><span style=\"color: #000000; text-decoration-color: #000000\">, in &lt;module&gt;</span>                   <span style=\"color: #7f7f7f; text-decoration-color: #7f7f7f\">               </span>\n",
       "<span style=\"color: #7fbfbf; text-decoration-color: #7fbfbf\">                    </span>         <span style=\"color: #000000; text-decoration-color: #000000\">    from .pipeline import create_pipeline # NOQA</span>                       <span style=\"color: #7f7f7f; text-decoration-color: #7f7f7f\">               </span>\n",
       "<span style=\"color: #7fbfbf; text-decoration-color: #7fbfbf\">                    </span>         <span style=\"color: #000000; text-decoration-color: #000000\">  File </span>                                                                <span style=\"color: #7f7f7f; text-decoration-color: #7f7f7f\">               </span>\n",
       "<span style=\"color: #7fbfbf; text-decoration-color: #7fbfbf\">                    </span>         <span style=\"color: #008000; text-decoration-color: #008000\">\"/Users/vihangamagarwal/code/century_health/century_health/ch/src/ch/p</span> <span style=\"color: #7f7f7f; text-decoration-color: #7f7f7f\">               </span>\n",
       "<span style=\"color: #7fbfbf; text-decoration-color: #7fbfbf\">                    </span>         <span style=\"color: #008000; text-decoration-color: #008000\">ipelines/reporting/pipeline.py\"</span><span style=\"color: #000000; text-decoration-color: #000000\">, line </span><span style=\"color: #008080; text-decoration-color: #008080; font-weight: bold\">3</span><span style=\"color: #000000; text-decoration-color: #000000\">, in &lt;module&gt;</span>                   <span style=\"color: #7f7f7f; text-decoration-color: #7f7f7f\">               </span>\n",
       "<span style=\"color: #7fbfbf; text-decoration-color: #7fbfbf\">                    </span>         <span style=\"color: #000000; text-decoration-color: #000000\">    from .nodes import </span><span style=\"color: #000000; text-decoration-color: #000000; font-weight: bold\">(</span>                                               <span style=\"color: #7f7f7f; text-decoration-color: #7f7f7f\">               </span>\n",
       "<span style=\"color: #7fbfbf; text-decoration-color: #7fbfbf\">                    </span>         <span style=\"color: #000000; text-decoration-color: #000000\">  File </span>                                                                <span style=\"color: #7f7f7f; text-decoration-color: #7f7f7f\">               </span>\n",
       "<span style=\"color: #7fbfbf; text-decoration-color: #7fbfbf\">                    </span>         <span style=\"color: #008000; text-decoration-color: #008000\">\"/Users/vihangamagarwal/code/century_health/century_health/ch/src/ch/p</span> <span style=\"color: #7f7f7f; text-decoration-color: #7f7f7f\">               </span>\n",
       "<span style=\"color: #7fbfbf; text-decoration-color: #7fbfbf\">                    </span>         <span style=\"color: #008000; text-decoration-color: #008000\">ipelines/reporting/nodes.py\"</span><span style=\"color: #000000; text-decoration-color: #000000\">, line </span><span style=\"color: #008080; text-decoration-color: #008080; font-weight: bold\">1</span><span style=\"color: #000000; text-decoration-color: #000000\">, in &lt;module</span><span style=\"font-weight: bold\">&gt;</span>                      <span style=\"color: #7f7f7f; text-decoration-color: #7f7f7f\">               </span>\n",
       "<span style=\"color: #7fbfbf; text-decoration-color: #7fbfbf\">                    </span>             import matplotlib.pyplot as plt                                    <span style=\"color: #7f7f7f; text-decoration-color: #7f7f7f\">               </span>\n",
       "<span style=\"color: #7fbfbf; text-decoration-color: #7fbfbf\">                    </span>         ModuleNotFoundError: No module named <span style=\"color: #008000; text-decoration-color: #008000\">'matplotlib'</span>                      <span style=\"color: #7f7f7f; text-decoration-color: #7f7f7f\">               </span>\n",
       "<span style=\"color: #7fbfbf; text-decoration-color: #7fbfbf\">                    </span>                                                                                <span style=\"color: #7f7f7f; text-decoration-color: #7f7f7f\">               </span>\n",
       "<span style=\"color: #7fbfbf; text-decoration-color: #7fbfbf\">                    </span>           <span style=\"color: #800080; text-decoration-color: #800080; font-weight: bold\">warnings.warn</span><span style=\"font-weight: bold\">(</span>                                                       <span style=\"color: #7f7f7f; text-decoration-color: #7f7f7f\">               </span>\n",
       "<span style=\"color: #7fbfbf; text-decoration-color: #7fbfbf\">                    </span>                                                                                <span style=\"color: #7f7f7f; text-decoration-color: #7f7f7f\">               </span>\n",
       "</pre>\n"
      ],
      "text/plain": [
       "\u001b[2;36m                   \u001b[0m\u001b[2;36m \u001b[0m\u001b[33mWARNING \u001b[0m \u001b[35m/Users/vihangamagarwal/miniconda3/envs/ch_env/lib/python3.10/site-pack\u001b[0m \u001b]8;id=367354;file:///Users/vihangamagarwal/miniconda3/envs/ch_env/lib/python3.10/warnings.py\u001b\\\u001b[2mwarnings.py\u001b[0m\u001b]8;;\u001b\\\u001b[2m:\u001b[0m\u001b]8;id=903837;file:///Users/vihangamagarwal/miniconda3/envs/ch_env/lib/python3.10/warnings.py#109\u001b\\\u001b[2m109\u001b[0m\u001b]8;;\u001b\\\n",
       "\u001b[2;36m                    \u001b[0m         \u001b[35mages/kedro/framework/project/\u001b[0m\u001b[95m__init__.py\u001b[0m:\u001b[1;36m450\u001b[0m: UserWarning: An error    \u001b[2m               \u001b[0m\n",
       "\u001b[2;36m                    \u001b[0m         occurred while importing the \u001b[32m'ch.pipelines.reporting'\u001b[0m module. Nothing  \u001b[2m               \u001b[0m\n",
       "\u001b[2;36m                    \u001b[0m         defined therein will be returned by \u001b[32m'find_pipelines'\u001b[0m.                  \u001b[2m               \u001b[0m\n",
       "\u001b[2;36m                    \u001b[0m                                                                                \u001b[2m               \u001b[0m\n",
       "\u001b[2;36m                    \u001b[0m         Traceback \u001b[1m(\u001b[0mmost recent call last\u001b[1m)\u001b[0m:                                     \u001b[2m               \u001b[0m\n",
       "\u001b[2;36m                    \u001b[0m           File                                                                 \u001b[2m               \u001b[0m\n",
       "\u001b[2;36m                    \u001b[0m         \u001b[32m\"/Users/vihangamagarwal/miniconda3/envs/ch_env/lib/python3.10/site-pac\u001b[0m \u001b[2m               \u001b[0m\n",
       "\u001b[2;36m                    \u001b[0m         \u001b[32mkages/kedro/framework/project/__init__.py\"\u001b[0m, line \u001b[1;36m442\u001b[0m, in               \u001b[2m               \u001b[0m\n",
       "\u001b[2;36m                    \u001b[0m         find_pipelines                                                         \u001b[2m               \u001b[0m\n",
       "\u001b[2;36m                    \u001b[0m             pipeline_module = \u001b[1;35mimportlib.import_module\u001b[0m\u001b[1m(\u001b[0mpipeline_module_name\u001b[1m)\u001b[0m    \u001b[2m               \u001b[0m\n",
       "\u001b[2;36m                    \u001b[0m           File                                                                 \u001b[2m               \u001b[0m\n",
       "\u001b[2;36m                    \u001b[0m         \u001b[32m\"/Users/vihangamagarwal/miniconda3/envs/ch_env/lib/python3.10/importli\u001b[0m \u001b[2m               \u001b[0m\n",
       "\u001b[2;36m                    \u001b[0m         \u001b[32mb/__init__.py\"\u001b[0m, line \u001b[1;36m126\u001b[0m, in import_module                             \u001b[2m               \u001b[0m\n",
       "\u001b[2;36m                    \u001b[0m             return \u001b[1;35m_bootstrap._gcd_import\u001b[0m\u001b[1m(\u001b[0mname, package, level\u001b[1m)\u001b[0m                \u001b[2m               \u001b[0m\n",
       "\u001b[2;36m                    \u001b[0m           File \u001b[32m\"\u001b[0m\u001b[32m<\u001b[0m\u001b[32mfrozen\u001b[0m\u001b[32m importlib._bootstrap>\"\u001b[0m\u001b[39m, line \u001b[0m\u001b[1;36m1050\u001b[0m\u001b[39m, in _gcd_import\u001b[0m      \u001b[2m               \u001b[0m\n",
       "\u001b[2;36m                    \u001b[0m         \u001b[39m  File \u001b[0m\u001b[32m\"<frozen importlib._bootstrap>\"\u001b[0m\u001b[39m, line \u001b[0m\u001b[1;36m1027\u001b[0m\u001b[39m, in _find_and_load\u001b[0m   \u001b[2m               \u001b[0m\n",
       "\u001b[2;36m                    \u001b[0m         \u001b[39m  File \u001b[0m\u001b[32m\"<frozen importlib._bootstrap>\"\u001b[0m\u001b[39m, line \u001b[0m\u001b[1;36m1006\u001b[0m\u001b[39m, in \u001b[0m                 \u001b[2m               \u001b[0m\n",
       "\u001b[2;36m                    \u001b[0m         \u001b[39m_find_and_load_unlocked\u001b[0m                                                \u001b[2m               \u001b[0m\n",
       "\u001b[2;36m                    \u001b[0m         \u001b[39m  File \u001b[0m\u001b[32m\"<frozen importlib._bootstrap>\"\u001b[0m\u001b[39m, line \u001b[0m\u001b[1;36m688\u001b[0m\u001b[39m, in _load_unlocked\u001b[0m    \u001b[2m               \u001b[0m\n",
       "\u001b[2;36m                    \u001b[0m         \u001b[39m  File \u001b[0m\u001b[32m\"<frozen importlib._bootstrap_external>\"\u001b[0m\u001b[39m, line \u001b[0m\u001b[1;36m883\u001b[0m\u001b[39m, in \u001b[0m         \u001b[2m               \u001b[0m\n",
       "\u001b[2;36m                    \u001b[0m         \u001b[39mexec_module\u001b[0m                                                            \u001b[2m               \u001b[0m\n",
       "\u001b[2;36m                    \u001b[0m         \u001b[39m  File \u001b[0m\u001b[32m\"<frozen importlib._bootstrap>\"\u001b[0m\u001b[39m, line \u001b[0m\u001b[1;36m241\u001b[0m\u001b[39m, in \u001b[0m                  \u001b[2m               \u001b[0m\n",
       "\u001b[2;36m                    \u001b[0m         \u001b[39m_call_with_frames_removed\u001b[0m                                              \u001b[2m               \u001b[0m\n",
       "\u001b[2;36m                    \u001b[0m         \u001b[39m  File \u001b[0m                                                                \u001b[2m               \u001b[0m\n",
       "\u001b[2;36m                    \u001b[0m         \u001b[32m\"/Users/vihangamagarwal/code/century_health/century_health/ch/src/ch/p\u001b[0m \u001b[2m               \u001b[0m\n",
       "\u001b[2;36m                    \u001b[0m         \u001b[32mipelines/reporting/__init__.py\"\u001b[0m\u001b[39m, line \u001b[0m\u001b[1;36m3\u001b[0m\u001b[39m, in <module>\u001b[0m                   \u001b[2m               \u001b[0m\n",
       "\u001b[2;36m                    \u001b[0m         \u001b[39m    from .pipeline import create_pipeline # NOQA\u001b[0m                       \u001b[2m               \u001b[0m\n",
       "\u001b[2;36m                    \u001b[0m         \u001b[39m  File \u001b[0m                                                                \u001b[2m               \u001b[0m\n",
       "\u001b[2;36m                    \u001b[0m         \u001b[32m\"/Users/vihangamagarwal/code/century_health/century_health/ch/src/ch/p\u001b[0m \u001b[2m               \u001b[0m\n",
       "\u001b[2;36m                    \u001b[0m         \u001b[32mipelines/reporting/pipeline.py\"\u001b[0m\u001b[39m, line \u001b[0m\u001b[1;36m3\u001b[0m\u001b[39m, in <module>\u001b[0m                   \u001b[2m               \u001b[0m\n",
       "\u001b[2;36m                    \u001b[0m         \u001b[39m    from .nodes import \u001b[0m\u001b[1;39m(\u001b[0m                                               \u001b[2m               \u001b[0m\n",
       "\u001b[2;36m                    \u001b[0m         \u001b[39m  File \u001b[0m                                                                \u001b[2m               \u001b[0m\n",
       "\u001b[2;36m                    \u001b[0m         \u001b[32m\"/Users/vihangamagarwal/code/century_health/century_health/ch/src/ch/p\u001b[0m \u001b[2m               \u001b[0m\n",
       "\u001b[2;36m                    \u001b[0m         \u001b[32mipelines/reporting/nodes.py\"\u001b[0m\u001b[39m, line \u001b[0m\u001b[1;36m1\u001b[0m\u001b[39m, in <module\u001b[0m\u001b[1m>\u001b[0m                      \u001b[2m               \u001b[0m\n",
       "\u001b[2;36m                    \u001b[0m             import matplotlib.pyplot as plt                                    \u001b[2m               \u001b[0m\n",
       "\u001b[2;36m                    \u001b[0m         ModuleNotFoundError: No module named \u001b[32m'matplotlib'\u001b[0m                      \u001b[2m               \u001b[0m\n",
       "\u001b[2;36m                    \u001b[0m                                                                                \u001b[2m               \u001b[0m\n",
       "\u001b[2;36m                    \u001b[0m           \u001b[1;35mwarnings.warn\u001b[0m\u001b[1m(\u001b[0m                                                       \u001b[2m               \u001b[0m\n",
       "\u001b[2;36m                    \u001b[0m                                                                                \u001b[2m               \u001b[0m\n"
      ]
     },
     "metadata": {},
     "output_type": "display_data"
    },
    {
     "data": {
      "text/html": [
       "<pre style=\"white-space:pre;overflow-x:auto;line-height:normal;font-family:Menlo,'DejaVu Sans Mono',consolas,'Courier New',monospace\"><span style=\"color: #7fbfbf; text-decoration-color: #7fbfbf\">                    </span><span style=\"color: #808000; text-decoration-color: #808000\">WARNING </span> <span style=\"color: #800080; text-decoration-color: #800080\">/Users/vihangamagarwal/miniconda3/envs/ch_env/lib/python3.10/site-pack</span> <a href=\"file:///Users/vihangamagarwal/miniconda3/envs/ch_env/lib/python3.10/warnings.py\" target=\"_blank\"><span style=\"color: #7f7f7f; text-decoration-color: #7f7f7f\">warnings.py</span></a><span style=\"color: #7f7f7f; text-decoration-color: #7f7f7f\">:</span><a href=\"file:///Users/vihangamagarwal/miniconda3/envs/ch_env/lib/python3.10/warnings.py#109\" target=\"_blank\"><span style=\"color: #7f7f7f; text-decoration-color: #7f7f7f\">109</span></a>\n",
       "<span style=\"color: #7fbfbf; text-decoration-color: #7fbfbf\">                    </span>         <span style=\"color: #800080; text-decoration-color: #800080\">ages/kedro/framework/project/</span><span style=\"color: #ff00ff; text-decoration-color: #ff00ff\">__init__.py</span>:<span style=\"color: #008080; text-decoration-color: #008080; font-weight: bold\">450</span>: UserWarning: An error    <span style=\"color: #7f7f7f; text-decoration-color: #7f7f7f\">               </span>\n",
       "<span style=\"color: #7fbfbf; text-decoration-color: #7fbfbf\">                    </span>         occurred while importing the <span style=\"color: #008000; text-decoration-color: #008000\">'ch.pipelines.data_science'</span> module.       <span style=\"color: #7f7f7f; text-decoration-color: #7f7f7f\">               </span>\n",
       "<span style=\"color: #7fbfbf; text-decoration-color: #7fbfbf\">                    </span>         Nothing defined therein will be returned by <span style=\"color: #008000; text-decoration-color: #008000\">'find_pipelines'</span>.          <span style=\"color: #7f7f7f; text-decoration-color: #7f7f7f\">               </span>\n",
       "<span style=\"color: #7fbfbf; text-decoration-color: #7fbfbf\">                    </span>                                                                                <span style=\"color: #7f7f7f; text-decoration-color: #7f7f7f\">               </span>\n",
       "<span style=\"color: #7fbfbf; text-decoration-color: #7fbfbf\">                    </span>         Traceback <span style=\"font-weight: bold\">(</span>most recent call last<span style=\"font-weight: bold\">)</span>:                                     <span style=\"color: #7f7f7f; text-decoration-color: #7f7f7f\">               </span>\n",
       "<span style=\"color: #7fbfbf; text-decoration-color: #7fbfbf\">                    </span>           File                                                                 <span style=\"color: #7f7f7f; text-decoration-color: #7f7f7f\">               </span>\n",
       "<span style=\"color: #7fbfbf; text-decoration-color: #7fbfbf\">                    </span>         <span style=\"color: #008000; text-decoration-color: #008000\">\"/Users/vihangamagarwal/miniconda3/envs/ch_env/lib/python3.10/site-pac</span> <span style=\"color: #7f7f7f; text-decoration-color: #7f7f7f\">               </span>\n",
       "<span style=\"color: #7fbfbf; text-decoration-color: #7fbfbf\">                    </span>         <span style=\"color: #008000; text-decoration-color: #008000\">kages/kedro/framework/project/__init__.py\"</span>, line <span style=\"color: #008080; text-decoration-color: #008080; font-weight: bold\">442</span>, in               <span style=\"color: #7f7f7f; text-decoration-color: #7f7f7f\">               </span>\n",
       "<span style=\"color: #7fbfbf; text-decoration-color: #7fbfbf\">                    </span>         find_pipelines                                                         <span style=\"color: #7f7f7f; text-decoration-color: #7f7f7f\">               </span>\n",
       "<span style=\"color: #7fbfbf; text-decoration-color: #7fbfbf\">                    </span>             pipeline_module = <span style=\"color: #800080; text-decoration-color: #800080; font-weight: bold\">importlib.import_module</span><span style=\"font-weight: bold\">(</span>pipeline_module_name<span style=\"font-weight: bold\">)</span>    <span style=\"color: #7f7f7f; text-decoration-color: #7f7f7f\">               </span>\n",
       "<span style=\"color: #7fbfbf; text-decoration-color: #7fbfbf\">                    </span>           File                                                                 <span style=\"color: #7f7f7f; text-decoration-color: #7f7f7f\">               </span>\n",
       "<span style=\"color: #7fbfbf; text-decoration-color: #7fbfbf\">                    </span>         <span style=\"color: #008000; text-decoration-color: #008000\">\"/Users/vihangamagarwal/miniconda3/envs/ch_env/lib/python3.10/importli</span> <span style=\"color: #7f7f7f; text-decoration-color: #7f7f7f\">               </span>\n",
       "<span style=\"color: #7fbfbf; text-decoration-color: #7fbfbf\">                    </span>         <span style=\"color: #008000; text-decoration-color: #008000\">b/__init__.py\"</span>, line <span style=\"color: #008080; text-decoration-color: #008080; font-weight: bold\">126</span>, in import_module                             <span style=\"color: #7f7f7f; text-decoration-color: #7f7f7f\">               </span>\n",
       "<span style=\"color: #7fbfbf; text-decoration-color: #7fbfbf\">                    </span>             return <span style=\"color: #800080; text-decoration-color: #800080; font-weight: bold\">_bootstrap._gcd_import</span><span style=\"font-weight: bold\">(</span>name, package, level<span style=\"font-weight: bold\">)</span>                <span style=\"color: #7f7f7f; text-decoration-color: #7f7f7f\">               </span>\n",
       "<span style=\"color: #7fbfbf; text-decoration-color: #7fbfbf\">                    </span>           File <span style=\"color: #008000; text-decoration-color: #008000\">\"&lt;frozen importlib._bootstrap&gt;\"</span><span style=\"color: #000000; text-decoration-color: #000000\">, line </span><span style=\"color: #008080; text-decoration-color: #008080; font-weight: bold\">1050</span><span style=\"color: #000000; text-decoration-color: #000000\">, in _gcd_import</span>      <span style=\"color: #7f7f7f; text-decoration-color: #7f7f7f\">               </span>\n",
       "<span style=\"color: #7fbfbf; text-decoration-color: #7fbfbf\">                    </span>         <span style=\"color: #000000; text-decoration-color: #000000\">  File </span><span style=\"color: #008000; text-decoration-color: #008000\">\"&lt;frozen importlib._bootstrap&gt;\"</span><span style=\"color: #000000; text-decoration-color: #000000\">, line </span><span style=\"color: #008080; text-decoration-color: #008080; font-weight: bold\">1027</span><span style=\"color: #000000; text-decoration-color: #000000\">, in _find_and_load</span>   <span style=\"color: #7f7f7f; text-decoration-color: #7f7f7f\">               </span>\n",
       "<span style=\"color: #7fbfbf; text-decoration-color: #7fbfbf\">                    </span>         <span style=\"color: #000000; text-decoration-color: #000000\">  File </span><span style=\"color: #008000; text-decoration-color: #008000\">\"&lt;frozen importlib._bootstrap&gt;\"</span><span style=\"color: #000000; text-decoration-color: #000000\">, line </span><span style=\"color: #008080; text-decoration-color: #008080; font-weight: bold\">1006</span><span style=\"color: #000000; text-decoration-color: #000000\">, in </span>                 <span style=\"color: #7f7f7f; text-decoration-color: #7f7f7f\">               </span>\n",
       "<span style=\"color: #7fbfbf; text-decoration-color: #7fbfbf\">                    </span>         <span style=\"color: #000000; text-decoration-color: #000000\">_find_and_load_unlocked</span>                                                <span style=\"color: #7f7f7f; text-decoration-color: #7f7f7f\">               </span>\n",
       "<span style=\"color: #7fbfbf; text-decoration-color: #7fbfbf\">                    </span>         <span style=\"color: #000000; text-decoration-color: #000000\">  File </span><span style=\"color: #008000; text-decoration-color: #008000\">\"&lt;frozen importlib._bootstrap&gt;\"</span><span style=\"color: #000000; text-decoration-color: #000000\">, line </span><span style=\"color: #008080; text-decoration-color: #008080; font-weight: bold\">688</span><span style=\"color: #000000; text-decoration-color: #000000\">, in _load_unlocked</span>    <span style=\"color: #7f7f7f; text-decoration-color: #7f7f7f\">               </span>\n",
       "<span style=\"color: #7fbfbf; text-decoration-color: #7fbfbf\">                    </span>         <span style=\"color: #000000; text-decoration-color: #000000\">  File </span><span style=\"color: #008000; text-decoration-color: #008000\">\"&lt;frozen importlib._bootstrap_external&gt;\"</span><span style=\"color: #000000; text-decoration-color: #000000\">, line </span><span style=\"color: #008080; text-decoration-color: #008080; font-weight: bold\">883</span><span style=\"color: #000000; text-decoration-color: #000000\">, in </span>         <span style=\"color: #7f7f7f; text-decoration-color: #7f7f7f\">               </span>\n",
       "<span style=\"color: #7fbfbf; text-decoration-color: #7fbfbf\">                    </span>         <span style=\"color: #000000; text-decoration-color: #000000\">exec_module</span>                                                            <span style=\"color: #7f7f7f; text-decoration-color: #7f7f7f\">               </span>\n",
       "<span style=\"color: #7fbfbf; text-decoration-color: #7fbfbf\">                    </span>         <span style=\"color: #000000; text-decoration-color: #000000\">  File </span><span style=\"color: #008000; text-decoration-color: #008000\">\"&lt;frozen importlib._bootstrap&gt;\"</span><span style=\"color: #000000; text-decoration-color: #000000\">, line </span><span style=\"color: #008080; text-decoration-color: #008080; font-weight: bold\">241</span><span style=\"color: #000000; text-decoration-color: #000000\">, in </span>                  <span style=\"color: #7f7f7f; text-decoration-color: #7f7f7f\">               </span>\n",
       "<span style=\"color: #7fbfbf; text-decoration-color: #7fbfbf\">                    </span>         <span style=\"color: #000000; text-decoration-color: #000000\">_call_with_frames_removed</span>                                              <span style=\"color: #7f7f7f; text-decoration-color: #7f7f7f\">               </span>\n",
       "<span style=\"color: #7fbfbf; text-decoration-color: #7fbfbf\">                    </span>         <span style=\"color: #000000; text-decoration-color: #000000\">  File </span>                                                                <span style=\"color: #7f7f7f; text-decoration-color: #7f7f7f\">               </span>\n",
       "<span style=\"color: #7fbfbf; text-decoration-color: #7fbfbf\">                    </span>         <span style=\"color: #008000; text-decoration-color: #008000\">\"/Users/vihangamagarwal/code/century_health/century_health/ch/src/ch/p</span> <span style=\"color: #7f7f7f; text-decoration-color: #7f7f7f\">               </span>\n",
       "<span style=\"color: #7fbfbf; text-decoration-color: #7fbfbf\">                    </span>         <span style=\"color: #008000; text-decoration-color: #008000\">ipelines/data_science/__init__.py\"</span><span style=\"color: #000000; text-decoration-color: #000000\">, line </span><span style=\"color: #008080; text-decoration-color: #008080; font-weight: bold\">3</span><span style=\"color: #000000; text-decoration-color: #000000\">, in &lt;module&gt;</span>                <span style=\"color: #7f7f7f; text-decoration-color: #7f7f7f\">               </span>\n",
       "<span style=\"color: #7fbfbf; text-decoration-color: #7fbfbf\">                    </span>         <span style=\"color: #000000; text-decoration-color: #000000\">    from .pipeline import create_pipeline  # NOQA</span>                      <span style=\"color: #7f7f7f; text-decoration-color: #7f7f7f\">               </span>\n",
       "<span style=\"color: #7fbfbf; text-decoration-color: #7fbfbf\">                    </span>         <span style=\"color: #000000; text-decoration-color: #000000\">  File </span>                                                                <span style=\"color: #7f7f7f; text-decoration-color: #7f7f7f\">               </span>\n",
       "<span style=\"color: #7fbfbf; text-decoration-color: #7fbfbf\">                    </span>         <span style=\"color: #008000; text-decoration-color: #008000\">\"/Users/vihangamagarwal/code/century_health/century_health/ch/src/ch/p</span> <span style=\"color: #7f7f7f; text-decoration-color: #7f7f7f\">               </span>\n",
       "<span style=\"color: #7fbfbf; text-decoration-color: #7fbfbf\">                    </span>         <span style=\"color: #008000; text-decoration-color: #008000\">ipelines/data_science/pipeline.py\"</span><span style=\"color: #000000; text-decoration-color: #000000\">, line </span><span style=\"color: #008080; text-decoration-color: #008080; font-weight: bold\">3</span><span style=\"color: #000000; text-decoration-color: #000000\">, in &lt;module&gt;</span>                <span style=\"color: #7f7f7f; text-decoration-color: #7f7f7f\">               </span>\n",
       "<span style=\"color: #7fbfbf; text-decoration-color: #7fbfbf\">                    </span>         <span style=\"color: #000000; text-decoration-color: #000000\">    from .nodes import evaluate_model, split_data, train_model</span>         <span style=\"color: #7f7f7f; text-decoration-color: #7f7f7f\">               </span>\n",
       "<span style=\"color: #7fbfbf; text-decoration-color: #7fbfbf\">                    </span>         <span style=\"color: #000000; text-decoration-color: #000000\">  File </span>                                                                <span style=\"color: #7f7f7f; text-decoration-color: #7f7f7f\">               </span>\n",
       "<span style=\"color: #7fbfbf; text-decoration-color: #7fbfbf\">                    </span>         <span style=\"color: #008000; text-decoration-color: #008000\">\"/Users/vihangamagarwal/code/century_health/century_health/ch/src/ch/p</span> <span style=\"color: #7f7f7f; text-decoration-color: #7f7f7f\">               </span>\n",
       "<span style=\"color: #7fbfbf; text-decoration-color: #7fbfbf\">                    </span>         <span style=\"color: #008000; text-decoration-color: #008000\">ipelines/data_science/nodes.py\"</span><span style=\"color: #000000; text-decoration-color: #000000\">, line </span><span style=\"color: #008080; text-decoration-color: #008080; font-weight: bold\">4</span><span style=\"color: #000000; text-decoration-color: #000000\">, in &lt;module</span><span style=\"font-weight: bold\">&gt;</span>                   <span style=\"color: #7f7f7f; text-decoration-color: #7f7f7f\">               </span>\n",
       "<span style=\"color: #7fbfbf; text-decoration-color: #7fbfbf\">                    </span>             from sklearn.linear_model import LinearRegression                  <span style=\"color: #7f7f7f; text-decoration-color: #7f7f7f\">               </span>\n",
       "<span style=\"color: #7fbfbf; text-decoration-color: #7fbfbf\">                    </span>         ModuleNotFoundError: No module named <span style=\"color: #008000; text-decoration-color: #008000\">'sklearn'</span>                         <span style=\"color: #7f7f7f; text-decoration-color: #7f7f7f\">               </span>\n",
       "<span style=\"color: #7fbfbf; text-decoration-color: #7fbfbf\">                    </span>                                                                                <span style=\"color: #7f7f7f; text-decoration-color: #7f7f7f\">               </span>\n",
       "<span style=\"color: #7fbfbf; text-decoration-color: #7fbfbf\">                    </span>           <span style=\"color: #800080; text-decoration-color: #800080; font-weight: bold\">warnings.warn</span><span style=\"font-weight: bold\">(</span>                                                       <span style=\"color: #7f7f7f; text-decoration-color: #7f7f7f\">               </span>\n",
       "<span style=\"color: #7fbfbf; text-decoration-color: #7fbfbf\">                    </span>                                                                                <span style=\"color: #7f7f7f; text-decoration-color: #7f7f7f\">               </span>\n",
       "</pre>\n"
      ],
      "text/plain": [
       "\u001b[2;36m                   \u001b[0m\u001b[2;36m \u001b[0m\u001b[33mWARNING \u001b[0m \u001b[35m/Users/vihangamagarwal/miniconda3/envs/ch_env/lib/python3.10/site-pack\u001b[0m \u001b]8;id=542768;file:///Users/vihangamagarwal/miniconda3/envs/ch_env/lib/python3.10/warnings.py\u001b\\\u001b[2mwarnings.py\u001b[0m\u001b]8;;\u001b\\\u001b[2m:\u001b[0m\u001b]8;id=582798;file:///Users/vihangamagarwal/miniconda3/envs/ch_env/lib/python3.10/warnings.py#109\u001b\\\u001b[2m109\u001b[0m\u001b]8;;\u001b\\\n",
       "\u001b[2;36m                    \u001b[0m         \u001b[35mages/kedro/framework/project/\u001b[0m\u001b[95m__init__.py\u001b[0m:\u001b[1;36m450\u001b[0m: UserWarning: An error    \u001b[2m               \u001b[0m\n",
       "\u001b[2;36m                    \u001b[0m         occurred while importing the \u001b[32m'ch.pipelines.data_science'\u001b[0m module.       \u001b[2m               \u001b[0m\n",
       "\u001b[2;36m                    \u001b[0m         Nothing defined therein will be returned by \u001b[32m'find_pipelines'\u001b[0m.          \u001b[2m               \u001b[0m\n",
       "\u001b[2;36m                    \u001b[0m                                                                                \u001b[2m               \u001b[0m\n",
       "\u001b[2;36m                    \u001b[0m         Traceback \u001b[1m(\u001b[0mmost recent call last\u001b[1m)\u001b[0m:                                     \u001b[2m               \u001b[0m\n",
       "\u001b[2;36m                    \u001b[0m           File                                                                 \u001b[2m               \u001b[0m\n",
       "\u001b[2;36m                    \u001b[0m         \u001b[32m\"/Users/vihangamagarwal/miniconda3/envs/ch_env/lib/python3.10/site-pac\u001b[0m \u001b[2m               \u001b[0m\n",
       "\u001b[2;36m                    \u001b[0m         \u001b[32mkages/kedro/framework/project/__init__.py\"\u001b[0m, line \u001b[1;36m442\u001b[0m, in               \u001b[2m               \u001b[0m\n",
       "\u001b[2;36m                    \u001b[0m         find_pipelines                                                         \u001b[2m               \u001b[0m\n",
       "\u001b[2;36m                    \u001b[0m             pipeline_module = \u001b[1;35mimportlib.import_module\u001b[0m\u001b[1m(\u001b[0mpipeline_module_name\u001b[1m)\u001b[0m    \u001b[2m               \u001b[0m\n",
       "\u001b[2;36m                    \u001b[0m           File                                                                 \u001b[2m               \u001b[0m\n",
       "\u001b[2;36m                    \u001b[0m         \u001b[32m\"/Users/vihangamagarwal/miniconda3/envs/ch_env/lib/python3.10/importli\u001b[0m \u001b[2m               \u001b[0m\n",
       "\u001b[2;36m                    \u001b[0m         \u001b[32mb/__init__.py\"\u001b[0m, line \u001b[1;36m126\u001b[0m, in import_module                             \u001b[2m               \u001b[0m\n",
       "\u001b[2;36m                    \u001b[0m             return \u001b[1;35m_bootstrap._gcd_import\u001b[0m\u001b[1m(\u001b[0mname, package, level\u001b[1m)\u001b[0m                \u001b[2m               \u001b[0m\n",
       "\u001b[2;36m                    \u001b[0m           File \u001b[32m\"\u001b[0m\u001b[32m<\u001b[0m\u001b[32mfrozen\u001b[0m\u001b[32m importlib._bootstrap>\"\u001b[0m\u001b[39m, line \u001b[0m\u001b[1;36m1050\u001b[0m\u001b[39m, in _gcd_import\u001b[0m      \u001b[2m               \u001b[0m\n",
       "\u001b[2;36m                    \u001b[0m         \u001b[39m  File \u001b[0m\u001b[32m\"<frozen importlib._bootstrap>\"\u001b[0m\u001b[39m, line \u001b[0m\u001b[1;36m1027\u001b[0m\u001b[39m, in _find_and_load\u001b[0m   \u001b[2m               \u001b[0m\n",
       "\u001b[2;36m                    \u001b[0m         \u001b[39m  File \u001b[0m\u001b[32m\"<frozen importlib._bootstrap>\"\u001b[0m\u001b[39m, line \u001b[0m\u001b[1;36m1006\u001b[0m\u001b[39m, in \u001b[0m                 \u001b[2m               \u001b[0m\n",
       "\u001b[2;36m                    \u001b[0m         \u001b[39m_find_and_load_unlocked\u001b[0m                                                \u001b[2m               \u001b[0m\n",
       "\u001b[2;36m                    \u001b[0m         \u001b[39m  File \u001b[0m\u001b[32m\"<frozen importlib._bootstrap>\"\u001b[0m\u001b[39m, line \u001b[0m\u001b[1;36m688\u001b[0m\u001b[39m, in _load_unlocked\u001b[0m    \u001b[2m               \u001b[0m\n",
       "\u001b[2;36m                    \u001b[0m         \u001b[39m  File \u001b[0m\u001b[32m\"<frozen importlib._bootstrap_external>\"\u001b[0m\u001b[39m, line \u001b[0m\u001b[1;36m883\u001b[0m\u001b[39m, in \u001b[0m         \u001b[2m               \u001b[0m\n",
       "\u001b[2;36m                    \u001b[0m         \u001b[39mexec_module\u001b[0m                                                            \u001b[2m               \u001b[0m\n",
       "\u001b[2;36m                    \u001b[0m         \u001b[39m  File \u001b[0m\u001b[32m\"<frozen importlib._bootstrap>\"\u001b[0m\u001b[39m, line \u001b[0m\u001b[1;36m241\u001b[0m\u001b[39m, in \u001b[0m                  \u001b[2m               \u001b[0m\n",
       "\u001b[2;36m                    \u001b[0m         \u001b[39m_call_with_frames_removed\u001b[0m                                              \u001b[2m               \u001b[0m\n",
       "\u001b[2;36m                    \u001b[0m         \u001b[39m  File \u001b[0m                                                                \u001b[2m               \u001b[0m\n",
       "\u001b[2;36m                    \u001b[0m         \u001b[32m\"/Users/vihangamagarwal/code/century_health/century_health/ch/src/ch/p\u001b[0m \u001b[2m               \u001b[0m\n",
       "\u001b[2;36m                    \u001b[0m         \u001b[32mipelines/data_science/__init__.py\"\u001b[0m\u001b[39m, line \u001b[0m\u001b[1;36m3\u001b[0m\u001b[39m, in <module>\u001b[0m                \u001b[2m               \u001b[0m\n",
       "\u001b[2;36m                    \u001b[0m         \u001b[39m    from .pipeline import create_pipeline  # NOQA\u001b[0m                      \u001b[2m               \u001b[0m\n",
       "\u001b[2;36m                    \u001b[0m         \u001b[39m  File \u001b[0m                                                                \u001b[2m               \u001b[0m\n",
       "\u001b[2;36m                    \u001b[0m         \u001b[32m\"/Users/vihangamagarwal/code/century_health/century_health/ch/src/ch/p\u001b[0m \u001b[2m               \u001b[0m\n",
       "\u001b[2;36m                    \u001b[0m         \u001b[32mipelines/data_science/pipeline.py\"\u001b[0m\u001b[39m, line \u001b[0m\u001b[1;36m3\u001b[0m\u001b[39m, in <module>\u001b[0m                \u001b[2m               \u001b[0m\n",
       "\u001b[2;36m                    \u001b[0m         \u001b[39m    from .nodes import evaluate_model, split_data, train_model\u001b[0m         \u001b[2m               \u001b[0m\n",
       "\u001b[2;36m                    \u001b[0m         \u001b[39m  File \u001b[0m                                                                \u001b[2m               \u001b[0m\n",
       "\u001b[2;36m                    \u001b[0m         \u001b[32m\"/Users/vihangamagarwal/code/century_health/century_health/ch/src/ch/p\u001b[0m \u001b[2m               \u001b[0m\n",
       "\u001b[2;36m                    \u001b[0m         \u001b[32mipelines/data_science/nodes.py\"\u001b[0m\u001b[39m, line \u001b[0m\u001b[1;36m4\u001b[0m\u001b[39m, in <module\u001b[0m\u001b[1m>\u001b[0m                   \u001b[2m               \u001b[0m\n",
       "\u001b[2;36m                    \u001b[0m             from sklearn.linear_model import LinearRegression                  \u001b[2m               \u001b[0m\n",
       "\u001b[2;36m                    \u001b[0m         ModuleNotFoundError: No module named \u001b[32m'sklearn'\u001b[0m                         \u001b[2m               \u001b[0m\n",
       "\u001b[2;36m                    \u001b[0m                                                                                \u001b[2m               \u001b[0m\n",
       "\u001b[2;36m                    \u001b[0m           \u001b[1;35mwarnings.warn\u001b[0m\u001b[1m(\u001b[0m                                                       \u001b[2m               \u001b[0m\n",
       "\u001b[2;36m                    \u001b[0m                                                                                \u001b[2m               \u001b[0m\n"
      ]
     },
     "metadata": {},
     "output_type": "display_data"
    },
    {
     "data": {
      "text/html": [
       "<pre style=\"white-space:pre;overflow-x:auto;line-height:normal;font-family:Menlo,'DejaVu Sans Mono',consolas,'Courier New',monospace\"><span style=\"color: #7fbfbf; text-decoration-color: #7fbfbf\">                    </span><span style=\"color: #000080; text-decoration-color: #000080\">INFO    </span> Kedro is sending anonymous usage data with the sole purpose of improving <a href=\"file:///Users/vihangamagarwal/miniconda3/envs/ch_env/lib/python3.10/site-packages/kedro_telemetry/plugin.py\" target=\"_blank\"><span style=\"color: #7f7f7f; text-decoration-color: #7f7f7f\">plugin.py</span></a><span style=\"color: #7f7f7f; text-decoration-color: #7f7f7f\">:</span><a href=\"file:///Users/vihangamagarwal/miniconda3/envs/ch_env/lib/python3.10/site-packages/kedro_telemetry/plugin.py#233\" target=\"_blank\"><span style=\"color: #7f7f7f; text-decoration-color: #7f7f7f\">233</span></a>\n",
       "<span style=\"color: #7fbfbf; text-decoration-color: #7fbfbf\">                    </span>         the product. No personal data or IP addresses are stored on our side. If <span style=\"color: #7f7f7f; text-decoration-color: #7f7f7f\">             </span>\n",
       "<span style=\"color: #7fbfbf; text-decoration-color: #7fbfbf\">                    </span>         you want to opt out, set the `KEDRO_DISABLE_TELEMETRY` or `DO_NOT_TRACK` <span style=\"color: #7f7f7f; text-decoration-color: #7f7f7f\">             </span>\n",
       "<span style=\"color: #7fbfbf; text-decoration-color: #7fbfbf\">                    </span>         environment variables, or create a `.telemetry` file in the current      <span style=\"color: #7f7f7f; text-decoration-color: #7f7f7f\">             </span>\n",
       "<span style=\"color: #7fbfbf; text-decoration-color: #7fbfbf\">                    </span>         working directory with the contents `consent: false`. Read more at       <span style=\"color: #7f7f7f; text-decoration-color: #7f7f7f\">             </span>\n",
       "<span style=\"color: #7fbfbf; text-decoration-color: #7fbfbf\">                    </span>         <span style=\"color: #0000ff; text-decoration-color: #0000ff; text-decoration: underline\">https://docs.kedro.org/en/stable/configuration/telemetry.html</span>            <span style=\"color: #7f7f7f; text-decoration-color: #7f7f7f\">             </span>\n",
       "</pre>\n"
      ],
      "text/plain": [
       "\u001b[2;36m                   \u001b[0m\u001b[2;36m \u001b[0m\u001b[34mINFO    \u001b[0m Kedro is sending anonymous usage data with the sole purpose of improving \u001b]8;id=465775;file:///Users/vihangamagarwal/miniconda3/envs/ch_env/lib/python3.10/site-packages/kedro_telemetry/plugin.py\u001b\\\u001b[2mplugin.py\u001b[0m\u001b]8;;\u001b\\\u001b[2m:\u001b[0m\u001b]8;id=566607;file:///Users/vihangamagarwal/miniconda3/envs/ch_env/lib/python3.10/site-packages/kedro_telemetry/plugin.py#233\u001b\\\u001b[2m233\u001b[0m\u001b]8;;\u001b\\\n",
       "\u001b[2;36m                    \u001b[0m         the product. No personal data or IP addresses are stored on our side. If \u001b[2m             \u001b[0m\n",
       "\u001b[2;36m                    \u001b[0m         you want to opt out, set the `KEDRO_DISABLE_TELEMETRY` or `DO_NOT_TRACK` \u001b[2m             \u001b[0m\n",
       "\u001b[2;36m                    \u001b[0m         environment variables, or create a `.telemetry` file in the current      \u001b[2m             \u001b[0m\n",
       "\u001b[2;36m                    \u001b[0m         working directory with the contents `consent: false`. Read more at       \u001b[2m             \u001b[0m\n",
       "\u001b[2;36m                    \u001b[0m         \u001b[4;94mhttps://docs.kedro.org/en/stable/configuration/telemetry.html\u001b[0m            \u001b[2m             \u001b[0m\n"
      ]
     },
     "metadata": {},
     "output_type": "display_data"
    },
    {
     "data": {
      "text/html": [
       "<pre style=\"white-space:pre;overflow-x:auto;line-height:normal;font-family:Menlo,'DejaVu Sans Mono',consolas,'Courier New',monospace\"><span style=\"color: #7fbfbf; text-decoration-color: #7fbfbf\">[04/28/25 23:05:25] </span><span style=\"color: #000080; text-decoration-color: #000080\">INFO    </span> Kedro project ch                                                       <a href=\"file:///Users/vihangamagarwal/miniconda3/envs/ch_env/lib/python3.10/site-packages/kedro/ipython/__init__.py\" target=\"_blank\"><span style=\"color: #7f7f7f; text-decoration-color: #7f7f7f\">__init__.py</span></a><span style=\"color: #7f7f7f; text-decoration-color: #7f7f7f\">:</span><a href=\"file:///Users/vihangamagarwal/miniconda3/envs/ch_env/lib/python3.10/site-packages/kedro/ipython/__init__.py#146\" target=\"_blank\"><span style=\"color: #7f7f7f; text-decoration-color: #7f7f7f\">146</span></a>\n",
       "</pre>\n"
      ],
      "text/plain": [
       "\u001b[2;36m[04/28/25 23:05:25]\u001b[0m\u001b[2;36m \u001b[0m\u001b[34mINFO    \u001b[0m Kedro project ch                                                       \u001b]8;id=241613;file:///Users/vihangamagarwal/miniconda3/envs/ch_env/lib/python3.10/site-packages/kedro/ipython/__init__.py\u001b\\\u001b[2m__init__.py\u001b[0m\u001b]8;;\u001b\\\u001b[2m:\u001b[0m\u001b]8;id=575567;file:///Users/vihangamagarwal/miniconda3/envs/ch_env/lib/python3.10/site-packages/kedro/ipython/__init__.py#146\u001b\\\u001b[2m146\u001b[0m\u001b]8;;\u001b\\\n"
      ]
     },
     "metadata": {},
     "output_type": "display_data"
    },
    {
     "data": {
      "text/html": [
       "<pre style=\"white-space:pre;overflow-x:auto;line-height:normal;font-family:Menlo,'DejaVu Sans Mono',consolas,'Courier New',monospace\"><span style=\"color: #7fbfbf; text-decoration-color: #7fbfbf\">                    </span><span style=\"color: #000080; text-decoration-color: #000080\">INFO    </span> Defined global variable <span style=\"color: #008000; text-decoration-color: #008000\">'context'</span>, <span style=\"color: #008000; text-decoration-color: #008000\">'session'</span>, <span style=\"color: #008000; text-decoration-color: #008000\">'catalog'</span> and            <a href=\"file:///Users/vihangamagarwal/miniconda3/envs/ch_env/lib/python3.10/site-packages/kedro/ipython/__init__.py\" target=\"_blank\"><span style=\"color: #7f7f7f; text-decoration-color: #7f7f7f\">__init__.py</span></a><span style=\"color: #7f7f7f; text-decoration-color: #7f7f7f\">:</span><a href=\"file:///Users/vihangamagarwal/miniconda3/envs/ch_env/lib/python3.10/site-packages/kedro/ipython/__init__.py#147\" target=\"_blank\"><span style=\"color: #7f7f7f; text-decoration-color: #7f7f7f\">147</span></a>\n",
       "<span style=\"color: #7fbfbf; text-decoration-color: #7fbfbf\">                    </span>         <span style=\"color: #008000; text-decoration-color: #008000\">'pipelines'</span>                                                            <span style=\"color: #7f7f7f; text-decoration-color: #7f7f7f\">               </span>\n",
       "</pre>\n"
      ],
      "text/plain": [
       "\u001b[2;36m                   \u001b[0m\u001b[2;36m \u001b[0m\u001b[34mINFO    \u001b[0m Defined global variable \u001b[32m'context'\u001b[0m, \u001b[32m'session'\u001b[0m, \u001b[32m'catalog'\u001b[0m and            \u001b]8;id=936230;file:///Users/vihangamagarwal/miniconda3/envs/ch_env/lib/python3.10/site-packages/kedro/ipython/__init__.py\u001b\\\u001b[2m__init__.py\u001b[0m\u001b]8;;\u001b\\\u001b[2m:\u001b[0m\u001b]8;id=964378;file:///Users/vihangamagarwal/miniconda3/envs/ch_env/lib/python3.10/site-packages/kedro/ipython/__init__.py#147\u001b\\\u001b[2m147\u001b[0m\u001b]8;;\u001b\\\n",
       "\u001b[2;36m                    \u001b[0m         \u001b[32m'pipelines'\u001b[0m                                                            \u001b[2m               \u001b[0m\n"
      ]
     },
     "metadata": {},
     "output_type": "display_data"
    }
   ],
   "source": [
    "%load_ext kedro.ipython"
   ]
  },
  {
   "cell_type": "code",
   "execution_count": 2,
   "id": "311b0958-dc22-4a90-9094-77304d048ec9",
   "metadata": {},
   "outputs": [
    {
     "data": {
      "text/html": [
       "<pre style=\"white-space:pre;overflow-x:auto;line-height:normal;font-family:Menlo,'DejaVu Sans Mono',consolas,'Courier New',monospace\"></pre>\n"
      ],
      "text/plain": []
     },
     "metadata": {},
     "output_type": "display_data"
    },
    {
     "data": {
      "text/plain": [
       "\n",
       "\u001b[1m{\u001b[0m\u001b[32m'patients'\u001b[0m: \u001b[32m\"kedro_datasets.pandas.csv_dataset.CSVDataset\u001b[0m\u001b[32m(\u001b[0m\u001b[32mfilepath\u001b[0m\u001b[32m=\u001b[0m\u001b[32mPurePosixPath\u001b[0m\u001b[32m(\u001b[0m\u001b[32m'/Users/vihangamagarwal/code/century_health/century_health/ch/data/01_raw/patients.csv'\u001b[0m\u001b[32m)\u001b[0m\u001b[32m, \"\u001b[0m\n",
       "             \u001b[32m\"\u001b[0m\u001b[32mprotocol\u001b[0m\u001b[32m='file', \u001b[0m\u001b[32mload_args\u001b[0m\u001b[32m=\u001b[0m\u001b[32m{\u001b[0m\u001b[32m}\u001b[0m\u001b[32m, \u001b[0m\u001b[32msave_args\u001b[0m\u001b[32m=\u001b[0m\u001b[32m{\u001b[0m\u001b[32m'index': False\u001b[0m\u001b[32m}\u001b[0m\u001b[32m)\u001b[0m\u001b[32m\"\u001b[0m,\n",
       " \u001b[32m'encounters'\u001b[0m: \u001b[32m\"kedro_datasets.pandas.parquet_dataset.ParquetDataset\u001b[0m\u001b[32m(\u001b[0m\u001b[32mfilepath\u001b[0m\u001b[32m=\u001b[0m\u001b[32mPurePosixPath\u001b[0m\u001b[32m(\u001b[0m\u001b[32m'/Users/vihangamagarwal/code/century_health/century_health/ch/data/01_raw/encounters.parquet'\u001b[0m\u001b[32m)\u001b[0m\u001b[32m, \"\u001b[0m\n",
       "               \u001b[32m\"\u001b[0m\u001b[32mprotocol\u001b[0m\u001b[32m='file', \u001b[0m\u001b[32mload_args\u001b[0m\u001b[32m=\u001b[0m\u001b[32m{\u001b[0m\u001b[32m}\u001b[0m\u001b[32m, \u001b[0m\u001b[32msave_args\u001b[0m\u001b[32m=\u001b[0m\u001b[32m{\u001b[0m\u001b[32m}\u001b[0m\u001b[32m)\u001b[0m\u001b[32m\"\u001b[0m,\n",
       " \u001b[32m'symptoms'\u001b[0m: \u001b[32m\"kedro_datasets.pandas.csv_dataset.CSVDataset\u001b[0m\u001b[32m(\u001b[0m\u001b[32mfilepath\u001b[0m\u001b[32m=\u001b[0m\u001b[32mPurePosixPath\u001b[0m\u001b[32m(\u001b[0m\u001b[32m'/Users/vihangamagarwal/code/century_health/century_health/ch/data/01_raw/symptoms.csv'\u001b[0m\u001b[32m)\u001b[0m\u001b[32m, \"\u001b[0m\n",
       "             \u001b[32m\"\u001b[0m\u001b[32mprotocol\u001b[0m\u001b[32m='file', \u001b[0m\u001b[32mload_args\u001b[0m\u001b[32m=\u001b[0m\u001b[32m{\u001b[0m\u001b[32m}\u001b[0m\u001b[32m, \u001b[0m\u001b[32msave_args\u001b[0m\u001b[32m=\u001b[0m\u001b[32m{\u001b[0m\u001b[32m'index': False\u001b[0m\u001b[32m}\u001b[0m\u001b[32m)\u001b[0m\u001b[32m\"\u001b[0m,\n",
       " \u001b[32m'medications'\u001b[0m: \u001b[32m\"kedro_datasets.pandas.csv_dataset.CSVDataset\u001b[0m\u001b[32m(\u001b[0m\u001b[32mfilepath\u001b[0m\u001b[32m=\u001b[0m\u001b[32mPurePosixPath\u001b[0m\u001b[32m(\u001b[0m\u001b[32m'/Users/vihangamagarwal/code/century_health/century_health/ch/data/01_raw/medications.csv'\u001b[0m\u001b[32m)\u001b[0m\u001b[32m, \"\u001b[0m\n",
       "                \u001b[32m\"\u001b[0m\u001b[32mprotocol\u001b[0m\u001b[32m='file', \u001b[0m\u001b[32mload_args\u001b[0m\u001b[32m=\u001b[0m\u001b[32m{\u001b[0m\u001b[32m}\u001b[0m\u001b[32m, \u001b[0m\u001b[32msave_args\u001b[0m\u001b[32m=\u001b[0m\u001b[32m{\u001b[0m\u001b[32m'index': False\u001b[0m\u001b[32m}\u001b[0m\u001b[32m)\u001b[0m\u001b[32m\"\u001b[0m,\n",
       " \u001b[32m'conditions'\u001b[0m: \u001b[32m\"kedro_datasets.pandas.excel_dataset.ExcelDataset\u001b[0m\u001b[32m(\u001b[0m\u001b[32mfilepath\u001b[0m\u001b[32m=\u001b[0m\u001b[32mPurePosixPath\u001b[0m\u001b[32m(\u001b[0m\u001b[32m'/Users/vihangamagarwal/code/century_health/century_health/ch/data/01_raw/conditions.xlsx'\u001b[0m\u001b[32m)\u001b[0m\u001b[32m, \"\u001b[0m\n",
       "               \u001b[32m\"\u001b[0m\u001b[32mprotocol\u001b[0m\u001b[32m='file', \u001b[0m\u001b[32mload_args\u001b[0m\u001b[32m=\u001b[0m\u001b[32m{\u001b[0m\u001b[32m'engine': 'openpyxl'\u001b[0m\u001b[32m}\u001b[0m\u001b[32m, \"\u001b[0m\n",
       "               \u001b[32m\"\u001b[0m\u001b[32msave_args\u001b[0m\u001b[32m=\u001b[0m\u001b[32m{\u001b[0m\u001b[32m'index': False\u001b[0m\u001b[32m}\u001b[0m\u001b[32m, \u001b[0m\u001b[32mwriter_args\u001b[0m\u001b[32m=\u001b[0m\u001b[32m{\u001b[0m\u001b[32m'engine': \"\u001b[0m\n",
       "               \u001b[32m\"'openpyxl'\u001b[0m\u001b[32m}\u001b[0m\u001b[32m)\u001b[0m\u001b[32m\"\u001b[0m,\n",
       " \u001b[32m'parameters'\u001b[0m: \u001b[32m\"kedro.io.memory_dataset.MemoryDataset\u001b[0m\u001b[32m(\u001b[0m\u001b[32mdata\u001b[0m\u001b[32m='\u001b[0m\u001b[32m<\u001b[0m\u001b[32mdict\u001b[0m\u001b[32m>'\u001b[0m\u001b[32m)\u001b[0m\u001b[32m\"\u001b[0m\u001b[39m,\u001b[0m\n",
       "\u001b[39m \u001b[0m\u001b[32m'params:model_options'\u001b[0m\u001b[39m: \u001b[0m\u001b[32m\"kedro.io.memory_dataset.MemoryDataset\u001b[0m\u001b[32m(\u001b[0m\u001b[32mdata\u001b[0m\u001b[32m='<dict>'\u001b[0m\u001b[32m)\u001b[0m\u001b[32m\"\u001b[0m\u001b[39m,\u001b[0m\n",
       "\u001b[39m \u001b[0m\u001b[32m'params:model_options.test_size'\u001b[0m\u001b[39m: \u001b[0m\u001b[32m\"kedro.io.memory_dataset.MemoryDataset\u001b[0m\u001b[32m(\u001b[0m\u001b[32mdata\u001b[0m\u001b[32m='<float>'\u001b[0m\u001b[32m)\u001b[0m\u001b[32m\"\u001b[0m\u001b[39m,\u001b[0m\n",
       "\u001b[39m \u001b[0m\u001b[32m'params:model_options.random_state'\u001b[0m\u001b[39m: \u001b[0m\u001b[32m\"kedro.io.memory_dataset.MemoryDataset\u001b[0m\u001b[32m(\u001b[0m\u001b[32mdata\u001b[0m\u001b[32m='<int>'\u001b[0m\u001b[32m)\u001b[0m\u001b[32m\"\u001b[0m\u001b[39m,\u001b[0m\n",
       "\u001b[39m \u001b[0m\u001b[32m'params:model_options.features'\u001b[0m\u001b[39m: \u001b[0m\u001b[32m\"kedro.io.memory_dataset.MemoryDataset\u001b[0m\u001b[32m(\u001b[0m\u001b[32mdata\u001b[0m\u001b[32m='<list\u001b[0m\u001b[32m>\u001b[0m\u001b[32m'\u001b[0m\u001b[32m)\u001b[0m\u001b[32m\"\u001b[0m\u001b[1m}\u001b[0m"
      ]
     },
     "execution_count": 2,
     "metadata": {},
     "output_type": "execute_result"
    }
   ],
   "source": [
    "catalog"
   ]
  },
  {
   "cell_type": "code",
   "execution_count": 4,
   "id": "4aca031d-ab84-4cae-b0fc-3df3cd3da5ef",
   "metadata": {},
   "outputs": [
    {
     "data": {
      "text/html": [
       "<pre style=\"white-space:pre;overflow-x:auto;line-height:normal;font-family:Menlo,'DejaVu Sans Mono',consolas,'Courier New',monospace\"><span style=\"color: #7fbfbf; text-decoration-color: #7fbfbf\">[04/28/25 23:06:19] </span><span style=\"color: #000080; text-decoration-color: #000080\">INFO    </span> Loading data from <span style=\"color: #ff8700; text-decoration-color: #ff8700\">patients</span> <span style=\"font-weight: bold\">(</span>CSVDataset<span style=\"font-weight: bold\">)</span><span style=\"color: #808000; text-decoration-color: #808000\">...</span>                         <a href=\"file:///Users/vihangamagarwal/miniconda3/envs/ch_env/lib/python3.10/site-packages/kedro/io/data_catalog.py\" target=\"_blank\"><span style=\"color: #7f7f7f; text-decoration-color: #7f7f7f\">data_catalog.py</span></a><span style=\"color: #7f7f7f; text-decoration-color: #7f7f7f\">:</span><a href=\"file:///Users/vihangamagarwal/miniconda3/envs/ch_env/lib/python3.10/site-packages/kedro/io/data_catalog.py#401\" target=\"_blank\"><span style=\"color: #7f7f7f; text-decoration-color: #7f7f7f\">401</span></a>\n",
       "</pre>\n"
      ],
      "text/plain": [
       "\u001b[2;36m[04/28/25 23:06:19]\u001b[0m\u001b[2;36m \u001b[0m\u001b[34mINFO    \u001b[0m Loading data from \u001b[38;5;208mpatients\u001b[0m \u001b[1m(\u001b[0mCSVDataset\u001b[1m)\u001b[0m\u001b[33m...\u001b[0m                         \u001b]8;id=347119;file:///Users/vihangamagarwal/miniconda3/envs/ch_env/lib/python3.10/site-packages/kedro/io/data_catalog.py\u001b\\\u001b[2mdata_catalog.py\u001b[0m\u001b]8;;\u001b\\\u001b[2m:\u001b[0m\u001b]8;id=176437;file:///Users/vihangamagarwal/miniconda3/envs/ch_env/lib/python3.10/site-packages/kedro/io/data_catalog.py#401\u001b\\\u001b[2m401\u001b[0m\u001b]8;;\u001b\\\n"
      ]
     },
     "metadata": {},
     "output_type": "display_data"
    },
    {
     "data": {
      "text/html": [
       "<pre style=\"white-space:pre;overflow-x:auto;line-height:normal;font-family:Menlo,'DejaVu Sans Mono',consolas,'Courier New',monospace\"><span style=\"color: #7fbfbf; text-decoration-color: #7fbfbf\">                    </span><span style=\"color: #000080; text-decoration-color: #000080\">INFO    </span> Loading data from <span style=\"color: #ff8700; text-decoration-color: #ff8700\">encounters</span> <span style=\"font-weight: bold\">(</span>ParquetDataset<span style=\"font-weight: bold\">)</span><span style=\"color: #808000; text-decoration-color: #808000\">...</span>                   <a href=\"file:///Users/vihangamagarwal/miniconda3/envs/ch_env/lib/python3.10/site-packages/kedro/io/data_catalog.py\" target=\"_blank\"><span style=\"color: #7f7f7f; text-decoration-color: #7f7f7f\">data_catalog.py</span></a><span style=\"color: #7f7f7f; text-decoration-color: #7f7f7f\">:</span><a href=\"file:///Users/vihangamagarwal/miniconda3/envs/ch_env/lib/python3.10/site-packages/kedro/io/data_catalog.py#401\" target=\"_blank\"><span style=\"color: #7f7f7f; text-decoration-color: #7f7f7f\">401</span></a>\n",
       "</pre>\n"
      ],
      "text/plain": [
       "\u001b[2;36m                   \u001b[0m\u001b[2;36m \u001b[0m\u001b[34mINFO    \u001b[0m Loading data from \u001b[38;5;208mencounters\u001b[0m \u001b[1m(\u001b[0mParquetDataset\u001b[1m)\u001b[0m\u001b[33m...\u001b[0m                   \u001b]8;id=374564;file:///Users/vihangamagarwal/miniconda3/envs/ch_env/lib/python3.10/site-packages/kedro/io/data_catalog.py\u001b\\\u001b[2mdata_catalog.py\u001b[0m\u001b]8;;\u001b\\\u001b[2m:\u001b[0m\u001b]8;id=285302;file:///Users/vihangamagarwal/miniconda3/envs/ch_env/lib/python3.10/site-packages/kedro/io/data_catalog.py#401\u001b\\\u001b[2m401\u001b[0m\u001b]8;;\u001b\\\n"
      ]
     },
     "metadata": {},
     "output_type": "display_data"
    },
    {
     "data": {
      "text/html": [
       "<pre style=\"white-space:pre;overflow-x:auto;line-height:normal;font-family:Menlo,'DejaVu Sans Mono',consolas,'Courier New',monospace\"><span style=\"color: #7fbfbf; text-decoration-color: #7fbfbf\">                    </span><span style=\"color: #000080; text-decoration-color: #000080\">INFO    </span> Loading data from <span style=\"color: #ff8700; text-decoration-color: #ff8700\">symptoms</span> <span style=\"font-weight: bold\">(</span>CSVDataset<span style=\"font-weight: bold\">)</span><span style=\"color: #808000; text-decoration-color: #808000\">...</span>                         <a href=\"file:///Users/vihangamagarwal/miniconda3/envs/ch_env/lib/python3.10/site-packages/kedro/io/data_catalog.py\" target=\"_blank\"><span style=\"color: #7f7f7f; text-decoration-color: #7f7f7f\">data_catalog.py</span></a><span style=\"color: #7f7f7f; text-decoration-color: #7f7f7f\">:</span><a href=\"file:///Users/vihangamagarwal/miniconda3/envs/ch_env/lib/python3.10/site-packages/kedro/io/data_catalog.py#401\" target=\"_blank\"><span style=\"color: #7f7f7f; text-decoration-color: #7f7f7f\">401</span></a>\n",
       "</pre>\n"
      ],
      "text/plain": [
       "\u001b[2;36m                   \u001b[0m\u001b[2;36m \u001b[0m\u001b[34mINFO    \u001b[0m Loading data from \u001b[38;5;208msymptoms\u001b[0m \u001b[1m(\u001b[0mCSVDataset\u001b[1m)\u001b[0m\u001b[33m...\u001b[0m                         \u001b]8;id=773459;file:///Users/vihangamagarwal/miniconda3/envs/ch_env/lib/python3.10/site-packages/kedro/io/data_catalog.py\u001b\\\u001b[2mdata_catalog.py\u001b[0m\u001b]8;;\u001b\\\u001b[2m:\u001b[0m\u001b]8;id=618855;file:///Users/vihangamagarwal/miniconda3/envs/ch_env/lib/python3.10/site-packages/kedro/io/data_catalog.py#401\u001b\\\u001b[2m401\u001b[0m\u001b]8;;\u001b\\\n"
      ]
     },
     "metadata": {},
     "output_type": "display_data"
    },
    {
     "data": {
      "text/html": [
       "<pre style=\"white-space:pre;overflow-x:auto;line-height:normal;font-family:Menlo,'DejaVu Sans Mono',consolas,'Courier New',monospace\"><span style=\"color: #7fbfbf; text-decoration-color: #7fbfbf\">                    </span><span style=\"color: #000080; text-decoration-color: #000080\">INFO    </span> Loading data from <span style=\"color: #ff8700; text-decoration-color: #ff8700\">medications</span> <span style=\"font-weight: bold\">(</span>CSVDataset<span style=\"font-weight: bold\">)</span><span style=\"color: #808000; text-decoration-color: #808000\">...</span>                      <a href=\"file:///Users/vihangamagarwal/miniconda3/envs/ch_env/lib/python3.10/site-packages/kedro/io/data_catalog.py\" target=\"_blank\"><span style=\"color: #7f7f7f; text-decoration-color: #7f7f7f\">data_catalog.py</span></a><span style=\"color: #7f7f7f; text-decoration-color: #7f7f7f\">:</span><a href=\"file:///Users/vihangamagarwal/miniconda3/envs/ch_env/lib/python3.10/site-packages/kedro/io/data_catalog.py#401\" target=\"_blank\"><span style=\"color: #7f7f7f; text-decoration-color: #7f7f7f\">401</span></a>\n",
       "</pre>\n"
      ],
      "text/plain": [
       "\u001b[2;36m                   \u001b[0m\u001b[2;36m \u001b[0m\u001b[34mINFO    \u001b[0m Loading data from \u001b[38;5;208mmedications\u001b[0m \u001b[1m(\u001b[0mCSVDataset\u001b[1m)\u001b[0m\u001b[33m...\u001b[0m                      \u001b]8;id=14893;file:///Users/vihangamagarwal/miniconda3/envs/ch_env/lib/python3.10/site-packages/kedro/io/data_catalog.py\u001b\\\u001b[2mdata_catalog.py\u001b[0m\u001b]8;;\u001b\\\u001b[2m:\u001b[0m\u001b]8;id=522499;file:///Users/vihangamagarwal/miniconda3/envs/ch_env/lib/python3.10/site-packages/kedro/io/data_catalog.py#401\u001b\\\u001b[2m401\u001b[0m\u001b]8;;\u001b\\\n"
      ]
     },
     "metadata": {},
     "output_type": "display_data"
    },
    {
     "data": {
      "text/html": [
       "<pre style=\"white-space:pre;overflow-x:auto;line-height:normal;font-family:Menlo,'DejaVu Sans Mono',consolas,'Courier New',monospace\"><span style=\"color: #7fbfbf; text-decoration-color: #7fbfbf\">                    </span><span style=\"color: #000080; text-decoration-color: #000080\">INFO    </span> Loading data from <span style=\"color: #ff8700; text-decoration-color: #ff8700\">conditions</span> <span style=\"font-weight: bold\">(</span>ExcelDataset<span style=\"font-weight: bold\">)</span><span style=\"color: #808000; text-decoration-color: #808000\">...</span>                     <a href=\"file:///Users/vihangamagarwal/miniconda3/envs/ch_env/lib/python3.10/site-packages/kedro/io/data_catalog.py\" target=\"_blank\"><span style=\"color: #7f7f7f; text-decoration-color: #7f7f7f\">data_catalog.py</span></a><span style=\"color: #7f7f7f; text-decoration-color: #7f7f7f\">:</span><a href=\"file:///Users/vihangamagarwal/miniconda3/envs/ch_env/lib/python3.10/site-packages/kedro/io/data_catalog.py#401\" target=\"_blank\"><span style=\"color: #7f7f7f; text-decoration-color: #7f7f7f\">401</span></a>\n",
       "</pre>\n"
      ],
      "text/plain": [
       "\u001b[2;36m                   \u001b[0m\u001b[2;36m \u001b[0m\u001b[34mINFO    \u001b[0m Loading data from \u001b[38;5;208mconditions\u001b[0m \u001b[1m(\u001b[0mExcelDataset\u001b[1m)\u001b[0m\u001b[33m...\u001b[0m                     \u001b]8;id=262145;file:///Users/vihangamagarwal/miniconda3/envs/ch_env/lib/python3.10/site-packages/kedro/io/data_catalog.py\u001b\\\u001b[2mdata_catalog.py\u001b[0m\u001b]8;;\u001b\\\u001b[2m:\u001b[0m\u001b]8;id=219053;file:///Users/vihangamagarwal/miniconda3/envs/ch_env/lib/python3.10/site-packages/kedro/io/data_catalog.py#401\u001b\\\u001b[2m401\u001b[0m\u001b]8;;\u001b\\\n"
      ]
     },
     "metadata": {},
     "output_type": "display_data"
    }
   ],
   "source": [
    "patients = catalog.load('patients')\n",
    "encounters = catalog.load('encounters')\n",
    "symptoms = catalog.load('symptoms')\n",
    "medications = catalog.load('medications')\n",
    "conditions = catalog.load('conditions')"
   ]
  },
  {
   "cell_type": "code",
   "execution_count": 5,
   "id": "00e25e92-e5d8-4b8f-9db1-b51f3de83977",
   "metadata": {},
   "outputs": [
    {
     "data": {
      "text/html": [
       "<pre style=\"white-space:pre;overflow-x:auto;line-height:normal;font-family:Menlo,'DejaVu Sans Mono',consolas,'Courier New',monospace\"></pre>\n"
      ],
      "text/plain": []
     },
     "metadata": {},
     "output_type": "display_data"
    },
    {
     "data": {
      "text/plain": [
       "\u001b[1;36m10000\u001b[0m"
      ]
     },
     "execution_count": 5,
     "metadata": {},
     "output_type": "execute_result"
    }
   ],
   "source": [
    "patients['PATIENT_ID'].nunique()"
   ]
  },
  {
   "cell_type": "code",
   "execution_count": 6,
   "id": "f8031042-5a94-4990-95da-3fed75434582",
   "metadata": {},
   "outputs": [
    {
     "data": {
      "text/html": [
       "<pre style=\"white-space:pre;overflow-x:auto;line-height:normal;font-family:Menlo,'DejaVu Sans Mono',consolas,'Courier New',monospace\"></pre>\n"
      ],
      "text/plain": []
     },
     "metadata": {},
     "output_type": "display_data"
    },
    {
     "data": {
      "text/plain": [
       "\n",
       "\u001b[1;35mIndex\u001b[0m\u001b[1m(\u001b[0m\u001b[1m[\u001b[0m\u001b[32m'PATIENT_ID'\u001b[0m, \u001b[32m'BIRTHDATE'\u001b[0m, \u001b[32m'DEATHDATE'\u001b[0m, \u001b[32m'SSN'\u001b[0m, \u001b[32m'DRIVERS'\u001b[0m, \u001b[32m'PASSPORT'\u001b[0m,\n",
       "       \u001b[32m'PREFIX'\u001b[0m, \u001b[32m'FIRST'\u001b[0m, \u001b[32m'LAST'\u001b[0m, \u001b[32m'SUFFIX'\u001b[0m, \u001b[32m'MAIDEN'\u001b[0m, \u001b[32m'MARITAL'\u001b[0m, \u001b[32m'RACE'\u001b[0m,\n",
       "       \u001b[32m'ETHNICITY'\u001b[0m, \u001b[32m'GENDER'\u001b[0m, \u001b[32m'BIRTHPLACE'\u001b[0m, \u001b[32m'ADDRESS'\u001b[0m, \u001b[32m'CITY'\u001b[0m, \u001b[32m'STATE'\u001b[0m,\n",
       "       \u001b[32m'COUNTY'\u001b[0m, \u001b[32m'FIPS'\u001b[0m, \u001b[32m'ZIP'\u001b[0m, \u001b[32m'LAT'\u001b[0m, \u001b[32m'LON'\u001b[0m, \u001b[32m'HEALTHCARE_EXPENSES'\u001b[0m,\n",
       "       \u001b[32m'HEALTHCARE_COVERAGE'\u001b[0m, \u001b[32m'INCOME'\u001b[0m\u001b[1m]\u001b[0m,\n",
       "      \u001b[33mdtype\u001b[0m=\u001b[32m'object'\u001b[0m\u001b[1m)\u001b[0m"
      ]
     },
     "execution_count": 6,
     "metadata": {},
     "output_type": "execute_result"
    }
   ],
   "source": [
    "patients.columns"
   ]
  },
  {
   "cell_type": "code",
   "execution_count": 7,
   "id": "1a9bd355-0f4b-4461-b8dc-104d0a2d58bd",
   "metadata": {},
   "outputs": [
    {
     "data": {
      "text/html": [
       "<pre style=\"white-space:pre;overflow-x:auto;line-height:normal;font-family:Menlo,'DejaVu Sans Mono',consolas,'Courier New',monospace\"></pre>\n"
      ],
      "text/plain": []
     },
     "metadata": {},
     "output_type": "display_data"
    },
    {
     "data": {
      "text/plain": [
       "\n",
       "\u001b[1;35mIndex\u001b[0m\u001b[1m(\u001b[0m\u001b[1m[\u001b[0m\u001b[32m'Id'\u001b[0m, \u001b[32m'START'\u001b[0m, \u001b[32m'STOP'\u001b[0m, \u001b[32m'PATIENT'\u001b[0m, \u001b[32m'ORGANIZATION'\u001b[0m, \u001b[32m'PROVIDER'\u001b[0m, \u001b[32m'PAYER'\u001b[0m,\n",
       "       \u001b[32m'ENCOUNTERCLASS'\u001b[0m, \u001b[32m'CODE'\u001b[0m, \u001b[32m'DESCRIPTION'\u001b[0m, \u001b[32m'BASE_ENCOUNTER_COST'\u001b[0m,\n",
       "       \u001b[32m'TOTAL_CLAIM_COST'\u001b[0m, \u001b[32m'PAYER_COVERAGE'\u001b[0m, \u001b[32m'REASONCODE'\u001b[0m,\n",
       "       \u001b[32m'REASONDESCRIPTION'\u001b[0m\u001b[1m]\u001b[0m,\n",
       "      \u001b[33mdtype\u001b[0m=\u001b[32m'object'\u001b[0m\u001b[1m)\u001b[0m"
      ]
     },
     "execution_count": 7,
     "metadata": {},
     "output_type": "execute_result"
    }
   ],
   "source": [
    "encounters.columns"
   ]
  },
  {
   "cell_type": "code",
   "execution_count": 8,
   "id": "f846ff61-e591-4534-ac43-5b549214b048",
   "metadata": {},
   "outputs": [
    {
     "data": {
      "text/html": [
       "<pre style=\"white-space:pre;overflow-x:auto;line-height:normal;font-family:Menlo,'DejaVu Sans Mono',consolas,'Courier New',monospace\"></pre>\n"
      ],
      "text/plain": []
     },
     "metadata": {},
     "output_type": "display_data"
    },
    {
     "data": {
      "text/plain": [
       "\n",
       "\u001b[1;35mIndex\u001b[0m\u001b[1m(\u001b[0m\u001b[1m[\u001b[0m\u001b[32m'PATIENT'\u001b[0m, \u001b[32m'GENDER'\u001b[0m, \u001b[32m'RACE'\u001b[0m, \u001b[32m'ETHNICITY'\u001b[0m, \u001b[32m'AGE_BEGIN'\u001b[0m, \u001b[32m'AGE_END'\u001b[0m,\n",
       "       \u001b[32m'PATHOLOGY'\u001b[0m, \u001b[32m'NUM_SYMPTOMS'\u001b[0m, \u001b[32m'SYMPTOMS'\u001b[0m\u001b[1m]\u001b[0m,\n",
       "      \u001b[33mdtype\u001b[0m=\u001b[32m'object'\u001b[0m\u001b[1m)\u001b[0m"
      ]
     },
     "execution_count": 8,
     "metadata": {},
     "output_type": "execute_result"
    }
   ],
   "source": [
    "symptoms.columns"
   ]
  },
  {
   "cell_type": "code",
   "execution_count": 9,
   "id": "5a592865-a0f2-41e3-868e-60c3872c45c0",
   "metadata": {},
   "outputs": [
    {
     "data": {
      "text/html": [
       "<pre style=\"white-space:pre;overflow-x:auto;line-height:normal;font-family:Menlo,'DejaVu Sans Mono',consolas,'Courier New',monospace\"></pre>\n"
      ],
      "text/plain": []
     },
     "metadata": {},
     "output_type": "display_data"
    },
    {
     "data": {
      "text/plain": [
       "\n",
       "\u001b[1;35mIndex\u001b[0m\u001b[1m(\u001b[0m\u001b[1m[\u001b[0m\u001b[32m'START'\u001b[0m, \u001b[32m'STOP'\u001b[0m, \u001b[32m'PATIENT'\u001b[0m, \u001b[32m'PAYER'\u001b[0m, \u001b[32m'ENCOUNTER'\u001b[0m, \u001b[32m'CODE'\u001b[0m, \u001b[32m'DESCRIPTION'\u001b[0m,\n",
       "       \u001b[32m'BASE_COST'\u001b[0m, \u001b[32m'PAYER_COVERAGE'\u001b[0m, \u001b[32m'DISPENSES'\u001b[0m, \u001b[32m'TOTALCOST'\u001b[0m, \u001b[32m'REASONCODE'\u001b[0m,\n",
       "       \u001b[32m'REASONDESCRIPTION'\u001b[0m\u001b[1m]\u001b[0m,\n",
       "      \u001b[33mdtype\u001b[0m=\u001b[32m'object'\u001b[0m\u001b[1m)\u001b[0m"
      ]
     },
     "execution_count": 9,
     "metadata": {},
     "output_type": "execute_result"
    }
   ],
   "source": [
    "medications.columns"
   ]
  },
  {
   "cell_type": "code",
   "execution_count": 10,
   "id": "96b8ec49-043e-421d-9205-f08ec344572a",
   "metadata": {},
   "outputs": [
    {
     "data": {
      "text/html": [
       "<pre style=\"white-space:pre;overflow-x:auto;line-height:normal;font-family:Menlo,'DejaVu Sans Mono',consolas,'Courier New',monospace\"></pre>\n"
      ],
      "text/plain": []
     },
     "metadata": {},
     "output_type": "display_data"
    },
    {
     "data": {
      "text/plain": [
       "\u001b[1;35mIndex\u001b[0m\u001b[1m(\u001b[0m\u001b[1m[\u001b[0m\u001b[32m'START'\u001b[0m, \u001b[32m'STOP'\u001b[0m, \u001b[32m'PATIENT'\u001b[0m, \u001b[32m'ENCOUNTER'\u001b[0m, \u001b[32m'CODE'\u001b[0m, \u001b[32m'DESCRIPTION'\u001b[0m\u001b[1m]\u001b[0m, \u001b[33mdtype\u001b[0m=\u001b[32m'object'\u001b[0m\u001b[1m)\u001b[0m"
      ]
     },
     "execution_count": 10,
     "metadata": {},
     "output_type": "execute_result"
    }
   ],
   "source": [
    "conditions.columns"
   ]
  },
  {
   "cell_type": "code",
   "execution_count": 11,
   "id": "b0682e13-9a36-44e6-b475-b18eacdf4abd",
   "metadata": {},
   "outputs": [
    {
     "data": {
      "text/html": [
       "<pre style=\"white-space:pre;overflow-x:auto;line-height:normal;font-family:Menlo,'DejaVu Sans Mono',consolas,'Courier New',monospace\"></pre>\n"
      ],
      "text/plain": []
     },
     "metadata": {},
     "output_type": "display_data"
    },
    {
     "data": {
      "text/html": [
       "<div>\n",
       "<style scoped>\n",
       "    .dataframe tbody tr th:only-of-type {\n",
       "        vertical-align: middle;\n",
       "    }\n",
       "\n",
       "    .dataframe tbody tr th {\n",
       "        vertical-align: top;\n",
       "    }\n",
       "\n",
       "    .dataframe thead th {\n",
       "        text-align: right;\n",
       "    }\n",
       "</style>\n",
       "<table border=\"1\" class=\"dataframe\">\n",
       "  <thead>\n",
       "    <tr style=\"text-align: right;\">\n",
       "      <th></th>\n",
       "      <th>PATIENT_ID</th>\n",
       "      <th>BIRTHDATE</th>\n",
       "      <th>DEATHDATE</th>\n",
       "      <th>SSN</th>\n",
       "      <th>DRIVERS</th>\n",
       "      <th>PASSPORT</th>\n",
       "      <th>PREFIX</th>\n",
       "      <th>FIRST</th>\n",
       "      <th>LAST</th>\n",
       "      <th>SUFFIX</th>\n",
       "      <th>...</th>\n",
       "      <th>CITY</th>\n",
       "      <th>STATE</th>\n",
       "      <th>COUNTY</th>\n",
       "      <th>FIPS</th>\n",
       "      <th>ZIP</th>\n",
       "      <th>LAT</th>\n",
       "      <th>LON</th>\n",
       "      <th>HEALTHCARE_EXPENSES</th>\n",
       "      <th>HEALTHCARE_COVERAGE</th>\n",
       "      <th>INCOME</th>\n",
       "    </tr>\n",
       "  </thead>\n",
       "  <tbody>\n",
       "    <tr>\n",
       "      <th>0</th>\n",
       "      <td>54f1059e-6250-3949-6dd0-1dda9b85d22a</td>\n",
       "      <td>2002-01-21</td>\n",
       "      <td>NaN</td>\n",
       "      <td>999-28-3364</td>\n",
       "      <td>S99987398</td>\n",
       "      <td>X44428214X</td>\n",
       "      <td>Ms.</td>\n",
       "      <td>Fredricka415</td>\n",
       "      <td>Crist667</td>\n",
       "      <td>NaN</td>\n",
       "      <td>...</td>\n",
       "      <td>Fort Worth</td>\n",
       "      <td>Texas</td>\n",
       "      <td>Tarrant County</td>\n",
       "      <td>48439.0</td>\n",
       "      <td>76104</td>\n",
       "      <td>0.329154</td>\n",
       "      <td>-97.399553</td>\n",
       "      <td>9990.08</td>\n",
       "      <td>0.0</td>\n",
       "      <td>35460</td>\n",
       "    </tr>\n",
       "    <tr>\n",
       "      <th>1</th>\n",
       "      <td>92675303-ca5b-136a-169b-e764c5753f06</td>\n",
       "      <td>1997-04-16</td>\n",
       "      <td>NaN</td>\n",
       "      <td>999-62-9859</td>\n",
       "      <td>S99999770</td>\n",
       "      <td>X75016560X</td>\n",
       "      <td>Mr.</td>\n",
       "      <td>Lorenzo669</td>\n",
       "      <td>Urrutia540</td>\n",
       "      <td>NaN</td>\n",
       "      <td>...</td>\n",
       "      <td>Arlington</td>\n",
       "      <td>Texas</td>\n",
       "      <td>Tarrant County</td>\n",
       "      <td>48439.0</td>\n",
       "      <td>76006</td>\n",
       "      <td>0.328145</td>\n",
       "      <td>-97.068885</td>\n",
       "      <td>10936.80</td>\n",
       "      <td>0.0</td>\n",
       "      <td>88407</td>\n",
       "    </tr>\n",
       "    <tr>\n",
       "      <th>2</th>\n",
       "      <td>a0b63e97-b6fd-5fe1-8f2d-2bec915efa97</td>\n",
       "      <td>1993-02-04</td>\n",
       "      <td>NaN</td>\n",
       "      <td>999-53-6488</td>\n",
       "      <td>S99979170</td>\n",
       "      <td>X60079936X</td>\n",
       "      <td>Mr.</td>\n",
       "      <td>Luther918</td>\n",
       "      <td>MacGyver246</td>\n",
       "      <td>NaN</td>\n",
       "      <td>...</td>\n",
       "      <td>Houston</td>\n",
       "      <td>Texas</td>\n",
       "      <td>Harris County</td>\n",
       "      <td>48339.0</td>\n",
       "      <td>77357</td>\n",
       "      <td>0.300834</td>\n",
       "      <td>-95.649706</td>\n",
       "      <td>10662.16</td>\n",
       "      <td>0.0</td>\n",
       "      <td>41800</td>\n",
       "    </tr>\n",
       "    <tr>\n",
       "      <th>3</th>\n",
       "      <td>abc59f62-dc5a-5095-1141-80b4ee8be73b</td>\n",
       "      <td>1995-05-23</td>\n",
       "      <td>NaN</td>\n",
       "      <td>999-37-1058</td>\n",
       "      <td>S99981031</td>\n",
       "      <td>X14759314X</td>\n",
       "      <td>Mrs.</td>\n",
       "      <td>Jacque955</td>\n",
       "      <td>Jones311</td>\n",
       "      <td>NaN</td>\n",
       "      <td>...</td>\n",
       "      <td>Waco</td>\n",
       "      <td>Texas</td>\n",
       "      <td>McLennan County</td>\n",
       "      <td>48309.0</td>\n",
       "      <td>76655</td>\n",
       "      <td>0.315173</td>\n",
       "      <td>-97.292558</td>\n",
       "      <td>11455.93</td>\n",
       "      <td>0.0</td>\n",
       "      <td>41915</td>\n",
       "    </tr>\n",
       "    <tr>\n",
       "      <th>4</th>\n",
       "      <td>28d7b56c-6056-d0a2-2991-39d6e917216c</td>\n",
       "      <td>1993-11-13</td>\n",
       "      <td>NaN</td>\n",
       "      <td>999-31-6091</td>\n",
       "      <td>S99958903</td>\n",
       "      <td>X63033472X</td>\n",
       "      <td>Mrs.</td>\n",
       "      <td>Angela104</td>\n",
       "      <td>Stanton715</td>\n",
       "      <td>NaN</td>\n",
       "      <td>...</td>\n",
       "      <td>Levelland</td>\n",
       "      <td>Texas</td>\n",
       "      <td>Hockley County</td>\n",
       "      <td>48219.0</td>\n",
       "      <td>79336</td>\n",
       "      <td>0.337037</td>\n",
       "      <td>-102.361829</td>\n",
       "      <td>12449.11</td>\n",
       "      <td>0.0</td>\n",
       "      <td>67198</td>\n",
       "    </tr>\n",
       "  </tbody>\n",
       "</table>\n",
       "<p>5 rows × 27 columns</p>\n",
       "</div>"
      ],
      "text/plain": [
       "\n",
       "                             PATIENT_ID   BIRTHDATE  DEATHDATE          SSN  \\\n",
       "\u001b[1;36m0\u001b[0m  \u001b[93m54f1059e-6250-3949-6dd0-1dda9b85d22a\u001b[0m  \u001b[1;36m2002\u001b[0m-\u001b[1;36m01\u001b[0m-\u001b[1;36m21\u001b[0m        NaN  \u001b[1;36m999\u001b[0m-\u001b[1;36m28\u001b[0m-\u001b[1;36m3364\u001b[0m   \n",
       "\u001b[1;36m1\u001b[0m  \u001b[93m92675303-ca5b-136a-169b-e764c5753f06\u001b[0m  \u001b[1;36m1997\u001b[0m-\u001b[1;36m04\u001b[0m-\u001b[1;36m16\u001b[0m        NaN  \u001b[1;36m999\u001b[0m-\u001b[1;36m62\u001b[0m-\u001b[1;36m9859\u001b[0m   \n",
       "\u001b[1;36m2\u001b[0m  \u001b[93ma0b63e97-b6fd-5fe1-8f2d-2bec915efa97\u001b[0m  \u001b[1;36m1993\u001b[0m-\u001b[1;36m02\u001b[0m-\u001b[1;36m04\u001b[0m        NaN  \u001b[1;36m999\u001b[0m-\u001b[1;36m53\u001b[0m-\u001b[1;36m6488\u001b[0m   \n",
       "\u001b[1;36m3\u001b[0m  \u001b[93mabc59f62-dc5a-5095-1141-80b4ee8be73b\u001b[0m  \u001b[1;36m1995\u001b[0m-\u001b[1;36m05\u001b[0m-\u001b[1;36m23\u001b[0m        NaN  \u001b[1;36m999\u001b[0m-\u001b[1;36m37\u001b[0m-\u001b[1;36m1058\u001b[0m   \n",
       "\u001b[1;36m4\u001b[0m  \u001b[93m28d7b56c-6056-d0a2-2991-39d6e917216c\u001b[0m  \u001b[1;36m1993\u001b[0m-\u001b[1;36m11\u001b[0m-\u001b[1;36m13\u001b[0m        NaN  \u001b[1;36m999\u001b[0m-\u001b[1;36m31\u001b[0m-\u001b[1;36m6091\u001b[0m   \n",
       "\n",
       "     DRIVERS    PASSPORT PREFIX         FIRST         LAST SUFFIX  \u001b[33m...\u001b[0m  \\\n",
       "\u001b[1;36m0\u001b[0m  S99987398  X44428214X    Ms.  Fredricka415     Crist667    NaN  \u001b[33m...\u001b[0m   \n",
       "\u001b[1;36m1\u001b[0m  S99999770  X75016560X    Mr.    Lorenzo669   Urrutia540    NaN  \u001b[33m...\u001b[0m   \n",
       "\u001b[1;36m2\u001b[0m  S99979170  X60079936X    Mr.     Luther918  MacGyver246    NaN  \u001b[33m...\u001b[0m   \n",
       "\u001b[1;36m3\u001b[0m  S99981031  X14759314X   Mrs.     Jacque955     Jones311    NaN  \u001b[33m...\u001b[0m   \n",
       "\u001b[1;36m4\u001b[0m  S99958903  X63033472X   Mrs.     Angela104   Stanton715    NaN  \u001b[33m...\u001b[0m   \n",
       "\n",
       "         CITY  STATE           COUNTY     FIPS    ZIP       LAT         LON  \\\n",
       "\u001b[1;36m0\u001b[0m  Fort Worth  Texas   Tarrant County  \u001b[1;36m48439.0\u001b[0m  \u001b[1;36m76104\u001b[0m  \u001b[1;36m0.329154\u001b[0m  \u001b[1;36m-97.399553\u001b[0m   \n",
       "\u001b[1;36m1\u001b[0m   Arlington  Texas   Tarrant County  \u001b[1;36m48439.0\u001b[0m  \u001b[1;36m76006\u001b[0m  \u001b[1;36m0.328145\u001b[0m  \u001b[1;36m-97.068885\u001b[0m   \n",
       "\u001b[1;36m2\u001b[0m     Houston  Texas    Harris County  \u001b[1;36m48339.0\u001b[0m  \u001b[1;36m77357\u001b[0m  \u001b[1;36m0.300834\u001b[0m  \u001b[1;36m-95.649706\u001b[0m   \n",
       "\u001b[1;36m3\u001b[0m        Waco  Texas  McLennan County  \u001b[1;36m48309.0\u001b[0m  \u001b[1;36m76655\u001b[0m  \u001b[1;36m0.315173\u001b[0m  \u001b[1;36m-97.292558\u001b[0m   \n",
       "\u001b[1;36m4\u001b[0m   Levelland  Texas   Hockley County  \u001b[1;36m48219.0\u001b[0m  \u001b[1;36m79336\u001b[0m  \u001b[1;36m0.337037\u001b[0m \u001b[1;36m-102.361829\u001b[0m   \n",
       "\n",
       "  HEALTHCARE_EXPENSES HEALTHCARE_COVERAGE INCOME  \n",
       "\u001b[1;36m0\u001b[0m             \u001b[1;36m9990.08\u001b[0m                 \u001b[1;36m0.0\u001b[0m  \u001b[1;36m35460\u001b[0m  \n",
       "\u001b[1;36m1\u001b[0m            \u001b[1;36m10936.80\u001b[0m                 \u001b[1;36m0.0\u001b[0m  \u001b[1;36m88407\u001b[0m  \n",
       "\u001b[1;36m2\u001b[0m            \u001b[1;36m10662.16\u001b[0m                 \u001b[1;36m0.0\u001b[0m  \u001b[1;36m41800\u001b[0m  \n",
       "\u001b[1;36m3\u001b[0m            \u001b[1;36m11455.93\u001b[0m                 \u001b[1;36m0.0\u001b[0m  \u001b[1;36m41915\u001b[0m  \n",
       "\u001b[1;36m4\u001b[0m            \u001b[1;36m12449.11\u001b[0m                 \u001b[1;36m0.0\u001b[0m  \u001b[1;36m67198\u001b[0m  \n",
       "\n",
       "\u001b[1m[\u001b[0m\u001b[1;36m5\u001b[0m rows x \u001b[1;36m27\u001b[0m columns\u001b[1m]\u001b[0m"
      ]
     },
     "execution_count": 11,
     "metadata": {},
     "output_type": "execute_result"
    }
   ],
   "source": [
    "patients.head()"
   ]
  },
  {
   "cell_type": "code",
   "execution_count": 12,
   "id": "2742745f-882b-44f7-b18e-a5279255f07a",
   "metadata": {},
   "outputs": [
    {
     "data": {
      "text/html": [
       "<pre style=\"white-space:pre;overflow-x:auto;line-height:normal;font-family:Menlo,'DejaVu Sans Mono',consolas,'Courier New',monospace\"></pre>\n"
      ],
      "text/plain": []
     },
     "metadata": {},
     "output_type": "display_data"
    },
    {
     "data": {
      "text/html": [
       "<div>\n",
       "<style scoped>\n",
       "    .dataframe tbody tr th:only-of-type {\n",
       "        vertical-align: middle;\n",
       "    }\n",
       "\n",
       "    .dataframe tbody tr th {\n",
       "        vertical-align: top;\n",
       "    }\n",
       "\n",
       "    .dataframe thead th {\n",
       "        text-align: right;\n",
       "    }\n",
       "</style>\n",
       "<table border=\"1\" class=\"dataframe\">\n",
       "  <thead>\n",
       "    <tr style=\"text-align: right;\">\n",
       "      <th></th>\n",
       "      <th>Id</th>\n",
       "      <th>START</th>\n",
       "      <th>STOP</th>\n",
       "      <th>PATIENT</th>\n",
       "      <th>ORGANIZATION</th>\n",
       "      <th>PROVIDER</th>\n",
       "      <th>PAYER</th>\n",
       "      <th>ENCOUNTERCLASS</th>\n",
       "      <th>CODE</th>\n",
       "      <th>DESCRIPTION</th>\n",
       "      <th>BASE_ENCOUNTER_COST</th>\n",
       "      <th>TOTAL_CLAIM_COST</th>\n",
       "      <th>PAYER_COVERAGE</th>\n",
       "      <th>REASONCODE</th>\n",
       "      <th>REASONDESCRIPTION</th>\n",
       "    </tr>\n",
       "  </thead>\n",
       "  <tbody>\n",
       "    <tr>\n",
       "      <th>0</th>\n",
       "      <td>6539c675-dcf2-cace-a90d-7f097d1799b3</td>\n",
       "      <td>2014-02-10T11:00:08Z</td>\n",
       "      <td>2014-02-10T11:15:08Z</td>\n",
       "      <td>54F1059E-6250-3949-6DD0-1DDA9B85D22A</td>\n",
       "      <td>ef42ec52-a1c1-3fc5-8e52-da46f7f3970c</td>\n",
       "      <td>35088bec-f756-35d8-8140-b2b017c0eacc</td>\n",
       "      <td>8fa6c185-e44e-3e34-8bd8-39be8694f4ce</td>\n",
       "      <td>wellness</td>\n",
       "      <td>410620009</td>\n",
       "      <td>Well child visit (procedure)</td>\n",
       "      <td>133.36</td>\n",
       "      <td>405.36</td>\n",
       "      <td>0.0</td>\n",
       "      <td>NaN</td>\n",
       "      <td>None</td>\n",
       "    </tr>\n",
       "    <tr>\n",
       "      <th>1</th>\n",
       "      <td>748a443c-9819-4f3a-8648-0096ace6d3fd</td>\n",
       "      <td>2014-06-04T05:19:43Z</td>\n",
       "      <td>2014-06-04T05:34:43Z</td>\n",
       "      <td>92675303-CA5B-136A-169B-E764C5753F06</td>\n",
       "      <td>02078b23-a943-3175-b5f0-8d386dd8eb56</td>\n",
       "      <td>af22b73b-d38f-3d92-8a95-bd57ac2dc3f1</td>\n",
       "      <td>b046940f-1664-3047-bca7-dfa76be352a4</td>\n",
       "      <td>wellness</td>\n",
       "      <td>410620009</td>\n",
       "      <td>Well child visit (procedure)</td>\n",
       "      <td>133.36</td>\n",
       "      <td>269.36</td>\n",
       "      <td>0.0</td>\n",
       "      <td>NaN</td>\n",
       "      <td>None</td>\n",
       "    </tr>\n",
       "    <tr>\n",
       "      <th>2</th>\n",
       "      <td>678e03b1-21ac-fbfa-3506-17bee72a6335</td>\n",
       "      <td>2015-06-10T05:19:43Z</td>\n",
       "      <td>2015-06-10T05:34:43Z</td>\n",
       "      <td>92675303-CA5B-136A-169B-E764C5753F06</td>\n",
       "      <td>02078b23-a943-3175-b5f0-8d386dd8eb56</td>\n",
       "      <td>af22b73b-d38f-3d92-8a95-bd57ac2dc3f1</td>\n",
       "      <td>b046940f-1664-3047-bca7-dfa76be352a4</td>\n",
       "      <td>wellness</td>\n",
       "      <td>162673000</td>\n",
       "      <td>General examination of patient (procedure)</td>\n",
       "      <td>133.36</td>\n",
       "      <td>269.36</td>\n",
       "      <td>0.0</td>\n",
       "      <td>NaN</td>\n",
       "      <td>None</td>\n",
       "    </tr>\n",
       "    <tr>\n",
       "      <th>3</th>\n",
       "      <td>45987160-8815-858e-893b-6490a63e919c</td>\n",
       "      <td>2015-04-10T03:27:04Z</td>\n",
       "      <td>2015-04-10T03:42:04Z</td>\n",
       "      <td>A0B63E97-B6FD-5FE1-8F2D-2BEC915EFA97</td>\n",
       "      <td>44f0ad91-f33b-3fe5-ba4f-868503d593fe</td>\n",
       "      <td>a79c71d6-e0b4-3450-a0e1-ee08146aeb74</td>\n",
       "      <td>734afbd6-4794-363b-9bc0-6a3981533ed5</td>\n",
       "      <td>wellness</td>\n",
       "      <td>162673000</td>\n",
       "      <td>General examination of patient (procedure)</td>\n",
       "      <td>133.36</td>\n",
       "      <td>677.36</td>\n",
       "      <td>0.0</td>\n",
       "      <td>NaN</td>\n",
       "      <td>None</td>\n",
       "    </tr>\n",
       "    <tr>\n",
       "      <th>4</th>\n",
       "      <td>c56e3b19-5a51-0fc8-a82e-8bf89575ca71</td>\n",
       "      <td>2016-06-15T05:19:43Z</td>\n",
       "      <td>2016-06-15T05:34:43Z</td>\n",
       "      <td>92675303-CA5B-136A-169B-E764C5753F06</td>\n",
       "      <td>02078b23-a943-3175-b5f0-8d386dd8eb56</td>\n",
       "      <td>af22b73b-d38f-3d92-8a95-bd57ac2dc3f1</td>\n",
       "      <td>b046940f-1664-3047-bca7-dfa76be352a4</td>\n",
       "      <td>wellness</td>\n",
       "      <td>162673000</td>\n",
       "      <td>General examination of patient (procedure)</td>\n",
       "      <td>133.36</td>\n",
       "      <td>269.36</td>\n",
       "      <td>0.0</td>\n",
       "      <td>NaN</td>\n",
       "      <td>None</td>\n",
       "    </tr>\n",
       "  </tbody>\n",
       "</table>\n",
       "</div>"
      ],
      "text/plain": [
       "\n",
       "                                     Id                 START  \\\n",
       "\u001b[1;36m0\u001b[0m  \u001b[93m6539c675-dcf2-cace-a90d-7f097d1799b3\u001b[0m  \u001b[1;36m2014\u001b[0m-\u001b[1;36m02\u001b[0m-10T\u001b[1;92m11:00:08\u001b[0mZ   \n",
       "\u001b[1;36m1\u001b[0m  \u001b[93m748a443c-9819-4f3a-8648-0096ace6d3fd\u001b[0m  \u001b[1;36m2014\u001b[0m-\u001b[1;36m06\u001b[0m-04T\u001b[1;92m05:19:43\u001b[0mZ   \n",
       "\u001b[1;36m2\u001b[0m  \u001b[93m678e03b1-21ac-fbfa-3506-17bee72a6335\u001b[0m  \u001b[1;36m2015\u001b[0m-\u001b[1;36m06\u001b[0m-10T\u001b[1;92m05:19:43\u001b[0mZ   \n",
       "\u001b[1;36m3\u001b[0m  \u001b[93m45987160-8815-858e-893b-6490a63e919c\u001b[0m  \u001b[1;36m2015\u001b[0m-\u001b[1;36m04\u001b[0m-10T\u001b[1;92m03:27:04\u001b[0mZ   \n",
       "\u001b[1;36m4\u001b[0m  \u001b[93mc56e3b19-5a51-0fc8-a82e-8bf89575ca71\u001b[0m  \u001b[1;36m2016\u001b[0m-\u001b[1;36m06\u001b[0m-15T\u001b[1;92m05:19:43\u001b[0mZ   \n",
       "\n",
       "                   STOP                               PATIENT  \\\n",
       "\u001b[1;36m0\u001b[0m  \u001b[1;36m2014\u001b[0m-\u001b[1;36m02\u001b[0m-10T\u001b[1;92m11:15:08\u001b[0mZ  \u001b[93m54F1059E-6250-3949-6DD0-1DDA9B85D22A\u001b[0m   \n",
       "\u001b[1;36m1\u001b[0m  \u001b[1;36m2014\u001b[0m-\u001b[1;36m06\u001b[0m-04T\u001b[1;92m05:34:43\u001b[0mZ  \u001b[93m92675303-CA5B-136A-169B-E764C5753F06\u001b[0m   \n",
       "\u001b[1;36m2\u001b[0m  \u001b[1;36m2015\u001b[0m-\u001b[1;36m06\u001b[0m-10T\u001b[1;92m05:34:43\u001b[0mZ  \u001b[93m92675303-CA5B-136A-169B-E764C5753F06\u001b[0m   \n",
       "\u001b[1;36m3\u001b[0m  \u001b[1;36m2015\u001b[0m-\u001b[1;36m04\u001b[0m-10T\u001b[1;92m03:42:04\u001b[0mZ  \u001b[93mA0B63E97-B6FD-5FE1-8F2D-2BEC915EFA97\u001b[0m   \n",
       "\u001b[1;36m4\u001b[0m  \u001b[1;36m2016\u001b[0m-\u001b[1;36m06\u001b[0m-15T\u001b[1;92m05:34:43\u001b[0mZ  \u001b[93m92675303-CA5B-136A-169B-E764C5753F06\u001b[0m   \n",
       "\n",
       "                           ORGANIZATION                              PROVIDER  \\\n",
       "\u001b[1;36m0\u001b[0m  \u001b[93mef42ec52-a1c1-3fc5-8e52-da46f7f3970c\u001b[0m  \u001b[93m35088bec-f756-35d8-8140-b2b017c0eacc\u001b[0m   \n",
       "\u001b[1;36m1\u001b[0m  \u001b[93m02078b23-a943-3175-b5f0-8d386dd8eb56\u001b[0m  \u001b[93maf22b73b-d38f-3d92-8a95-bd57ac2dc3f1\u001b[0m   \n",
       "\u001b[1;36m2\u001b[0m  \u001b[93m02078b23-a943-3175-b5f0-8d386dd8eb56\u001b[0m  \u001b[93maf22b73b-d38f-3d92-8a95-bd57ac2dc3f1\u001b[0m   \n",
       "\u001b[1;36m3\u001b[0m  \u001b[93m44f0ad91-f33b-3fe5-ba4f-868503d593fe\u001b[0m  \u001b[93ma79c71d6-e0b4-3450-a0e1-ee08146aeb74\u001b[0m   \n",
       "\u001b[1;36m4\u001b[0m  \u001b[93m02078b23-a943-3175-b5f0-8d386dd8eb56\u001b[0m  \u001b[93maf22b73b-d38f-3d92-8a95-bd57ac2dc3f1\u001b[0m   \n",
       "\n",
       "                                  PAYER ENCOUNTERCLASS       CODE  \\\n",
       "\u001b[1;36m0\u001b[0m  \u001b[93m8fa6c185-e44e-3e34-8bd8-39be8694f4ce\u001b[0m       wellness  \u001b[1;36m410620009\u001b[0m   \n",
       "\u001b[1;36m1\u001b[0m  \u001b[93mb046940f-1664-3047-bca7-dfa76be352a4\u001b[0m       wellness  \u001b[1;36m410620009\u001b[0m   \n",
       "\u001b[1;36m2\u001b[0m  \u001b[93mb046940f-1664-3047-bca7-dfa76be352a4\u001b[0m       wellness  \u001b[1;36m162673000\u001b[0m   \n",
       "\u001b[1;36m3\u001b[0m  \u001b[93m734afbd6-4794-363b-9bc0-6a3981533ed5\u001b[0m       wellness  \u001b[1;36m162673000\u001b[0m   \n",
       "\u001b[1;36m4\u001b[0m  \u001b[93mb046940f-1664-3047-bca7-dfa76be352a4\u001b[0m       wellness  \u001b[1;36m162673000\u001b[0m   \n",
       "\n",
       "                                  DESCRIPTION  BASE_ENCOUNTER_COST  \\\n",
       "\u001b[1;36m0\u001b[0m                Well child visit \u001b[1m(\u001b[0mprocedure\u001b[1m)\u001b[0m               \u001b[1;36m133.36\u001b[0m   \n",
       "\u001b[1;36m1\u001b[0m                Well child visit \u001b[1m(\u001b[0mprocedure\u001b[1m)\u001b[0m               \u001b[1;36m133.36\u001b[0m   \n",
       "\u001b[1;36m2\u001b[0m  General examination of patient \u001b[1m(\u001b[0mprocedure\u001b[1m)\u001b[0m               \u001b[1;36m133.36\u001b[0m   \n",
       "\u001b[1;36m3\u001b[0m  General examination of patient \u001b[1m(\u001b[0mprocedure\u001b[1m)\u001b[0m               \u001b[1;36m133.36\u001b[0m   \n",
       "\u001b[1;36m4\u001b[0m  General examination of patient \u001b[1m(\u001b[0mprocedure\u001b[1m)\u001b[0m               \u001b[1;36m133.36\u001b[0m   \n",
       "\n",
       "   TOTAL_CLAIM_COST  PAYER_COVERAGE  REASONCODE REASONDESCRIPTION  \n",
       "\u001b[1;36m0\u001b[0m            \u001b[1;36m405.36\u001b[0m             \u001b[1;36m0.0\u001b[0m         NaN              \u001b[3;35mNone\u001b[0m  \n",
       "\u001b[1;36m1\u001b[0m            \u001b[1;36m269.36\u001b[0m             \u001b[1;36m0.0\u001b[0m         NaN              \u001b[3;35mNone\u001b[0m  \n",
       "\u001b[1;36m2\u001b[0m            \u001b[1;36m269.36\u001b[0m             \u001b[1;36m0.0\u001b[0m         NaN              \u001b[3;35mNone\u001b[0m  \n",
       "\u001b[1;36m3\u001b[0m            \u001b[1;36m677.36\u001b[0m             \u001b[1;36m0.0\u001b[0m         NaN              \u001b[3;35mNone\u001b[0m  \n",
       "\u001b[1;36m4\u001b[0m            \u001b[1;36m269.36\u001b[0m             \u001b[1;36m0.0\u001b[0m         NaN              \u001b[3;35mNone\u001b[0m  "
      ]
     },
     "execution_count": 12,
     "metadata": {},
     "output_type": "execute_result"
    }
   ],
   "source": [
    "encounters.head()"
   ]
  },
  {
   "cell_type": "code",
   "execution_count": 13,
   "id": "69d620d3-ff4f-4f51-9d0a-5fb22af57da6",
   "metadata": {},
   "outputs": [
    {
     "data": {
      "text/html": [
       "<pre style=\"white-space:pre;overflow-x:auto;line-height:normal;font-family:Menlo,'DejaVu Sans Mono',consolas,'Courier New',monospace\"></pre>\n"
      ],
      "text/plain": []
     },
     "metadata": {},
     "output_type": "display_data"
    },
    {
     "data": {
      "text/html": [
       "<div>\n",
       "<style scoped>\n",
       "    .dataframe tbody tr th:only-of-type {\n",
       "        vertical-align: middle;\n",
       "    }\n",
       "\n",
       "    .dataframe tbody tr th {\n",
       "        vertical-align: top;\n",
       "    }\n",
       "\n",
       "    .dataframe thead th {\n",
       "        text-align: right;\n",
       "    }\n",
       "</style>\n",
       "<table border=\"1\" class=\"dataframe\">\n",
       "  <thead>\n",
       "    <tr style=\"text-align: right;\">\n",
       "      <th></th>\n",
       "      <th>Id</th>\n",
       "      <th>START</th>\n",
       "      <th>STOP</th>\n",
       "      <th>PATIENT</th>\n",
       "      <th>ORGANIZATION</th>\n",
       "      <th>PROVIDER</th>\n",
       "      <th>PAYER</th>\n",
       "      <th>ENCOUNTERCLASS</th>\n",
       "      <th>CODE</th>\n",
       "      <th>DESCRIPTION</th>\n",
       "      <th>BASE_ENCOUNTER_COST</th>\n",
       "      <th>TOTAL_CLAIM_COST</th>\n",
       "      <th>PAYER_COVERAGE</th>\n",
       "      <th>REASONCODE</th>\n",
       "      <th>REASONDESCRIPTION</th>\n",
       "    </tr>\n",
       "  </thead>\n",
       "  <tbody>\n",
       "  </tbody>\n",
       "</table>\n",
       "</div>"
      ],
      "text/plain": [
       "\n",
       "Empty DataFrame\n",
       "Columns: \u001b[1m[\u001b[0mId, START, STOP, PATIENT, ORGANIZATION, PROVIDER, PAYER, ENCOUNTERCLASS, CODE, DESCRIPTION, BASE_ENCOUNTER_COST, TOTAL_CLAIM_COST, PAYER_COVERAGE, REASONCODE, REASONDESCRIPTION\u001b[1m]\u001b[0m\n",
       "Index: \u001b[1m[\u001b[0m\u001b[1m]\u001b[0m"
      ]
     },
     "execution_count": 13,
     "metadata": {},
     "output_type": "execute_result"
    }
   ],
   "source": [
    "encounters[encounters['PATIENT']==\"92675303-ca5b-136a-169b-e764c5753f06\"]"
   ]
  },
  {
   "cell_type": "code",
   "execution_count": 14,
   "id": "6995ec68-6a73-46b5-a9dc-113a31992263",
   "metadata": {},
   "outputs": [
    {
     "data": {
      "text/html": [
       "<pre style=\"white-space:pre;overflow-x:auto;line-height:normal;font-family:Menlo,'DejaVu Sans Mono',consolas,'Courier New',monospace\"></pre>\n"
      ],
      "text/plain": []
     },
     "metadata": {},
     "output_type": "display_data"
    },
    {
     "data": {
      "text/html": [
       "<div>\n",
       "<style scoped>\n",
       "    .dataframe tbody tr th:only-of-type {\n",
       "        vertical-align: middle;\n",
       "    }\n",
       "\n",
       "    .dataframe tbody tr th {\n",
       "        vertical-align: top;\n",
       "    }\n",
       "\n",
       "    .dataframe thead th {\n",
       "        text-align: right;\n",
       "    }\n",
       "</style>\n",
       "<table border=\"1\" class=\"dataframe\">\n",
       "  <thead>\n",
       "    <tr style=\"text-align: right;\">\n",
       "      <th></th>\n",
       "      <th>PATIENT_ID</th>\n",
       "      <th>BIRTHDATE</th>\n",
       "      <th>DEATHDATE</th>\n",
       "      <th>SSN</th>\n",
       "      <th>DRIVERS</th>\n",
       "      <th>PASSPORT</th>\n",
       "      <th>PREFIX</th>\n",
       "      <th>FIRST</th>\n",
       "      <th>LAST</th>\n",
       "      <th>SUFFIX</th>\n",
       "      <th>...</th>\n",
       "      <th>CITY</th>\n",
       "      <th>STATE</th>\n",
       "      <th>COUNTY</th>\n",
       "      <th>FIPS</th>\n",
       "      <th>ZIP</th>\n",
       "      <th>LAT</th>\n",
       "      <th>LON</th>\n",
       "      <th>HEALTHCARE_EXPENSES</th>\n",
       "      <th>HEALTHCARE_COVERAGE</th>\n",
       "      <th>INCOME</th>\n",
       "    </tr>\n",
       "  </thead>\n",
       "  <tbody>\n",
       "  </tbody>\n",
       "</table>\n",
       "<p>0 rows × 27 columns</p>\n",
       "</div>"
      ],
      "text/plain": [
       "\n",
       "Empty DataFrame\n",
       "Columns: \u001b[1m[\u001b[0mPATIENT_ID, BIRTHDATE, DEATHDATE, SSN, DRIVERS, PASSPORT, PREFIX, FIRST, LAST, SUFFIX, MAIDEN, MARITAL, RACE, ETHNICITY, GENDER, BIRTHPLACE, ADDRESS, CITY, STATE, COUNTY, FIPS, ZIP, LAT, LON, HEALTHCARE_EXPENSES, HEALTHCARE_COVERAGE, INCOME\u001b[1m]\u001b[0m\n",
       "Index: \u001b[1m[\u001b[0m\u001b[1m]\u001b[0m\n",
       "\n",
       "\u001b[1m[\u001b[0m\u001b[1;36m0\u001b[0m rows x \u001b[1;36m27\u001b[0m columns\u001b[1m]\u001b[0m"
      ]
     },
     "execution_count": 14,
     "metadata": {},
     "output_type": "execute_result"
    }
   ],
   "source": [
    "patients[patients['PATIENT_ID']==\"92675303-CA5B-136A-169B-E764C5753F06\"]"
   ]
  },
  {
   "cell_type": "code",
   "execution_count": 15,
   "id": "f732c88a-5be3-479b-add1-85845a60365c",
   "metadata": {},
   "outputs": [
    {
     "data": {
      "text/html": [
       "<pre style=\"white-space:pre;overflow-x:auto;line-height:normal;font-family:Menlo,'DejaVu Sans Mono',consolas,'Courier New',monospace\"></pre>\n"
      ],
      "text/plain": []
     },
     "metadata": {},
     "output_type": "display_data"
    },
    {
     "data": {
      "text/html": [
       "<div>\n",
       "<style scoped>\n",
       "    .dataframe tbody tr th:only-of-type {\n",
       "        vertical-align: middle;\n",
       "    }\n",
       "\n",
       "    .dataframe tbody tr th {\n",
       "        vertical-align: top;\n",
       "    }\n",
       "\n",
       "    .dataframe thead th {\n",
       "        text-align: right;\n",
       "    }\n",
       "</style>\n",
       "<table border=\"1\" class=\"dataframe\">\n",
       "  <thead>\n",
       "    <tr style=\"text-align: right;\">\n",
       "      <th></th>\n",
       "      <th>PATIENT_ID</th>\n",
       "      <th>BIRTHDATE</th>\n",
       "      <th>DEATHDATE</th>\n",
       "      <th>SSN</th>\n",
       "      <th>DRIVERS</th>\n",
       "      <th>PASSPORT</th>\n",
       "      <th>PREFIX</th>\n",
       "      <th>FIRST</th>\n",
       "      <th>LAST</th>\n",
       "      <th>SUFFIX</th>\n",
       "      <th>...</th>\n",
       "      <th>CITY</th>\n",
       "      <th>STATE</th>\n",
       "      <th>COUNTY</th>\n",
       "      <th>FIPS</th>\n",
       "      <th>ZIP</th>\n",
       "      <th>LAT</th>\n",
       "      <th>LON</th>\n",
       "      <th>HEALTHCARE_EXPENSES</th>\n",
       "      <th>HEALTHCARE_COVERAGE</th>\n",
       "      <th>INCOME</th>\n",
       "    </tr>\n",
       "  </thead>\n",
       "  <tbody>\n",
       "  </tbody>\n",
       "</table>\n",
       "<p>0 rows × 27 columns</p>\n",
       "</div>"
      ],
      "text/plain": [
       "\n",
       "Empty DataFrame\n",
       "Columns: \u001b[1m[\u001b[0mPATIENT_ID, BIRTHDATE, DEATHDATE, SSN, DRIVERS, PASSPORT, PREFIX, FIRST, LAST, SUFFIX, MAIDEN, MARITAL, RACE, ETHNICITY, GENDER, BIRTHPLACE, ADDRESS, CITY, STATE, COUNTY, FIPS, ZIP, LAT, LON, HEALTHCARE_EXPENSES, HEALTHCARE_COVERAGE, INCOME\u001b[1m]\u001b[0m\n",
       "Index: \u001b[1m[\u001b[0m\u001b[1m]\u001b[0m\n",
       "\n",
       "\u001b[1m[\u001b[0m\u001b[1;36m0\u001b[0m rows x \u001b[1;36m27\u001b[0m columns\u001b[1m]\u001b[0m"
      ]
     },
     "execution_count": 15,
     "metadata": {},
     "output_type": "execute_result"
    }
   ],
   "source": [
    "patients[patients['PATIENT_ID'].isin(encounters['PATIENT'])]"
   ]
  },
  {
   "cell_type": "code",
   "execution_count": 16,
   "id": "5d2b9c1c-edb9-4a58-9a3e-c45b75879299",
   "metadata": {},
   "outputs": [
    {
     "data": {
      "text/html": [
       "<pre style=\"white-space:pre;overflow-x:auto;line-height:normal;font-family:Menlo,'DejaVu Sans Mono',consolas,'Courier New',monospace\"></pre>\n"
      ],
      "text/plain": []
     },
     "metadata": {},
     "output_type": "display_data"
    },
    {
     "data": {
      "text/html": [
       "<div>\n",
       "<style scoped>\n",
       "    .dataframe tbody tr th:only-of-type {\n",
       "        vertical-align: middle;\n",
       "    }\n",
       "\n",
       "    .dataframe tbody tr th {\n",
       "        vertical-align: top;\n",
       "    }\n",
       "\n",
       "    .dataframe thead th {\n",
       "        text-align: right;\n",
       "    }\n",
       "</style>\n",
       "<table border=\"1\" class=\"dataframe\">\n",
       "  <thead>\n",
       "    <tr style=\"text-align: right;\">\n",
       "      <th></th>\n",
       "      <th>Id</th>\n",
       "      <th>START</th>\n",
       "      <th>STOP</th>\n",
       "      <th>PATIENT</th>\n",
       "      <th>ORGANIZATION</th>\n",
       "      <th>PROVIDER</th>\n",
       "      <th>PAYER</th>\n",
       "      <th>ENCOUNTERCLASS</th>\n",
       "      <th>CODE</th>\n",
       "      <th>DESCRIPTION</th>\n",
       "      <th>BASE_ENCOUNTER_COST</th>\n",
       "      <th>TOTAL_CLAIM_COST</th>\n",
       "      <th>PAYER_COVERAGE</th>\n",
       "      <th>REASONCODE</th>\n",
       "      <th>REASONDESCRIPTION</th>\n",
       "    </tr>\n",
       "  </thead>\n",
       "  <tbody>\n",
       "  </tbody>\n",
       "</table>\n",
       "</div>"
      ],
      "text/plain": [
       "\n",
       "Empty DataFrame\n",
       "Columns: \u001b[1m[\u001b[0mId, START, STOP, PATIENT, ORGANIZATION, PROVIDER, PAYER, ENCOUNTERCLASS, CODE, DESCRIPTION, BASE_ENCOUNTER_COST, TOTAL_CLAIM_COST, PAYER_COVERAGE, REASONCODE, REASONDESCRIPTION\u001b[1m]\u001b[0m\n",
       "Index: \u001b[1m[\u001b[0m\u001b[1m]\u001b[0m"
      ]
     },
     "execution_count": 16,
     "metadata": {},
     "output_type": "execute_result"
    }
   ],
   "source": [
    "encounters[encounters['PATIENT'].isin(patients['PATIENT_ID'])]"
   ]
  },
  {
   "cell_type": "code",
   "execution_count": 17,
   "id": "9c8ecf95-1d2b-4fb8-893e-be0c8ecaf542",
   "metadata": {},
   "outputs": [
    {
     "data": {
      "text/html": [
       "<pre style=\"white-space:pre;overflow-x:auto;line-height:normal;font-family:Menlo,'DejaVu Sans Mono',consolas,'Courier New',monospace\"></pre>\n"
      ],
      "text/plain": []
     },
     "metadata": {},
     "output_type": "display_data"
    },
    {
     "data": {
      "text/html": [
       "<div>\n",
       "<style scoped>\n",
       "    .dataframe tbody tr th:only-of-type {\n",
       "        vertical-align: middle;\n",
       "    }\n",
       "\n",
       "    .dataframe tbody tr th {\n",
       "        vertical-align: top;\n",
       "    }\n",
       "\n",
       "    .dataframe thead th {\n",
       "        text-align: right;\n",
       "    }\n",
       "</style>\n",
       "<table border=\"1\" class=\"dataframe\">\n",
       "  <thead>\n",
       "    <tr style=\"text-align: right;\">\n",
       "      <th></th>\n",
       "      <th>PATIENT_ID</th>\n",
       "      <th>BIRTHDATE</th>\n",
       "      <th>DEATHDATE</th>\n",
       "      <th>SSN</th>\n",
       "      <th>DRIVERS</th>\n",
       "      <th>PASSPORT</th>\n",
       "      <th>PREFIX</th>\n",
       "      <th>FIRST</th>\n",
       "      <th>LAST</th>\n",
       "      <th>SUFFIX</th>\n",
       "      <th>...</th>\n",
       "      <th>CITY</th>\n",
       "      <th>STATE</th>\n",
       "      <th>COUNTY</th>\n",
       "      <th>FIPS</th>\n",
       "      <th>ZIP</th>\n",
       "      <th>LAT</th>\n",
       "      <th>LON</th>\n",
       "      <th>HEALTHCARE_EXPENSES</th>\n",
       "      <th>HEALTHCARE_COVERAGE</th>\n",
       "      <th>INCOME</th>\n",
       "    </tr>\n",
       "  </thead>\n",
       "  <tbody>\n",
       "  </tbody>\n",
       "</table>\n",
       "<p>0 rows × 27 columns</p>\n",
       "</div>"
      ],
      "text/plain": [
       "\n",
       "Empty DataFrame\n",
       "Columns: \u001b[1m[\u001b[0mPATIENT_ID, BIRTHDATE, DEATHDATE, SSN, DRIVERS, PASSPORT, PREFIX, FIRST, LAST, SUFFIX, MAIDEN, MARITAL, RACE, ETHNICITY, GENDER, BIRTHPLACE, ADDRESS, CITY, STATE, COUNTY, FIPS, ZIP, LAT, LON, HEALTHCARE_EXPENSES, HEALTHCARE_COVERAGE, INCOME\u001b[1m]\u001b[0m\n",
       "Index: \u001b[1m[\u001b[0m\u001b[1m]\u001b[0m\n",
       "\n",
       "\u001b[1m[\u001b[0m\u001b[1;36m0\u001b[0m rows x \u001b[1;36m27\u001b[0m columns\u001b[1m]\u001b[0m"
      ]
     },
     "execution_count": 17,
     "metadata": {},
     "output_type": "execute_result"
    }
   ],
   "source": [
    "patients[patients['PATIENT_ID'].isin(conditions['PATIENT'])]"
   ]
  },
  {
   "cell_type": "code",
   "execution_count": 18,
   "id": "aeb62dff-3392-4599-871c-3fd09d69469f",
   "metadata": {},
   "outputs": [
    {
     "data": {
      "text/html": [
       "<pre style=\"white-space:pre;overflow-x:auto;line-height:normal;font-family:Menlo,'DejaVu Sans Mono',consolas,'Courier New',monospace\"></pre>\n"
      ],
      "text/plain": []
     },
     "metadata": {},
     "output_type": "display_data"
    },
    {
     "data": {
      "text/html": [
       "<div>\n",
       "<style scoped>\n",
       "    .dataframe tbody tr th:only-of-type {\n",
       "        vertical-align: middle;\n",
       "    }\n",
       "\n",
       "    .dataframe tbody tr th {\n",
       "        vertical-align: top;\n",
       "    }\n",
       "\n",
       "    .dataframe thead th {\n",
       "        text-align: right;\n",
       "    }\n",
       "</style>\n",
       "<table border=\"1\" class=\"dataframe\">\n",
       "  <thead>\n",
       "    <tr style=\"text-align: right;\">\n",
       "      <th></th>\n",
       "      <th>PATIENT_ID</th>\n",
       "      <th>BIRTHDATE</th>\n",
       "      <th>DEATHDATE</th>\n",
       "      <th>SSN</th>\n",
       "      <th>DRIVERS</th>\n",
       "      <th>PASSPORT</th>\n",
       "      <th>PREFIX</th>\n",
       "      <th>FIRST</th>\n",
       "      <th>LAST</th>\n",
       "      <th>SUFFIX</th>\n",
       "      <th>...</th>\n",
       "      <th>CITY</th>\n",
       "      <th>STATE</th>\n",
       "      <th>COUNTY</th>\n",
       "      <th>FIPS</th>\n",
       "      <th>ZIP</th>\n",
       "      <th>LAT</th>\n",
       "      <th>LON</th>\n",
       "      <th>HEALTHCARE_EXPENSES</th>\n",
       "      <th>HEALTHCARE_COVERAGE</th>\n",
       "      <th>INCOME</th>\n",
       "    </tr>\n",
       "  </thead>\n",
       "  <tbody>\n",
       "    <tr>\n",
       "      <th>4</th>\n",
       "      <td>28d7b56c-6056-d0a2-2991-39d6e917216c</td>\n",
       "      <td>1993-11-13</td>\n",
       "      <td>NaN</td>\n",
       "      <td>999-31-6091</td>\n",
       "      <td>S99958903</td>\n",
       "      <td>X63033472X</td>\n",
       "      <td>Mrs.</td>\n",
       "      <td>Angela104</td>\n",
       "      <td>Stanton715</td>\n",
       "      <td>NaN</td>\n",
       "      <td>...</td>\n",
       "      <td>Levelland</td>\n",
       "      <td>Texas</td>\n",
       "      <td>Hockley County</td>\n",
       "      <td>48219.0</td>\n",
       "      <td>79336</td>\n",
       "      <td>0.337037</td>\n",
       "      <td>-102.361829</td>\n",
       "      <td>12449.11</td>\n",
       "      <td>0.00</td>\n",
       "      <td>67198</td>\n",
       "    </tr>\n",
       "    <tr>\n",
       "      <th>9</th>\n",
       "      <td>239ae86a-96db-6211-9042-d3f2850aabb8</td>\n",
       "      <td>1969-05-26</td>\n",
       "      <td>NaN</td>\n",
       "      <td>999-74-7366</td>\n",
       "      <td>S99980857</td>\n",
       "      <td>X88473183X</td>\n",
       "      <td>Mr.</td>\n",
       "      <td>Darrell400</td>\n",
       "      <td>Muller251</td>\n",
       "      <td>NaN</td>\n",
       "      <td>...</td>\n",
       "      <td>San Antonio</td>\n",
       "      <td>Texas</td>\n",
       "      <td>Bexar County</td>\n",
       "      <td>48029.0</td>\n",
       "      <td>78260</td>\n",
       "      <td>0.295071</td>\n",
       "      <td>-98.720826</td>\n",
       "      <td>14497.75</td>\n",
       "      <td>3714.72</td>\n",
       "      <td>3928</td>\n",
       "    </tr>\n",
       "    <tr>\n",
       "      <th>11</th>\n",
       "      <td>6c434506-fb4b-3e3f-c19d-553dec3b6c17</td>\n",
       "      <td>1959-08-02</td>\n",
       "      <td>NaN</td>\n",
       "      <td>999-44-3322</td>\n",
       "      <td>S99985936</td>\n",
       "      <td>X7405738X</td>\n",
       "      <td>Mrs.</td>\n",
       "      <td>Claudia969</td>\n",
       "      <td>Gracia333</td>\n",
       "      <td>NaN</td>\n",
       "      <td>...</td>\n",
       "      <td>Dallas</td>\n",
       "      <td>Texas</td>\n",
       "      <td>Dallas County</td>\n",
       "      <td>48113.0</td>\n",
       "      <td>75052</td>\n",
       "      <td>0.328933</td>\n",
       "      <td>-96.991787</td>\n",
       "      <td>12819.78</td>\n",
       "      <td>3442.72</td>\n",
       "      <td>5779</td>\n",
       "    </tr>\n",
       "    <tr>\n",
       "      <th>12</th>\n",
       "      <td>6872def5-772f-427c-3053-de6e1c71ce0a</td>\n",
       "      <td>1959-01-07</td>\n",
       "      <td>NaN</td>\n",
       "      <td>999-96-6821</td>\n",
       "      <td>S99953992</td>\n",
       "      <td>X30944505X</td>\n",
       "      <td>Mr.</td>\n",
       "      <td>Alfred550</td>\n",
       "      <td>West559</td>\n",
       "      <td>NaN</td>\n",
       "      <td>...</td>\n",
       "      <td>Flower Mound</td>\n",
       "      <td>Texas</td>\n",
       "      <td>Denton County</td>\n",
       "      <td>48121.0</td>\n",
       "      <td>75077</td>\n",
       "      <td>0.330731</td>\n",
       "      <td>-97.106502</td>\n",
       "      <td>21161.93</td>\n",
       "      <td>0.00</td>\n",
       "      <td>363895</td>\n",
       "    </tr>\n",
       "    <tr>\n",
       "      <th>15</th>\n",
       "      <td>d92132ce-06ac-3ab4-217f-97257a290b22</td>\n",
       "      <td>1965-09-14</td>\n",
       "      <td>NaN</td>\n",
       "      <td>999-65-7810</td>\n",
       "      <td>S99931471</td>\n",
       "      <td>X65294064X</td>\n",
       "      <td>Mrs.</td>\n",
       "      <td>Dannette613</td>\n",
       "      <td>Stroman228</td>\n",
       "      <td>NaN</td>\n",
       "      <td>...</td>\n",
       "      <td>Post</td>\n",
       "      <td>Texas</td>\n",
       "      <td>Garza County</td>\n",
       "      <td>48169.0</td>\n",
       "      <td>79356</td>\n",
       "      <td>0.333183</td>\n",
       "      <td>-101.294374</td>\n",
       "      <td>19010.57</td>\n",
       "      <td>0.00</td>\n",
       "      <td>70833</td>\n",
       "    </tr>\n",
       "    <tr>\n",
       "      <th>...</th>\n",
       "      <td>...</td>\n",
       "      <td>...</td>\n",
       "      <td>...</td>\n",
       "      <td>...</td>\n",
       "      <td>...</td>\n",
       "      <td>...</td>\n",
       "      <td>...</td>\n",
       "      <td>...</td>\n",
       "      <td>...</td>\n",
       "      <td>...</td>\n",
       "      <td>...</td>\n",
       "      <td>...</td>\n",
       "      <td>...</td>\n",
       "      <td>...</td>\n",
       "      <td>...</td>\n",
       "      <td>...</td>\n",
       "      <td>...</td>\n",
       "      <td>...</td>\n",
       "      <td>...</td>\n",
       "      <td>...</td>\n",
       "      <td>...</td>\n",
       "    </tr>\n",
       "    <tr>\n",
       "      <th>9978</th>\n",
       "      <td>ae46ea17-eb0a-6159-14dd-9d9fa7956be4</td>\n",
       "      <td>1961-02-20</td>\n",
       "      <td>NaN</td>\n",
       "      <td>999-33-2006</td>\n",
       "      <td>S99986497</td>\n",
       "      <td>X17725663X</td>\n",
       "      <td>Ms.</td>\n",
       "      <td>Jettie913</td>\n",
       "      <td>Hilpert278</td>\n",
       "      <td>NaN</td>\n",
       "      <td>...</td>\n",
       "      <td>Brownsville</td>\n",
       "      <td>Texas</td>\n",
       "      <td>Cameron County</td>\n",
       "      <td>48061.0</td>\n",
       "      <td>78583</td>\n",
       "      <td>0.259860</td>\n",
       "      <td>-97.356251</td>\n",
       "      <td>15531.76</td>\n",
       "      <td>0.00</td>\n",
       "      <td>43273</td>\n",
       "    </tr>\n",
       "    <tr>\n",
       "      <th>9980</th>\n",
       "      <td>1919f8be-c547-6682-cb20-84bcae0259b3</td>\n",
       "      <td>1955-09-13</td>\n",
       "      <td>NaN</td>\n",
       "      <td>999-91-3934</td>\n",
       "      <td>S99991137</td>\n",
       "      <td>X75766822X</td>\n",
       "      <td>Mrs.</td>\n",
       "      <td>Mayte822</td>\n",
       "      <td>Pichardo350</td>\n",
       "      <td>NaN</td>\n",
       "      <td>...</td>\n",
       "      <td>Houston</td>\n",
       "      <td>Texas</td>\n",
       "      <td>Harris County</td>\n",
       "      <td>48201.0</td>\n",
       "      <td>77346</td>\n",
       "      <td>0.299623</td>\n",
       "      <td>-95.420820</td>\n",
       "      <td>16353.72</td>\n",
       "      <td>4967.14</td>\n",
       "      <td>19187</td>\n",
       "    </tr>\n",
       "    <tr>\n",
       "      <th>9987</th>\n",
       "      <td>8b509749-aaab-30b8-9a67-e8620eec19f0</td>\n",
       "      <td>1976-06-07</td>\n",
       "      <td>NaN</td>\n",
       "      <td>999-75-6593</td>\n",
       "      <td>S99974522</td>\n",
       "      <td>X73182518X</td>\n",
       "      <td>Mr.</td>\n",
       "      <td>Jesús825</td>\n",
       "      <td>Riojas420</td>\n",
       "      <td>NaN</td>\n",
       "      <td>...</td>\n",
       "      <td>Grapevine</td>\n",
       "      <td>Texas</td>\n",
       "      <td>Tarrant County</td>\n",
       "      <td>48121.0</td>\n",
       "      <td>75022</td>\n",
       "      <td>0.329460</td>\n",
       "      <td>-97.181018</td>\n",
       "      <td>12820.53</td>\n",
       "      <td>2016.20</td>\n",
       "      <td>27681</td>\n",
       "    </tr>\n",
       "    <tr>\n",
       "      <th>9996</th>\n",
       "      <td>34f0ea6d-5e68-4572-4f02-70abf4de4076</td>\n",
       "      <td>1963-12-17</td>\n",
       "      <td>NaN</td>\n",
       "      <td>999-15-2894</td>\n",
       "      <td>S99980164</td>\n",
       "      <td>X53365291X</td>\n",
       "      <td>Mr.</td>\n",
       "      <td>Bo157</td>\n",
       "      <td>Jaskolski867</td>\n",
       "      <td>NaN</td>\n",
       "      <td>...</td>\n",
       "      <td>Cinco Ranch</td>\n",
       "      <td>Texas</td>\n",
       "      <td>Fort Bend County</td>\n",
       "      <td>NaN</td>\n",
       "      <td>0</td>\n",
       "      <td>0.297249</td>\n",
       "      <td>-95.772813</td>\n",
       "      <td>18605.74</td>\n",
       "      <td>0.00</td>\n",
       "      <td>183359</td>\n",
       "    </tr>\n",
       "    <tr>\n",
       "      <th>9999</th>\n",
       "      <td>8d116ace-7fb6-7d5f-b86b-94547cbd796d</td>\n",
       "      <td>1968-03-07</td>\n",
       "      <td>NaN</td>\n",
       "      <td>999-22-1771</td>\n",
       "      <td>S99910062</td>\n",
       "      <td>X65201727X</td>\n",
       "      <td>Mr.</td>\n",
       "      <td>Andrew29</td>\n",
       "      <td>Pfannerstill264</td>\n",
       "      <td>NaN</td>\n",
       "      <td>...</td>\n",
       "      <td>Austin</td>\n",
       "      <td>Texas</td>\n",
       "      <td>Williamson County</td>\n",
       "      <td>48453.0</td>\n",
       "      <td>78736</td>\n",
       "      <td>0.302975</td>\n",
       "      <td>-97.763314</td>\n",
       "      <td>19529.91</td>\n",
       "      <td>0.00</td>\n",
       "      <td>36223</td>\n",
       "    </tr>\n",
       "  </tbody>\n",
       "</table>\n",
       "<p>2784 rows × 27 columns</p>\n",
       "</div>"
      ],
      "text/plain": [
       "\n",
       "                                PATIENT_ID   BIRTHDATE  DEATHDATE  \\\n",
       "\u001b[1;36m4\u001b[0m     \u001b[93m28d7b56c-6056-d0a2-2991-39d6e917216c\u001b[0m  \u001b[1;36m1993\u001b[0m-\u001b[1;36m11\u001b[0m-\u001b[1;36m13\u001b[0m        NaN   \n",
       "\u001b[1;36m9\u001b[0m     \u001b[93m239ae86a-96db-6211-9042-d3f2850aabb8\u001b[0m  \u001b[1;36m1969\u001b[0m-\u001b[1;36m05\u001b[0m-\u001b[1;36m26\u001b[0m        NaN   \n",
       "\u001b[1;36m11\u001b[0m    \u001b[93m6c434506-fb4b-3e3f-c19d-553dec3b6c17\u001b[0m  \u001b[1;36m1959\u001b[0m-\u001b[1;36m08\u001b[0m-\u001b[1;36m02\u001b[0m        NaN   \n",
       "\u001b[1;36m12\u001b[0m    \u001b[93m6872def5-772f-427c-3053-de6e1c71ce0a\u001b[0m  \u001b[1;36m1959\u001b[0m-\u001b[1;36m01\u001b[0m-\u001b[1;36m07\u001b[0m        NaN   \n",
       "\u001b[1;36m15\u001b[0m    \u001b[93md92132ce-06ac-3ab4-217f-97257a290b22\u001b[0m  \u001b[1;36m1965\u001b[0m-\u001b[1;36m09\u001b[0m-\u001b[1;36m14\u001b[0m        NaN   \n",
       "\u001b[33m...\u001b[0m                                    \u001b[33m...\u001b[0m         \u001b[33m...\u001b[0m        \u001b[33m...\u001b[0m   \n",
       "\u001b[1;36m9978\u001b[0m  \u001b[93mae46ea17-eb0a-6159-14dd-9d9fa7956be4\u001b[0m  \u001b[1;36m1961\u001b[0m-\u001b[1;36m02\u001b[0m-\u001b[1;36m20\u001b[0m        NaN   \n",
       "\u001b[1;36m9980\u001b[0m  \u001b[93m1919f8be-c547-6682-cb20-84bcae0259b3\u001b[0m  \u001b[1;36m1955\u001b[0m-\u001b[1;36m09\u001b[0m-\u001b[1;36m13\u001b[0m        NaN   \n",
       "\u001b[1;36m9987\u001b[0m  \u001b[93m8b509749-aaab-30b8-9a67-e8620eec19f0\u001b[0m  \u001b[1;36m1976\u001b[0m-\u001b[1;36m06\u001b[0m-\u001b[1;36m07\u001b[0m        NaN   \n",
       "\u001b[1;36m9996\u001b[0m  \u001b[93m34f0ea6d-5e68-4572-4f02-70abf4de4076\u001b[0m  \u001b[1;36m1963\u001b[0m-\u001b[1;36m12\u001b[0m-\u001b[1;36m17\u001b[0m        NaN   \n",
       "\u001b[1;36m9999\u001b[0m  \u001b[93m8d116ace-7fb6-7d5f-b86b-94547cbd796d\u001b[0m  \u001b[1;36m1968\u001b[0m-\u001b[1;36m03\u001b[0m-\u001b[1;36m07\u001b[0m        NaN   \n",
       "\n",
       "              SSN    DRIVERS    PASSPORT PREFIX        FIRST             LAST  \\\n",
       "\u001b[1;36m4\u001b[0m     \u001b[1;36m999\u001b[0m-\u001b[1;36m31\u001b[0m-\u001b[1;36m6091\u001b[0m  S99958903  X63033472X   Mrs.    Angela104       Stanton715   \n",
       "\u001b[1;36m9\u001b[0m     \u001b[1;36m999\u001b[0m-\u001b[1;36m74\u001b[0m-\u001b[1;36m7366\u001b[0m  S99980857  X88473183X    Mr.   Darrell400        Muller251   \n",
       "\u001b[1;36m11\u001b[0m    \u001b[1;36m999\u001b[0m-\u001b[1;36m44\u001b[0m-\u001b[1;36m3322\u001b[0m  S99985936   X7405738X   Mrs.   Claudia969        Gracia333   \n",
       "\u001b[1;36m12\u001b[0m    \u001b[1;36m999\u001b[0m-\u001b[1;36m96\u001b[0m-\u001b[1;36m6821\u001b[0m  S99953992  X30944505X    Mr.    Alfred550          West559   \n",
       "\u001b[1;36m15\u001b[0m    \u001b[1;36m999\u001b[0m-\u001b[1;36m65\u001b[0m-\u001b[1;36m7810\u001b[0m  S99931471  X65294064X   Mrs.  Dannette613       Stroman228   \n",
       "\u001b[33m...\u001b[0m           \u001b[33m...\u001b[0m        \u001b[33m...\u001b[0m         \u001b[33m...\u001b[0m    \u001b[33m...\u001b[0m          \u001b[33m...\u001b[0m              \u001b[33m...\u001b[0m   \n",
       "\u001b[1;36m9978\u001b[0m  \u001b[1;36m999\u001b[0m-\u001b[1;36m33\u001b[0m-\u001b[1;36m2006\u001b[0m  S99986497  X17725663X    Ms.    Jettie913       Hilpert278   \n",
       "\u001b[1;36m9980\u001b[0m  \u001b[1;36m999\u001b[0m-\u001b[1;36m91\u001b[0m-\u001b[1;36m3934\u001b[0m  S99991137  X75766822X   Mrs.     Mayte822      Pichardo350   \n",
       "\u001b[1;36m9987\u001b[0m  \u001b[1;36m999\u001b[0m-\u001b[1;36m75\u001b[0m-\u001b[1;36m6593\u001b[0m  S99974522  X73182518X    Mr.     Jesús825        Riojas420   \n",
       "\u001b[1;36m9996\u001b[0m  \u001b[1;36m999\u001b[0m-\u001b[1;36m15\u001b[0m-\u001b[1;36m2894\u001b[0m  S99980164  X53365291X    Mr.        Bo157     Jaskolski867   \n",
       "\u001b[1;36m9999\u001b[0m  \u001b[1;36m999\u001b[0m-\u001b[1;36m22\u001b[0m-\u001b[1;36m1771\u001b[0m  S99910062  X65201727X    Mr.     Andrew29  Pfannerstill264   \n",
       "\n",
       "     SUFFIX  \u001b[33m...\u001b[0m          CITY  STATE             COUNTY     FIPS    ZIP  \\\n",
       "\u001b[1;36m4\u001b[0m       NaN  \u001b[33m...\u001b[0m     Levelland  Texas     Hockley County  \u001b[1;36m48219.0\u001b[0m  \u001b[1;36m79336\u001b[0m   \n",
       "\u001b[1;36m9\u001b[0m       NaN  \u001b[33m...\u001b[0m   San Antonio  Texas       Bexar County  \u001b[1;36m48029.0\u001b[0m  \u001b[1;36m78260\u001b[0m   \n",
       "\u001b[1;36m11\u001b[0m      NaN  \u001b[33m...\u001b[0m        Dallas  Texas      Dallas County  \u001b[1;36m48113.0\u001b[0m  \u001b[1;36m75052\u001b[0m   \n",
       "\u001b[1;36m12\u001b[0m      NaN  \u001b[33m...\u001b[0m  Flower Mound  Texas      Denton County  \u001b[1;36m48121.0\u001b[0m  \u001b[1;36m75077\u001b[0m   \n",
       "\u001b[1;36m15\u001b[0m      NaN  \u001b[33m...\u001b[0m          Post  Texas       Garza County  \u001b[1;36m48169.0\u001b[0m  \u001b[1;36m79356\u001b[0m   \n",
       "\u001b[33m...\u001b[0m     \u001b[33m...\u001b[0m  \u001b[33m...\u001b[0m           \u001b[33m...\u001b[0m    \u001b[33m...\u001b[0m                \u001b[33m...\u001b[0m      \u001b[33m...\u001b[0m    \u001b[33m...\u001b[0m   \n",
       "\u001b[1;36m9978\u001b[0m    NaN  \u001b[33m...\u001b[0m   Brownsville  Texas     Cameron County  \u001b[1;36m48061.0\u001b[0m  \u001b[1;36m78583\u001b[0m   \n",
       "\u001b[1;36m9980\u001b[0m    NaN  \u001b[33m...\u001b[0m       Houston  Texas      Harris County  \u001b[1;36m48201.0\u001b[0m  \u001b[1;36m77346\u001b[0m   \n",
       "\u001b[1;36m9987\u001b[0m    NaN  \u001b[33m...\u001b[0m     Grapevine  Texas     Tarrant County  \u001b[1;36m48121.0\u001b[0m  \u001b[1;36m75022\u001b[0m   \n",
       "\u001b[1;36m9996\u001b[0m    NaN  \u001b[33m...\u001b[0m   Cinco Ranch  Texas   Fort Bend County      NaN      \u001b[1;36m0\u001b[0m   \n",
       "\u001b[1;36m9999\u001b[0m    NaN  \u001b[33m...\u001b[0m        Austin  Texas  Williamson County  \u001b[1;36m48453.0\u001b[0m  \u001b[1;36m78736\u001b[0m   \n",
       "\n",
       "           LAT         LON HEALTHCARE_EXPENSES HEALTHCARE_COVERAGE  INCOME  \n",
       "\u001b[1;36m4\u001b[0m     \u001b[1;36m0.337037\u001b[0m \u001b[1;36m-102.361829\u001b[0m            \u001b[1;36m12449.11\u001b[0m                \u001b[1;36m0.00\u001b[0m   \u001b[1;36m67198\u001b[0m  \n",
       "\u001b[1;36m9\u001b[0m     \u001b[1;36m0.295071\u001b[0m  \u001b[1;36m-98.720826\u001b[0m            \u001b[1;36m14497.75\u001b[0m             \u001b[1;36m3714.72\u001b[0m    \u001b[1;36m3928\u001b[0m  \n",
       "\u001b[1;36m11\u001b[0m    \u001b[1;36m0.328933\u001b[0m  \u001b[1;36m-96.991787\u001b[0m            \u001b[1;36m12819.78\u001b[0m             \u001b[1;36m3442.72\u001b[0m    \u001b[1;36m5779\u001b[0m  \n",
       "\u001b[1;36m12\u001b[0m    \u001b[1;36m0.330731\u001b[0m  \u001b[1;36m-97.106502\u001b[0m            \u001b[1;36m21161.93\u001b[0m                \u001b[1;36m0.00\u001b[0m  \u001b[1;36m363895\u001b[0m  \n",
       "\u001b[1;36m15\u001b[0m    \u001b[1;36m0.333183\u001b[0m \u001b[1;36m-101.294374\u001b[0m            \u001b[1;36m19010.57\u001b[0m                \u001b[1;36m0.00\u001b[0m   \u001b[1;36m70833\u001b[0m  \n",
       "\u001b[33m...\u001b[0m        \u001b[33m...\u001b[0m         \u001b[33m...\u001b[0m                 \u001b[33m...\u001b[0m                 \u001b[33m...\u001b[0m     \u001b[33m...\u001b[0m  \n",
       "\u001b[1;36m9978\u001b[0m  \u001b[1;36m0.259860\u001b[0m  \u001b[1;36m-97.356251\u001b[0m            \u001b[1;36m15531.76\u001b[0m                \u001b[1;36m0.00\u001b[0m   \u001b[1;36m43273\u001b[0m  \n",
       "\u001b[1;36m9980\u001b[0m  \u001b[1;36m0.299623\u001b[0m  \u001b[1;36m-95.420820\u001b[0m            \u001b[1;36m16353.72\u001b[0m             \u001b[1;36m4967.14\u001b[0m   \u001b[1;36m19187\u001b[0m  \n",
       "\u001b[1;36m9987\u001b[0m  \u001b[1;36m0.329460\u001b[0m  \u001b[1;36m-97.181018\u001b[0m            \u001b[1;36m12820.53\u001b[0m             \u001b[1;36m2016.20\u001b[0m   \u001b[1;36m27681\u001b[0m  \n",
       "\u001b[1;36m9996\u001b[0m  \u001b[1;36m0.297249\u001b[0m  \u001b[1;36m-95.772813\u001b[0m            \u001b[1;36m18605.74\u001b[0m                \u001b[1;36m0.00\u001b[0m  \u001b[1;36m183359\u001b[0m  \n",
       "\u001b[1;36m9999\u001b[0m  \u001b[1;36m0.302975\u001b[0m  \u001b[1;36m-97.763314\u001b[0m            \u001b[1;36m19529.91\u001b[0m                \u001b[1;36m0.00\u001b[0m   \u001b[1;36m36223\u001b[0m  \n",
       "\n",
       "\u001b[1m[\u001b[0m\u001b[1;36m2784\u001b[0m rows x \u001b[1;36m27\u001b[0m columns\u001b[1m]\u001b[0m"
      ]
     },
     "execution_count": 18,
     "metadata": {},
     "output_type": "execute_result"
    }
   ],
   "source": [
    "patients[patients['PATIENT_ID'].isin(medications['PATIENT'])]"
   ]
  },
  {
   "cell_type": "code",
   "execution_count": 19,
   "id": "afe6d26b-4d25-486e-9641-ab1adea78059",
   "metadata": {},
   "outputs": [
    {
     "data": {
      "text/html": [
       "<pre style=\"white-space:pre;overflow-x:auto;line-height:normal;font-family:Menlo,'DejaVu Sans Mono',consolas,'Courier New',monospace\"></pre>\n"
      ],
      "text/plain": []
     },
     "metadata": {},
     "output_type": "display_data"
    },
    {
     "data": {
      "text/html": [
       "<div>\n",
       "<style scoped>\n",
       "    .dataframe tbody tr th:only-of-type {\n",
       "        vertical-align: middle;\n",
       "    }\n",
       "\n",
       "    .dataframe tbody tr th {\n",
       "        vertical-align: top;\n",
       "    }\n",
       "\n",
       "    .dataframe thead th {\n",
       "        text-align: right;\n",
       "    }\n",
       "</style>\n",
       "<table border=\"1\" class=\"dataframe\">\n",
       "  <thead>\n",
       "    <tr style=\"text-align: right;\">\n",
       "      <th></th>\n",
       "      <th>PATIENT_ID</th>\n",
       "      <th>BIRTHDATE</th>\n",
       "      <th>DEATHDATE</th>\n",
       "      <th>SSN</th>\n",
       "      <th>DRIVERS</th>\n",
       "      <th>PASSPORT</th>\n",
       "      <th>PREFIX</th>\n",
       "      <th>FIRST</th>\n",
       "      <th>LAST</th>\n",
       "      <th>SUFFIX</th>\n",
       "      <th>...</th>\n",
       "      <th>CITY</th>\n",
       "      <th>STATE</th>\n",
       "      <th>COUNTY</th>\n",
       "      <th>FIPS</th>\n",
       "      <th>ZIP</th>\n",
       "      <th>LAT</th>\n",
       "      <th>LON</th>\n",
       "      <th>HEALTHCARE_EXPENSES</th>\n",
       "      <th>HEALTHCARE_COVERAGE</th>\n",
       "      <th>INCOME</th>\n",
       "    </tr>\n",
       "  </thead>\n",
       "  <tbody>\n",
       "    <tr>\n",
       "      <th>4</th>\n",
       "      <td>28d7b56c-6056-d0a2-2991-39d6e917216c</td>\n",
       "      <td>1993-11-13</td>\n",
       "      <td>NaN</td>\n",
       "      <td>999-31-6091</td>\n",
       "      <td>S99958903</td>\n",
       "      <td>X63033472X</td>\n",
       "      <td>Mrs.</td>\n",
       "      <td>Angela104</td>\n",
       "      <td>Stanton715</td>\n",
       "      <td>NaN</td>\n",
       "      <td>...</td>\n",
       "      <td>Levelland</td>\n",
       "      <td>Texas</td>\n",
       "      <td>Hockley County</td>\n",
       "      <td>48219.0</td>\n",
       "      <td>79336</td>\n",
       "      <td>0.337037</td>\n",
       "      <td>-102.361829</td>\n",
       "      <td>12449.11</td>\n",
       "      <td>0.00</td>\n",
       "      <td>67198</td>\n",
       "    </tr>\n",
       "    <tr>\n",
       "      <th>11</th>\n",
       "      <td>6c434506-fb4b-3e3f-c19d-553dec3b6c17</td>\n",
       "      <td>1959-08-02</td>\n",
       "      <td>NaN</td>\n",
       "      <td>999-44-3322</td>\n",
       "      <td>S99985936</td>\n",
       "      <td>X7405738X</td>\n",
       "      <td>Mrs.</td>\n",
       "      <td>Claudia969</td>\n",
       "      <td>Gracia333</td>\n",
       "      <td>NaN</td>\n",
       "      <td>...</td>\n",
       "      <td>Dallas</td>\n",
       "      <td>Texas</td>\n",
       "      <td>Dallas County</td>\n",
       "      <td>48113.0</td>\n",
       "      <td>75052</td>\n",
       "      <td>0.328933</td>\n",
       "      <td>-96.991787</td>\n",
       "      <td>12819.78</td>\n",
       "      <td>3442.72</td>\n",
       "      <td>5779</td>\n",
       "    </tr>\n",
       "    <tr>\n",
       "      <th>17</th>\n",
       "      <td>44a8ca45-6c6e-38bb-fac0-ddbf7a7ee3a4</td>\n",
       "      <td>1971-08-26</td>\n",
       "      <td>NaN</td>\n",
       "      <td>999-51-4389</td>\n",
       "      <td>S99916438</td>\n",
       "      <td>X49044901X</td>\n",
       "      <td>Mr.</td>\n",
       "      <td>Rudolf736</td>\n",
       "      <td>Rohan584</td>\n",
       "      <td>NaN</td>\n",
       "      <td>...</td>\n",
       "      <td>Pantego</td>\n",
       "      <td>Texas</td>\n",
       "      <td>Tarrant County</td>\n",
       "      <td>48439.0</td>\n",
       "      <td>76013</td>\n",
       "      <td>0.326687</td>\n",
       "      <td>-97.106182</td>\n",
       "      <td>12993.45</td>\n",
       "      <td>0.00</td>\n",
       "      <td>47847</td>\n",
       "    </tr>\n",
       "    <tr>\n",
       "      <th>42</th>\n",
       "      <td>780ec78c-22a0-fcdb-17c6-ae9b2fcace9c</td>\n",
       "      <td>1976-12-12</td>\n",
       "      <td>NaN</td>\n",
       "      <td>999-23-8384</td>\n",
       "      <td>S99975300</td>\n",
       "      <td>X39564403X</td>\n",
       "      <td>Mrs.</td>\n",
       "      <td>Juliane376</td>\n",
       "      <td>Barton704</td>\n",
       "      <td>NaN</td>\n",
       "      <td>...</td>\n",
       "      <td>Wolfforth</td>\n",
       "      <td>Texas</td>\n",
       "      <td>Lubbock County</td>\n",
       "      <td>48303.0</td>\n",
       "      <td>79382</td>\n",
       "      <td>0.334746</td>\n",
       "      <td>-101.982682</td>\n",
       "      <td>13483.21</td>\n",
       "      <td>0.00</td>\n",
       "      <td>116672</td>\n",
       "    </tr>\n",
       "    <tr>\n",
       "      <th>63</th>\n",
       "      <td>cf5956bb-34f2-841b-2505-57b99991c377</td>\n",
       "      <td>1990-01-24</td>\n",
       "      <td>NaN</td>\n",
       "      <td>999-36-9799</td>\n",
       "      <td>S99929280</td>\n",
       "      <td>X85067957X</td>\n",
       "      <td>Mrs.</td>\n",
       "      <td>Dagmar148</td>\n",
       "      <td>King743</td>\n",
       "      <td>NaN</td>\n",
       "      <td>...</td>\n",
       "      <td>Cedar Park</td>\n",
       "      <td>Texas</td>\n",
       "      <td>Williamson County</td>\n",
       "      <td>48453.0</td>\n",
       "      <td>78750</td>\n",
       "      <td>0.303922</td>\n",
       "      <td>-97.814552</td>\n",
       "      <td>11630.68</td>\n",
       "      <td>0.00</td>\n",
       "      <td>47402</td>\n",
       "    </tr>\n",
       "    <tr>\n",
       "      <th>...</th>\n",
       "      <td>...</td>\n",
       "      <td>...</td>\n",
       "      <td>...</td>\n",
       "      <td>...</td>\n",
       "      <td>...</td>\n",
       "      <td>...</td>\n",
       "      <td>...</td>\n",
       "      <td>...</td>\n",
       "      <td>...</td>\n",
       "      <td>...</td>\n",
       "      <td>...</td>\n",
       "      <td>...</td>\n",
       "      <td>...</td>\n",
       "      <td>...</td>\n",
       "      <td>...</td>\n",
       "      <td>...</td>\n",
       "      <td>...</td>\n",
       "      <td>...</td>\n",
       "      <td>...</td>\n",
       "      <td>...</td>\n",
       "      <td>...</td>\n",
       "    </tr>\n",
       "    <tr>\n",
       "      <th>9907</th>\n",
       "      <td>9e72a2cb-726b-d466-4d16-170f8f446fc6</td>\n",
       "      <td>1992-09-26</td>\n",
       "      <td>NaN</td>\n",
       "      <td>999-16-3430</td>\n",
       "      <td>S99948714</td>\n",
       "      <td>X63486126X</td>\n",
       "      <td>Mrs.</td>\n",
       "      <td>Jonell764</td>\n",
       "      <td>Kirlin939</td>\n",
       "      <td>NaN</td>\n",
       "      <td>...</td>\n",
       "      <td>Austin</td>\n",
       "      <td>Texas</td>\n",
       "      <td>Travis County</td>\n",
       "      <td>48453.0</td>\n",
       "      <td>78746</td>\n",
       "      <td>0.301803</td>\n",
       "      <td>-97.842313</td>\n",
       "      <td>11807.08</td>\n",
       "      <td>0.00</td>\n",
       "      <td>86069</td>\n",
       "    </tr>\n",
       "    <tr>\n",
       "      <th>9942</th>\n",
       "      <td>110d2862-432d-5b0d-c83c-0096fc84fc64</td>\n",
       "      <td>1982-10-14</td>\n",
       "      <td>NaN</td>\n",
       "      <td>999-19-7236</td>\n",
       "      <td>S99938105</td>\n",
       "      <td>X16294187X</td>\n",
       "      <td>Mrs.</td>\n",
       "      <td>Rona40</td>\n",
       "      <td>Robel940</td>\n",
       "      <td>NaN</td>\n",
       "      <td>...</td>\n",
       "      <td>Lubbock</td>\n",
       "      <td>Texas</td>\n",
       "      <td>Lubbock County</td>\n",
       "      <td>48303.0</td>\n",
       "      <td>79404</td>\n",
       "      <td>0.335326</td>\n",
       "      <td>-101.927881</td>\n",
       "      <td>15168.54</td>\n",
       "      <td>0.00</td>\n",
       "      <td>51546</td>\n",
       "    </tr>\n",
       "    <tr>\n",
       "      <th>9944</th>\n",
       "      <td>b0cf454b-47bb-4654-d06e-ea07d4c868b4</td>\n",
       "      <td>1979-01-25</td>\n",
       "      <td>NaN</td>\n",
       "      <td>999-56-3957</td>\n",
       "      <td>S99940923</td>\n",
       "      <td>X13298960X</td>\n",
       "      <td>Mrs.</td>\n",
       "      <td>Cassey386</td>\n",
       "      <td>Nolan344</td>\n",
       "      <td>NaN</td>\n",
       "      <td>...</td>\n",
       "      <td>Houston</td>\n",
       "      <td>Texas</td>\n",
       "      <td>Harris County</td>\n",
       "      <td>48201.0</td>\n",
       "      <td>77017</td>\n",
       "      <td>0.297903</td>\n",
       "      <td>-95.623320</td>\n",
       "      <td>7565.11</td>\n",
       "      <td>4666.72</td>\n",
       "      <td>18227</td>\n",
       "    </tr>\n",
       "    <tr>\n",
       "      <th>9978</th>\n",
       "      <td>ae46ea17-eb0a-6159-14dd-9d9fa7956be4</td>\n",
       "      <td>1961-02-20</td>\n",
       "      <td>NaN</td>\n",
       "      <td>999-33-2006</td>\n",
       "      <td>S99986497</td>\n",
       "      <td>X17725663X</td>\n",
       "      <td>Ms.</td>\n",
       "      <td>Jettie913</td>\n",
       "      <td>Hilpert278</td>\n",
       "      <td>NaN</td>\n",
       "      <td>...</td>\n",
       "      <td>Brownsville</td>\n",
       "      <td>Texas</td>\n",
       "      <td>Cameron County</td>\n",
       "      <td>48061.0</td>\n",
       "      <td>78583</td>\n",
       "      <td>0.259860</td>\n",
       "      <td>-97.356251</td>\n",
       "      <td>15531.76</td>\n",
       "      <td>0.00</td>\n",
       "      <td>43273</td>\n",
       "    </tr>\n",
       "    <tr>\n",
       "      <th>9987</th>\n",
       "      <td>8b509749-aaab-30b8-9a67-e8620eec19f0</td>\n",
       "      <td>1976-06-07</td>\n",
       "      <td>NaN</td>\n",
       "      <td>999-75-6593</td>\n",
       "      <td>S99974522</td>\n",
       "      <td>X73182518X</td>\n",
       "      <td>Mr.</td>\n",
       "      <td>Jesús825</td>\n",
       "      <td>Riojas420</td>\n",
       "      <td>NaN</td>\n",
       "      <td>...</td>\n",
       "      <td>Grapevine</td>\n",
       "      <td>Texas</td>\n",
       "      <td>Tarrant County</td>\n",
       "      <td>48121.0</td>\n",
       "      <td>75022</td>\n",
       "      <td>0.329460</td>\n",
       "      <td>-97.181018</td>\n",
       "      <td>12820.53</td>\n",
       "      <td>2016.20</td>\n",
       "      <td>27681</td>\n",
       "    </tr>\n",
       "  </tbody>\n",
       "</table>\n",
       "<p>948 rows × 27 columns</p>\n",
       "</div>"
      ],
      "text/plain": [
       "\n",
       "                                PATIENT_ID   BIRTHDATE  DEATHDATE  \\\n",
       "\u001b[1;36m4\u001b[0m     \u001b[93m28d7b56c-6056-d0a2-2991-39d6e917216c\u001b[0m  \u001b[1;36m1993\u001b[0m-\u001b[1;36m11\u001b[0m-\u001b[1;36m13\u001b[0m        NaN   \n",
       "\u001b[1;36m11\u001b[0m    \u001b[93m6c434506-fb4b-3e3f-c19d-553dec3b6c17\u001b[0m  \u001b[1;36m1959\u001b[0m-\u001b[1;36m08\u001b[0m-\u001b[1;36m02\u001b[0m        NaN   \n",
       "\u001b[1;36m17\u001b[0m    \u001b[93m44a8ca45-6c6e-38bb-fac0-ddbf7a7ee3a4\u001b[0m  \u001b[1;36m1971\u001b[0m-\u001b[1;36m08\u001b[0m-\u001b[1;36m26\u001b[0m        NaN   \n",
       "\u001b[1;36m42\u001b[0m    \u001b[93m780ec78c-22a0-fcdb-17c6-ae9b2fcace9c\u001b[0m  \u001b[1;36m1976\u001b[0m-\u001b[1;36m12\u001b[0m-\u001b[1;36m12\u001b[0m        NaN   \n",
       "\u001b[1;36m63\u001b[0m    \u001b[93mcf5956bb-34f2-841b-2505-57b99991c377\u001b[0m  \u001b[1;36m1990\u001b[0m-\u001b[1;36m01\u001b[0m-\u001b[1;36m24\u001b[0m        NaN   \n",
       "\u001b[33m...\u001b[0m                                    \u001b[33m...\u001b[0m         \u001b[33m...\u001b[0m        \u001b[33m...\u001b[0m   \n",
       "\u001b[1;36m9907\u001b[0m  \u001b[93m9e72a2cb-726b-d466-4d16-170f8f446fc6\u001b[0m  \u001b[1;36m1992\u001b[0m-\u001b[1;36m09\u001b[0m-\u001b[1;36m26\u001b[0m        NaN   \n",
       "\u001b[1;36m9942\u001b[0m  \u001b[93m110d2862-432d-5b0d-c83c-0096fc84fc64\u001b[0m  \u001b[1;36m1982\u001b[0m-\u001b[1;36m10\u001b[0m-\u001b[1;36m14\u001b[0m        NaN   \n",
       "\u001b[1;36m9944\u001b[0m  \u001b[93mb0cf454b-47bb-4654-d06e-ea07d4c868b4\u001b[0m  \u001b[1;36m1979\u001b[0m-\u001b[1;36m01\u001b[0m-\u001b[1;36m25\u001b[0m        NaN   \n",
       "\u001b[1;36m9978\u001b[0m  \u001b[93mae46ea17-eb0a-6159-14dd-9d9fa7956be4\u001b[0m  \u001b[1;36m1961\u001b[0m-\u001b[1;36m02\u001b[0m-\u001b[1;36m20\u001b[0m        NaN   \n",
       "\u001b[1;36m9987\u001b[0m  \u001b[93m8b509749-aaab-30b8-9a67-e8620eec19f0\u001b[0m  \u001b[1;36m1976\u001b[0m-\u001b[1;36m06\u001b[0m-\u001b[1;36m07\u001b[0m        NaN   \n",
       "\n",
       "              SSN    DRIVERS    PASSPORT PREFIX       FIRST        LAST  \\\n",
       "\u001b[1;36m4\u001b[0m     \u001b[1;36m999\u001b[0m-\u001b[1;36m31\u001b[0m-\u001b[1;36m6091\u001b[0m  S99958903  X63033472X   Mrs.   Angela104  Stanton715   \n",
       "\u001b[1;36m11\u001b[0m    \u001b[1;36m999\u001b[0m-\u001b[1;36m44\u001b[0m-\u001b[1;36m3322\u001b[0m  S99985936   X7405738X   Mrs.  Claudia969   Gracia333   \n",
       "\u001b[1;36m17\u001b[0m    \u001b[1;36m999\u001b[0m-\u001b[1;36m51\u001b[0m-\u001b[1;36m4389\u001b[0m  S99916438  X49044901X    Mr.   Rudolf736    Rohan584   \n",
       "\u001b[1;36m42\u001b[0m    \u001b[1;36m999\u001b[0m-\u001b[1;36m23\u001b[0m-\u001b[1;36m8384\u001b[0m  S99975300  X39564403X   Mrs.  Juliane376   Barton704   \n",
       "\u001b[1;36m63\u001b[0m    \u001b[1;36m999\u001b[0m-\u001b[1;36m36\u001b[0m-\u001b[1;36m9799\u001b[0m  S99929280  X85067957X   Mrs.   Dagmar148     King743   \n",
       "\u001b[33m...\u001b[0m           \u001b[33m...\u001b[0m        \u001b[33m...\u001b[0m         \u001b[33m...\u001b[0m    \u001b[33m...\u001b[0m         \u001b[33m...\u001b[0m         \u001b[33m...\u001b[0m   \n",
       "\u001b[1;36m9907\u001b[0m  \u001b[1;36m999\u001b[0m-\u001b[1;36m16\u001b[0m-\u001b[1;36m3430\u001b[0m  S99948714  X63486126X   Mrs.   Jonell764   Kirlin939   \n",
       "\u001b[1;36m9942\u001b[0m  \u001b[1;36m999\u001b[0m-\u001b[1;36m19\u001b[0m-\u001b[1;36m7236\u001b[0m  S99938105  X16294187X   Mrs.      Rona40    Robel940   \n",
       "\u001b[1;36m9944\u001b[0m  \u001b[1;36m999\u001b[0m-\u001b[1;36m56\u001b[0m-\u001b[1;36m3957\u001b[0m  S99940923  X13298960X   Mrs.   Cassey386    Nolan344   \n",
       "\u001b[1;36m9978\u001b[0m  \u001b[1;36m999\u001b[0m-\u001b[1;36m33\u001b[0m-\u001b[1;36m2006\u001b[0m  S99986497  X17725663X    Ms.   Jettie913  Hilpert278   \n",
       "\u001b[1;36m9987\u001b[0m  \u001b[1;36m999\u001b[0m-\u001b[1;36m75\u001b[0m-\u001b[1;36m6593\u001b[0m  S99974522  X73182518X    Mr.    Jesús825   Riojas420   \n",
       "\n",
       "     SUFFIX  \u001b[33m...\u001b[0m         CITY  STATE             COUNTY     FIPS    ZIP  \\\n",
       "\u001b[1;36m4\u001b[0m       NaN  \u001b[33m...\u001b[0m    Levelland  Texas     Hockley County  \u001b[1;36m48219.0\u001b[0m  \u001b[1;36m79336\u001b[0m   \n",
       "\u001b[1;36m11\u001b[0m      NaN  \u001b[33m...\u001b[0m       Dallas  Texas      Dallas County  \u001b[1;36m48113.0\u001b[0m  \u001b[1;36m75052\u001b[0m   \n",
       "\u001b[1;36m17\u001b[0m      NaN  \u001b[33m...\u001b[0m      Pantego  Texas     Tarrant County  \u001b[1;36m48439.0\u001b[0m  \u001b[1;36m76013\u001b[0m   \n",
       "\u001b[1;36m42\u001b[0m      NaN  \u001b[33m...\u001b[0m    Wolfforth  Texas     Lubbock County  \u001b[1;36m48303.0\u001b[0m  \u001b[1;36m79382\u001b[0m   \n",
       "\u001b[1;36m63\u001b[0m      NaN  \u001b[33m...\u001b[0m   Cedar Park  Texas  Williamson County  \u001b[1;36m48453.0\u001b[0m  \u001b[1;36m78750\u001b[0m   \n",
       "\u001b[33m...\u001b[0m     \u001b[33m...\u001b[0m  \u001b[33m...\u001b[0m          \u001b[33m...\u001b[0m    \u001b[33m...\u001b[0m                \u001b[33m...\u001b[0m      \u001b[33m...\u001b[0m    \u001b[33m...\u001b[0m   \n",
       "\u001b[1;36m9907\u001b[0m    NaN  \u001b[33m...\u001b[0m       Austin  Texas      Travis County  \u001b[1;36m48453.0\u001b[0m  \u001b[1;36m78746\u001b[0m   \n",
       "\u001b[1;36m9942\u001b[0m    NaN  \u001b[33m...\u001b[0m      Lubbock  Texas     Lubbock County  \u001b[1;36m48303.0\u001b[0m  \u001b[1;36m79404\u001b[0m   \n",
       "\u001b[1;36m9944\u001b[0m    NaN  \u001b[33m...\u001b[0m      Houston  Texas      Harris County  \u001b[1;36m48201.0\u001b[0m  \u001b[1;36m77017\u001b[0m   \n",
       "\u001b[1;36m9978\u001b[0m    NaN  \u001b[33m...\u001b[0m  Brownsville  Texas     Cameron County  \u001b[1;36m48061.0\u001b[0m  \u001b[1;36m78583\u001b[0m   \n",
       "\u001b[1;36m9987\u001b[0m    NaN  \u001b[33m...\u001b[0m    Grapevine  Texas     Tarrant County  \u001b[1;36m48121.0\u001b[0m  \u001b[1;36m75022\u001b[0m   \n",
       "\n",
       "           LAT         LON HEALTHCARE_EXPENSES HEALTHCARE_COVERAGE  INCOME  \n",
       "\u001b[1;36m4\u001b[0m     \u001b[1;36m0.337037\u001b[0m \u001b[1;36m-102.361829\u001b[0m            \u001b[1;36m12449.11\u001b[0m                \u001b[1;36m0.00\u001b[0m   \u001b[1;36m67198\u001b[0m  \n",
       "\u001b[1;36m11\u001b[0m    \u001b[1;36m0.328933\u001b[0m  \u001b[1;36m-96.991787\u001b[0m            \u001b[1;36m12819.78\u001b[0m             \u001b[1;36m3442.72\u001b[0m    \u001b[1;36m5779\u001b[0m  \n",
       "\u001b[1;36m17\u001b[0m    \u001b[1;36m0.326687\u001b[0m  \u001b[1;36m-97.106182\u001b[0m            \u001b[1;36m12993.45\u001b[0m                \u001b[1;36m0.00\u001b[0m   \u001b[1;36m47847\u001b[0m  \n",
       "\u001b[1;36m42\u001b[0m    \u001b[1;36m0.334746\u001b[0m \u001b[1;36m-101.982682\u001b[0m            \u001b[1;36m13483.21\u001b[0m                \u001b[1;36m0.00\u001b[0m  \u001b[1;36m116672\u001b[0m  \n",
       "\u001b[1;36m63\u001b[0m    \u001b[1;36m0.303922\u001b[0m  \u001b[1;36m-97.814552\u001b[0m            \u001b[1;36m11630.68\u001b[0m                \u001b[1;36m0.00\u001b[0m   \u001b[1;36m47402\u001b[0m  \n",
       "\u001b[33m...\u001b[0m        \u001b[33m...\u001b[0m         \u001b[33m...\u001b[0m                 \u001b[33m...\u001b[0m                 \u001b[33m...\u001b[0m     \u001b[33m...\u001b[0m  \n",
       "\u001b[1;36m9907\u001b[0m  \u001b[1;36m0.301803\u001b[0m  \u001b[1;36m-97.842313\u001b[0m            \u001b[1;36m11807.08\u001b[0m                \u001b[1;36m0.00\u001b[0m   \u001b[1;36m86069\u001b[0m  \n",
       "\u001b[1;36m9942\u001b[0m  \u001b[1;36m0.335326\u001b[0m \u001b[1;36m-101.927881\u001b[0m            \u001b[1;36m15168.54\u001b[0m                \u001b[1;36m0.00\u001b[0m   \u001b[1;36m51546\u001b[0m  \n",
       "\u001b[1;36m9944\u001b[0m  \u001b[1;36m0.297903\u001b[0m  \u001b[1;36m-95.623320\u001b[0m             \u001b[1;36m7565.11\u001b[0m             \u001b[1;36m4666.72\u001b[0m   \u001b[1;36m18227\u001b[0m  \n",
       "\u001b[1;36m9978\u001b[0m  \u001b[1;36m0.259860\u001b[0m  \u001b[1;36m-97.356251\u001b[0m            \u001b[1;36m15531.76\u001b[0m                \u001b[1;36m0.00\u001b[0m   \u001b[1;36m43273\u001b[0m  \n",
       "\u001b[1;36m9987\u001b[0m  \u001b[1;36m0.329460\u001b[0m  \u001b[1;36m-97.181018\u001b[0m            \u001b[1;36m12820.53\u001b[0m             \u001b[1;36m2016.20\u001b[0m   \u001b[1;36m27681\u001b[0m  \n",
       "\n",
       "\u001b[1m[\u001b[0m\u001b[1;36m948\u001b[0m rows x \u001b[1;36m27\u001b[0m columns\u001b[1m]\u001b[0m"
      ]
     },
     "execution_count": 19,
     "metadata": {},
     "output_type": "execute_result"
    }
   ],
   "source": [
    "patients[patients['PATIENT_ID'].isin(symptoms['PATIENT'])]"
   ]
  },
  {
   "cell_type": "code",
   "execution_count": 20,
   "id": "fc44cde7-00de-4a49-8e38-21a3d97b5dbc",
   "metadata": {},
   "outputs": [
    {
     "name": "stdout",
     "output_type": "stream",
     "text": [
      "True\n"
     ]
    }
   ],
   "source": [
    "is_unique = patients[['PATIENT_ID']].drop_duplicates().shape[0] == patients.shape[0]\n",
    "print(is_unique)\n"
   ]
  },
  {
   "cell_type": "code",
   "execution_count": 21,
   "id": "ba519c31-eff7-44a8-a34d-e35214dbe1b8",
   "metadata": {},
   "outputs": [
    {
     "name": "stdout",
     "output_type": "stream",
     "text": [
      "True\n"
     ]
    }
   ],
   "source": [
    "is_unique = encounters[['Id']].drop_duplicates().shape[0] == encounters.shape[0]\n",
    "print(is_unique)\n"
   ]
  },
  {
   "cell_type": "code",
   "execution_count": 22,
   "id": "6207636a-9648-43b3-828c-840c20d70b83",
   "metadata": {},
   "outputs": [
    {
     "name": "stdout",
     "output_type": "stream",
     "text": [
      "False\n"
     ]
    }
   ],
   "source": [
    "is_unique = conditions[['CODE']].drop_duplicates().shape[0] == conditions.shape[0]\n",
    "print(is_unique)\n"
   ]
  },
  {
   "cell_type": "code",
   "execution_count": 23,
   "id": "a21e3225-c25a-4d12-9336-048a8f96eaa3",
   "metadata": {},
   "outputs": [
    {
     "name": "stdout",
     "output_type": "stream",
     "text": [
      "True\n"
     ]
    }
   ],
   "source": [
    "is_unique = conditions[['CODE','ENCOUNTER']].drop_duplicates().shape[0] == conditions.shape[0]\n",
    "print(is_unique)\n"
   ]
  },
  {
   "cell_type": "code",
   "execution_count": 24,
   "id": "384a2f09-2687-403c-952c-78c29f88ceb3",
   "metadata": {},
   "outputs": [
    {
     "name": "stdout",
     "output_type": "stream",
     "text": [
      "True\n"
     ]
    }
   ],
   "source": [
    "is_unique = conditions[['CODE','PATIENT']].drop_duplicates().shape[0] == conditions.shape[0]\n",
    "print(is_unique)\n"
   ]
  },
  {
   "cell_type": "code",
   "execution_count": 25,
   "id": "4608cb48-6cca-4287-a68f-cb96f9647c39",
   "metadata": {},
   "outputs": [
    {
     "name": "stdout",
     "output_type": "stream",
     "text": [
      "True\n"
     ]
    }
   ],
   "source": [
    "is_unique = conditions[['ENCOUNTER','PATIENT','CODE']].drop_duplicates().shape[0] == conditions.shape[0]\n",
    "print(is_unique)\n"
   ]
  },
  {
   "cell_type": "code",
   "execution_count": 26,
   "id": "f8eeb484-c1e7-418c-9f43-a708fd685f43",
   "metadata": {},
   "outputs": [
    {
     "data": {
      "text/html": [
       "<pre style=\"white-space:pre;overflow-x:auto;line-height:normal;font-family:Menlo,'DejaVu Sans Mono',consolas,'Courier New',monospace\"></pre>\n"
      ],
      "text/plain": []
     },
     "metadata": {},
     "output_type": "display_data"
    },
    {
     "data": {
      "text/html": [
       "<div>\n",
       "<style scoped>\n",
       "    .dataframe tbody tr th:only-of-type {\n",
       "        vertical-align: middle;\n",
       "    }\n",
       "\n",
       "    .dataframe tbody tr th {\n",
       "        vertical-align: top;\n",
       "    }\n",
       "\n",
       "    .dataframe thead th {\n",
       "        text-align: right;\n",
       "    }\n",
       "</style>\n",
       "<table border=\"1\" class=\"dataframe\">\n",
       "  <thead>\n",
       "    <tr style=\"text-align: right;\">\n",
       "      <th></th>\n",
       "      <th>START</th>\n",
       "      <th>STOP</th>\n",
       "      <th>PATIENT</th>\n",
       "      <th>ENCOUNTER</th>\n",
       "      <th>CODE</th>\n",
       "      <th>DESCRIPTION</th>\n",
       "    </tr>\n",
       "  </thead>\n",
       "  <tbody>\n",
       "    <tr>\n",
       "      <th>0</th>\n",
       "      <td>2020-04-21</td>\n",
       "      <td>NaN</td>\n",
       "      <td>28D7B56C-6056-D0A2-2991-39D6E917216C</td>\n",
       "      <td>402dfaeb-1888-f562-4651-f75203eb1e28</td>\n",
       "      <td>200936003</td>\n",
       "      <td>Lupus erythematosus</td>\n",
       "    </tr>\n",
       "    <tr>\n",
       "      <th>1</th>\n",
       "      <td>2001-11-07</td>\n",
       "      <td>NaN</td>\n",
       "      <td>239AE86A-96DB-6211-9042-D3F2850AABB8</td>\n",
       "      <td>10d39d6f-7d98-8d03-8866-0a7cd363890b</td>\n",
       "      <td>200936003</td>\n",
       "      <td>Lupus erythematosus</td>\n",
       "    </tr>\n",
       "    <tr>\n",
       "      <th>2</th>\n",
       "      <td>2001-11-07</td>\n",
       "      <td>NaN</td>\n",
       "      <td>239AE86A-96DB-6211-9042-D3F2850AABB8</td>\n",
       "      <td>10d39d6f-7d98-8d03-8866-0a7cd363890b</td>\n",
       "      <td>271737000</td>\n",
       "      <td>Anemia (disorder)</td>\n",
       "    </tr>\n",
       "    <tr>\n",
       "      <th>3</th>\n",
       "      <td>2017-11-05</td>\n",
       "      <td>NaN</td>\n",
       "      <td>6C434506-FB4B-3E3F-C19D-553DEC3B6C17</td>\n",
       "      <td>add4fa37-cabe-a5aa-f9da-8117464bad04</td>\n",
       "      <td>200936003</td>\n",
       "      <td>Lupus erythematosus</td>\n",
       "    </tr>\n",
       "    <tr>\n",
       "      <th>4</th>\n",
       "      <td>1989-09-15</td>\n",
       "      <td>NaN</td>\n",
       "      <td>6872DEF5-772F-427C-3053-DE6E1C71CE0A</td>\n",
       "      <td>d8a684cb-6ce1-5909-59e7-3422469d18d0</td>\n",
       "      <td>200936003</td>\n",
       "      <td>Lupus erythematosus</td>\n",
       "    </tr>\n",
       "  </tbody>\n",
       "</table>\n",
       "</div>"
      ],
      "text/plain": [
       "\n",
       "        START  STOP                               PATIENT  \\\n",
       "\u001b[1;36m0\u001b[0m  \u001b[1;36m2020\u001b[0m-\u001b[1;36m04\u001b[0m-\u001b[1;36m21\u001b[0m   NaN  \u001b[93m28D7B56C-6056-D0A2-2991-39D6E917216C\u001b[0m   \n",
       "\u001b[1;36m1\u001b[0m  \u001b[1;36m2001\u001b[0m-\u001b[1;36m11\u001b[0m-\u001b[1;36m07\u001b[0m   NaN  \u001b[93m239AE86A-96DB-6211-9042-D3F2850AABB8\u001b[0m   \n",
       "\u001b[1;36m2\u001b[0m  \u001b[1;36m2001\u001b[0m-\u001b[1;36m11\u001b[0m-\u001b[1;36m07\u001b[0m   NaN  \u001b[93m239AE86A-96DB-6211-9042-D3F2850AABB8\u001b[0m   \n",
       "\u001b[1;36m3\u001b[0m  \u001b[1;36m2017\u001b[0m-\u001b[1;36m11\u001b[0m-\u001b[1;36m05\u001b[0m   NaN  \u001b[93m6C434506-FB4B-3E3F-C19D-553DEC3B6C17\u001b[0m   \n",
       "\u001b[1;36m4\u001b[0m  \u001b[1;36m1989\u001b[0m-\u001b[1;36m09\u001b[0m-\u001b[1;36m15\u001b[0m   NaN  \u001b[93m6872DEF5-772F-427C-3053-DE6E1C71CE0A\u001b[0m   \n",
       "\n",
       "                              ENCOUNTER       CODE          DESCRIPTION  \n",
       "\u001b[1;36m0\u001b[0m  \u001b[93m402dfaeb-1888-f562-4651-f75203eb1e28\u001b[0m  \u001b[1;36m200936003\u001b[0m  Lupus erythematosus  \n",
       "\u001b[1;36m1\u001b[0m  \u001b[93m10d39d6f-7d98-8d03-8866-0a7cd363890b\u001b[0m  \u001b[1;36m200936003\u001b[0m  Lupus erythematosus  \n",
       "\u001b[1;36m2\u001b[0m  \u001b[93m10d39d6f-7d98-8d03-8866-0a7cd363890b\u001b[0m  \u001b[1;36m271737000\u001b[0m    Anemia \u001b[1m(\u001b[0mdisorder\u001b[1m)\u001b[0m  \n",
       "\u001b[1;36m3\u001b[0m  \u001b[93madd4fa37-cabe-a5aa-f9da-8117464bad04\u001b[0m  \u001b[1;36m200936003\u001b[0m  Lupus erythematosus  \n",
       "\u001b[1;36m4\u001b[0m  \u001b[93md8a684cb-6ce1-5909-59e7-3422469d18d0\u001b[0m  \u001b[1;36m200936003\u001b[0m  Lupus erythematosus  "
      ]
     },
     "execution_count": 26,
     "metadata": {},
     "output_type": "execute_result"
    }
   ],
   "source": [
    "conditions.head()"
   ]
  },
  {
   "cell_type": "code",
   "execution_count": 27,
   "id": "95779d92-b83a-4cb8-bd91-a7ce13c5d4f7",
   "metadata": {},
   "outputs": [
    {
     "name": "stdout",
     "output_type": "stream",
     "text": [
      "False\n"
     ]
    }
   ],
   "source": [
    "is_unique = symptoms[['PATIENT']].drop_duplicates().shape[0] == symptoms.shape[0]\n",
    "print(is_unique)\n"
   ]
  },
  {
   "cell_type": "code",
   "execution_count": 28,
   "id": "6f19525d-8fff-45b0-a61c-7ca75b27dc41",
   "metadata": {},
   "outputs": [
    {
     "data": {
      "text/html": [
       "<pre style=\"white-space:pre;overflow-x:auto;line-height:normal;font-family:Menlo,'DejaVu Sans Mono',consolas,'Courier New',monospace\"></pre>\n"
      ],
      "text/plain": []
     },
     "metadata": {},
     "output_type": "display_data"
    },
    {
     "data": {
      "text/html": [
       "<div>\n",
       "<style scoped>\n",
       "    .dataframe tbody tr th:only-of-type {\n",
       "        vertical-align: middle;\n",
       "    }\n",
       "\n",
       "    .dataframe tbody tr th {\n",
       "        vertical-align: top;\n",
       "    }\n",
       "\n",
       "    .dataframe thead th {\n",
       "        text-align: right;\n",
       "    }\n",
       "</style>\n",
       "<table border=\"1\" class=\"dataframe\">\n",
       "  <thead>\n",
       "    <tr style=\"text-align: right;\">\n",
       "      <th></th>\n",
       "      <th>PATIENT</th>\n",
       "      <th>GENDER</th>\n",
       "      <th>RACE</th>\n",
       "      <th>ETHNICITY</th>\n",
       "      <th>AGE_BEGIN</th>\n",
       "      <th>AGE_END</th>\n",
       "      <th>PATHOLOGY</th>\n",
       "      <th>NUM_SYMPTOMS</th>\n",
       "      <th>SYMPTOMS</th>\n",
       "    </tr>\n",
       "  </thead>\n",
       "  <tbody>\n",
       "    <tr>\n",
       "      <th>0</th>\n",
       "      <td>28d7b56c-6056-d0a2-2991-39d6e917216c</td>\n",
       "      <td>NaN</td>\n",
       "      <td>white</td>\n",
       "      <td>hispanic</td>\n",
       "      <td>26</td>\n",
       "      <td>NaN</td>\n",
       "      <td>Lupus erythematosus</td>\n",
       "      <td>4</td>\n",
       "      <td>Rash:34;Joint Pain:39;Fatigue:9;Fever:12</td>\n",
       "    </tr>\n",
       "    <tr>\n",
       "      <th>1</th>\n",
       "      <td>6c434506-fb4b-3e3f-c19d-553dec3b6c17</td>\n",
       "      <td>NaN</td>\n",
       "      <td>black</td>\n",
       "      <td>hispanic</td>\n",
       "      <td>58</td>\n",
       "      <td>NaN</td>\n",
       "      <td>Lupus erythematosus</td>\n",
       "      <td>4</td>\n",
       "      <td>Rash:19;Joint Pain:44;Fatigue:48;Fever:15</td>\n",
       "    </tr>\n",
       "    <tr>\n",
       "      <th>2</th>\n",
       "      <td>44a8ca45-6c6e-38bb-fac0-ddbf7a7ee3a4</td>\n",
       "      <td>NaN</td>\n",
       "      <td>white</td>\n",
       "      <td>nonhispanic</td>\n",
       "      <td>50</td>\n",
       "      <td>NaN</td>\n",
       "      <td>Lupus erythematosus</td>\n",
       "      <td>4</td>\n",
       "      <td>Rash:2;Joint Pain:32;Fatigue:12;Fever:6</td>\n",
       "    </tr>\n",
       "    <tr>\n",
       "      <th>3</th>\n",
       "      <td>780ec78c-22a0-fcdb-17c6-ae9b2fcace9c</td>\n",
       "      <td>NaN</td>\n",
       "      <td>white</td>\n",
       "      <td>hispanic</td>\n",
       "      <td>39</td>\n",
       "      <td>NaN</td>\n",
       "      <td>Lupus erythematosus</td>\n",
       "      <td>4</td>\n",
       "      <td>Rash:30;Joint Pain:30;Fatigue:41;Fever:19</td>\n",
       "    </tr>\n",
       "    <tr>\n",
       "      <th>4</th>\n",
       "      <td>cf5956bb-34f2-841b-2505-57b99991c377</td>\n",
       "      <td>NaN</td>\n",
       "      <td>white</td>\n",
       "      <td>nonhispanic</td>\n",
       "      <td>29</td>\n",
       "      <td>NaN</td>\n",
       "      <td>Lupus erythematosus</td>\n",
       "      <td>3</td>\n",
       "      <td>Rash:28;Joint Pain:26;Fatigue:33;Fever:5</td>\n",
       "    </tr>\n",
       "  </tbody>\n",
       "</table>\n",
       "</div>"
      ],
      "text/plain": [
       "\n",
       "                                PATIENT  GENDER   RACE    ETHNICITY  \\\n",
       "\u001b[1;36m0\u001b[0m  \u001b[93m28d7b56c-6056-d0a2-2991-39d6e917216c\u001b[0m     NaN  white     hispanic   \n",
       "\u001b[1;36m1\u001b[0m  \u001b[93m6c434506-fb4b-3e3f-c19d-553dec3b6c17\u001b[0m     NaN  black     hispanic   \n",
       "\u001b[1;36m2\u001b[0m  \u001b[93m44a8ca45-6c6e-38bb-fac0-ddbf7a7ee3a4\u001b[0m     NaN  white  nonhispanic   \n",
       "\u001b[1;36m3\u001b[0m  \u001b[93m780ec78c-22a0-fcdb-17c6-ae9b2fcace9c\u001b[0m     NaN  white     hispanic   \n",
       "\u001b[1;36m4\u001b[0m  \u001b[93mcf5956bb-34f2-841b-2505-57b99991c377\u001b[0m     NaN  white  nonhispanic   \n",
       "\n",
       "   AGE_BEGIN  AGE_END            PATHOLOGY  NUM_SYMPTOMS  \\\n",
       "\u001b[1;36m0\u001b[0m         \u001b[1;36m26\u001b[0m      NaN  Lupus erythematosus             \u001b[1;36m4\u001b[0m   \n",
       "\u001b[1;36m1\u001b[0m         \u001b[1;36m58\u001b[0m      NaN  Lupus erythematosus             \u001b[1;36m4\u001b[0m   \n",
       "\u001b[1;36m2\u001b[0m         \u001b[1;36m50\u001b[0m      NaN  Lupus erythematosus             \u001b[1;36m4\u001b[0m   \n",
       "\u001b[1;36m3\u001b[0m         \u001b[1;36m39\u001b[0m      NaN  Lupus erythematosus             \u001b[1;36m4\u001b[0m   \n",
       "\u001b[1;36m4\u001b[0m         \u001b[1;36m29\u001b[0m      NaN  Lupus erythematosus             \u001b[1;36m3\u001b[0m   \n",
       "\n",
       "                                    SYMPTOMS  \n",
       "\u001b[1;36m0\u001b[0m   Rash:\u001b[1;36m34\u001b[0m;Joint Pain:\u001b[1;36m39\u001b[0m;Fatigu\u001b[1;92me:9\u001b[0m;Fever:\u001b[1;36m12\u001b[0m  \n",
       "\u001b[1;36m1\u001b[0m  Rash:\u001b[1;36m19\u001b[0m;Joint Pain:\u001b[1;36m44\u001b[0m;Fatigu\u001b[1;92me:48\u001b[0m;Fever:\u001b[1;36m15\u001b[0m  \n",
       "\u001b[1;36m2\u001b[0m    Rash:\u001b[1;36m2\u001b[0m;Joint Pain:\u001b[1;36m32\u001b[0m;Fatigu\u001b[1;92me:12\u001b[0m;Fever:\u001b[1;36m6\u001b[0m  \n",
       "\u001b[1;36m3\u001b[0m  Rash:\u001b[1;36m30\u001b[0m;Joint Pain:\u001b[1;36m30\u001b[0m;Fatigu\u001b[1;92me:41\u001b[0m;Fever:\u001b[1;36m19\u001b[0m  \n",
       "\u001b[1;36m4\u001b[0m   Rash:\u001b[1;36m28\u001b[0m;Joint Pain:\u001b[1;36m26\u001b[0m;Fatigu\u001b[1;92me:33\u001b[0m;Fever:\u001b[1;36m5\u001b[0m  "
      ]
     },
     "execution_count": 28,
     "metadata": {},
     "output_type": "execute_result"
    }
   ],
   "source": [
    "symptoms.head()"
   ]
  },
  {
   "cell_type": "code",
   "execution_count": 29,
   "id": "4cace51a-2cbe-49f8-a4f0-e3c7ebfd453d",
   "metadata": {},
   "outputs": [
    {
     "name": "stdout",
     "output_type": "stream",
     "text": [
      "True\n"
     ]
    }
   ],
   "source": [
    "is_unique = symptoms[['PATIENT','PATHOLOGY']].drop_duplicates().shape[0] == symptoms.shape[0]\n",
    "print(is_unique)\n"
   ]
  },
  {
   "cell_type": "code",
   "execution_count": 87,
   "id": "8b92c513-564c-47eb-b320-bf719bb8f4e1",
   "metadata": {},
   "outputs": [
    {
     "data": {
      "text/html": [
       "<pre style=\"white-space:pre;overflow-x:auto;line-height:normal;font-family:Menlo,'DejaVu Sans Mono',consolas,'Courier New',monospace\"></pre>\n"
      ],
      "text/plain": []
     },
     "metadata": {},
     "output_type": "display_data"
    },
    {
     "data": {
      "text/html": [
       "<div>\n",
       "<style scoped>\n",
       "    .dataframe tbody tr th:only-of-type {\n",
       "        vertical-align: middle;\n",
       "    }\n",
       "\n",
       "    .dataframe tbody tr th {\n",
       "        vertical-align: top;\n",
       "    }\n",
       "\n",
       "    .dataframe thead th {\n",
       "        text-align: right;\n",
       "    }\n",
       "</style>\n",
       "<table border=\"1\" class=\"dataframe\">\n",
       "  <thead>\n",
       "    <tr style=\"text-align: right;\">\n",
       "      <th></th>\n",
       "      <th>PATHOLOGY</th>\n",
       "    </tr>\n",
       "  </thead>\n",
       "  <tbody>\n",
       "    <tr>\n",
       "      <th>0</th>\n",
       "      <td>Lupus erythematosus</td>\n",
       "    </tr>\n",
       "    <tr>\n",
       "      <th>6</th>\n",
       "      <td>Anemia (disorder)</td>\n",
       "    </tr>\n",
       "  </tbody>\n",
       "</table>\n",
       "</div>"
      ],
      "text/plain": [
       "\n",
       "             PATHOLOGY\n",
       "\u001b[1;36m0\u001b[0m  Lupus erythematosus\n",
       "\u001b[1;36m6\u001b[0m    Anemia \u001b[1m(\u001b[0mdisorder\u001b[1m)\u001b[0m"
      ]
     },
     "execution_count": 87,
     "metadata": {},
     "output_type": "execute_result"
    }
   ],
   "source": [
    "symptoms[['PATHOLOGY']].drop_duplicates()"
   ]
  },
  {
   "cell_type": "code",
   "execution_count": 30,
   "id": "8f55df23-a814-466d-82da-7a45ee1baf57",
   "metadata": {},
   "outputs": [
    {
     "name": "stdout",
     "output_type": "stream",
     "text": [
      "True\n"
     ]
    }
   ],
   "source": [
    "is_unique = medications[['PATIENT','ENCOUNTER','CODE']].drop_duplicates().shape[0] == medications.shape[0]\n",
    "print(is_unique)\n"
   ]
  },
  {
   "cell_type": "code",
   "execution_count": 31,
   "id": "aafb6fa9-9fe2-4560-b323-182f1a194e0b",
   "metadata": {},
   "outputs": [
    {
     "data": {
      "text/html": [
       "<pre style=\"white-space:pre;overflow-x:auto;line-height:normal;font-family:Menlo,'DejaVu Sans Mono',consolas,'Courier New',monospace\"></pre>\n"
      ],
      "text/plain": []
     },
     "metadata": {},
     "output_type": "display_data"
    },
    {
     "data": {
      "text/html": [
       "<div>\n",
       "<style scoped>\n",
       "    .dataframe tbody tr th:only-of-type {\n",
       "        vertical-align: middle;\n",
       "    }\n",
       "\n",
       "    .dataframe tbody tr th {\n",
       "        vertical-align: top;\n",
       "    }\n",
       "\n",
       "    .dataframe thead th {\n",
       "        text-align: right;\n",
       "    }\n",
       "</style>\n",
       "<table border=\"1\" class=\"dataframe\">\n",
       "  <thead>\n",
       "    <tr style=\"text-align: right;\">\n",
       "      <th></th>\n",
       "      <th>PATIENT_ID</th>\n",
       "      <th>BIRTHDATE</th>\n",
       "      <th>DEATHDATE</th>\n",
       "      <th>SSN</th>\n",
       "      <th>DRIVERS</th>\n",
       "      <th>PASSPORT</th>\n",
       "      <th>PREFIX</th>\n",
       "      <th>FIRST</th>\n",
       "      <th>LAST</th>\n",
       "      <th>SUFFIX</th>\n",
       "      <th>...</th>\n",
       "      <th>CITY</th>\n",
       "      <th>STATE</th>\n",
       "      <th>COUNTY</th>\n",
       "      <th>FIPS</th>\n",
       "      <th>ZIP</th>\n",
       "      <th>LAT</th>\n",
       "      <th>LON</th>\n",
       "      <th>HEALTHCARE_EXPENSES</th>\n",
       "      <th>HEALTHCARE_COVERAGE</th>\n",
       "      <th>INCOME</th>\n",
       "    </tr>\n",
       "  </thead>\n",
       "  <tbody>\n",
       "    <tr>\n",
       "      <th>0</th>\n",
       "      <td>54f1059e-6250-3949-6dd0-1dda9b85d22a</td>\n",
       "      <td>2002-01-21</td>\n",
       "      <td>NaN</td>\n",
       "      <td>999-28-3364</td>\n",
       "      <td>S99987398</td>\n",
       "      <td>X44428214X</td>\n",
       "      <td>Ms.</td>\n",
       "      <td>Fredricka415</td>\n",
       "      <td>Crist667</td>\n",
       "      <td>NaN</td>\n",
       "      <td>...</td>\n",
       "      <td>Fort Worth</td>\n",
       "      <td>Texas</td>\n",
       "      <td>Tarrant County</td>\n",
       "      <td>48439.0</td>\n",
       "      <td>76104</td>\n",
       "      <td>0.329154</td>\n",
       "      <td>-97.399553</td>\n",
       "      <td>9990.08</td>\n",
       "      <td>0.0</td>\n",
       "      <td>35460</td>\n",
       "    </tr>\n",
       "    <tr>\n",
       "      <th>1</th>\n",
       "      <td>92675303-ca5b-136a-169b-e764c5753f06</td>\n",
       "      <td>1997-04-16</td>\n",
       "      <td>NaN</td>\n",
       "      <td>999-62-9859</td>\n",
       "      <td>S99999770</td>\n",
       "      <td>X75016560X</td>\n",
       "      <td>Mr.</td>\n",
       "      <td>Lorenzo669</td>\n",
       "      <td>Urrutia540</td>\n",
       "      <td>NaN</td>\n",
       "      <td>...</td>\n",
       "      <td>Arlington</td>\n",
       "      <td>Texas</td>\n",
       "      <td>Tarrant County</td>\n",
       "      <td>48439.0</td>\n",
       "      <td>76006</td>\n",
       "      <td>0.328145</td>\n",
       "      <td>-97.068885</td>\n",
       "      <td>10936.80</td>\n",
       "      <td>0.0</td>\n",
       "      <td>88407</td>\n",
       "    </tr>\n",
       "    <tr>\n",
       "      <th>2</th>\n",
       "      <td>a0b63e97-b6fd-5fe1-8f2d-2bec915efa97</td>\n",
       "      <td>1993-02-04</td>\n",
       "      <td>NaN</td>\n",
       "      <td>999-53-6488</td>\n",
       "      <td>S99979170</td>\n",
       "      <td>X60079936X</td>\n",
       "      <td>Mr.</td>\n",
       "      <td>Luther918</td>\n",
       "      <td>MacGyver246</td>\n",
       "      <td>NaN</td>\n",
       "      <td>...</td>\n",
       "      <td>Houston</td>\n",
       "      <td>Texas</td>\n",
       "      <td>Harris County</td>\n",
       "      <td>48339.0</td>\n",
       "      <td>77357</td>\n",
       "      <td>0.300834</td>\n",
       "      <td>-95.649706</td>\n",
       "      <td>10662.16</td>\n",
       "      <td>0.0</td>\n",
       "      <td>41800</td>\n",
       "    </tr>\n",
       "    <tr>\n",
       "      <th>3</th>\n",
       "      <td>abc59f62-dc5a-5095-1141-80b4ee8be73b</td>\n",
       "      <td>1995-05-23</td>\n",
       "      <td>NaN</td>\n",
       "      <td>999-37-1058</td>\n",
       "      <td>S99981031</td>\n",
       "      <td>X14759314X</td>\n",
       "      <td>Mrs.</td>\n",
       "      <td>Jacque955</td>\n",
       "      <td>Jones311</td>\n",
       "      <td>NaN</td>\n",
       "      <td>...</td>\n",
       "      <td>Waco</td>\n",
       "      <td>Texas</td>\n",
       "      <td>McLennan County</td>\n",
       "      <td>48309.0</td>\n",
       "      <td>76655</td>\n",
       "      <td>0.315173</td>\n",
       "      <td>-97.292558</td>\n",
       "      <td>11455.93</td>\n",
       "      <td>0.0</td>\n",
       "      <td>41915</td>\n",
       "    </tr>\n",
       "    <tr>\n",
       "      <th>4</th>\n",
       "      <td>28d7b56c-6056-d0a2-2991-39d6e917216c</td>\n",
       "      <td>1993-11-13</td>\n",
       "      <td>NaN</td>\n",
       "      <td>999-31-6091</td>\n",
       "      <td>S99958903</td>\n",
       "      <td>X63033472X</td>\n",
       "      <td>Mrs.</td>\n",
       "      <td>Angela104</td>\n",
       "      <td>Stanton715</td>\n",
       "      <td>NaN</td>\n",
       "      <td>...</td>\n",
       "      <td>Levelland</td>\n",
       "      <td>Texas</td>\n",
       "      <td>Hockley County</td>\n",
       "      <td>48219.0</td>\n",
       "      <td>79336</td>\n",
       "      <td>0.337037</td>\n",
       "      <td>-102.361829</td>\n",
       "      <td>12449.11</td>\n",
       "      <td>0.0</td>\n",
       "      <td>67198</td>\n",
       "    </tr>\n",
       "  </tbody>\n",
       "</table>\n",
       "<p>5 rows × 27 columns</p>\n",
       "</div>"
      ],
      "text/plain": [
       "\n",
       "                             PATIENT_ID   BIRTHDATE  DEATHDATE          SSN  \\\n",
       "\u001b[1;36m0\u001b[0m  \u001b[93m54f1059e-6250-3949-6dd0-1dda9b85d22a\u001b[0m  \u001b[1;36m2002\u001b[0m-\u001b[1;36m01\u001b[0m-\u001b[1;36m21\u001b[0m        NaN  \u001b[1;36m999\u001b[0m-\u001b[1;36m28\u001b[0m-\u001b[1;36m3364\u001b[0m   \n",
       "\u001b[1;36m1\u001b[0m  \u001b[93m92675303-ca5b-136a-169b-e764c5753f06\u001b[0m  \u001b[1;36m1997\u001b[0m-\u001b[1;36m04\u001b[0m-\u001b[1;36m16\u001b[0m        NaN  \u001b[1;36m999\u001b[0m-\u001b[1;36m62\u001b[0m-\u001b[1;36m9859\u001b[0m   \n",
       "\u001b[1;36m2\u001b[0m  \u001b[93ma0b63e97-b6fd-5fe1-8f2d-2bec915efa97\u001b[0m  \u001b[1;36m1993\u001b[0m-\u001b[1;36m02\u001b[0m-\u001b[1;36m04\u001b[0m        NaN  \u001b[1;36m999\u001b[0m-\u001b[1;36m53\u001b[0m-\u001b[1;36m6488\u001b[0m   \n",
       "\u001b[1;36m3\u001b[0m  \u001b[93mabc59f62-dc5a-5095-1141-80b4ee8be73b\u001b[0m  \u001b[1;36m1995\u001b[0m-\u001b[1;36m05\u001b[0m-\u001b[1;36m23\u001b[0m        NaN  \u001b[1;36m999\u001b[0m-\u001b[1;36m37\u001b[0m-\u001b[1;36m1058\u001b[0m   \n",
       "\u001b[1;36m4\u001b[0m  \u001b[93m28d7b56c-6056-d0a2-2991-39d6e917216c\u001b[0m  \u001b[1;36m1993\u001b[0m-\u001b[1;36m11\u001b[0m-\u001b[1;36m13\u001b[0m        NaN  \u001b[1;36m999\u001b[0m-\u001b[1;36m31\u001b[0m-\u001b[1;36m6091\u001b[0m   \n",
       "\n",
       "     DRIVERS    PASSPORT PREFIX         FIRST         LAST SUFFIX  \u001b[33m...\u001b[0m  \\\n",
       "\u001b[1;36m0\u001b[0m  S99987398  X44428214X    Ms.  Fredricka415     Crist667    NaN  \u001b[33m...\u001b[0m   \n",
       "\u001b[1;36m1\u001b[0m  S99999770  X75016560X    Mr.    Lorenzo669   Urrutia540    NaN  \u001b[33m...\u001b[0m   \n",
       "\u001b[1;36m2\u001b[0m  S99979170  X60079936X    Mr.     Luther918  MacGyver246    NaN  \u001b[33m...\u001b[0m   \n",
       "\u001b[1;36m3\u001b[0m  S99981031  X14759314X   Mrs.     Jacque955     Jones311    NaN  \u001b[33m...\u001b[0m   \n",
       "\u001b[1;36m4\u001b[0m  S99958903  X63033472X   Mrs.     Angela104   Stanton715    NaN  \u001b[33m...\u001b[0m   \n",
       "\n",
       "         CITY  STATE           COUNTY     FIPS    ZIP       LAT         LON  \\\n",
       "\u001b[1;36m0\u001b[0m  Fort Worth  Texas   Tarrant County  \u001b[1;36m48439.0\u001b[0m  \u001b[1;36m76104\u001b[0m  \u001b[1;36m0.329154\u001b[0m  \u001b[1;36m-97.399553\u001b[0m   \n",
       "\u001b[1;36m1\u001b[0m   Arlington  Texas   Tarrant County  \u001b[1;36m48439.0\u001b[0m  \u001b[1;36m76006\u001b[0m  \u001b[1;36m0.328145\u001b[0m  \u001b[1;36m-97.068885\u001b[0m   \n",
       "\u001b[1;36m2\u001b[0m     Houston  Texas    Harris County  \u001b[1;36m48339.0\u001b[0m  \u001b[1;36m77357\u001b[0m  \u001b[1;36m0.300834\u001b[0m  \u001b[1;36m-95.649706\u001b[0m   \n",
       "\u001b[1;36m3\u001b[0m        Waco  Texas  McLennan County  \u001b[1;36m48309.0\u001b[0m  \u001b[1;36m76655\u001b[0m  \u001b[1;36m0.315173\u001b[0m  \u001b[1;36m-97.292558\u001b[0m   \n",
       "\u001b[1;36m4\u001b[0m   Levelland  Texas   Hockley County  \u001b[1;36m48219.0\u001b[0m  \u001b[1;36m79336\u001b[0m  \u001b[1;36m0.337037\u001b[0m \u001b[1;36m-102.361829\u001b[0m   \n",
       "\n",
       "  HEALTHCARE_EXPENSES HEALTHCARE_COVERAGE INCOME  \n",
       "\u001b[1;36m0\u001b[0m             \u001b[1;36m9990.08\u001b[0m                 \u001b[1;36m0.0\u001b[0m  \u001b[1;36m35460\u001b[0m  \n",
       "\u001b[1;36m1\u001b[0m            \u001b[1;36m10936.80\u001b[0m                 \u001b[1;36m0.0\u001b[0m  \u001b[1;36m88407\u001b[0m  \n",
       "\u001b[1;36m2\u001b[0m            \u001b[1;36m10662.16\u001b[0m                 \u001b[1;36m0.0\u001b[0m  \u001b[1;36m41800\u001b[0m  \n",
       "\u001b[1;36m3\u001b[0m            \u001b[1;36m11455.93\u001b[0m                 \u001b[1;36m0.0\u001b[0m  \u001b[1;36m41915\u001b[0m  \n",
       "\u001b[1;36m4\u001b[0m            \u001b[1;36m12449.11\u001b[0m                 \u001b[1;36m0.0\u001b[0m  \u001b[1;36m67198\u001b[0m  \n",
       "\n",
       "\u001b[1m[\u001b[0m\u001b[1;36m5\u001b[0m rows x \u001b[1;36m27\u001b[0m columns\u001b[1m]\u001b[0m"
      ]
     },
     "execution_count": 31,
     "metadata": {},
     "output_type": "execute_result"
    }
   ],
   "source": [
    "patients.head()"
   ]
  },
  {
   "cell_type": "code",
   "execution_count": 32,
   "id": "85e30c66-d202-4989-9701-19ae6ca11850",
   "metadata": {},
   "outputs": [
    {
     "data": {
      "text/html": [
       "<pre style=\"white-space:pre;overflow-x:auto;line-height:normal;font-family:Menlo,'DejaVu Sans Mono',consolas,'Courier New',monospace\"></pre>\n"
      ],
      "text/plain": []
     },
     "metadata": {},
     "output_type": "display_data"
    },
    {
     "data": {
      "text/plain": [
       "\n",
       "\u001b[1;36m0\u001b[0m      \u001b[1;36m2002\u001b[0m-\u001b[1;36m01\u001b[0m-\u001b[1;36m21\u001b[0m\n",
       "\u001b[1;36m1\u001b[0m      \u001b[1;36m1997\u001b[0m-\u001b[1;36m04\u001b[0m-\u001b[1;36m16\u001b[0m\n",
       "\u001b[1;36m2\u001b[0m      \u001b[1;36m1993\u001b[0m-\u001b[1;36m02\u001b[0m-\u001b[1;36m04\u001b[0m\n",
       "\u001b[1;36m3\u001b[0m      \u001b[1;36m1995\u001b[0m-\u001b[1;36m05\u001b[0m-\u001b[1;36m23\u001b[0m\n",
       "\u001b[1;36m4\u001b[0m      \u001b[1;36m1993\u001b[0m-\u001b[1;36m11\u001b[0m-\u001b[1;36m13\u001b[0m\n",
       "          \u001b[33m...\u001b[0m    \n",
       "\u001b[1;36m9995\u001b[0m   \u001b[1;36m1959\u001b[0m-\u001b[1;36m03\u001b[0m-\u001b[1;36m31\u001b[0m\n",
       "\u001b[1;36m9996\u001b[0m   \u001b[1;36m1963\u001b[0m-\u001b[1;36m12\u001b[0m-\u001b[1;36m17\u001b[0m\n",
       "\u001b[1;36m9997\u001b[0m   \u001b[1;36m1985\u001b[0m-\u001b[1;36m01\u001b[0m-\u001b[1;36m01\u001b[0m\n",
       "\u001b[1;36m9998\u001b[0m   \u001b[1;36m1992\u001b[0m-\u001b[1;36m04\u001b[0m-\u001b[1;36m09\u001b[0m\n",
       "\u001b[1;36m9999\u001b[0m   \u001b[1;36m1968\u001b[0m-\u001b[1;36m03\u001b[0m-\u001b[1;36m07\u001b[0m\n",
       "Name: BIRTHDATE, Length: \u001b[1;36m10000\u001b[0m, dtype: datetime64\u001b[1m[\u001b[0mns\u001b[1m]\u001b[0m"
      ]
     },
     "execution_count": 32,
     "metadata": {},
     "output_type": "execute_result"
    }
   ],
   "source": [
    "import pandas as pd\n",
    "pd.to_datetime(patients['BIRTHDATE'], errors='coerce')"
   ]
  },
  {
   "cell_type": "code",
   "execution_count": 33,
   "id": "59d8bd9d-be88-4dbc-bd66-85c967ff18e3",
   "metadata": {},
   "outputs": [
    {
     "data": {
      "text/html": [
       "<pre style=\"white-space:pre;overflow-x:auto;line-height:normal;font-family:Menlo,'DejaVu Sans Mono',consolas,'Courier New',monospace\"></pre>\n"
      ],
      "text/plain": []
     },
     "metadata": {},
     "output_type": "display_data"
    },
    {
     "data": {
      "text/plain": [
       "\u001b[1m(\u001b[0m\u001b[1;36m10000\u001b[0m, \u001b[1;36m27\u001b[0m\u001b[1m)\u001b[0m"
      ]
     },
     "execution_count": 33,
     "metadata": {},
     "output_type": "execute_result"
    }
   ],
   "source": [
    "patients.shape"
   ]
  },
  {
   "cell_type": "code",
   "execution_count": 34,
   "id": "7f9501f8-f48d-44f7-8d05-0873fd8be5fa",
   "metadata": {},
   "outputs": [],
   "source": [
    "patients['BIRTHDATE'] = pd.to_datetime(patients['BIRTHDATE'], errors='coerce')\n",
    "patients = patients.dropna(subset=['BIRTHDATE'])"
   ]
  },
  {
   "cell_type": "code",
   "execution_count": 35,
   "id": "44f2304c-35c2-4396-a1c8-17e513c188ef",
   "metadata": {},
   "outputs": [
    {
     "data": {
      "text/html": [
       "<pre style=\"white-space:pre;overflow-x:auto;line-height:normal;font-family:Menlo,'DejaVu Sans Mono',consolas,'Courier New',monospace\"></pre>\n"
      ],
      "text/plain": []
     },
     "metadata": {},
     "output_type": "display_data"
    },
    {
     "data": {
      "text/plain": [
       "\u001b[1m(\u001b[0m\u001b[1;36m9850\u001b[0m, \u001b[1;36m27\u001b[0m\u001b[1m)\u001b[0m"
      ]
     },
     "execution_count": 35,
     "metadata": {},
     "output_type": "execute_result"
    }
   ],
   "source": [
    "patients.shape"
   ]
  },
  {
   "cell_type": "code",
   "execution_count": 36,
   "id": "58ba38b4-7edb-4a99-9152-c0e95495b30d",
   "metadata": {},
   "outputs": [
    {
     "data": {
      "text/html": [
       "<pre style=\"white-space:pre;overflow-x:auto;line-height:normal;font-family:Menlo,'DejaVu Sans Mono',consolas,'Courier New',monospace\"></pre>\n"
      ],
      "text/plain": []
     },
     "metadata": {},
     "output_type": "display_data"
    },
    {
     "data": {
      "text/plain": [
       "\u001b[1;35marray\u001b[0m\u001b[1m(\u001b[0m\u001b[1m[\u001b[0mnan\u001b[1m]\u001b[0m\u001b[1m)\u001b[0m"
      ]
     },
     "execution_count": 36,
     "metadata": {},
     "output_type": "execute_result"
    }
   ],
   "source": [
    "patients['DEATHDATE'].unique()"
   ]
  },
  {
   "cell_type": "code",
   "execution_count": 37,
   "id": "8812f4bf-43d2-4cb9-9111-debd8c048d9d",
   "metadata": {},
   "outputs": [
    {
     "data": {
      "text/html": [
       "<pre style=\"white-space:pre;overflow-x:auto;line-height:normal;font-family:Menlo,'DejaVu Sans Mono',consolas,'Courier New',monospace\"></pre>\n"
      ],
      "text/plain": []
     },
     "metadata": {},
     "output_type": "display_data"
    },
    {
     "data": {
      "text/plain": [
       "\n",
       "\u001b[1;35marray\u001b[0m\u001b[1m(\u001b[0m\u001b[1m[\u001b[0m\u001b[32m'X44428214X'\u001b[0m, \u001b[32m'X75016560X'\u001b[0m, \u001b[32m'X60079936X'\u001b[0m, \u001b[33m...\u001b[0m, \u001b[32m'X32133517X'\u001b[0m,\n",
       "       \u001b[32m'X76311302X'\u001b[0m, \u001b[32m'X65201727X'\u001b[0m\u001b[1m]\u001b[0m, \u001b[33mshape\u001b[0m=\u001b[1m(\u001b[0m\u001b[1;36m6934\u001b[0m,\u001b[1m)\u001b[0m, \u001b[33mdtype\u001b[0m=\u001b[35mobject\u001b[0m\u001b[1m)\u001b[0m"
      ]
     },
     "execution_count": 37,
     "metadata": {},
     "output_type": "execute_result"
    }
   ],
   "source": [
    "patients['PASSPORT'].unique()"
   ]
  },
  {
   "cell_type": "code",
   "execution_count": 38,
   "id": "eef986e1-e1ca-47a8-b1c2-99be6f822621",
   "metadata": {},
   "outputs": [
    {
     "data": {
      "text/html": [
       "<pre style=\"white-space:pre;overflow-x:auto;line-height:normal;font-family:Menlo,'DejaVu Sans Mono',consolas,'Courier New',monospace\"></pre>\n"
      ],
      "text/plain": []
     },
     "metadata": {},
     "output_type": "display_data"
    },
    {
     "data": {
      "text/plain": [
       "\u001b[1;35marray\u001b[0m\u001b[1m(\u001b[0m\u001b[1m[\u001b[0m\u001b[32m'Ms.'\u001b[0m, \u001b[32m'Mr.'\u001b[0m, \u001b[32m'Mrs.'\u001b[0m, nan\u001b[1m]\u001b[0m, \u001b[33mdtype\u001b[0m=\u001b[35mobject\u001b[0m\u001b[1m)\u001b[0m"
      ]
     },
     "execution_count": 38,
     "metadata": {},
     "output_type": "execute_result"
    }
   ],
   "source": [
    "patients['PREFIX'].unique()"
   ]
  },
  {
   "cell_type": "code",
   "execution_count": 39,
   "id": "138f47c7-aae5-4f96-89c1-1a0710b5b315",
   "metadata": {},
   "outputs": [],
   "source": [
    "df = patients[patients['PREFIX']!=\"Ms.\"]"
   ]
  },
  {
   "cell_type": "code",
   "execution_count": 40,
   "id": "e63106e0-6a2e-4e43-b41c-cae6ee67fe4f",
   "metadata": {},
   "outputs": [],
   "source": [
    "df = df[df['PREFIX']!=\"Mrs.\"]"
   ]
  },
  {
   "cell_type": "code",
   "execution_count": 41,
   "id": "49b3a853-d6b2-418e-b3f0-a7a385d4d398",
   "metadata": {},
   "outputs": [],
   "source": [
    "df = df[df['PREFIX']!=\"Mr.\"]"
   ]
  },
  {
   "cell_type": "code",
   "execution_count": 42,
   "id": "006c1fe9-16ab-4db4-b1fd-425877f94de0",
   "metadata": {},
   "outputs": [
    {
     "data": {
      "text/html": [
       "<pre style=\"white-space:pre;overflow-x:auto;line-height:normal;font-family:Menlo,'DejaVu Sans Mono',consolas,'Courier New',monospace\"></pre>\n"
      ],
      "text/plain": []
     },
     "metadata": {},
     "output_type": "display_data"
    },
    {
     "data": {
      "text/plain": [
       "\u001b[1m(\u001b[0m\u001b[1;36m2624\u001b[0m, \u001b[1;36m27\u001b[0m\u001b[1m)\u001b[0m"
      ]
     },
     "execution_count": 42,
     "metadata": {},
     "output_type": "execute_result"
    }
   ],
   "source": [
    "df.shape"
   ]
  },
  {
   "cell_type": "code",
   "execution_count": 43,
   "id": "dbafa211-fb6b-414b-9c7f-ed597dc33d16",
   "metadata": {},
   "outputs": [
    {
     "data": {
      "text/html": [
       "<pre style=\"white-space:pre;overflow-x:auto;line-height:normal;font-family:Menlo,'DejaVu Sans Mono',consolas,'Courier New',monospace\"></pre>\n"
      ],
      "text/plain": []
     },
     "metadata": {},
     "output_type": "display_data"
    },
    {
     "data": {
      "text/html": [
       "<div>\n",
       "<style scoped>\n",
       "    .dataframe tbody tr th:only-of-type {\n",
       "        vertical-align: middle;\n",
       "    }\n",
       "\n",
       "    .dataframe tbody tr th {\n",
       "        vertical-align: top;\n",
       "    }\n",
       "\n",
       "    .dataframe thead th {\n",
       "        text-align: right;\n",
       "    }\n",
       "</style>\n",
       "<table border=\"1\" class=\"dataframe\">\n",
       "  <thead>\n",
       "    <tr style=\"text-align: right;\">\n",
       "      <th></th>\n",
       "      <th>PATIENT_ID</th>\n",
       "      <th>BIRTHDATE</th>\n",
       "      <th>DEATHDATE</th>\n",
       "      <th>SSN</th>\n",
       "      <th>DRIVERS</th>\n",
       "      <th>PASSPORT</th>\n",
       "      <th>PREFIX</th>\n",
       "      <th>FIRST</th>\n",
       "      <th>LAST</th>\n",
       "      <th>SUFFIX</th>\n",
       "      <th>...</th>\n",
       "      <th>CITY</th>\n",
       "      <th>STATE</th>\n",
       "      <th>COUNTY</th>\n",
       "      <th>FIPS</th>\n",
       "      <th>ZIP</th>\n",
       "      <th>LAT</th>\n",
       "      <th>LON</th>\n",
       "      <th>HEALTHCARE_EXPENSES</th>\n",
       "      <th>HEALTHCARE_COVERAGE</th>\n",
       "      <th>INCOME</th>\n",
       "    </tr>\n",
       "  </thead>\n",
       "  <tbody>\n",
       "    <tr>\n",
       "      <th>7</th>\n",
       "      <td>a02a3f43-b6f4-d209-4062-af0cec3b22c1</td>\n",
       "      <td>2014-07-10</td>\n",
       "      <td>NaN</td>\n",
       "      <td>999-99-5386</td>\n",
       "      <td>NaN</td>\n",
       "      <td>NaN</td>\n",
       "      <td>NaN</td>\n",
       "      <td>Jacobo456</td>\n",
       "      <td>Malave728</td>\n",
       "      <td>NaN</td>\n",
       "      <td>...</td>\n",
       "      <td>DeSoto</td>\n",
       "      <td>Texas</td>\n",
       "      <td>Dallas County</td>\n",
       "      <td>48113.0</td>\n",
       "      <td>75115</td>\n",
       "      <td>0.325882</td>\n",
       "      <td>-96.855265</td>\n",
       "      <td>7296.48</td>\n",
       "      <td>0.00</td>\n",
       "      <td>65295</td>\n",
       "    </tr>\n",
       "    <tr>\n",
       "      <th>32</th>\n",
       "      <td>aeb6fd40-c0da-23a8-7b46-6c9fe558d7b2</td>\n",
       "      <td>2020-03-26</td>\n",
       "      <td>NaN</td>\n",
       "      <td>999-22-1245</td>\n",
       "      <td>NaN</td>\n",
       "      <td>NaN</td>\n",
       "      <td>NaN</td>\n",
       "      <td>María del Carmen27</td>\n",
       "      <td>Garay400</td>\n",
       "      <td>NaN</td>\n",
       "      <td>...</td>\n",
       "      <td>San Antonio</td>\n",
       "      <td>Texas</td>\n",
       "      <td>Bexar County</td>\n",
       "      <td>48029.0</td>\n",
       "      <td>78256</td>\n",
       "      <td>0.292639</td>\n",
       "      <td>-98.524764</td>\n",
       "      <td>400.00</td>\n",
       "      <td>4736.32</td>\n",
       "      <td>15181</td>\n",
       "    </tr>\n",
       "    <tr>\n",
       "      <th>33</th>\n",
       "      <td>fb00b97e-91b2-234e-4c91-09276b3d8366</td>\n",
       "      <td>2010-07-21</td>\n",
       "      <td>NaN</td>\n",
       "      <td>999-48-1687</td>\n",
       "      <td>NaN</td>\n",
       "      <td>NaN</td>\n",
       "      <td>NaN</td>\n",
       "      <td>Kristina583</td>\n",
       "      <td>Pfeffer420</td>\n",
       "      <td>NaN</td>\n",
       "      <td>...</td>\n",
       "      <td>Fort Worth</td>\n",
       "      <td>Texas</td>\n",
       "      <td>Tarrant County</td>\n",
       "      <td>48439.0</td>\n",
       "      <td>76052</td>\n",
       "      <td>0.326214</td>\n",
       "      <td>-97.173631</td>\n",
       "      <td>9553.46</td>\n",
       "      <td>0.00</td>\n",
       "      <td>71910</td>\n",
       "    </tr>\n",
       "    <tr>\n",
       "      <th>34</th>\n",
       "      <td>7e1e93f8-2031-7073-b428-b300a71d0b5f</td>\n",
       "      <td>2017-09-21</td>\n",
       "      <td>NaN</td>\n",
       "      <td>999-39-3058</td>\n",
       "      <td>NaN</td>\n",
       "      <td>NaN</td>\n",
       "      <td>NaN</td>\n",
       "      <td>Elvira561</td>\n",
       "      <td>Téllez750</td>\n",
       "      <td>NaN</td>\n",
       "      <td>...</td>\n",
       "      <td>Corpus Christi</td>\n",
       "      <td>Texas</td>\n",
       "      <td>Nueces County</td>\n",
       "      <td>48355.0</td>\n",
       "      <td>78413</td>\n",
       "      <td>0.277225</td>\n",
       "      <td>-97.349200</td>\n",
       "      <td>600.00</td>\n",
       "      <td>5888.40</td>\n",
       "      <td>22729</td>\n",
       "    </tr>\n",
       "    <tr>\n",
       "      <th>38</th>\n",
       "      <td>e5b40b82-031b-610f-787e-2a4242efcfea</td>\n",
       "      <td>2014-04-20</td>\n",
       "      <td>NaN</td>\n",
       "      <td>999-80-5043</td>\n",
       "      <td>NaN</td>\n",
       "      <td>NaN</td>\n",
       "      <td>NaN</td>\n",
       "      <td>Romaine793</td>\n",
       "      <td>Brakus656</td>\n",
       "      <td>NaN</td>\n",
       "      <td>...</td>\n",
       "      <td>Quanah</td>\n",
       "      <td>Texas</td>\n",
       "      <td>Hardeman County</td>\n",
       "      <td>48197.0</td>\n",
       "      <td>79252</td>\n",
       "      <td>0.343476</td>\n",
       "      <td>-99.785750</td>\n",
       "      <td>900.00</td>\n",
       "      <td>6396.48</td>\n",
       "      <td>11387</td>\n",
       "    </tr>\n",
       "  </tbody>\n",
       "</table>\n",
       "<p>5 rows × 27 columns</p>\n",
       "</div>"
      ],
      "text/plain": [
       "\n",
       "                              PATIENT_ID  BIRTHDATE  DEATHDATE          SSN  \\\n",
       "\u001b[1;36m7\u001b[0m   \u001b[93ma02a3f43-b6f4-d209-4062-af0cec3b22c1\u001b[0m \u001b[1;36m2014\u001b[0m-\u001b[1;36m07\u001b[0m-\u001b[1;36m10\u001b[0m        NaN  \u001b[1;36m999\u001b[0m-\u001b[1;36m99\u001b[0m-\u001b[1;36m5386\u001b[0m   \n",
       "\u001b[1;36m32\u001b[0m  \u001b[93maeb6fd40-c0da-23a8-7b46-6c9fe558d7b2\u001b[0m \u001b[1;36m2020\u001b[0m-\u001b[1;36m03\u001b[0m-\u001b[1;36m26\u001b[0m        NaN  \u001b[1;36m999\u001b[0m-\u001b[1;36m22\u001b[0m-\u001b[1;36m1245\u001b[0m   \n",
       "\u001b[1;36m33\u001b[0m  \u001b[93mfb00b97e-91b2-234e-4c91-09276b3d8366\u001b[0m \u001b[1;36m2010\u001b[0m-\u001b[1;36m07\u001b[0m-\u001b[1;36m21\u001b[0m        NaN  \u001b[1;36m999\u001b[0m-\u001b[1;36m48\u001b[0m-\u001b[1;36m1687\u001b[0m   \n",
       "\u001b[1;36m34\u001b[0m  \u001b[93m7e1e93f8-2031-7073-b428-b300a71d0b5f\u001b[0m \u001b[1;36m2017\u001b[0m-\u001b[1;36m09\u001b[0m-\u001b[1;36m21\u001b[0m        NaN  \u001b[1;36m999\u001b[0m-\u001b[1;36m39\u001b[0m-\u001b[1;36m3058\u001b[0m   \n",
       "\u001b[1;36m38\u001b[0m  \u001b[93me5b40b82-031b-610f-787e-2a4242efcfea\u001b[0m \u001b[1;36m2014\u001b[0m-\u001b[1;36m04\u001b[0m-\u001b[1;36m20\u001b[0m        NaN  \u001b[1;36m999\u001b[0m-\u001b[1;36m80\u001b[0m-\u001b[1;36m5043\u001b[0m   \n",
       "\n",
       "   DRIVERS PASSPORT PREFIX               FIRST        LAST SUFFIX  \u001b[33m...\u001b[0m  \\\n",
       "\u001b[1;36m7\u001b[0m      NaN      NaN    NaN           Jacobo456   Malave728    NaN  \u001b[33m...\u001b[0m   \n",
       "\u001b[1;36m32\u001b[0m     NaN      NaN    NaN  María del Carmen27    Garay400    NaN  \u001b[33m...\u001b[0m   \n",
       "\u001b[1;36m33\u001b[0m     NaN      NaN    NaN         Kristina583  Pfeffer420    NaN  \u001b[33m...\u001b[0m   \n",
       "\u001b[1;36m34\u001b[0m     NaN      NaN    NaN           Elvira561   Téllez750    NaN  \u001b[33m...\u001b[0m   \n",
       "\u001b[1;36m38\u001b[0m     NaN      NaN    NaN          Romaine793   Brakus656    NaN  \u001b[33m...\u001b[0m   \n",
       "\n",
       "              CITY  STATE           COUNTY     FIPS    ZIP       LAT  \\\n",
       "\u001b[1;36m7\u001b[0m           DeSoto  Texas    Dallas County  \u001b[1;36m48113.0\u001b[0m  \u001b[1;36m75115\u001b[0m  \u001b[1;36m0.325882\u001b[0m   \n",
       "\u001b[1;36m32\u001b[0m     San Antonio  Texas     Bexar County  \u001b[1;36m48029.0\u001b[0m  \u001b[1;36m78256\u001b[0m  \u001b[1;36m0.292639\u001b[0m   \n",
       "\u001b[1;36m33\u001b[0m      Fort Worth  Texas   Tarrant County  \u001b[1;36m48439.0\u001b[0m  \u001b[1;36m76052\u001b[0m  \u001b[1;36m0.326214\u001b[0m   \n",
       "\u001b[1;36m34\u001b[0m  Corpus Christi  Texas    Nueces County  \u001b[1;36m48355.0\u001b[0m  \u001b[1;36m78413\u001b[0m  \u001b[1;36m0.277225\u001b[0m   \n",
       "\u001b[1;36m38\u001b[0m          Quanah  Texas  Hardeman County  \u001b[1;36m48197.0\u001b[0m  \u001b[1;36m79252\u001b[0m  \u001b[1;36m0.343476\u001b[0m   \n",
       "\n",
       "          LON HEALTHCARE_EXPENSES HEALTHCARE_COVERAGE INCOME  \n",
       "\u001b[1;36m7\u001b[0m  \u001b[1;36m-96.855265\u001b[0m             \u001b[1;36m7296.48\u001b[0m                \u001b[1;36m0.00\u001b[0m  \u001b[1;36m65295\u001b[0m  \n",
       "\u001b[1;36m32\u001b[0m \u001b[1;36m-98.524764\u001b[0m              \u001b[1;36m400.00\u001b[0m             \u001b[1;36m4736.32\u001b[0m  \u001b[1;36m15181\u001b[0m  \n",
       "\u001b[1;36m33\u001b[0m \u001b[1;36m-97.173631\u001b[0m             \u001b[1;36m9553.46\u001b[0m                \u001b[1;36m0.00\u001b[0m  \u001b[1;36m71910\u001b[0m  \n",
       "\u001b[1;36m34\u001b[0m \u001b[1;36m-97.349200\u001b[0m              \u001b[1;36m600.00\u001b[0m             \u001b[1;36m5888.40\u001b[0m  \u001b[1;36m22729\u001b[0m  \n",
       "\u001b[1;36m38\u001b[0m \u001b[1;36m-99.785750\u001b[0m              \u001b[1;36m900.00\u001b[0m             \u001b[1;36m6396.48\u001b[0m  \u001b[1;36m11387\u001b[0m  \n",
       "\n",
       "\u001b[1m[\u001b[0m\u001b[1;36m5\u001b[0m rows x \u001b[1;36m27\u001b[0m columns\u001b[1m]\u001b[0m"
      ]
     },
     "execution_count": 43,
     "metadata": {},
     "output_type": "execute_result"
    }
   ],
   "source": [
    "df.head()"
   ]
  },
  {
   "cell_type": "code",
   "execution_count": 44,
   "id": "1ddfa33a-3f88-4515-9f18-32edcc804904",
   "metadata": {},
   "outputs": [
    {
     "data": {
      "text/html": [
       "<pre style=\"white-space:pre;overflow-x:auto;line-height:normal;font-family:Menlo,'DejaVu Sans Mono',consolas,'Courier New',monospace\"></pre>\n"
      ],
      "text/plain": []
     },
     "metadata": {},
     "output_type": "display_data"
    },
    {
     "data": {
      "text/html": [
       "<div>\n",
       "<style scoped>\n",
       "    .dataframe tbody tr th:only-of-type {\n",
       "        vertical-align: middle;\n",
       "    }\n",
       "\n",
       "    .dataframe tbody tr th {\n",
       "        vertical-align: top;\n",
       "    }\n",
       "\n",
       "    .dataframe thead th {\n",
       "        text-align: right;\n",
       "    }\n",
       "</style>\n",
       "<table border=\"1\" class=\"dataframe\">\n",
       "  <thead>\n",
       "    <tr style=\"text-align: right;\">\n",
       "      <th></th>\n",
       "      <th>PATIENT_ID</th>\n",
       "      <th>BIRTHDATE</th>\n",
       "      <th>DEATHDATE</th>\n",
       "      <th>SSN</th>\n",
       "      <th>DRIVERS</th>\n",
       "      <th>PASSPORT</th>\n",
       "      <th>PREFIX</th>\n",
       "      <th>FIRST</th>\n",
       "      <th>LAST</th>\n",
       "      <th>SUFFIX</th>\n",
       "      <th>...</th>\n",
       "      <th>CITY</th>\n",
       "      <th>STATE</th>\n",
       "      <th>COUNTY</th>\n",
       "      <th>FIPS</th>\n",
       "      <th>ZIP</th>\n",
       "      <th>LAT</th>\n",
       "      <th>LON</th>\n",
       "      <th>HEALTHCARE_EXPENSES</th>\n",
       "      <th>HEALTHCARE_COVERAGE</th>\n",
       "      <th>INCOME</th>\n",
       "    </tr>\n",
       "  </thead>\n",
       "  <tbody>\n",
       "    <tr>\n",
       "      <th>0</th>\n",
       "      <td>54f1059e-6250-3949-6dd0-1dda9b85d22a</td>\n",
       "      <td>2002-01-21</td>\n",
       "      <td>NaN</td>\n",
       "      <td>999-28-3364</td>\n",
       "      <td>S99987398</td>\n",
       "      <td>X44428214X</td>\n",
       "      <td>Ms.</td>\n",
       "      <td>Fredricka415</td>\n",
       "      <td>Crist667</td>\n",
       "      <td>NaN</td>\n",
       "      <td>...</td>\n",
       "      <td>Fort Worth</td>\n",
       "      <td>Texas</td>\n",
       "      <td>Tarrant County</td>\n",
       "      <td>48439.0</td>\n",
       "      <td>76104</td>\n",
       "      <td>0.329154</td>\n",
       "      <td>-97.399553</td>\n",
       "      <td>9990.08</td>\n",
       "      <td>0.0</td>\n",
       "      <td>35460</td>\n",
       "    </tr>\n",
       "    <tr>\n",
       "      <th>1</th>\n",
       "      <td>92675303-ca5b-136a-169b-e764c5753f06</td>\n",
       "      <td>1997-04-16</td>\n",
       "      <td>NaN</td>\n",
       "      <td>999-62-9859</td>\n",
       "      <td>S99999770</td>\n",
       "      <td>X75016560X</td>\n",
       "      <td>Mr.</td>\n",
       "      <td>Lorenzo669</td>\n",
       "      <td>Urrutia540</td>\n",
       "      <td>NaN</td>\n",
       "      <td>...</td>\n",
       "      <td>Arlington</td>\n",
       "      <td>Texas</td>\n",
       "      <td>Tarrant County</td>\n",
       "      <td>48439.0</td>\n",
       "      <td>76006</td>\n",
       "      <td>0.328145</td>\n",
       "      <td>-97.068885</td>\n",
       "      <td>10936.80</td>\n",
       "      <td>0.0</td>\n",
       "      <td>88407</td>\n",
       "    </tr>\n",
       "    <tr>\n",
       "      <th>2</th>\n",
       "      <td>a0b63e97-b6fd-5fe1-8f2d-2bec915efa97</td>\n",
       "      <td>1993-02-04</td>\n",
       "      <td>NaN</td>\n",
       "      <td>999-53-6488</td>\n",
       "      <td>S99979170</td>\n",
       "      <td>X60079936X</td>\n",
       "      <td>Mr.</td>\n",
       "      <td>Luther918</td>\n",
       "      <td>MacGyver246</td>\n",
       "      <td>NaN</td>\n",
       "      <td>...</td>\n",
       "      <td>Houston</td>\n",
       "      <td>Texas</td>\n",
       "      <td>Harris County</td>\n",
       "      <td>48339.0</td>\n",
       "      <td>77357</td>\n",
       "      <td>0.300834</td>\n",
       "      <td>-95.649706</td>\n",
       "      <td>10662.16</td>\n",
       "      <td>0.0</td>\n",
       "      <td>41800</td>\n",
       "    </tr>\n",
       "    <tr>\n",
       "      <th>3</th>\n",
       "      <td>abc59f62-dc5a-5095-1141-80b4ee8be73b</td>\n",
       "      <td>1995-05-23</td>\n",
       "      <td>NaN</td>\n",
       "      <td>999-37-1058</td>\n",
       "      <td>S99981031</td>\n",
       "      <td>X14759314X</td>\n",
       "      <td>Mrs.</td>\n",
       "      <td>Jacque955</td>\n",
       "      <td>Jones311</td>\n",
       "      <td>NaN</td>\n",
       "      <td>...</td>\n",
       "      <td>Waco</td>\n",
       "      <td>Texas</td>\n",
       "      <td>McLennan County</td>\n",
       "      <td>48309.0</td>\n",
       "      <td>76655</td>\n",
       "      <td>0.315173</td>\n",
       "      <td>-97.292558</td>\n",
       "      <td>11455.93</td>\n",
       "      <td>0.0</td>\n",
       "      <td>41915</td>\n",
       "    </tr>\n",
       "    <tr>\n",
       "      <th>4</th>\n",
       "      <td>28d7b56c-6056-d0a2-2991-39d6e917216c</td>\n",
       "      <td>1993-11-13</td>\n",
       "      <td>NaN</td>\n",
       "      <td>999-31-6091</td>\n",
       "      <td>S99958903</td>\n",
       "      <td>X63033472X</td>\n",
       "      <td>Mrs.</td>\n",
       "      <td>Angela104</td>\n",
       "      <td>Stanton715</td>\n",
       "      <td>NaN</td>\n",
       "      <td>...</td>\n",
       "      <td>Levelland</td>\n",
       "      <td>Texas</td>\n",
       "      <td>Hockley County</td>\n",
       "      <td>48219.0</td>\n",
       "      <td>79336</td>\n",
       "      <td>0.337037</td>\n",
       "      <td>-102.361829</td>\n",
       "      <td>12449.11</td>\n",
       "      <td>0.0</td>\n",
       "      <td>67198</td>\n",
       "    </tr>\n",
       "  </tbody>\n",
       "</table>\n",
       "<p>5 rows × 27 columns</p>\n",
       "</div>"
      ],
      "text/plain": [
       "\n",
       "                             PATIENT_ID  BIRTHDATE  DEATHDATE          SSN  \\\n",
       "\u001b[1;36m0\u001b[0m  \u001b[93m54f1059e-6250-3949-6dd0-1dda9b85d22a\u001b[0m \u001b[1;36m2002\u001b[0m-\u001b[1;36m01\u001b[0m-\u001b[1;36m21\u001b[0m        NaN  \u001b[1;36m999\u001b[0m-\u001b[1;36m28\u001b[0m-\u001b[1;36m3364\u001b[0m   \n",
       "\u001b[1;36m1\u001b[0m  \u001b[93m92675303-ca5b-136a-169b-e764c5753f06\u001b[0m \u001b[1;36m1997\u001b[0m-\u001b[1;36m04\u001b[0m-\u001b[1;36m16\u001b[0m        NaN  \u001b[1;36m999\u001b[0m-\u001b[1;36m62\u001b[0m-\u001b[1;36m9859\u001b[0m   \n",
       "\u001b[1;36m2\u001b[0m  \u001b[93ma0b63e97-b6fd-5fe1-8f2d-2bec915efa97\u001b[0m \u001b[1;36m1993\u001b[0m-\u001b[1;36m02\u001b[0m-\u001b[1;36m04\u001b[0m        NaN  \u001b[1;36m999\u001b[0m-\u001b[1;36m53\u001b[0m-\u001b[1;36m6488\u001b[0m   \n",
       "\u001b[1;36m3\u001b[0m  \u001b[93mabc59f62-dc5a-5095-1141-80b4ee8be73b\u001b[0m \u001b[1;36m1995\u001b[0m-\u001b[1;36m05\u001b[0m-\u001b[1;36m23\u001b[0m        NaN  \u001b[1;36m999\u001b[0m-\u001b[1;36m37\u001b[0m-\u001b[1;36m1058\u001b[0m   \n",
       "\u001b[1;36m4\u001b[0m  \u001b[93m28d7b56c-6056-d0a2-2991-39d6e917216c\u001b[0m \u001b[1;36m1993\u001b[0m-\u001b[1;36m11\u001b[0m-\u001b[1;36m13\u001b[0m        NaN  \u001b[1;36m999\u001b[0m-\u001b[1;36m31\u001b[0m-\u001b[1;36m6091\u001b[0m   \n",
       "\n",
       "     DRIVERS    PASSPORT PREFIX         FIRST         LAST SUFFIX  \u001b[33m...\u001b[0m  \\\n",
       "\u001b[1;36m0\u001b[0m  S99987398  X44428214X    Ms.  Fredricka415     Crist667    NaN  \u001b[33m...\u001b[0m   \n",
       "\u001b[1;36m1\u001b[0m  S99999770  X75016560X    Mr.    Lorenzo669   Urrutia540    NaN  \u001b[33m...\u001b[0m   \n",
       "\u001b[1;36m2\u001b[0m  S99979170  X60079936X    Mr.     Luther918  MacGyver246    NaN  \u001b[33m...\u001b[0m   \n",
       "\u001b[1;36m3\u001b[0m  S99981031  X14759314X   Mrs.     Jacque955     Jones311    NaN  \u001b[33m...\u001b[0m   \n",
       "\u001b[1;36m4\u001b[0m  S99958903  X63033472X   Mrs.     Angela104   Stanton715    NaN  \u001b[33m...\u001b[0m   \n",
       "\n",
       "         CITY  STATE           COUNTY     FIPS    ZIP       LAT         LON  \\\n",
       "\u001b[1;36m0\u001b[0m  Fort Worth  Texas   Tarrant County  \u001b[1;36m48439.0\u001b[0m  \u001b[1;36m76104\u001b[0m  \u001b[1;36m0.329154\u001b[0m  \u001b[1;36m-97.399553\u001b[0m   \n",
       "\u001b[1;36m1\u001b[0m   Arlington  Texas   Tarrant County  \u001b[1;36m48439.0\u001b[0m  \u001b[1;36m76006\u001b[0m  \u001b[1;36m0.328145\u001b[0m  \u001b[1;36m-97.068885\u001b[0m   \n",
       "\u001b[1;36m2\u001b[0m     Houston  Texas    Harris County  \u001b[1;36m48339.0\u001b[0m  \u001b[1;36m77357\u001b[0m  \u001b[1;36m0.300834\u001b[0m  \u001b[1;36m-95.649706\u001b[0m   \n",
       "\u001b[1;36m3\u001b[0m        Waco  Texas  McLennan County  \u001b[1;36m48309.0\u001b[0m  \u001b[1;36m76655\u001b[0m  \u001b[1;36m0.315173\u001b[0m  \u001b[1;36m-97.292558\u001b[0m   \n",
       "\u001b[1;36m4\u001b[0m   Levelland  Texas   Hockley County  \u001b[1;36m48219.0\u001b[0m  \u001b[1;36m79336\u001b[0m  \u001b[1;36m0.337037\u001b[0m \u001b[1;36m-102.361829\u001b[0m   \n",
       "\n",
       "  HEALTHCARE_EXPENSES HEALTHCARE_COVERAGE INCOME  \n",
       "\u001b[1;36m0\u001b[0m             \u001b[1;36m9990.08\u001b[0m                 \u001b[1;36m0.0\u001b[0m  \u001b[1;36m35460\u001b[0m  \n",
       "\u001b[1;36m1\u001b[0m            \u001b[1;36m10936.80\u001b[0m                 \u001b[1;36m0.0\u001b[0m  \u001b[1;36m88407\u001b[0m  \n",
       "\u001b[1;36m2\u001b[0m            \u001b[1;36m10662.16\u001b[0m                 \u001b[1;36m0.0\u001b[0m  \u001b[1;36m41800\u001b[0m  \n",
       "\u001b[1;36m3\u001b[0m            \u001b[1;36m11455.93\u001b[0m                 \u001b[1;36m0.0\u001b[0m  \u001b[1;36m41915\u001b[0m  \n",
       "\u001b[1;36m4\u001b[0m            \u001b[1;36m12449.11\u001b[0m                 \u001b[1;36m0.0\u001b[0m  \u001b[1;36m67198\u001b[0m  \n",
       "\n",
       "\u001b[1m[\u001b[0m\u001b[1;36m5\u001b[0m rows x \u001b[1;36m27\u001b[0m columns\u001b[1m]\u001b[0m"
      ]
     },
     "execution_count": 44,
     "metadata": {},
     "output_type": "execute_result"
    }
   ],
   "source": [
    "patients.head()"
   ]
  },
  {
   "cell_type": "code",
   "execution_count": 45,
   "id": "2a7f5623-5ed4-453e-8f78-9ea8fc245b2a",
   "metadata": {},
   "outputs": [
    {
     "data": {
      "text/html": [
       "<pre style=\"white-space:pre;overflow-x:auto;line-height:normal;font-family:Menlo,'DejaVu Sans Mono',consolas,'Courier New',monospace\"></pre>\n"
      ],
      "text/plain": []
     },
     "metadata": {},
     "output_type": "display_data"
    },
    {
     "data": {
      "text/plain": [
       "\u001b[1;35marray\u001b[0m\u001b[1m(\u001b[0m\u001b[1m[\u001b[0mnan\u001b[1m]\u001b[0m\u001b[1m)\u001b[0m"
      ]
     },
     "execution_count": 45,
     "metadata": {},
     "output_type": "execute_result"
    }
   ],
   "source": [
    "patients['GENDER'].unique()"
   ]
  },
  {
   "cell_type": "code",
   "execution_count": 46,
   "id": "efe315a9-9a15-4624-959d-b8fa1120d8ea",
   "metadata": {},
   "outputs": [
    {
     "data": {
      "text/html": [
       "<pre style=\"white-space:pre;overflow-x:auto;line-height:normal;font-family:Menlo,'DejaVu Sans Mono',consolas,'Courier New',monospace\"></pre>\n"
      ],
      "text/plain": []
     },
     "metadata": {},
     "output_type": "display_data"
    },
    {
     "data": {
      "text/plain": [
       "\n",
       "\u001b[1;35marray\u001b[0m\u001b[1m(\u001b[0m\u001b[1m[\u001b[0m\u001b[32m'Fort Worth'\u001b[0m, \u001b[32m'Arlington'\u001b[0m, \u001b[32m'Houston'\u001b[0m, \u001b[32m'Waco'\u001b[0m, \u001b[32m'Levelland'\u001b[0m,\n",
       "       \u001b[32m'Missouri City'\u001b[0m, \u001b[32m'DeSoto'\u001b[0m, \u001b[32m'Watauga'\u001b[0m, \u001b[32m'San Antonio'\u001b[0m, \u001b[32m'Pearland'\u001b[0m,\n",
       "       \u001b[32m'Dallas'\u001b[0m, \u001b[32m'Flower Mound'\u001b[0m, \u001b[32m'Austin'\u001b[0m, \u001b[32m'Post'\u001b[0m, \u001b[32m'Pantego'\u001b[0m, \u001b[32m'Lubbock'\u001b[0m,\n",
       "       \u001b[32m'El Paso'\u001b[0m, \u001b[32m'Georgetown'\u001b[0m, \u001b[32m'Huntsville'\u001b[0m, \u001b[32m'Silverton'\u001b[0m, \u001b[32m'Galveston'\u001b[0m,\n",
       "       \u001b[32m'Port Neches'\u001b[0m, \u001b[32m'Irving'\u001b[0m, \u001b[32m'Plano'\u001b[0m, \u001b[32m'Corpus Christi'\u001b[0m, \u001b[32m'Frisco'\u001b[0m,\n",
       "       \u001b[32m'Quanah'\u001b[0m, \u001b[32m'Rusk'\u001b[0m, \u001b[32m'Wolfforth'\u001b[0m, \u001b[32m'Balch Springs'\u001b[0m, \u001b[32m'Jourdanton'\u001b[0m,\n",
       "       \u001b[32m'Highland'\u001b[0m, \u001b[32m'Socorro'\u001b[0m, \u001b[32m'Lewisville'\u001b[0m, \u001b[32m'Star Harbor'\u001b[0m, \u001b[32m'Humble'\u001b[0m,\n",
       "       \u001b[32m'Fort Bliss'\u001b[0m, \u001b[32m'Hereford'\u001b[0m, \u001b[32m'Odessa'\u001b[0m, \u001b[32m'Cedar Park'\u001b[0m, \u001b[32m'Doolittle'\u001b[0m,\n",
       "       \u001b[32m'Laredo'\u001b[0m, \u001b[32m'Fabens'\u001b[0m, \u001b[32m'Round Rock'\u001b[0m, \u001b[32m'Pflugerville'\u001b[0m, \u001b[32m'Anna'\u001b[0m,\n",
       "       \u001b[32m'Muenster'\u001b[0m, \u001b[32m'Wichita Falls'\u001b[0m, \u001b[32m'Winters'\u001b[0m, \u001b[32m'Richardson'\u001b[0m, \u001b[32m'Midland'\u001b[0m,\n",
       "       \u001b[32m'West University Place'\u001b[0m, \u001b[32m'Tomball'\u001b[0m, \u001b[32m'Edinburg'\u001b[0m, \u001b[32m'Greenville'\u001b[0m,\n",
       "       \u001b[32m'Garland'\u001b[0m, \u001b[32m'Rockwall'\u001b[0m, \u001b[32m'Katy'\u001b[0m, \u001b[32m'Rosenberg'\u001b[0m, \u001b[32m'Texas City'\u001b[0m,\n",
       "       \u001b[32m'Killeen'\u001b[0m, \u001b[32m'Selma'\u001b[0m, \u001b[32m'Palestine'\u001b[0m, \u001b[32m'Eidson Road'\u001b[0m, \u001b[32m'Keller'\u001b[0m,\n",
       "       \u001b[32m'Harlingen'\u001b[0m, \u001b[32m'Mansfield'\u001b[0m, \u001b[32m'Lake Jackson'\u001b[0m, \u001b[32m'Burnet'\u001b[0m,\n",
       "       \u001b[32m'Sulphur Springs'\u001b[0m, \u001b[32m'San Marcos'\u001b[0m, \u001b[32m'Bellville'\u001b[0m, \u001b[32m'College Station'\u001b[0m,\n",
       "       \u001b[32m'Weatherford'\u001b[0m, \u001b[32m'Gonzales'\u001b[0m, \u001b[32m'McKinney'\u001b[0m, \u001b[32m'Universal City'\u001b[0m, \u001b[32m'McAllen'\u001b[0m,\n",
       "       \u001b[32m'Corinth'\u001b[0m, \u001b[32m'Leander'\u001b[0m, \u001b[32m'Kirby'\u001b[0m, \u001b[32m'The Woodlands'\u001b[0m, \u001b[32m'Athens'\u001b[0m,\n",
       "       \u001b[32m'Hargill'\u001b[0m, \u001b[32m'Wells Branch'\u001b[0m, \u001b[32m'Mesquite'\u001b[0m, \u001b[32m'Del Rio'\u001b[0m, \u001b[32m'Cedar Hill'\u001b[0m,\n",
       "       \u001b[32m'Siesta Acres'\u001b[0m, \u001b[32m'Plainview'\u001b[0m, \u001b[32m'Carrollton'\u001b[0m, \u001b[32m'Texarkana'\u001b[0m, \u001b[32m'Angleton'\u001b[0m,\n",
       "       \u001b[32m'Merkel'\u001b[0m, \u001b[32m'Southlake'\u001b[0m, \u001b[32m'Weslaco'\u001b[0m, \u001b[32m'League City'\u001b[0m, \u001b[32m'Corsicana'\u001b[0m,\n",
       "       \u001b[32m'Baytown'\u001b[0m, \u001b[32m'Hornsby Bend'\u001b[0m, \u001b[32m'Benbrook'\u001b[0m, \u001b[32m'Longview'\u001b[0m, \u001b[32m'Mineral Wells'\u001b[0m,\n",
       "       \u001b[32m'Spring'\u001b[0m, \u001b[32m'North Richland Hills'\u001b[0m, \u001b[32m'Hurst'\u001b[0m, \u001b[32m'Terrell'\u001b[0m, \u001b[32m'Granbury'\u001b[0m,\n",
       "       \u001b[32m'Monahans'\u001b[0m, \u001b[32m'Bryan'\u001b[0m, \u001b[32m'The Colony'\u001b[0m, \u001b[32m'Stratford'\u001b[0m, \u001b[32m'Coppell'\u001b[0m,\n",
       "       \u001b[32m'Hewitt'\u001b[0m, \u001b[32m'Deer Park'\u001b[0m, \u001b[32m'Amarillo'\u001b[0m, \u001b[32m'Van Alstyne'\u001b[0m, \u001b[32m'Joshua'\u001b[0m,\n",
       "       \u001b[32m'Pasadena'\u001b[0m, \u001b[32m'Kemah'\u001b[0m, \u001b[32m'Noonday'\u001b[0m, \u001b[32m'Duncanville'\u001b[0m, \u001b[32m'Western Lake'\u001b[0m,\n",
       "       \u001b[32m'Converse'\u001b[0m, \u001b[32m'Indian Hills'\u001b[0m, \u001b[32m'Doffing'\u001b[0m, \u001b[32m'Atascocita'\u001b[0m,\n",
       "       \u001b[32m'Pleasant Hill'\u001b[0m, \u001b[32m'Alvin'\u001b[0m, \u001b[32m'Taylor'\u001b[0m, \u001b[32m'El Campo'\u001b[0m, \u001b[32m'Victoria'\u001b[0m,\n",
       "       \u001b[32m'Lakeway'\u001b[0m, \u001b[32m'Allen'\u001b[0m, \u001b[32m'Groves'\u001b[0m, \u001b[32m'Beaumont'\u001b[0m, \u001b[32m'Rowlett'\u001b[0m, \u001b[32m'Nacogdoches'\u001b[0m,\n",
       "       \u001b[32m'Mission Bend'\u001b[0m, \u001b[32m'Plum Grove'\u001b[0m, \u001b[32m'Abilene'\u001b[0m, \u001b[32m'Conroe'\u001b[0m, \u001b[32m'Little Elm'\u001b[0m,\n",
       "       \u001b[32m'Wylie'\u001b[0m, \u001b[32m'Cuero'\u001b[0m, \u001b[32m'Kermit'\u001b[0m, \u001b[32m'Canyon Lake'\u001b[0m, \u001b[32m'Brownsville'\u001b[0m,\n",
       "       \u001b[32m'Denison'\u001b[0m, \u001b[32m'Roma'\u001b[0m, \u001b[32m'Dumas'\u001b[0m, \u001b[32m'Orange'\u001b[0m, \u001b[32m'Ponder'\u001b[0m, \u001b[32m'Harker Heights'\u001b[0m,\n",
       "       \u001b[32m'Melissa'\u001b[0m, \u001b[32m'Kaufman'\u001b[0m, \u001b[32m'Stafford'\u001b[0m, \u001b[32m'Uvalde'\u001b[0m, \u001b[32m'Mission'\u001b[0m, \u001b[32m'Princeton'\u001b[0m,\n",
       "       \u001b[32m'Grand Prairie'\u001b[0m, \u001b[32m'Floresville'\u001b[0m, \u001b[32m'Bulverde'\u001b[0m, \u001b[32m'Pueblo Nuevo'\u001b[0m,\n",
       "       \u001b[32m'Denton'\u001b[0m, \u001b[32m'Haltom City'\u001b[0m, \u001b[32m'Saginaw'\u001b[0m, \u001b[32m'La Porte'\u001b[0m, \u001b[32m'Pleak'\u001b[0m,\n",
       "       \u001b[32m'Sienna Plantation'\u001b[0m, \u001b[32m'Port Arthur'\u001b[0m, \u001b[32m'Wharton'\u001b[0m, \u001b[32m'Fresno'\u001b[0m,\n",
       "       \u001b[32m'Grapevine'\u001b[0m, \u001b[32m'Navasota'\u001b[0m, \u001b[32m'Bullard'\u001b[0m, \u001b[32m'Pinehurst'\u001b[0m, \u001b[32m'Kilgore'\u001b[0m,\n",
       "       \u001b[32m'Fort Hood'\u001b[0m, \u001b[32m'Rockport'\u001b[0m, \u001b[32m'Bedford'\u001b[0m, \u001b[32m'Hidalgo'\u001b[0m, \u001b[32m'Rosita'\u001b[0m, \u001b[32m'Italy'\u001b[0m,\n",
       "       \u001b[32m'San Juan'\u001b[0m, \u001b[32m'Aransas Pass'\u001b[0m, \u001b[32m'Llano'\u001b[0m, \u001b[32m'Leming'\u001b[0m, \u001b[32m'Leon Valley'\u001b[0m,\n",
       "       \u001b[32m'Tyler'\u001b[0m, \u001b[32m'Big Spring'\u001b[0m, \u001b[32m'Helotes'\u001b[0m, \u001b[32m'Cloverleaf'\u001b[0m, \u001b[32m'Stephenville'\u001b[0m,\n",
       "       \u001b[32m'Trophy Club'\u001b[0m, \u001b[32m'Midlothian'\u001b[0m, \u001b[32m'Forest Hill'\u001b[0m, \u001b[32m'Fate'\u001b[0m,\n",
       "       \u001b[32m'Lacy-Lakeview'\u001b[0m, \u001b[32m'Pecos'\u001b[0m, \u001b[32m'Elmo'\u001b[0m, \u001b[32m'Addison'\u001b[0m, \u001b[32m'Hollywood Park'\u001b[0m,\n",
       "       \u001b[32m'Mercedes'\u001b[0m, \u001b[32m'Timberwood Park'\u001b[0m, \u001b[32m'Fulshear'\u001b[0m, \u001b[32m'Heath'\u001b[0m, \u001b[32m'Port Aransas'\u001b[0m,\n",
       "       \u001b[32m'Red Oak'\u001b[0m, \u001b[32m'Fannett'\u001b[0m, \u001b[32m'Premont'\u001b[0m, \u001b[32m'Sachse'\u001b[0m, \u001b[32m'Golinda'\u001b[0m,\n",
       "       \u001b[32m'Fort Stockton'\u001b[0m, \u001b[32m'Bishop'\u001b[0m, \u001b[32m'Pine Island'\u001b[0m, \u001b[32m'Kyle'\u001b[0m, \u001b[32m'Clute'\u001b[0m,\n",
       "       \u001b[32m'Live Oak'\u001b[0m, \u001b[32m'Pharr'\u001b[0m, \u001b[32m'San Angelo'\u001b[0m, \u001b[32m'Columbus'\u001b[0m, \u001b[32m'Elgin'\u001b[0m,\n",
       "       \u001b[32m'Friendswood'\u001b[0m, \u001b[32m'Tioga'\u001b[0m, \u001b[32m'Decatur'\u001b[0m, \u001b[32m'Seagoville'\u001b[0m, \u001b[32m'Belton'\u001b[0m, \u001b[32m'Crane'\u001b[0m,\n",
       "       \u001b[32m'Circle D-KC Estates'\u001b[0m, \u001b[32m'Lufkin'\u001b[0m, \u001b[32m'Hawley'\u001b[0m, \u001b[32m'Kingsville'\u001b[0m, \u001b[32m'Paris'\u001b[0m,\n",
       "       \u001b[32m'Glenn Heights'\u001b[0m, \u001b[32m'Bolivar Peninsula'\u001b[0m, \u001b[32m'Fair Oaks Ranch'\u001b[0m,\n",
       "       \u001b[32m'Scenic Oaks'\u001b[0m, \u001b[32m'Mineola'\u001b[0m, \u001b[32m'Winnie'\u001b[0m, \u001b[32m'Ennis'\u001b[0m, \u001b[32m'Denver City'\u001b[0m,\n",
       "       \u001b[32m'McLendon-Chisholm'\u001b[0m, \u001b[32m'Raymondville'\u001b[0m, \u001b[32m'Willis'\u001b[0m, \u001b[32m'Hudson Oaks'\u001b[0m,\n",
       "       \u001b[32m'Bayou Vista'\u001b[0m, \u001b[32m'Vidor'\u001b[0m, \u001b[32m'Channelview'\u001b[0m, \u001b[32m'Jacksonville'\u001b[0m, \u001b[32m'Sherman'\u001b[0m,\n",
       "       \u001b[32m'Sugar Land'\u001b[0m, \u001b[32m'Santa Fe'\u001b[0m, \u001b[32m'Thorndale'\u001b[0m, \u001b[32m'Burkburnett'\u001b[0m,\n",
       "       \u001b[32m'Pecan Grove'\u001b[0m, \u001b[32m'Schertz'\u001b[0m, \u001b[32m'West Livingston'\u001b[0m, \u001b[32m'Hickory Creek'\u001b[0m,\n",
       "       \u001b[32m'Copperas Cove'\u001b[0m, \u001b[32m'Bridgeport'\u001b[0m, \u001b[32m'Flatonia'\u001b[0m, \u001b[32m'Naples'\u001b[0m, \u001b[32m'Shallowater'\u001b[0m,\n",
       "       \u001b[32m'Galena Park'\u001b[0m, \u001b[32m'Savannah'\u001b[0m, \u001b[32m'Nederland'\u001b[0m, \u001b[32m'Lucas'\u001b[0m, \u001b[32m'Sanderson'\u001b[0m,\n",
       "       \u001b[32m'Palmview South'\u001b[0m, \u001b[32m'Canutillo'\u001b[0m, \u001b[32m'Comanche'\u001b[0m, \u001b[32m'Cleburne'\u001b[0m, \u001b[32m'Stamford'\u001b[0m,\n",
       "       \u001b[32m'Lavon'\u001b[0m, \u001b[32m'Coleman'\u001b[0m, \u001b[32m'Farmers Branch'\u001b[0m, \u001b[32m'Chandler'\u001b[0m, \u001b[32m'Aldine'\u001b[0m,\n",
       "       \u001b[32m'Oak Point'\u001b[0m, \u001b[32m'Brownwood'\u001b[0m, \u001b[32m'Mila Doce'\u001b[0m, \u001b[32m'Edcouch'\u001b[0m, \u001b[32m'Garrison'\u001b[0m,\n",
       "       \u001b[32m'Annetta'\u001b[0m, \u001b[32m'Waller'\u001b[0m, \u001b[32m'Bangs'\u001b[0m, \u001b[32m'La Homa'\u001b[0m, \u001b[32m'Colleyville'\u001b[0m,\n",
       "       \u001b[32m'Port Isabel'\u001b[0m, \u001b[32m'Seabrook'\u001b[0m, \u001b[32m'Wellington'\u001b[0m, \u001b[32m'Temple'\u001b[0m, \u001b[32m'River Oaks'\u001b[0m,\n",
       "       \u001b[32m'Buna'\u001b[0m, \u001b[32m'Point Blank'\u001b[0m, \u001b[32m'New Braunfels'\u001b[0m, \u001b[32m'Cibolo'\u001b[0m, \u001b[32m'Jasper'\u001b[0m,\n",
       "       \u001b[32m'Celeste'\u001b[0m, \u001b[32m'Lorena'\u001b[0m, \u001b[32m'Buda'\u001b[0m, \u001b[32m'Gun Barrel City'\u001b[0m, \u001b[32m'Horizon City'\u001b[0m,\n",
       "       \u001b[32m'Double Oak'\u001b[0m, \u001b[32m'Ozona'\u001b[0m, \u001b[32m'Euless'\u001b[0m, \u001b[32m'China'\u001b[0m, \u001b[32m'White Oak'\u001b[0m,\n",
       "       \u001b[32m'Camp Swift'\u001b[0m, \u001b[32m'San Benito'\u001b[0m, \u001b[32m'Nixon'\u001b[0m, \u001b[32m'Silsbee'\u001b[0m, \u001b[32m'Wake'\u001b[0m, \u001b[32m'Crockett'\u001b[0m,\n",
       "       \u001b[32m'Burleson'\u001b[0m, \u001b[32m'Taft'\u001b[0m, \u001b[32m'Lakeside City'\u001b[0m, \u001b[32m'University Park'\u001b[0m,\n",
       "       \u001b[32m'Lago Vista'\u001b[0m, \u001b[32m'Terrell Hills'\u001b[0m, \u001b[32m'Mount Vernon'\u001b[0m, \u001b[32m'Eagle Pass'\u001b[0m,\n",
       "       \u001b[32m'Devine'\u001b[0m, \u001b[32m'Ingleside'\u001b[0m, \u001b[32m'Troy'\u001b[0m, \u001b[32m'Zapata County'\u001b[0m, \u001b[32m'Taft Southwest'\u001b[0m,\n",
       "       \u001b[32m'Nassau Bay'\u001b[0m, \u001b[32m'Alpine'\u001b[0m, \u001b[32m'Tulia'\u001b[0m, \u001b[32m'Malakoff'\u001b[0m, \u001b[32m'Jacinto City'\u001b[0m,\n",
       "       \u001b[32m'Borger'\u001b[0m, \u001b[32m'Springtown'\u001b[0m, \u001b[32m'Royse City'\u001b[0m, \u001b[32m'Pampa'\u001b[0m, \u001b[32m'Westlake'\u001b[0m,\n",
       "       \u001b[32m'Lockhart'\u001b[0m, \u001b[32m'Ingram'\u001b[0m, \u001b[32m'Brushy Creek'\u001b[0m, \u001b[32m'Escobares'\u001b[0m, \u001b[32m'Poth'\u001b[0m,\n",
       "       \u001b[32m'Marshall'\u001b[0m, \u001b[32m'Prosper'\u001b[0m, \u001b[32m'Hutchins'\u001b[0m, \u001b[32m'Cameron Park'\u001b[0m, \u001b[32m'Bunker Hill'\u001b[0m,\n",
       "       \u001b[32m'Azle'\u001b[0m, \u001b[32m'Zapata'\u001b[0m, \u001b[32m'Lancaster'\u001b[0m, \u001b[32m'Volente'\u001b[0m, \u001b[32m'Brenham'\u001b[0m, \u001b[32m'Seguin'\u001b[0m,\n",
       "       \u001b[32m'Murphy'\u001b[0m, \u001b[32m'La Villa'\u001b[0m, \u001b[32m'Sansom Park'\u001b[0m, \u001b[32m'Jacksboro'\u001b[0m, \u001b[32m'Snyder'\u001b[0m,\n",
       "       \u001b[32m'Whitney'\u001b[0m, \u001b[32m'Laureles'\u001b[0m, \u001b[32m'Crosby'\u001b[0m, \u001b[32m'Barton Creek'\u001b[0m, \u001b[32m'Whitehouse'\u001b[0m,\n",
       "       \u001b[32m'Hutto'\u001b[0m, \u001b[32m'Tool'\u001b[0m, \u001b[32m'Bellaire'\u001b[0m, \u001b[32m'Thunderbird Bay'\u001b[0m, \u001b[32m'Horseshoe Bay'\u001b[0m,\n",
       "       \u001b[32m'Highlands'\u001b[0m, \u001b[32m'Carthage'\u001b[0m, \u001b[32m'Highland Park'\u001b[0m, \u001b[32m'Hillsboro'\u001b[0m, \u001b[32m'Idalou'\u001b[0m,\n",
       "       \u001b[32m'Roanoke'\u001b[0m, \u001b[32m'Henderson'\u001b[0m, \u001b[32m'Von Ormy'\u001b[0m, \u001b[32m'Post Oak Bend City'\u001b[0m,\n",
       "       \u001b[32m'Seth Ward'\u001b[0m, \u001b[32m'Lumberton'\u001b[0m, \u001b[32m'La Marque'\u001b[0m, \u001b[32m'Hubbard'\u001b[0m, \u001b[32m'Marble Falls'\u001b[0m,\n",
       "       \u001b[32m'Seagraves'\u001b[0m, \u001b[32m'Henrietta'\u001b[0m, \u001b[32m'Bay City'\u001b[0m, \u001b[32m'Beverly Hills'\u001b[0m,\n",
       "       \u001b[32m'Cinco Ranch'\u001b[0m, \u001b[32m'Hideaway'\u001b[0m, \u001b[32m'Coolidge'\u001b[0m, \u001b[32m'North Pearsall'\u001b[0m,\n",
       "       \u001b[32m'Kerrville'\u001b[0m, \u001b[32m'Santa Anna'\u001b[0m, \u001b[32m'Webster'\u001b[0m, \u001b[32m'Liberty City'\u001b[0m,\n",
       "       \u001b[32m'Sullivan City'\u001b[0m, \u001b[32m'Andrews'\u001b[0m, \u001b[32m'Alamo'\u001b[0m, \u001b[32m'Rendon'\u001b[0m, \u001b[32m'South Houston'\u001b[0m,\n",
       "       \u001b[32m'Breckenridge'\u001b[0m, \u001b[32m'Canyon'\u001b[0m, \u001b[32m'Atlanta'\u001b[0m, \u001b[32m'Freeport'\u001b[0m, \u001b[32m'West Orange'\u001b[0m,\n",
       "       \u001b[32m'Sanger'\u001b[0m, \u001b[32m'Patton'\u001b[0m, \u001b[32m'Mount Pleasant'\u001b[0m, \u001b[32m'Cactus'\u001b[0m, \u001b[32m'West Sharyland'\u001b[0m,\n",
       "       \u001b[32m'Benavides'\u001b[0m, \u001b[32m'Luling'\u001b[0m, \u001b[32m'Manor'\u001b[0m, \u001b[32m'Ballinger'\u001b[0m, \u001b[32m'McGregor'\u001b[0m, \u001b[32m'Alice'\u001b[0m,\n",
       "       \u001b[32m'Lake Brownwood'\u001b[0m, \u001b[32m'DISH'\u001b[0m, \u001b[32m'Alton'\u001b[0m, \u001b[32m'Sand Springs'\u001b[0m, \u001b[32m'Lamesa'\u001b[0m,\n",
       "       \u001b[32m'Donna'\u001b[0m, \u001b[32m'Cross Roads'\u001b[0m, \u001b[32m'Brownfield'\u001b[0m, \u001b[32m'Riesel'\u001b[0m, \u001b[32m'Lantana'\u001b[0m,\n",
       "       \u001b[32m'Dalhart'\u001b[0m, \u001b[32m'Mont Belvieu'\u001b[0m, \u001b[32m'Keene'\u001b[0m, \u001b[32m'Sheldon'\u001b[0m, \u001b[32m'Richmond'\u001b[0m,\n",
       "       \u001b[32m'Tenaha'\u001b[0m, \u001b[32m'Crowley'\u001b[0m, \u001b[32m'Bryson'\u001b[0m, \u001b[32m'Prairie View'\u001b[0m, \u001b[32m'Vernon'\u001b[0m,\n",
       "       \u001b[32m'Waxahachie'\u001b[0m, \u001b[32m'East Bernard'\u001b[0m, \u001b[32m'Eustace'\u001b[0m, \u001b[32m'Yoakum'\u001b[0m, \u001b[32m'Dickinson'\u001b[0m,\n",
       "       \u001b[32m'Panorama'\u001b[0m, \u001b[32m'Vega'\u001b[0m, \u001b[32m'Olivarez'\u001b[0m, \u001b[32m'Fairview'\u001b[0m, \u001b[32m'Orange Grove'\u001b[0m,\n",
       "       \u001b[32m'Hempstead'\u001b[0m, \u001b[32m'Schulenburg'\u001b[0m, \u001b[32m'Tahoka'\u001b[0m, \u001b[32m'West Odessa'\u001b[0m, \u001b[32m'Hawkins'\u001b[0m,\n",
       "       \u001b[32m'Jersey'\u001b[0m, \u001b[32m'Forney'\u001b[0m, \u001b[32m'Boerne'\u001b[0m, \u001b[32m'Commerce'\u001b[0m, \u001b[32m'Sweetwater'\u001b[0m,\n",
       "       \u001b[32m'White Settlement'\u001b[0m, \u001b[32m'Garrett'\u001b[0m, \u001b[32m'Shady Shores'\u001b[0m, \u001b[32m'San Carlos'\u001b[0m,\n",
       "       \u001b[32m'Seminole'\u001b[0m, \u001b[32m'Copper Canyon'\u001b[0m, \u001b[32m'Potosi'\u001b[0m, \u001b[32m'Teague'\u001b[0m, \u001b[32m'Johnson City'\u001b[0m,\n",
       "       \u001b[32m'Port Lavaca'\u001b[0m, \u001b[32m'Kosse'\u001b[0m, \u001b[32m'Barrett'\u001b[0m, \u001b[32m'San Leon'\u001b[0m, \u001b[32m'Gainesville'\u001b[0m,\n",
       "       \u001b[32m'Cleveland'\u001b[0m, \u001b[32m'Palmview'\u001b[0m, \u001b[32m'Friona'\u001b[0m, \u001b[32m'La Paloma'\u001b[0m, \u001b[32m'Boyd'\u001b[0m,\n",
       "       \u001b[32m'Sour Lake'\u001b[0m, \u001b[32m'La Pryor'\u001b[0m, \u001b[32m'Paloma Creek South'\u001b[0m, \u001b[32m'Hackberry'\u001b[0m,\n",
       "       \u001b[32m'Thorntonville'\u001b[0m, \u001b[32m'China Grove'\u001b[0m, \u001b[32m'Waskom'\u001b[0m, \u001b[32m'Midway North'\u001b[0m, \u001b[32m'Blanco'\u001b[0m,\n",
       "       \u001b[32m'Quinlan'\u001b[0m, \u001b[32m'Pecan Acres'\u001b[0m, \u001b[32m'Edgecliff'\u001b[0m, \u001b[32m'Sinton'\u001b[0m, \u001b[32m'Robinson'\u001b[0m,\n",
       "       \u001b[32m'Hedwig'\u001b[0m, \u001b[32m'Taylor Lake'\u001b[0m, \u001b[32m'Lindale'\u001b[0m, \u001b[32m'Meadows Place'\u001b[0m, \u001b[32m'North Alamo'\u001b[0m,\n",
       "       \u001b[32m'Memphis'\u001b[0m, \u001b[32m'Lindsay'\u001b[0m, \u001b[32m'Holland'\u001b[0m, \u001b[32m'Portland'\u001b[0m, \u001b[32m'Primera'\u001b[0m, \u001b[32m'Itasca'\u001b[0m,\n",
       "       \u001b[32m'La Grulla'\u001b[0m, \u001b[32m'El Chaparral'\u001b[0m, \u001b[32m'Simonton'\u001b[0m, \u001b[32m'West'\u001b[0m, \u001b[32m'El Cenizo'\u001b[0m,\n",
       "       \u001b[32m'Rosharon'\u001b[0m, \u001b[32m'Joaquin'\u001b[0m, \u001b[32m'Kenedy'\u001b[0m, \u001b[32m'Shenandoah'\u001b[0m, \u001b[32m'Hudson'\u001b[0m,\n",
       "       \u001b[32m'Beach City'\u001b[0m, \u001b[32m'Lackland AFB'\u001b[0m, \u001b[32m'Mabank'\u001b[0m, \u001b[32m'Onalaska'\u001b[0m, \u001b[32m'Gorman'\u001b[0m,\n",
       "       \u001b[32m'Queen City'\u001b[0m, \u001b[32m'Vinton'\u001b[0m, \u001b[32m'Bridge City'\u001b[0m, \u001b[32m'Laguna Heights'\u001b[0m,\n",
       "       \u001b[32m'Oak Trail Shores'\u001b[0m, \u001b[32m'Combes'\u001b[0m, \u001b[32m'Briarcliff'\u001b[0m, \u001b[32m'Oilton'\u001b[0m, \u001b[32m'Manvel'\u001b[0m,\n",
       "       \u001b[32m'Everman'\u001b[0m, \u001b[32m'Earth'\u001b[0m, \u001b[32m'Cienegas Terrace'\u001b[0m, \u001b[32m'Elsa'\u001b[0m, \u001b[32m'Goldthwaite'\u001b[0m,\n",
       "       \u001b[32m'Hallettsville'\u001b[0m, \u001b[32m'Penitas'\u001b[0m, \u001b[32m'Dublin'\u001b[0m, \u001b[32m'Weimar'\u001b[0m, \u001b[32m'Kennedale'\u001b[0m,\n",
       "       \u001b[32m'Beeville'\u001b[0m, \u001b[32m'White Deer'\u001b[0m, \u001b[32m'Gallatin'\u001b[0m, \u001b[32m'Rio Grande City'\u001b[0m, \u001b[32m'Arcola'\u001b[0m,\n",
       "       \u001b[32m'Blessing'\u001b[0m, \u001b[32m'El Lago'\u001b[0m, \u001b[32m'Robstown'\u001b[0m, \u001b[32m'Honey Grove'\u001b[0m, \u001b[32m'Pleasanton'\u001b[0m,\n",
       "       \u001b[32m'Paloma Creek'\u001b[0m, \u001b[32m'Spring Valley'\u001b[0m, \u001b[32m'Manchaca'\u001b[0m, \u001b[32m'Perryton'\u001b[0m,\n",
       "       \u001b[32m'Pearsall'\u001b[0m, \u001b[32m'Crystal City'\u001b[0m, \u001b[32m'Palmer'\u001b[0m, \u001b[32m'Jewett'\u001b[0m, \u001b[32m'Kingsland'\u001b[0m,\n",
       "       \u001b[32m'Oakwood'\u001b[0m, \u001b[32m\"Morgan's Point Resort\"\u001b[0m, \u001b[32m'Richland Hills'\u001b[0m, \u001b[32m'Muleshoe'\u001b[0m,\n",
       "       \u001b[32m'La Escondida'\u001b[0m, \u001b[32m'Lake Worth'\u001b[0m, \u001b[32m'La Grange'\u001b[0m, \u001b[32m'Fayetteville'\u001b[0m,\n",
       "       \u001b[32m'Borden County'\u001b[0m, \u001b[32m'Hebbronville'\u001b[0m, \u001b[32m'Wortham'\u001b[0m, \u001b[32m'Hitchcock'\u001b[0m,\n",
       "       \u001b[32m'Four Corners'\u001b[0m, \u001b[32m'Walnut Springs'\u001b[0m, \u001b[32m'Crockett County'\u001b[0m,\n",
       "       \u001b[32m'Shady Hollow'\u001b[0m, \u001b[32m'Colorado City'\u001b[0m, \u001b[32m'Muniz'\u001b[0m, \u001b[32m'San Saba'\u001b[0m,\n",
       "       \u001b[32m'Fredericksburg'\u001b[0m, \u001b[32m'Rice'\u001b[0m, \u001b[32m'Ralls'\u001b[0m, \u001b[32m'New Boston'\u001b[0m, \u001b[32m'West Lake Hills'\u001b[0m,\n",
       "       \u001b[32m'Sealy'\u001b[0m, \u001b[32m'Homestead Meadows North'\u001b[0m, \u001b[32m'Kerens'\u001b[0m, \u001b[32m'Hooks'\u001b[0m, \u001b[32m'Windcrest'\u001b[0m,\n",
       "       \u001b[32m'Roman Forest'\u001b[0m, \u001b[32m'Thornton'\u001b[0m, \u001b[32m'Buffalo Springs'\u001b[0m, \u001b[32m'Rockdale'\u001b[0m,\n",
       "       \u001b[32m'Citrus City'\u001b[0m, \u001b[32m'Lyford'\u001b[0m, \u001b[32m'Agua Dulce'\u001b[0m, \u001b[32m\"Bailey's Prairie\"\u001b[0m,\n",
       "       \u001b[32m'Iowa Park'\u001b[0m, \u001b[32m'Palm Valley'\u001b[0m, \u001b[32m'Granger'\u001b[0m, \u001b[32m'Odem'\u001b[0m, \u001b[32m'Laguna Vista'\u001b[0m,\n",
       "       \u001b[32m'Overton'\u001b[0m, \u001b[32m'Brookside'\u001b[0m, \u001b[32m'Homestead Meadows South'\u001b[0m, \u001b[32m'Woodway'\u001b[0m,\n",
       "       \u001b[32m'Buchanan Dam'\u001b[0m, \u001b[32m'Giddings'\u001b[0m, \u001b[32m'Smithville'\u001b[0m, \u001b[32m'Porter Heights'\u001b[0m,\n",
       "       \u001b[32m'Uhland'\u001b[0m, \u001b[32m'North San Pedro'\u001b[0m, \u001b[32m'Smyer'\u001b[0m, \u001b[32m'Montgomery'\u001b[0m, \u001b[32m'Grape Creek'\u001b[0m,\n",
       "       \u001b[32m'Hughes Springs'\u001b[0m, \u001b[32m'Lake Dallas'\u001b[0m, \u001b[32m'Bogata'\u001b[0m, \u001b[32m'Van'\u001b[0m, \u001b[32m'Progreso'\u001b[0m,\n",
       "       \u001b[32m'Colmesneil'\u001b[0m, \u001b[32m'La Joya'\u001b[0m, \u001b[32m'Junction'\u001b[0m, \u001b[32m'Dalworthington Gardens'\u001b[0m,\n",
       "       \u001b[32m'Holiday Lakes'\u001b[0m, \u001b[32m'Whitewright'\u001b[0m, \u001b[32m'Lake Dunlap'\u001b[0m, \u001b[32m'Aquilla'\u001b[0m,\n",
       "       \u001b[32m'Wildwood'\u001b[0m, \u001b[32m'Mart'\u001b[0m, \u001b[32m'Westminster'\u001b[0m, \u001b[32m'Wyldwood'\u001b[0m, \u001b[32m'Central Gardens'\u001b[0m,\n",
       "       \u001b[32m'Shiner'\u001b[0m, \u001b[32m'Howardwick'\u001b[0m, \u001b[32m'Castle Hills'\u001b[0m, \u001b[32m'Medina'\u001b[0m, \u001b[32m'Anahuac'\u001b[0m,\n",
       "       \u001b[32m'Cameron'\u001b[0m, \u001b[32m'Aledo'\u001b[0m, \u001b[32m'McQueeney'\u001b[0m, \u001b[32m'Anderson'\u001b[0m, \u001b[32m'Alamo Heights'\u001b[0m,\n",
       "       \u001b[32m'Solis'\u001b[0m, \u001b[32m'Jonestown'\u001b[0m, \u001b[32m'Claude'\u001b[0m, \u001b[32m'Matador'\u001b[0m, \u001b[32m'Woodville'\u001b[0m,\n",
       "       \u001b[32m'Shavano Park'\u001b[0m, \u001b[32m'Fairfield'\u001b[0m, \u001b[32m'Milford'\u001b[0m, \u001b[32m'Edna'\u001b[0m, \u001b[32m'Center'\u001b[0m,\n",
       "       \u001b[32m'Point Comfort'\u001b[0m, \u001b[32m'Rancho Alegre'\u001b[0m, \u001b[32m'Linden'\u001b[0m, \u001b[32m'Grandview'\u001b[0m,\n",
       "       \u001b[32m'San Augustine'\u001b[0m, \u001b[32m'San Perlita'\u001b[0m, \u001b[32m'Wellman'\u001b[0m, \u001b[32m'Cesar Chavez'\u001b[0m,\n",
       "       \u001b[32m'Blossom'\u001b[0m, \u001b[32m'Whitesboro'\u001b[0m, \u001b[32m'Piney Point'\u001b[0m, \u001b[32m'Oak Grove'\u001b[0m, \u001b[32m'Clint'\u001b[0m,\n",
       "       \u001b[32m'Asherton'\u001b[0m, \u001b[32m'Sierra Blanca'\u001b[0m, \u001b[32m'Lakehills'\u001b[0m, \u001b[32m'Seymour'\u001b[0m, \u001b[32m'Blue Mound'\u001b[0m,\n",
       "       \u001b[32m'Bartlett'\u001b[0m, \u001b[32m'Brownsboro'\u001b[0m, \u001b[32m'Granite Shoals'\u001b[0m, \u001b[32m'Pottsboro'\u001b[0m,\n",
       "       \u001b[32m'Bloomington'\u001b[0m, \u001b[32m'Wimberley'\u001b[0m, \u001b[32m'Bee Cave'\u001b[0m, \u001b[32m'Chireno'\u001b[0m, \u001b[32m'Martindale'\u001b[0m,\n",
       "       \u001b[32m'Oakhurst'\u001b[0m, \u001b[32m'Emerald Bay'\u001b[0m, \u001b[32m'Livingston'\u001b[0m, \u001b[32m'Reid Hope King'\u001b[0m,\n",
       "       \u001b[32m'Gatesville'\u001b[0m, \u001b[32m'Gladewater'\u001b[0m, \u001b[32m'Evadale'\u001b[0m, \u001b[32m'Olney'\u001b[0m, \u001b[32m'Jim Hogg County'\u001b[0m,\n",
       "       \u001b[32m'Huntington'\u001b[0m, \u001b[32m'Celina'\u001b[0m, \u001b[32m'Munday'\u001b[0m, \u001b[32m'Springlake'\u001b[0m, \u001b[32m'Liverpool'\u001b[0m,\n",
       "       \u001b[32m'Bastrop'\u001b[0m, \u001b[32m'Josephine'\u001b[0m, \u001b[32m'Dodson'\u001b[0m, \u001b[32m'Booker'\u001b[0m, \u001b[32m'West Columbia'\u001b[0m,\n",
       "       \u001b[32m'Clyde'\u001b[0m, \u001b[32m'Lakewood'\u001b[0m, \u001b[32m'Sweeny'\u001b[0m, \u001b[32m'Eastland'\u001b[0m, \u001b[32m'Wolfe City'\u001b[0m, \u001b[32m'Rhome'\u001b[0m,\n",
       "       \u001b[32m'Reno'\u001b[0m, \u001b[32m'Parker'\u001b[0m, \u001b[32m'Shamrock'\u001b[0m, \u001b[32m'Bowie'\u001b[0m, \u001b[32m'Northlake'\u001b[0m, \u001b[32m'Canadian'\u001b[0m,\n",
       "       \u001b[32m'Dayton'\u001b[0m, \u001b[32m'Avery'\u001b[0m, \u001b[32m'Amherst'\u001b[0m, \u001b[32m'Venus'\u001b[0m, \u001b[32m'Woodbranch'\u001b[0m, \u001b[32m'Rio Vista'\u001b[0m,\n",
       "       \u001b[32m'Blue Ridge'\u001b[0m, \u001b[32m'Palmhurst'\u001b[0m, \u001b[32m'Bertram'\u001b[0m, \u001b[32m'Dilley'\u001b[0m, \u001b[32m'Kemp'\u001b[0m, \u001b[32m'Richwood'\u001b[0m,\n",
       "       \u001b[32m'Bronte'\u001b[0m, \u001b[32m'Rio Bravo'\u001b[0m, \u001b[32m'Big Lake'\u001b[0m, \u001b[32m'Ovilla'\u001b[0m, \u001b[32m'Kress'\u001b[0m, \u001b[32m'Driftwood'\u001b[0m,\n",
       "       \u001b[32m'Inez'\u001b[0m, \u001b[32m'Knippa'\u001b[0m, \u001b[32m'Childress'\u001b[0m, \u001b[32m'Seco Mines'\u001b[0m, \u001b[32m'DeCordova'\u001b[0m,\n",
       "       \u001b[32m'Serenada'\u001b[0m, \u001b[32m'Leonard'\u001b[0m, \u001b[32m'Calvert'\u001b[0m, \u001b[32m'Chula Vista'\u001b[0m, \u001b[32m'Heidelberg'\u001b[0m,\n",
       "       \u001b[32m'Hondo'\u001b[0m, \u001b[32m'George West'\u001b[0m, \u001b[32m'Bonham'\u001b[0m, \u001b[32m'Bandera'\u001b[0m, \u001b[32m'Carrizo Hill'\u001b[0m,\n",
       "       \u001b[32m'Presidio'\u001b[0m, \u001b[32m'Bruceville-Eddy'\u001b[0m, \u001b[32m'Markham'\u001b[0m, \u001b[32m'Niederwald'\u001b[0m, \u001b[32m'Ganado'\u001b[0m,\n",
       "       \u001b[32m'Glen Rose'\u001b[0m, \u001b[32m'Ivanhoe'\u001b[0m, \u001b[32m'Bacliff'\u001b[0m, \u001b[32m'Clifton'\u001b[0m, \u001b[32m'Wilmer'\u001b[0m,\n",
       "       \u001b[32m'Carrizo Springs'\u001b[0m, \u001b[32m'Freer'\u001b[0m, \u001b[32m'Brazoria'\u001b[0m, \u001b[32m'Los Fresnos'\u001b[0m,\n",
       "       \u001b[32m'Pecan Hill'\u001b[0m, \u001b[32m'Mi Ranchito Estate'\u001b[0m, \u001b[32m'Cumings'\u001b[0m, \u001b[32m'Newark'\u001b[0m,\n",
       "       \u001b[32m'Pecan Plantation'\u001b[0m, \u001b[32m'Cresson'\u001b[0m, \u001b[32m'St. Hedwig'\u001b[0m, \u001b[32m'Brookshire'\u001b[0m,\n",
       "       \u001b[32m'Madisonville'\u001b[0m, \u001b[32m'Zavalla'\u001b[0m, \u001b[32m'Quitaque'\u001b[0m, \u001b[32m'Centerville'\u001b[0m, \u001b[32m'La Feria'\u001b[0m,\n",
       "       \u001b[32m'Holly Lake Ranch'\u001b[0m, \u001b[32m'Bluetown'\u001b[0m, \u001b[32m'Stockdale'\u001b[0m, \u001b[32m'Groom'\u001b[0m, \u001b[32m'Grapeland'\u001b[0m,\n",
       "       \u001b[32m'Plains'\u001b[0m, \u001b[32m'Abram'\u001b[0m, \u001b[32m'Lasara'\u001b[0m, \u001b[32m'Travis Ranch'\u001b[0m, \u001b[32m'Winona'\u001b[0m,\n",
       "       \u001b[32m'Wild Peach Village'\u001b[0m, \u001b[32m'Westwood Shores'\u001b[0m, \u001b[32m'Liberty'\u001b[0m, \u001b[32m'Groesbeck'\u001b[0m,\n",
       "       \u001b[32m'Highland Haven'\u001b[0m, \u001b[32m'Castroville'\u001b[0m, \u001b[32m'Bellmead'\u001b[0m, \u001b[32m'Van Horn'\u001b[0m,\n",
       "       \u001b[32m'San Elizario'\u001b[0m, \u001b[32m'Morton'\u001b[0m, \u001b[32m'New Deal'\u001b[0m, \u001b[32m'Valley Mills'\u001b[0m, \u001b[32m'Murillo'\u001b[0m,\n",
       "       \u001b[32m'Windthorst'\u001b[0m, \u001b[32m'Brackettville'\u001b[0m, \u001b[32m'Meridian'\u001b[0m, \u001b[32m'Newton'\u001b[0m, \u001b[32m'Brady'\u001b[0m,\n",
       "       \u001b[32m'The Hills'\u001b[0m, \u001b[32m'Quail Creek'\u001b[0m, \u001b[32m'Montague'\u001b[0m, \u001b[32m'Crandall'\u001b[0m, \u001b[32m'Sebastian'\u001b[0m,\n",
       "       \u001b[32m'Las Quintas Fronterizas'\u001b[0m, \u001b[32m'Yorktown'\u001b[0m, \u001b[32m'Hamlin'\u001b[0m, \u001b[32m'Sunray'\u001b[0m,\n",
       "       \u001b[32m'McKinney Acres'\u001b[0m, \u001b[32m'Westway'\u001b[0m, \u001b[32m'Liberty Hill'\u001b[0m, \u001b[32m'McLean'\u001b[0m,\n",
       "       \u001b[32m'Littlefield'\u001b[0m, \u001b[32m'Holiday Beach'\u001b[0m, \u001b[32m'McCamey'\u001b[0m, \u001b[32m'Needville'\u001b[0m, \u001b[32m'Caldwell'\u001b[0m,\n",
       "       \u001b[32m'Albany'\u001b[0m, \u001b[32m'Collinsville'\u001b[0m, \u001b[32m'De Kalb'\u001b[0m, \u001b[32m'Sonora'\u001b[0m, \u001b[32m'Nash'\u001b[0m,\n",
       "       \u001b[32m'Weston Lakes'\u001b[0m, \u001b[32m'Daingerfield'\u001b[0m, \u001b[32m'Nocona'\u001b[0m, \u001b[32m'Villa Pancho'\u001b[0m,\n",
       "       \u001b[32m'Grand Saline'\u001b[0m, \u001b[32m'Cove'\u001b[0m, \u001b[32m'Oak Leaf'\u001b[0m, \u001b[32m'Lake Tanglewood'\u001b[0m, \u001b[32m'Anthony'\u001b[0m,\n",
       "       \u001b[32m'Daisetta'\u001b[0m, \u001b[32m'Perezville'\u001b[0m, \u001b[32m'Hartley'\u001b[0m, \u001b[32m'Stanton'\u001b[0m,\n",
       "       \u001b[32m'Ranchitos del Norte'\u001b[0m, \u001b[32m'Texhoma'\u001b[0m, \u001b[32m'Graham'\u001b[0m, \u001b[32m'Gustine'\u001b[0m, \u001b[32m'Sundown'\u001b[0m,\n",
       "       \u001b[32m'Hart'\u001b[0m, \u001b[32m'San Diego'\u001b[0m, \u001b[32m'Hunters Creek'\u001b[0m, \u001b[32m'Jamaica Beach'\u001b[0m, \u001b[32m'Buffalo'\u001b[0m,\n",
       "       \u001b[32m'Farmersville'\u001b[0m, \u001b[32m'Argyle'\u001b[0m, \u001b[32m'Troup'\u001b[0m, \u001b[32m'Holliday'\u001b[0m, \u001b[32m'Rancho Viejo'\u001b[0m,\n",
       "       \u001b[32m'Lost Creek'\u001b[0m, \u001b[32m'Kirbyville'\u001b[0m, \u001b[32m'Wells'\u001b[0m, \u001b[32m'Gruver'\u001b[0m, \u001b[32m'Pine Forest'\u001b[0m,\n",
       "       \u001b[32m'China Spring'\u001b[0m, \u001b[32m'De Leon'\u001b[0m, \u001b[32m'Danbury'\u001b[0m, \u001b[32m'Lampasas'\u001b[0m,\n",
       "       \u001b[32m'Buchanan Lake Village'\u001b[0m, \u001b[32m'Hardin'\u001b[0m, \u001b[32m'Mathis'\u001b[0m, \u001b[32m'Tornillo'\u001b[0m,\n",
       "       \u001b[32m'Hallsville'\u001b[0m, \u001b[32m'Campbell'\u001b[0m, \u001b[32m'Pelican Bay'\u001b[0m, \u001b[32m'Haslet'\u001b[0m, \u001b[32m'Skellytown'\u001b[0m,\n",
       "       \u001b[32m'Lakeshore Gardens-Hidden Acres'\u001b[0m, \u001b[32m'Cottonwood Shores'\u001b[0m,\n",
       "       \u001b[32m'Cedar Point'\u001b[0m, \u001b[32m'Lake Medina Shores'\u001b[0m, \u001b[32m'Krum'\u001b[0m, \u001b[32m'Pittsburg'\u001b[0m,\n",
       "       \u001b[32m'Loma Linda East'\u001b[0m, \u001b[32m'Cisco'\u001b[0m\u001b[1m]\u001b[0m, \u001b[33mdtype\u001b[0m=\u001b[35mobject\u001b[0m\u001b[1m)\u001b[0m"
      ]
     },
     "execution_count": 46,
     "metadata": {},
     "output_type": "execute_result"
    }
   ],
   "source": [
    "patients['CITY'].unique()"
   ]
  },
  {
   "cell_type": "code",
   "execution_count": 47,
   "id": "5ddbddb7-5623-44a3-adad-8230696d2239",
   "metadata": {},
   "outputs": [
    {
     "data": {
      "text/html": [
       "<pre style=\"white-space:pre;overflow-x:auto;line-height:normal;font-family:Menlo,'DejaVu Sans Mono',consolas,'Courier New',monospace\"></pre>\n"
      ],
      "text/plain": []
     },
     "metadata": {},
     "output_type": "display_data"
    },
    {
     "data": {
      "text/plain": [
       "\u001b[1;35marray\u001b[0m\u001b[1m(\u001b[0m\u001b[1m[\u001b[0m\u001b[32m'Texas'\u001b[0m, \u001b[32m'Louisiana'\u001b[0m\u001b[1m]\u001b[0m, \u001b[33mdtype\u001b[0m=\u001b[35mobject\u001b[0m\u001b[1m)\u001b[0m"
      ]
     },
     "execution_count": 47,
     "metadata": {},
     "output_type": "execute_result"
    }
   ],
   "source": [
    "patients['STATE'].unique()"
   ]
  },
  {
   "cell_type": "code",
   "execution_count": 48,
   "id": "531bc11a-dde3-4e0c-a958-138f0176366e",
   "metadata": {},
   "outputs": [
    {
     "data": {
      "text/html": [
       "<pre style=\"white-space:pre;overflow-x:auto;line-height:normal;font-family:Menlo,'DejaVu Sans Mono',consolas,'Courier New',monospace\"></pre>\n"
      ],
      "text/plain": []
     },
     "metadata": {},
     "output_type": "display_data"
    },
    {
     "data": {
      "text/plain": [
       "\n",
       "\u001b[1;35marray\u001b[0m\u001b[1m(\u001b[0m\u001b[1m[\u001b[0m\u001b[32m'Tarrant County'\u001b[0m, \u001b[32m'Harris County'\u001b[0m, \u001b[32m'McLennan County'\u001b[0m,\n",
       "       \u001b[32m'Hockley County'\u001b[0m, \u001b[32m'Fort Bend County'\u001b[0m, \u001b[32m'Dallas County'\u001b[0m,\n",
       "       \u001b[32m'Bexar County'\u001b[0m, \u001b[32m'Denton County'\u001b[0m, \u001b[32m'Travis County'\u001b[0m, \u001b[32m'Garza County'\u001b[0m,\n",
       "       \u001b[32m'Lubbock County'\u001b[0m, \u001b[32m'El Paso County'\u001b[0m, \u001b[32m'Williamson County'\u001b[0m,\n",
       "       \u001b[32m'Walker County'\u001b[0m, \u001b[32m'Briscoe County'\u001b[0m, \u001b[32m'Galveston County'\u001b[0m,\n",
       "       \u001b[32m'Jefferson County'\u001b[0m, \u001b[32m'Collin County'\u001b[0m, \u001b[32m'Nueces County'\u001b[0m,\n",
       "       \u001b[32m'Hardeman County'\u001b[0m, \u001b[32m'Cherokee County'\u001b[0m, \u001b[32m'Atascosa County'\u001b[0m,\n",
       "       \u001b[32m'Henderson County'\u001b[0m, \u001b[32m'Deaf Smith County'\u001b[0m, \u001b[32m'Ector County'\u001b[0m,\n",
       "       \u001b[32m'Hidalgo County'\u001b[0m, \u001b[32m'Webb County'\u001b[0m, \u001b[32m'Cooke County'\u001b[0m, \u001b[32m'Wichita County'\u001b[0m,\n",
       "       \u001b[32m'Runnels County'\u001b[0m, \u001b[32m'Midland County'\u001b[0m, \u001b[32m'Hunt County'\u001b[0m,\n",
       "       \u001b[32m'Rockwall County'\u001b[0m, \u001b[32m'Bell County'\u001b[0m, \u001b[32m'Anderson County'\u001b[0m,\n",
       "       \u001b[32m'Maverick County'\u001b[0m, \u001b[32m'Cameron County'\u001b[0m, \u001b[32m'Brazoria County'\u001b[0m,\n",
       "       \u001b[32m'Burnet County'\u001b[0m, \u001b[32m'Hopkins County'\u001b[0m, \u001b[32m'Hays County'\u001b[0m, \u001b[32m'Austin County'\u001b[0m,\n",
       "       \u001b[32m'Brazos County'\u001b[0m, \u001b[32m'Parker County'\u001b[0m, \u001b[32m'Gonzales County'\u001b[0m,\n",
       "       \u001b[32m'Val Verde County'\u001b[0m, \u001b[32m'Hale County'\u001b[0m, \u001b[32m'Bowie County'\u001b[0m, \u001b[32m'Taylor County'\u001b[0m,\n",
       "       \u001b[32m'Navarro County'\u001b[0m, \u001b[32m'Gregg County'\u001b[0m, \u001b[32m'Palo Pinto County'\u001b[0m,\n",
       "       \u001b[32m'Kaufman County'\u001b[0m, \u001b[32m'Hood County'\u001b[0m, \u001b[32m'Ward County'\u001b[0m, \u001b[32m'Sherman County'\u001b[0m,\n",
       "       \u001b[32m'Potter County'\u001b[0m, \u001b[32m'Grayson County'\u001b[0m, \u001b[32m'Johnson County'\u001b[0m,\n",
       "       \u001b[32m'Smith County'\u001b[0m, \u001b[32m'Polk County'\u001b[0m, \u001b[32m'Wharton County'\u001b[0m, \u001b[32m'Victoria County'\u001b[0m,\n",
       "       \u001b[32m'Nacogdoches County'\u001b[0m, \u001b[32m'Liberty County'\u001b[0m, \u001b[32m'Montgomery County'\u001b[0m,\n",
       "       \u001b[32m'DeWitt County'\u001b[0m, \u001b[32m'Winkler County'\u001b[0m, \u001b[32m'Comal County'\u001b[0m, \u001b[32m'Starr County'\u001b[0m,\n",
       "       \u001b[32m'Randall County'\u001b[0m, \u001b[32m'Moore County'\u001b[0m, \u001b[32m'Orange County'\u001b[0m, \u001b[32m'Uvalde County'\u001b[0m,\n",
       "       \u001b[32m'Wilson County'\u001b[0m, \u001b[32m'Grimes County'\u001b[0m, \u001b[32m'Aransas County'\u001b[0m, \u001b[32m'Ellis County'\u001b[0m,\n",
       "       \u001b[32m'San Patricio County'\u001b[0m, \u001b[32m'Llano County'\u001b[0m, \u001b[32m'Howard County'\u001b[0m,\n",
       "       \u001b[32m'Erath County'\u001b[0m, \u001b[32m'Reeves County'\u001b[0m, \u001b[32m'Jim Wells County'\u001b[0m,\n",
       "       \u001b[32m'Falls County'\u001b[0m, \u001b[32m'Pecos County'\u001b[0m, \u001b[32m'Waller County'\u001b[0m,\n",
       "       \u001b[32m'Tom Green County'\u001b[0m, \u001b[32m'Colorado County'\u001b[0m, \u001b[32m'Bastrop County'\u001b[0m,\n",
       "       \u001b[32m'Wise County'\u001b[0m, \u001b[32m'Crane County'\u001b[0m, \u001b[32m'Angelina County'\u001b[0m, \u001b[32m'Jones County'\u001b[0m,\n",
       "       \u001b[32m'Kleberg County'\u001b[0m, \u001b[32m'Lamar County'\u001b[0m, \u001b[32m'Wood County'\u001b[0m, \u001b[32m'Chambers County'\u001b[0m,\n",
       "       \u001b[32m'Yoakum County'\u001b[0m, \u001b[32m'Willacy County'\u001b[0m, \u001b[32m'Milam County'\u001b[0m,\n",
       "       \u001b[32m'Guadalupe County'\u001b[0m, \u001b[32m'Coryell County'\u001b[0m, \u001b[32m'Fayette County'\u001b[0m,\n",
       "       \u001b[32m'Morris County'\u001b[0m, \u001b[32m'Terrell County'\u001b[0m, \u001b[32m'Comanche County'\u001b[0m,\n",
       "       \u001b[32m'Haskell County'\u001b[0m, \u001b[32m'Coleman County'\u001b[0m, \u001b[32m'Brown County'\u001b[0m,\n",
       "       \u001b[32m'Collingsworth County'\u001b[0m, \u001b[32m'Jasper County'\u001b[0m, \u001b[32m'San Jacinto County'\u001b[0m,\n",
       "       \u001b[32m'Crockett County'\u001b[0m, \u001b[32m'Hardin County'\u001b[0m, \u001b[32m'Houston County'\u001b[0m,\n",
       "       \u001b[32m'Archer County'\u001b[0m, \u001b[32m'Franklin County'\u001b[0m, \u001b[32m'Medina County'\u001b[0m,\n",
       "       \u001b[32m'Zapata County'\u001b[0m, \u001b[32m'Brewster County'\u001b[0m, \u001b[32m'Swisher County'\u001b[0m,\n",
       "       \u001b[32m'Hutchinson County'\u001b[0m, \u001b[32m'Gray County'\u001b[0m, \u001b[32m'Caldwell County'\u001b[0m,\n",
       "       \u001b[32m'Kerr County'\u001b[0m, \u001b[32m'Harrison County'\u001b[0m, \u001b[32m'Washington County'\u001b[0m,\n",
       "       \u001b[32m'Jack County'\u001b[0m, \u001b[32m'Scurry County'\u001b[0m, \u001b[32m'Hill County'\u001b[0m, \u001b[32m'Panola County'\u001b[0m,\n",
       "       \u001b[32m'Rusk County'\u001b[0m, \u001b[32m'Gaines County'\u001b[0m, \u001b[32m'Clay County'\u001b[0m, \u001b[32m'Matagorda County'\u001b[0m,\n",
       "       \u001b[32m'Limestone County'\u001b[0m, \u001b[32m'Frio County'\u001b[0m, \u001b[32m'Andrews County'\u001b[0m,\n",
       "       \u001b[32m'Stephens County'\u001b[0m, \u001b[32m'Cass County'\u001b[0m, \u001b[32m'Titus County'\u001b[0m, \u001b[32m'Duval County'\u001b[0m,\n",
       "       \u001b[32m'Dawson County'\u001b[0m, \u001b[32m'Terry County'\u001b[0m, \u001b[32m'Hartley County'\u001b[0m, \u001b[32m'Shelby County'\u001b[0m,\n",
       "       \u001b[32m'Wilbarger County'\u001b[0m, \u001b[32m'Lavaca County'\u001b[0m, \u001b[32m'Oldham County'\u001b[0m,\n",
       "       \u001b[32m'Lynn County'\u001b[0m, \u001b[32m'Kendall County'\u001b[0m, \u001b[32m'Nolan County'\u001b[0m,\n",
       "       \u001b[32m'Freestone County'\u001b[0m, \u001b[32m'Blanco County'\u001b[0m, \u001b[32m'Calhoun County'\u001b[0m,\n",
       "       \u001b[32m'Parmer County'\u001b[0m, \u001b[32m'Zavala County'\u001b[0m, \u001b[32m'Hall County'\u001b[0m, \u001b[32m'Karnes County'\u001b[0m,\n",
       "       \u001b[32m'Eastland County'\u001b[0m, \u001b[32m'Lamb County'\u001b[0m, \u001b[32m'Mills County'\u001b[0m, \u001b[32m'Bee County'\u001b[0m,\n",
       "       \u001b[32m'Carson County'\u001b[0m, \u001b[32m'Fannin County'\u001b[0m, \u001b[32m'Ochiltree County'\u001b[0m,\n",
       "       \u001b[32m'Leon County'\u001b[0m, \u001b[32m'Bailey County'\u001b[0m, \u001b[32m'Borden County'\u001b[0m, \u001b[32m'Jim Hogg County'\u001b[0m,\n",
       "       \u001b[32m'Bosque County'\u001b[0m, \u001b[32m'Mitchell County'\u001b[0m, \u001b[32m'San Saba County'\u001b[0m,\n",
       "       \u001b[32m'Gillespie County'\u001b[0m, \u001b[32m'Crosby County'\u001b[0m, \u001b[32m'Lee County'\u001b[0m,\n",
       "       \u001b[32m'Red River County'\u001b[0m, \u001b[32m'Van Zandt County'\u001b[0m, \u001b[32m'Tyler County'\u001b[0m,\n",
       "       \u001b[32m'Kimble County'\u001b[0m, \u001b[32m'Donley County'\u001b[0m, \u001b[32m'Armstrong County'\u001b[0m,\n",
       "       \u001b[32m'Motley County'\u001b[0m, \u001b[32m'Jackson County'\u001b[0m, \u001b[32m'San Augustine County'\u001b[0m,\n",
       "       \u001b[32m'Dimmit County'\u001b[0m, \u001b[32m'Hudspeth County'\u001b[0m, \u001b[32m'Bandera County'\u001b[0m,\n",
       "       \u001b[32m'Baylor County'\u001b[0m, \u001b[32m'Dallam County'\u001b[0m, \u001b[32m'Young County'\u001b[0m, \u001b[32m'Knox County'\u001b[0m,\n",
       "       \u001b[32m'Lipscomb County'\u001b[0m, \u001b[32m'Callahan County'\u001b[0m, \u001b[32m'Wheeler County'\u001b[0m,\n",
       "       \u001b[32m'Montague County'\u001b[0m, \u001b[32m'Hemphill County'\u001b[0m, \u001b[32m'Coke County'\u001b[0m,\n",
       "       \u001b[32m'Reagan County'\u001b[0m, \u001b[32m'Childress County'\u001b[0m, \u001b[32m'Robertson County'\u001b[0m,\n",
       "       \u001b[32m'Live Oak County'\u001b[0m, \u001b[32m'Presidio County'\u001b[0m, \u001b[32m'Somervell County'\u001b[0m,\n",
       "       \u001b[32m'Madison County'\u001b[0m, \u001b[32m'Trinity County'\u001b[0m, \u001b[32m'Culberson County'\u001b[0m,\n",
       "       \u001b[32m'Cochran County'\u001b[0m, \u001b[32m'Kinney County'\u001b[0m, \u001b[32m'Newton County'\u001b[0m,\n",
       "       \u001b[32m'McCulloch County'\u001b[0m, \u001b[32m'Upton County'\u001b[0m, \u001b[32m'Burleson County'\u001b[0m,\n",
       "       \u001b[32m'Shackelford County'\u001b[0m, \u001b[32m'Sutton County'\u001b[0m, \u001b[32m'Martin County'\u001b[0m,\n",
       "       \u001b[32m'Castro County'\u001b[0m, \u001b[32m'Upshur County'\u001b[0m, \u001b[32m'Hansford County'\u001b[0m,\n",
       "       \u001b[32m'Lampasas County'\u001b[0m, \u001b[32m'Camp County'\u001b[0m\u001b[1m]\u001b[0m, \u001b[33mdtype\u001b[0m=\u001b[35mobject\u001b[0m\u001b[1m)\u001b[0m"
      ]
     },
     "execution_count": 48,
     "metadata": {},
     "output_type": "execute_result"
    }
   ],
   "source": [
    "patients['COUNTY'].unique()"
   ]
  },
  {
   "cell_type": "code",
   "execution_count": 49,
   "id": "7ff6f81b-0730-4d25-be9e-b3daec5b7043",
   "metadata": {},
   "outputs": [
    {
     "data": {
      "text/html": [
       "<pre style=\"white-space:pre;overflow-x:auto;line-height:normal;font-family:Menlo,'DejaVu Sans Mono',consolas,'Courier New',monospace\"></pre>\n"
      ],
      "text/plain": []
     },
     "metadata": {},
     "output_type": "display_data"
    },
    {
     "data": {
      "text/plain": [
       "\n",
       "\u001b[1;35marray\u001b[0m\u001b[1m(\u001b[0m\u001b[1m[\u001b[0m\u001b[1;36m48439\u001b[0m., \u001b[1;36m48339\u001b[0m., \u001b[1;36m48309\u001b[0m., \u001b[1;36m48219\u001b[0m., \u001b[1;36m48201\u001b[0m., \u001b[1;36m48113\u001b[0m., \u001b[1;36m48029\u001b[0m., \u001b[1;36m48039\u001b[0m.,\n",
       "       \u001b[1;36m48121\u001b[0m., \u001b[1;36m48453\u001b[0m., \u001b[1;36m48169\u001b[0m., \u001b[1;36m48303\u001b[0m., \u001b[1;36m48141\u001b[0m., \u001b[1;36m48491\u001b[0m., \u001b[1;36m48471\u001b[0m., \u001b[1;36m48045\u001b[0m.,\n",
       "       \u001b[1;36m48167\u001b[0m., \u001b[1;36m48245\u001b[0m., \u001b[1;36m48085\u001b[0m., \u001b[1;36m48355\u001b[0m., \u001b[1;36m48197\u001b[0m., \u001b[1;36m48073\u001b[0m., \u001b[1;36m48013\u001b[0m., \u001b[1;36m48157\u001b[0m.,\n",
       "       \u001b[1;36m48213\u001b[0m., \u001b[1;36m48117\u001b[0m., \u001b[1;36m48135\u001b[0m.,    nan, \u001b[1;36m48479\u001b[0m., \u001b[1;36m48097\u001b[0m., \u001b[1;36m48485\u001b[0m., \u001b[1;36m48399\u001b[0m.,\n",
       "       \u001b[1;36m48329\u001b[0m., \u001b[1;36m48215\u001b[0m., \u001b[1;36m48231\u001b[0m., \u001b[1;36m48397\u001b[0m., \u001b[1;36m48027\u001b[0m., \u001b[1;36m48001\u001b[0m., \u001b[1;36m48061\u001b[0m., \u001b[1;36m48251\u001b[0m.,\n",
       "       \u001b[1;36m48367\u001b[0m., \u001b[1;36m48053\u001b[0m., \u001b[1;36m48223\u001b[0m., \u001b[1;36m48209\u001b[0m., \u001b[1;36m48015\u001b[0m., \u001b[1;36m48041\u001b[0m., \u001b[1;36m48177\u001b[0m., \u001b[1;36m48187\u001b[0m.,\n",
       "       \u001b[1;36m35013\u001b[0m., \u001b[1;36m48465\u001b[0m., \u001b[1;36m48189\u001b[0m., \u001b[1;36m48037\u001b[0m., \u001b[1;36m48441\u001b[0m., \u001b[1;36m48349\u001b[0m., \u001b[1;36m48325\u001b[0m., \u001b[1;36m48183\u001b[0m.,\n",
       "       \u001b[1;36m48257\u001b[0m., \u001b[1;36m48221\u001b[0m., \u001b[1;36m48475\u001b[0m., \u001b[1;36m48421\u001b[0m., \u001b[1;36m48381\u001b[0m., \u001b[1;36m48423\u001b[0m., \u001b[1;36m48481\u001b[0m., \u001b[1;36m48469\u001b[0m.,\n",
       "       \u001b[1;36m48347\u001b[0m., \u001b[1;36m48123\u001b[0m., \u001b[1;36m48495\u001b[0m., \u001b[1;36m48091\u001b[0m., \u001b[1;36m48181\u001b[0m., \u001b[1;36m48427\u001b[0m., \u001b[1;36m48341\u001b[0m., \u001b[1;36m48361\u001b[0m.,\n",
       "       \u001b[1;36m48463\u001b[0m., \u001b[1;36m48493\u001b[0m., \u001b[1;36m48185\u001b[0m., \u001b[1;36m48055\u001b[0m., \u001b[1;36m48099\u001b[0m., \u001b[1;36m48007\u001b[0m., \u001b[1;36m48139\u001b[0m., \u001b[1;36m48409\u001b[0m.,\n",
       "       \u001b[1;36m48299\u001b[0m., \u001b[1;36m48227\u001b[0m., \u001b[1;36m48143\u001b[0m., \u001b[1;36m48389\u001b[0m., \u001b[1;36m48249\u001b[0m., \u001b[1;36m48145\u001b[0m., \u001b[1;36m48371\u001b[0m., \u001b[1;36m48473\u001b[0m.,\n",
       "       \u001b[1;36m48031\u001b[0m., \u001b[1;36m48451\u001b[0m., \u001b[1;36m48089\u001b[0m., \u001b[1;36m48021\u001b[0m., \u001b[1;36m48497\u001b[0m., \u001b[1;36m48103\u001b[0m., \u001b[1;36m48005\u001b[0m., \u001b[1;36m48253\u001b[0m.,\n",
       "       \u001b[1;36m48273\u001b[0m., \u001b[1;36m48277\u001b[0m., \u001b[1;36m48499\u001b[0m., \u001b[1;36m48071\u001b[0m., \u001b[1;36m48501\u001b[0m., \u001b[1;36m48489\u001b[0m., \u001b[1;36m48375\u001b[0m., \u001b[1;36m48149\u001b[0m.,\n",
       "       \u001b[1;36m48067\u001b[0m., \u001b[1;36m48443\u001b[0m., \u001b[1;36m48093\u001b[0m., \u001b[1;36m48083\u001b[0m., \u001b[1;36m48049\u001b[0m., \u001b[1;36m48087\u001b[0m., \u001b[1;36m48241\u001b[0m., \u001b[1;36m48407\u001b[0m.,\n",
       "       \u001b[1;36m48105\u001b[0m., \u001b[1;36m48199\u001b[0m., \u001b[1;36m48225\u001b[0m., \u001b[1;36m48159\u001b[0m., \u001b[1;36m48323\u001b[0m., \u001b[1;36m48505\u001b[0m., \u001b[1;36m48043\u001b[0m., \u001b[1;36m48437\u001b[0m.,\n",
       "       \u001b[1;36m48233\u001b[0m., \u001b[1;36m48179\u001b[0m., \u001b[1;36m48265\u001b[0m., \u001b[1;36m48203\u001b[0m., \u001b[1;36m48477\u001b[0m., \u001b[1;36m48237\u001b[0m., \u001b[1;36m48415\u001b[0m., \u001b[1;36m48217\u001b[0m.,\n",
       "       \u001b[1;36m48365\u001b[0m., \u001b[1;36m48401\u001b[0m., \u001b[1;36m48165\u001b[0m., \u001b[1;36m48077\u001b[0m., \u001b[1;36m48321\u001b[0m., \u001b[1;36m48317\u001b[0m., \u001b[1;36m48293\u001b[0m., \u001b[1;36m48003\u001b[0m.,\n",
       "       \u001b[1;36m48429\u001b[0m., \u001b[1;36m48449\u001b[0m., \u001b[1;36m48131\u001b[0m., \u001b[1;36m48115\u001b[0m., \u001b[1;36m48445\u001b[0m., \u001b[1;36m48111\u001b[0m., \u001b[1;36m48291\u001b[0m., \u001b[1;36m48419\u001b[0m.,\n",
       "       \u001b[1;36m48487\u001b[0m., \u001b[1;36m48359\u001b[0m., \u001b[1;36m48305\u001b[0m., \u001b[1;36m48353\u001b[0m., \u001b[1;36m48161\u001b[0m., \u001b[1;36m48057\u001b[0m., \u001b[1;36m48369\u001b[0m., \u001b[1;36m48507\u001b[0m.,\n",
       "       \u001b[1;36m48191\u001b[0m., \u001b[1;36m48255\u001b[0m., \u001b[1;36m48373\u001b[0m., \u001b[1;36m48133\u001b[0m., \u001b[1;36m48279\u001b[0m., \u001b[1;36m48333\u001b[0m., \u001b[1;36m48285\u001b[0m., \u001b[1;36m48025\u001b[0m.,\n",
       "       \u001b[1;36m48065\u001b[0m., \u001b[1;36m48147\u001b[0m., \u001b[1;36m48357\u001b[0m., \u001b[1;36m48163\u001b[0m., \u001b[1;36m48289\u001b[0m., \u001b[1;36m48017\u001b[0m., \u001b[1;36m48033\u001b[0m., \u001b[1;36m48247\u001b[0m.,\n",
       "       \u001b[1;36m48035\u001b[0m., \u001b[1;36m48335\u001b[0m., \u001b[1;36m48411\u001b[0m., \u001b[1;36m48171\u001b[0m., \u001b[1;36m48107\u001b[0m., \u001b[1;36m48331\u001b[0m., \u001b[1;36m48287\u001b[0m., \u001b[1;36m48387\u001b[0m.,\n",
       "       \u001b[1;36m48467\u001b[0m., \u001b[1;36m48457\u001b[0m., \u001b[1;36m48267\u001b[0m., \u001b[1;36m48129\u001b[0m., \u001b[1;36m48019\u001b[0m., \u001b[1;36m48011\u001b[0m., \u001b[1;36m48345\u001b[0m., \u001b[1;36m48239\u001b[0m.,\n",
       "       \u001b[1;36m48405\u001b[0m., \u001b[1;36m48127\u001b[0m., \u001b[1;36m48229\u001b[0m., \u001b[1;36m48023\u001b[0m., \u001b[1;36m48503\u001b[0m., \u001b[1;36m48275\u001b[0m., \u001b[1;36m48075\u001b[0m., \u001b[1;36m48295\u001b[0m.,\n",
       "       \u001b[1;36m48059\u001b[0m., \u001b[1;36m48363\u001b[0m., \u001b[1;36m48483\u001b[0m., \u001b[1;36m48337\u001b[0m., \u001b[1;36m48211\u001b[0m., \u001b[1;36m48081\u001b[0m., \u001b[1;36m48383\u001b[0m., \u001b[1;36m48395\u001b[0m.,\n",
       "       \u001b[1;36m48297\u001b[0m., \u001b[1;36m48377\u001b[0m., \u001b[1;36m48425\u001b[0m., \u001b[1;36m48259\u001b[0m., \u001b[1;36m48313\u001b[0m., \u001b[1;36m48459\u001b[0m., \u001b[1;36m48109\u001b[0m., \u001b[1;36m48079\u001b[0m.,\n",
       "       \u001b[1;36m48271\u001b[0m., \u001b[1;36m48351\u001b[0m., \u001b[1;36m48095\u001b[0m., \u001b[1;36m48461\u001b[0m., \u001b[1;36m48307\u001b[0m., \u001b[1;36m48051\u001b[0m., \u001b[1;36m48417\u001b[0m., \u001b[1;36m48435\u001b[0m.,\n",
       "       \u001b[1;36m48343\u001b[0m., \u001b[1;36m48205\u001b[0m., \u001b[1;36m40139\u001b[0m., \u001b[1;36m48069\u001b[0m., \u001b[1;36m48009\u001b[0m., \u001b[1;36m48195\u001b[0m., \u001b[1;36m48281\u001b[0m., \u001b[1;36m48207\u001b[0m.,\n",
       "       \u001b[1;36m48063\u001b[0m.\u001b[1m]\u001b[0m\u001b[1m)\u001b[0m"
      ]
     },
     "execution_count": 49,
     "metadata": {},
     "output_type": "execute_result"
    }
   ],
   "source": [
    "patients['FIPS'].unique()"
   ]
  },
  {
   "cell_type": "code",
   "execution_count": 50,
   "id": "6436d74f-c800-4ad9-9033-ab32d5b7ef87",
   "metadata": {},
   "outputs": [
    {
     "data": {
      "text/html": [
       "<pre style=\"white-space:pre;overflow-x:auto;line-height:normal;font-family:Menlo,'DejaVu Sans Mono',consolas,'Courier New',monospace\"></pre>\n"
      ],
      "text/plain": []
     },
     "metadata": {},
     "output_type": "display_data"
    },
    {
     "data": {
      "text/plain": [
       "\u001b[1;35marray\u001b[0m\u001b[1m(\u001b[0m\u001b[1m[\u001b[0m\u001b[1;36m76104\u001b[0m, \u001b[1;36m76006\u001b[0m, \u001b[1;36m77357\u001b[0m, \u001b[33m...\u001b[0m, \u001b[1;36m75686\u001b[0m, \u001b[1;36m76437\u001b[0m, \u001b[1;36m76561\u001b[0m\u001b[1m]\u001b[0m, \u001b[33mshape\u001b[0m=\u001b[1m(\u001b[0m\u001b[1;36m1209\u001b[0m,\u001b[1m)\u001b[0m\u001b[1m)\u001b[0m"
      ]
     },
     "execution_count": 50,
     "metadata": {},
     "output_type": "execute_result"
    }
   ],
   "source": [
    "patients['ZIP'].unique()"
   ]
  },
  {
   "cell_type": "code",
   "execution_count": 51,
   "id": "0dee75d4-398c-45b6-b0b6-c72f610ec4ea",
   "metadata": {},
   "outputs": [
    {
     "data": {
      "text/html": [
       "<pre style=\"white-space:pre;overflow-x:auto;line-height:normal;font-family:Menlo,'DejaVu Sans Mono',consolas,'Courier New',monospace\"></pre>\n"
      ],
      "text/plain": []
     },
     "metadata": {},
     "output_type": "display_data"
    },
    {
     "data": {
      "text/plain": [
       "\n",
       "\u001b[1;35marray\u001b[0m\u001b[1m(\u001b[0m\u001b[1m[\u001b[0m\u001b[1;36m0.32915371\u001b[0m, \u001b[1;36m0.32814485\u001b[0m, \u001b[1;36m0.30083426\u001b[0m, \u001b[33m...\u001b[0m, \u001b[1;36m0.31781851\u001b[0m, \u001b[1;36m0.31450477\u001b[0m,\n",
       "       \u001b[1;36m0.30297505\u001b[0m\u001b[1m]\u001b[0m, \u001b[33mshape\u001b[0m=\u001b[1m(\u001b[0m\u001b[1;36m9850\u001b[0m,\u001b[1m)\u001b[0m\u001b[1m)\u001b[0m"
      ]
     },
     "execution_count": 51,
     "metadata": {},
     "output_type": "execute_result"
    }
   ],
   "source": [
    "patients['LAT'].unique()"
   ]
  },
  {
   "cell_type": "code",
   "execution_count": 52,
   "id": "17b2e71e-4cb2-49db-a873-d8838e0bc3f9",
   "metadata": {},
   "outputs": [
    {
     "data": {
      "text/html": [
       "<pre style=\"white-space:pre;overflow-x:auto;line-height:normal;font-family:Menlo,'DejaVu Sans Mono',consolas,'Courier New',monospace\"></pre>\n"
      ],
      "text/plain": []
     },
     "metadata": {},
     "output_type": "display_data"
    },
    {
     "data": {
      "text/plain": [
       "\n",
       "\u001b[1;35marray\u001b[0m\u001b[1m(\u001b[0m\u001b[1m[\u001b[0m \u001b[1;36m-97.39955328\u001b[0m,  \u001b[1;36m-97.06888454\u001b[0m,  \u001b[1;36m-95.64970639\u001b[0m, \u001b[33m...\u001b[0m, \u001b[1;36m-106.38832866\u001b[0m,\n",
       "        \u001b[1;36m-97.39069281\u001b[0m,  \u001b[1;36m-97.76331423\u001b[0m\u001b[1m]\u001b[0m, \u001b[33mshape\u001b[0m=\u001b[1m(\u001b[0m\u001b[1;36m9850\u001b[0m,\u001b[1m)\u001b[0m\u001b[1m)\u001b[0m"
      ]
     },
     "execution_count": 52,
     "metadata": {},
     "output_type": "execute_result"
    }
   ],
   "source": [
    "patients['LON'].unique()"
   ]
  },
  {
   "cell_type": "code",
   "execution_count": 53,
   "id": "44bee6cb-e127-4998-9393-4a65097f6047",
   "metadata": {},
   "outputs": [
    {
     "data": {
      "text/html": [
       "<pre style=\"white-space:pre;overflow-x:auto;line-height:normal;font-family:Menlo,'DejaVu Sans Mono',consolas,'Courier New',monospace\"></pre>\n"
      ],
      "text/plain": []
     },
     "metadata": {},
     "output_type": "display_data"
    },
    {
     "data": {
      "text/plain": [
       "\n",
       "\u001b[1;35marray\u001b[0m\u001b[1m(\u001b[0m\u001b[1m[\u001b[0m \u001b[1;36m9990.08\u001b[0m, \u001b[1;36m10936.8\u001b[0m , \u001b[1;36m10662.16\u001b[0m, \u001b[33m...\u001b[0m, \u001b[1;36m14358.74\u001b[0m, \u001b[1;36m18605.74\u001b[0m, \u001b[1;36m19529.91\u001b[0m\u001b[1m]\u001b[0m,\n",
       "      \u001b[33mshape\u001b[0m=\u001b[1m(\u001b[0m\u001b[1;36m3476\u001b[0m,\u001b[1m)\u001b[0m\u001b[1m)\u001b[0m"
      ]
     },
     "execution_count": 53,
     "metadata": {},
     "output_type": "execute_result"
    }
   ],
   "source": [
    "patients['HEALTHCARE_EXPENSES'].unique()"
   ]
  },
  {
   "cell_type": "code",
   "execution_count": 54,
   "id": "691823f5-00ce-4078-8af3-e5aad415fac4",
   "metadata": {},
   "outputs": [
    {
     "data": {
      "text/html": [
       "<pre style=\"white-space:pre;overflow-x:auto;line-height:normal;font-family:Menlo,'DejaVu Sans Mono',consolas,'Courier New',monospace\"></pre>\n"
      ],
      "text/plain": []
     },
     "metadata": {},
     "output_type": "display_data"
    },
    {
     "data": {
      "text/plain": [
       "\n",
       "\u001b[1;35marray\u001b[0m\u001b[1m(\u001b[0m\u001b[1m[\u001b[0m   \u001b[1;36m0\u001b[0m.  , \u001b[1;36m1638.24\u001b[0m, \u001b[1;36m3714.72\u001b[0m, \u001b[33m...\u001b[0m, \u001b[1;36m4967.14\u001b[0m, \u001b[1;36m1120.32\u001b[0m, \u001b[1;36m2016.2\u001b[0m \u001b[1m]\u001b[0m,\n",
       "      \u001b[33mshape\u001b[0m=\u001b[1m(\u001b[0m\u001b[1;36m1395\u001b[0m,\u001b[1m)\u001b[0m\u001b[1m)\u001b[0m"
      ]
     },
     "execution_count": 54,
     "metadata": {},
     "output_type": "execute_result"
    }
   ],
   "source": [
    "patients['HEALTHCARE_COVERAGE'].unique()"
   ]
  },
  {
   "cell_type": "code",
   "execution_count": 55,
   "id": "df01639f-a980-478f-a147-1e88d048ab75",
   "metadata": {},
   "outputs": [
    {
     "data": {
      "text/html": [
       "<pre style=\"white-space:pre;overflow-x:auto;line-height:normal;font-family:Menlo,'DejaVu Sans Mono',consolas,'Courier New',monospace\"></pre>\n"
      ],
      "text/plain": []
     },
     "metadata": {},
     "output_type": "display_data"
    },
    {
     "data": {
      "text/plain": [
       "\u001b[1;35marray\u001b[0m\u001b[1m(\u001b[0m\u001b[1m[\u001b[0m \u001b[1;36m35460\u001b[0m,  \u001b[1;36m88407\u001b[0m,  \u001b[1;36m41800\u001b[0m, \u001b[33m...\u001b[0m, \u001b[1;36m183359\u001b[0m,  \u001b[1;36m56370\u001b[0m,  \u001b[1;36m36223\u001b[0m\u001b[1m]\u001b[0m, \u001b[33mshape\u001b[0m=\u001b[1m(\u001b[0m\u001b[1;36m9538\u001b[0m,\u001b[1m)\u001b[0m\u001b[1m)\u001b[0m"
      ]
     },
     "execution_count": 55,
     "metadata": {},
     "output_type": "execute_result"
    }
   ],
   "source": [
    "patients['INCOME'].unique()"
   ]
  },
  {
   "cell_type": "code",
   "execution_count": 57,
   "id": "b2c11e03-9987-458c-aa08-acbc02b6b058",
   "metadata": {},
   "outputs": [
    {
     "data": {
      "text/html": [
       "<pre style=\"white-space:pre;overflow-x:auto;line-height:normal;font-family:Menlo,'DejaVu Sans Mono',consolas,'Courier New',monospace\"></pre>\n"
      ],
      "text/plain": []
     },
     "metadata": {},
     "output_type": "display_data"
    },
    {
     "data": {
      "text/plain": [
       "\n",
       "\u001b[1;35marray\u001b[0m\u001b[1m(\u001b[0m\u001b[1m[\u001b[0m\u001b[32m'2014-02-10T11:00:08Z'\u001b[0m, \u001b[32m'2014-06-04T05:19:43Z'\u001b[0m,\n",
       "       \u001b[32m'2015-06-10T05:19:43Z'\u001b[0m, \u001b[33m...\u001b[0m, \u001b[32m'2022-03-31T13:10:12Z'\u001b[0m,\n",
       "       \u001b[32m'2023-04-06T13:10:12Z'\u001b[0m, \u001b[32m'2023-04-13T13:10:12Z'\u001b[0m\u001b[1m]\u001b[0m,\n",
       "      \u001b[33mshape\u001b[0m=\u001b[1m(\u001b[0m\u001b[1;36m103591\u001b[0m,\u001b[1m)\u001b[0m, \u001b[33mdtype\u001b[0m=\u001b[35mobject\u001b[0m\u001b[1m)\u001b[0m"
      ]
     },
     "execution_count": 57,
     "metadata": {},
     "output_type": "execute_result"
    }
   ],
   "source": [
    "encounters['START'].unique()"
   ]
  },
  {
   "cell_type": "code",
   "execution_count": 58,
   "id": "33b23d08-32ac-4caa-b44a-1cabab0aa4bd",
   "metadata": {},
   "outputs": [
    {
     "data": {
      "text/html": [
       "<pre style=\"white-space:pre;overflow-x:auto;line-height:normal;font-family:Menlo,'DejaVu Sans Mono',consolas,'Courier New',monospace\"></pre>\n"
      ],
      "text/plain": []
     },
     "metadata": {},
     "output_type": "display_data"
    },
    {
     "data": {
      "text/plain": [
       "\n",
       "\u001b[1;35marray\u001b[0m\u001b[1m(\u001b[0m\u001b[1m[\u001b[0m\u001b[32m'2014-02-10T11:15:08Z'\u001b[0m, \u001b[32m'2014-06-04T05:34:43Z'\u001b[0m,\n",
       "       \u001b[32m'2015-06-10T05:34:43Z'\u001b[0m, \u001b[33m...\u001b[0m, \u001b[32m'2022-03-31T13:25:12Z'\u001b[0m,\n",
       "       \u001b[32m'2023-04-06T13:25:12Z'\u001b[0m, \u001b[32m'2023-04-13T13:25:12Z'\u001b[0m\u001b[1m]\u001b[0m,\n",
       "      \u001b[33mshape\u001b[0m=\u001b[1m(\u001b[0m\u001b[1;36m104243\u001b[0m,\u001b[1m)\u001b[0m, \u001b[33mdtype\u001b[0m=\u001b[35mobject\u001b[0m\u001b[1m)\u001b[0m"
      ]
     },
     "execution_count": 58,
     "metadata": {},
     "output_type": "execute_result"
    }
   ],
   "source": [
    "encounters['STOP'].unique()"
   ]
  },
  {
   "cell_type": "code",
   "execution_count": 59,
   "id": "65551332-023b-40aa-8df1-136f3ebbd753",
   "metadata": {},
   "outputs": [
    {
     "data": {
      "text/html": [
       "<pre style=\"white-space:pre;overflow-x:auto;line-height:normal;font-family:Menlo,'DejaVu Sans Mono',consolas,'Courier New',monospace\"></pre>\n"
      ],
      "text/plain": []
     },
     "metadata": {},
     "output_type": "display_data"
    },
    {
     "data": {
      "text/plain": [
       "\n",
       "\u001b[1;35marray\u001b[0m\u001b[1m(\u001b[0m\u001b[1m[\u001b[0m\u001b[32m'54F1059E-6250-3949-6DD0-1DDA9B85D22A'\u001b[0m,\n",
       "       \u001b[32m'92675303-CA5B-136A-169B-E764C5753F06'\u001b[0m,\n",
       "       \u001b[32m'A0B63E97-B6FD-5FE1-8F2D-2BEC915EFA97'\u001b[0m, \u001b[33m...\u001b[0m,\n",
       "       \u001b[32m'DE57C9CA-B881-3560-0F48-678EDD01C193'\u001b[0m,\n",
       "       \u001b[32m'9F508536-70B2-D71A-81EB-24B3141EC28A'\u001b[0m,\n",
       "       \u001b[32m'8D116ACE-7FB6-7D5F-B86B-94547CBD796D'\u001b[0m\u001b[1m]\u001b[0m,\n",
       "      \u001b[33mshape\u001b[0m=\u001b[1m(\u001b[0m\u001b[1;36m10000\u001b[0m,\u001b[1m)\u001b[0m, \u001b[33mdtype\u001b[0m=\u001b[35mobject\u001b[0m\u001b[1m)\u001b[0m"
      ]
     },
     "execution_count": 59,
     "metadata": {},
     "output_type": "execute_result"
    }
   ],
   "source": [
    "encounters['PATIENT'].unique()"
   ]
  },
  {
   "cell_type": "code",
   "execution_count": 60,
   "id": "114e8dc8-d56f-4b0e-b7b0-867940ebfb5a",
   "metadata": {},
   "outputs": [
    {
     "data": {
      "text/html": [
       "<pre style=\"white-space:pre;overflow-x:auto;line-height:normal;font-family:Menlo,'DejaVu Sans Mono',consolas,'Courier New',monospace\"></pre>\n"
      ],
      "text/plain": []
     },
     "metadata": {},
     "output_type": "display_data"
    },
    {
     "data": {
      "text/plain": [
       "\n",
       "\u001b[1;35marray\u001b[0m\u001b[1m(\u001b[0m\u001b[1m[\u001b[0m\u001b[32m'ef42ec52-a1c1-3fc5-8e52-da46f7f3970c'\u001b[0m,\n",
       "       \u001b[32m'02078b23-a943-3175-b5f0-8d386dd8eb56'\u001b[0m,\n",
       "       \u001b[32m'44f0ad91-f33b-3fe5-ba4f-868503d593fe'\u001b[0m, \u001b[33m...\u001b[0m,\n",
       "       \u001b[32m'2a812797-fcca-3111-97b1-3634adc0abdc'\u001b[0m,\n",
       "       \u001b[32m'c763d60c-bcc4-3264-84d8-c68582059d4b'\u001b[0m,\n",
       "       \u001b[32m'0162e3c9-8834-383c-8d95-bcea1a1c2aa1'\u001b[0m\u001b[1m]\u001b[0m,\n",
       "      \u001b[33mshape\u001b[0m=\u001b[1m(\u001b[0m\u001b[1;36m2795\u001b[0m,\u001b[1m)\u001b[0m, \u001b[33mdtype\u001b[0m=\u001b[35mobject\u001b[0m\u001b[1m)\u001b[0m"
      ]
     },
     "execution_count": 60,
     "metadata": {},
     "output_type": "execute_result"
    }
   ],
   "source": [
    "encounters['ORGANIZATION'].unique()"
   ]
  },
  {
   "cell_type": "code",
   "execution_count": 61,
   "id": "49aeb69f-ca12-4ce8-8464-db0bfec34ad1",
   "metadata": {},
   "outputs": [
    {
     "data": {
      "text/html": [
       "<pre style=\"white-space:pre;overflow-x:auto;line-height:normal;font-family:Menlo,'DejaVu Sans Mono',consolas,'Courier New',monospace\"></pre>\n"
      ],
      "text/plain": []
     },
     "metadata": {},
     "output_type": "display_data"
    },
    {
     "data": {
      "text/plain": [
       "\n",
       "\u001b[1;35marray\u001b[0m\u001b[1m(\u001b[0m\u001b[1m[\u001b[0m\u001b[32m'35088bec-f756-35d8-8140-b2b017c0eacc'\u001b[0m,\n",
       "       \u001b[32m'af22b73b-d38f-3d92-8a95-bd57ac2dc3f1'\u001b[0m,\n",
       "       \u001b[32m'a79c71d6-e0b4-3450-a0e1-ee08146aeb74'\u001b[0m, \u001b[33m...\u001b[0m,\n",
       "       \u001b[32m'fd74d126-74cb-3461-a572-b1b56295c007'\u001b[0m,\n",
       "       \u001b[32m'0e89899f-79de-3be3-969d-3531aeebc869'\u001b[0m,\n",
       "       \u001b[32m'f5dba02b-52b9-30e1-add2-672ea10699e8'\u001b[0m\u001b[1m]\u001b[0m,\n",
       "      \u001b[33mshape\u001b[0m=\u001b[1m(\u001b[0m\u001b[1;36m2795\u001b[0m,\u001b[1m)\u001b[0m, \u001b[33mdtype\u001b[0m=\u001b[35mobject\u001b[0m\u001b[1m)\u001b[0m"
      ]
     },
     "execution_count": 61,
     "metadata": {},
     "output_type": "execute_result"
    }
   ],
   "source": [
    "encounters['PROVIDER'].unique()"
   ]
  },
  {
   "cell_type": "code",
   "execution_count": 62,
   "id": "6a853ac0-4d9f-4e10-a5ea-9dac947fb420",
   "metadata": {},
   "outputs": [
    {
     "data": {
      "text/html": [
       "<pre style=\"white-space:pre;overflow-x:auto;line-height:normal;font-family:Menlo,'DejaVu Sans Mono',consolas,'Courier New',monospace\"></pre>\n"
      ],
      "text/plain": []
     },
     "metadata": {},
     "output_type": "display_data"
    },
    {
     "data": {
      "text/plain": [
       "\n",
       "\u001b[1;35marray\u001b[0m\u001b[1m(\u001b[0m\u001b[1m[\u001b[0m\u001b[32m'8fa6c185-e44e-3e34-8bd8-39be8694f4ce'\u001b[0m,\n",
       "       \u001b[32m'b046940f-1664-3047-bca7-dfa76be352a4'\u001b[0m,\n",
       "       \u001b[32m'734afbd6-4794-363b-9bc0-6a3981533ed5'\u001b[0m,\n",
       "       \u001b[32m'e03e23c9-4df1-3eb6-a62d-f70f02301496'\u001b[0m,\n",
       "       \u001b[32m'0133f751-9229-3cfd-815f-b6d4979bdd6a'\u001b[0m,\n",
       "       \u001b[32m'd31fccc3-1767-390d-966a-22a5156f4219'\u001b[0m,\n",
       "       \u001b[32m'a735bf55-83e9-331a-899d-a82a60b9f60c'\u001b[0m,\n",
       "       \u001b[32m'df166300-5a78-3502-a46a-832842197811'\u001b[0m,\n",
       "       \u001b[32m'26aab0cd-6aba-3e1b-ac5b-05c8867e762c'\u001b[0m\u001b[1m]\u001b[0m, \u001b[33mdtype\u001b[0m=\u001b[35mobject\u001b[0m\u001b[1m)\u001b[0m"
      ]
     },
     "execution_count": 62,
     "metadata": {},
     "output_type": "execute_result"
    }
   ],
   "source": [
    "encounters['PAYER'].unique()"
   ]
  },
  {
   "cell_type": "code",
   "execution_count": 63,
   "id": "3bdf73c0-cadd-45b3-b147-f187a5395a2e",
   "metadata": {},
   "outputs": [
    {
     "data": {
      "text/html": [
       "<pre style=\"white-space:pre;overflow-x:auto;line-height:normal;font-family:Menlo,'DejaVu Sans Mono',consolas,'Courier New',monospace\"></pre>\n"
      ],
      "text/plain": []
     },
     "metadata": {},
     "output_type": "display_data"
    },
    {
     "data": {
      "text/plain": [
       "\u001b[1;35marray\u001b[0m\u001b[1m(\u001b[0m\u001b[1m[\u001b[0m\u001b[32m'wellness'\u001b[0m, \u001b[32m'outpatient'\u001b[0m, \u001b[32m'ambulatory'\u001b[0m, \u001b[32m'virtual'\u001b[0m\u001b[1m]\u001b[0m, \u001b[33mdtype\u001b[0m=\u001b[35mobject\u001b[0m\u001b[1m)\u001b[0m"
      ]
     },
     "execution_count": 63,
     "metadata": {},
     "output_type": "execute_result"
    }
   ],
   "source": [
    "encounters['ENCOUNTERCLASS'].unique()"
   ]
  },
  {
   "cell_type": "code",
   "execution_count": 64,
   "id": "f5b84d7d-c6a2-4705-82e2-62c45c01e7f0",
   "metadata": {},
   "outputs": [
    {
     "data": {
      "text/html": [
       "<pre style=\"white-space:pre;overflow-x:auto;line-height:normal;font-family:Menlo,'DejaVu Sans Mono',consolas,'Courier New',monospace\"></pre>\n"
      ],
      "text/plain": []
     },
     "metadata": {},
     "output_type": "display_data"
    },
    {
     "data": {
      "text/plain": [
       "\u001b[1;35marray\u001b[0m\u001b[1m(\u001b[0m\u001b[1m[\u001b[0m\u001b[1;36m410620009\u001b[0m, \u001b[1;36m162673000\u001b[0m,  \u001b[1;36m33879002\u001b[0m, \u001b[1;36m185347001\u001b[0m\u001b[1m]\u001b[0m\u001b[1m)\u001b[0m"
      ]
     },
     "execution_count": 64,
     "metadata": {},
     "output_type": "execute_result"
    }
   ],
   "source": [
    "encounters['CODE'].unique()"
   ]
  },
  {
   "cell_type": "code",
   "execution_count": 65,
   "id": "ba6aa4c9-95ae-4031-a980-f26b1751e457",
   "metadata": {},
   "outputs": [
    {
     "data": {
      "text/html": [
       "<pre style=\"white-space:pre;overflow-x:auto;line-height:normal;font-family:Menlo,'DejaVu Sans Mono',consolas,'Courier New',monospace\"></pre>\n"
      ],
      "text/plain": []
     },
     "metadata": {},
     "output_type": "display_data"
    },
    {
     "data": {
      "text/plain": [
       "\n",
       "\u001b[1;35marray\u001b[0m\u001b[1m(\u001b[0m\u001b[1m[\u001b[0m\u001b[32m'Well child visit \u001b[0m\u001b[32m(\u001b[0m\u001b[32mprocedure\u001b[0m\u001b[32m)\u001b[0m\u001b[32m'\u001b[0m,\n",
       "       \u001b[32m'General examination of patient \u001b[0m\u001b[32m(\u001b[0m\u001b[32mprocedure\u001b[0m\u001b[32m)\u001b[0m\u001b[32m'\u001b[0m,\n",
       "       \u001b[32m'Administration of vaccine to produce active immunity \u001b[0m\u001b[32m(\u001b[0m\u001b[32mprocedure\u001b[0m\u001b[32m)\u001b[0m\u001b[32m'\u001b[0m,\n",
       "       \u001b[32m'Encounter for problem'\u001b[0m\u001b[1m]\u001b[0m, \u001b[33mdtype\u001b[0m=\u001b[35mobject\u001b[0m\u001b[1m)\u001b[0m"
      ]
     },
     "execution_count": 65,
     "metadata": {},
     "output_type": "execute_result"
    }
   ],
   "source": [
    "encounters['DESCRIPTION'].unique()"
   ]
  },
  {
   "cell_type": "code",
   "execution_count": 66,
   "id": "b55986d8-d458-487e-8fb0-bef772fa623e",
   "metadata": {},
   "outputs": [
    {
     "data": {
      "text/html": [
       "<pre style=\"white-space:pre;overflow-x:auto;line-height:normal;font-family:Menlo,'DejaVu Sans Mono',consolas,'Courier New',monospace\"></pre>\n"
      ],
      "text/plain": []
     },
     "metadata": {},
     "output_type": "display_data"
    },
    {
     "data": {
      "text/plain": [
       "\u001b[1;35marray\u001b[0m\u001b[1m(\u001b[0m\u001b[1m[\u001b[0m\u001b[1;36m133.36\u001b[0m, \u001b[1;36m113.77\u001b[0m,  \u001b[1;36m68.26\u001b[0m,  \u001b[1;36m75\u001b[0m.  \u001b[1m]\u001b[0m\u001b[1m)\u001b[0m"
      ]
     },
     "execution_count": 66,
     "metadata": {},
     "output_type": "execute_result"
    }
   ],
   "source": [
    "encounters['BASE_ENCOUNTER_COST'].unique()"
   ]
  },
  {
   "cell_type": "code",
   "execution_count": 67,
   "id": "7d0c6d57-38ee-4a27-a1d9-ca9e3280fa36",
   "metadata": {},
   "outputs": [
    {
     "data": {
      "text/html": [
       "<pre style=\"white-space:pre;overflow-x:auto;line-height:normal;font-family:Menlo,'DejaVu Sans Mono',consolas,'Courier New',monospace\"></pre>\n"
      ],
      "text/plain": []
     },
     "metadata": {},
     "output_type": "display_data"
    },
    {
     "data": {
      "text/plain": [
       "\n",
       "\u001b[1;35marray\u001b[0m\u001b[1m(\u001b[0m\u001b[1m[\u001b[0m \u001b[1;36m405.36\u001b[0m,  \u001b[1;36m269.36\u001b[0m,  \u001b[1;36m677.36\u001b[0m,  \u001b[1;36m249.77\u001b[0m,   \u001b[1;36m68.26\u001b[0m,  \u001b[1;36m541.36\u001b[0m,  \u001b[1;36m813.36\u001b[0m,\n",
       "        \u001b[1;36m133.36\u001b[0m,   \u001b[1;36m75\u001b[0m.  , \u001b[1;36m1889.5\u001b[0m , \u001b[1;36m1388.1\u001b[0m , \u001b[1;36m1580.15\u001b[0m, \u001b[1;36m1545.12\u001b[0m, \u001b[1;36m1439.88\u001b[0m,\n",
       "       \u001b[1;36m1517.17\u001b[0m, \u001b[1;36m1668.87\u001b[0m, \u001b[1;36m1633.92\u001b[0m, \u001b[1;36m1301.23\u001b[0m, \u001b[1;36m1358.09\u001b[0m, \u001b[1;36m1382.23\u001b[0m, \u001b[1;36m1502.47\u001b[0m,\n",
       "       \u001b[1;36m1696.09\u001b[0m, \u001b[1;36m1417.97\u001b[0m, \u001b[1;36m1607.64\u001b[0m, \u001b[1;36m1481.79\u001b[0m, \u001b[1;36m1700.49\u001b[0m, \u001b[1;36m1557.45\u001b[0m, \u001b[1;36m1579.79\u001b[0m,\n",
       "       \u001b[1;36m1736.45\u001b[0m, \u001b[1;36m1394.35\u001b[0m, \u001b[1;36m1371.16\u001b[0m, \u001b[1;36m1484.22\u001b[0m, \u001b[1;36m1874\u001b[0m.  , \u001b[1;36m1412.84\u001b[0m, \u001b[1;36m1673.11\u001b[0m,\n",
       "       \u001b[1;36m1528.03\u001b[0m, \u001b[1;36m1607.07\u001b[0m, \u001b[1;36m1471.01\u001b[0m, \u001b[1;36m1723.89\u001b[0m, \u001b[1;36m1813.01\u001b[0m, \u001b[1;36m1894.18\u001b[0m, \u001b[1;36m4040.02\u001b[0m,\n",
       "        \u001b[1;36m187.02\u001b[0m, \u001b[1;36m1547.65\u001b[0m, \u001b[1;36m1506.37\u001b[0m, \u001b[1;36m1615.64\u001b[0m, \u001b[1;36m1395.15\u001b[0m, \u001b[1;36m1756.27\u001b[0m, \u001b[1;36m1589.34\u001b[0m,\n",
       "       \u001b[1;36m1520.87\u001b[0m, \u001b[1;36m1550.54\u001b[0m, \u001b[1;36m1454.36\u001b[0m, \u001b[1;36m1806.2\u001b[0m , \u001b[1;36m1489.32\u001b[0m, \u001b[1;36m1339.12\u001b[0m, \u001b[1;36m1889.94\u001b[0m,\n",
       "       \u001b[1;36m1815.65\u001b[0m, \u001b[1;36m4160.16\u001b[0m, \u001b[1;36m1685.52\u001b[0m, \u001b[1;36m1333.86\u001b[0m, \u001b[1;36m1484.92\u001b[0m, \u001b[1;36m1655.75\u001b[0m, \u001b[1;36m1474.45\u001b[0m,\n",
       "       \u001b[1;36m1477.4\u001b[0m , \u001b[1;36m1151.14\u001b[0m, \u001b[1;36m1264.64\u001b[0m, \u001b[1;36m1501.98\u001b[0m, \u001b[1;36m1371.59\u001b[0m, \u001b[1;36m1553.15\u001b[0m, \u001b[1;36m1853.86\u001b[0m,\n",
       "       \u001b[1;36m1600.24\u001b[0m, \u001b[1;36m1332.1\u001b[0m , \u001b[1;36m1410.11\u001b[0m, \u001b[1;36m1407.5\u001b[0m , \u001b[1;36m1374.89\u001b[0m, \u001b[1;36m1385.46\u001b[0m, \u001b[1;36m1340.42\u001b[0m,\n",
       "       \u001b[1;36m1527.89\u001b[0m, \u001b[1;36m1393.75\u001b[0m, \u001b[1;36m1292.97\u001b[0m, \u001b[1;36m1404.2\u001b[0m , \u001b[1;36m1418.27\u001b[0m, \u001b[1;36m1340.54\u001b[0m, \u001b[1;36m4289.2\u001b[0m ,\n",
       "       \u001b[1;36m1474.63\u001b[0m, \u001b[1;36m1452.57\u001b[0m, \u001b[1;36m1382.42\u001b[0m, \u001b[1;36m1458.15\u001b[0m, \u001b[1;36m1391.99\u001b[0m, \u001b[1;36m1856.08\u001b[0m, \u001b[1;36m1459.9\u001b[0m ,\n",
       "       \u001b[1;36m1278.71\u001b[0m, \u001b[1;36m1411.24\u001b[0m, \u001b[1;36m1488.71\u001b[0m, \u001b[1;36m1814.76\u001b[0m, \u001b[1;36m1515.56\u001b[0m, \u001b[1;36m1363\u001b[0m.  , \u001b[1;36m1587.68\u001b[0m,\n",
       "       \u001b[1;36m1281.04\u001b[0m, \u001b[1;36m1416.13\u001b[0m, \u001b[1;36m3475.42\u001b[0m, \u001b[1;36m1558.06\u001b[0m, \u001b[1;36m1657.07\u001b[0m, \u001b[1;36m1792.98\u001b[0m, \u001b[1;36m1525.55\u001b[0m,\n",
       "       \u001b[1;36m1579.98\u001b[0m, \u001b[1;36m1631.46\u001b[0m, \u001b[1;36m1760.83\u001b[0m, \u001b[1;36m1958.52\u001b[0m, \u001b[1;36m1574.03\u001b[0m, \u001b[1;36m1720.46\u001b[0m, \u001b[1;36m1526.91\u001b[0m,\n",
       "       \u001b[1;36m1440.33\u001b[0m, \u001b[1;36m1860.33\u001b[0m, \u001b[1;36m1733.09\u001b[0m, \u001b[1;36m1398.97\u001b[0m, \u001b[1;36m1468.83\u001b[0m, \u001b[1;36m1739.59\u001b[0m, \u001b[1;36m1486.16\u001b[0m,\n",
       "       \u001b[1;36m1365.56\u001b[0m, \u001b[1;36m1507.13\u001b[0m, \u001b[1;36m1721.41\u001b[0m, \u001b[1;36m1637.4\u001b[0m , \u001b[1;36m1274.18\u001b[0m, \u001b[1;36m1269.5\u001b[0m , \u001b[1;36m1447.74\u001b[0m,\n",
       "       \u001b[1;36m1728.34\u001b[0m, \u001b[1;36m1643.52\u001b[0m, \u001b[1;36m1589.37\u001b[0m, \u001b[1;36m1487.46\u001b[0m, \u001b[1;36m1411.25\u001b[0m, \u001b[1;36m1479.11\u001b[0m, \u001b[1;36m1498.39\u001b[0m,\n",
       "       \u001b[1;36m1568.86\u001b[0m, \u001b[1;36m1722.78\u001b[0m, \u001b[1;36m1606.52\u001b[0m, \u001b[1;36m1586.19\u001b[0m, \u001b[1;36m1596.85\u001b[0m, \u001b[1;36m1800.84\u001b[0m, \u001b[1;36m1566.87\u001b[0m,\n",
       "       \u001b[1;36m1496.53\u001b[0m, \u001b[1;36m1359.55\u001b[0m, \u001b[1;36m3852.47\u001b[0m, \u001b[1;36m1548.4\u001b[0m , \u001b[1;36m1683.46\u001b[0m, \u001b[1;36m1564.85\u001b[0m, \u001b[1;36m1485.64\u001b[0m,\n",
       "       \u001b[1;36m1653.43\u001b[0m, \u001b[1;36m3810.61\u001b[0m, \u001b[1;36m1599.25\u001b[0m, \u001b[1;36m1544.49\u001b[0m, \u001b[1;36m1477.73\u001b[0m, \u001b[1;36m1450.1\u001b[0m , \u001b[1;36m1592.85\u001b[0m,\n",
       "       \u001b[1;36m1299.58\u001b[0m, \u001b[1;36m1673.17\u001b[0m, \u001b[1;36m1317.31\u001b[0m, \u001b[1;36m4203.41\u001b[0m, \u001b[1;36m1705.24\u001b[0m, \u001b[1;36m1935.8\u001b[0m , \u001b[1;36m1197.55\u001b[0m,\n",
       "       \u001b[1;36m1457.67\u001b[0m, \u001b[1;36m1462.33\u001b[0m, \u001b[1;36m1399.81\u001b[0m, \u001b[1;36m1603.57\u001b[0m, \u001b[1;36m1464.57\u001b[0m, \u001b[1;36m1902.5\u001b[0m , \u001b[1;36m1525.73\u001b[0m,\n",
       "       \u001b[1;36m4345.41\u001b[0m, \u001b[1;36m1563.2\u001b[0m , \u001b[1;36m3797.67\u001b[0m, \u001b[1;36m1690.22\u001b[0m, \u001b[1;36m1618.51\u001b[0m, \u001b[1;36m1558.9\u001b[0m , \u001b[1;36m1798.5\u001b[0m ,\n",
       "       \u001b[1;36m1508.09\u001b[0m, \u001b[1;36m1594.99\u001b[0m, \u001b[1;36m1426.64\u001b[0m, \u001b[1;36m1838.52\u001b[0m, \u001b[1;36m1517.02\u001b[0m, \u001b[1;36m1490.92\u001b[0m, \u001b[1;36m1495.95\u001b[0m,\n",
       "       \u001b[1;36m1767.18\u001b[0m, \u001b[1;36m1393.32\u001b[0m, \u001b[1;36m1488.42\u001b[0m, \u001b[1;36m1370.22\u001b[0m, \u001b[1;36m1441.92\u001b[0m, \u001b[1;36m1589.16\u001b[0m, \u001b[1;36m1432.68\u001b[0m,\n",
       "       \u001b[1;36m1561.35\u001b[0m, \u001b[1;36m1428.16\u001b[0m, \u001b[1;36m1410.65\u001b[0m, \u001b[1;36m1523.85\u001b[0m, \u001b[1;36m1539.41\u001b[0m, \u001b[1;36m1588.29\u001b[0m, \u001b[1;36m1498.57\u001b[0m,\n",
       "       \u001b[1;36m1537.72\u001b[0m, \u001b[1;36m1651.75\u001b[0m, \u001b[1;36m1524.29\u001b[0m, \u001b[1;36m3760.51\u001b[0m, \u001b[1;36m1374.74\u001b[0m, \u001b[1;36m1591.65\u001b[0m, \u001b[1;36m1714.92\u001b[0m,\n",
       "       \u001b[1;36m1756.52\u001b[0m, \u001b[1;36m1862.44\u001b[0m, \u001b[1;36m1719.27\u001b[0m, \u001b[1;36m1496.68\u001b[0m, \u001b[1;36m1540.17\u001b[0m, \u001b[1;36m1933.98\u001b[0m, \u001b[1;36m1523.8\u001b[0m ,\n",
       "       \u001b[1;36m1916.47\u001b[0m, \u001b[1;36m1407.62\u001b[0m, \u001b[1;36m1570.94\u001b[0m, \u001b[1;36m1461.07\u001b[0m, \u001b[1;36m1684.67\u001b[0m, \u001b[1;36m1727.97\u001b[0m, \u001b[1;36m1592.05\u001b[0m,\n",
       "       \u001b[1;36m1460.35\u001b[0m, \u001b[1;36m1457.59\u001b[0m, \u001b[1;36m1822.96\u001b[0m, \u001b[1;36m1455.75\u001b[0m, \u001b[1;36m1439.31\u001b[0m, \u001b[1;36m1638.36\u001b[0m, \u001b[1;36m1337.53\u001b[0m,\n",
       "       \u001b[1;36m1319.9\u001b[0m , \u001b[1;36m1660.53\u001b[0m, \u001b[1;36m1297.45\u001b[0m, \u001b[1;36m1356.52\u001b[0m, \u001b[1;36m1882.31\u001b[0m, \u001b[1;36m1753.77\u001b[0m, \u001b[1;36m1402.1\u001b[0m ,\n",
       "       \u001b[1;36m1171.02\u001b[0m, \u001b[1;36m1647.66\u001b[0m, \u001b[1;36m1477.78\u001b[0m, \u001b[1;36m1550.2\u001b[0m , \u001b[1;36m1468.25\u001b[0m, \u001b[1;36m1538.31\u001b[0m, \u001b[1;36m1580.4\u001b[0m ,\n",
       "       \u001b[1;36m1536.45\u001b[0m, \u001b[1;36m1694.66\u001b[0m, \u001b[1;36m1633.26\u001b[0m, \u001b[1;36m1459.69\u001b[0m, \u001b[1;36m1590.94\u001b[0m, \u001b[1;36m1758.92\u001b[0m, \u001b[1;36m1502.98\u001b[0m,\n",
       "       \u001b[1;36m1388.6\u001b[0m , \u001b[1;36m1332.69\u001b[0m, \u001b[1;36m1455.46\u001b[0m, \u001b[1;36m1474.06\u001b[0m, \u001b[1;36m1409.75\u001b[0m, \u001b[1;36m1350.04\u001b[0m, \u001b[1;36m1540.58\u001b[0m,\n",
       "       \u001b[1;36m1318.14\u001b[0m, \u001b[1;36m1390.15\u001b[0m, \u001b[1;36m1602.06\u001b[0m, \u001b[1;36m3753.46\u001b[0m, \u001b[1;36m1269.08\u001b[0m, \u001b[1;36m1376.76\u001b[0m, \u001b[1;36m1551.76\u001b[0m,\n",
       "       \u001b[1;36m4161.46\u001b[0m, \u001b[1;36m1356.4\u001b[0m , \u001b[1;36m1391.74\u001b[0m, \u001b[1;36m1531.68\u001b[0m, \u001b[1;36m1376.57\u001b[0m, \u001b[1;36m1300.63\u001b[0m, \u001b[1;36m1353.7\u001b[0m ,\n",
       "       \u001b[1;36m1184.51\u001b[0m, \u001b[1;36m1304.82\u001b[0m, \u001b[1;36m1821.63\u001b[0m, \u001b[1;36m1626.9\u001b[0m , \u001b[1;36m1524.75\u001b[0m, \u001b[1;36m1272.22\u001b[0m, \u001b[1;36m1455.64\u001b[0m,\n",
       "       \u001b[1;36m1481.28\u001b[0m, \u001b[1;36m1325.48\u001b[0m, \u001b[1;36m1643.01\u001b[0m, \u001b[1;36m1481.65\u001b[0m, \u001b[1;36m1594.66\u001b[0m, \u001b[1;36m1309.35\u001b[0m, \u001b[1;36m1302.95\u001b[0m,\n",
       "       \u001b[1;36m1181.58\u001b[0m, \u001b[1;36m1562.16\u001b[0m, \u001b[1;36m1568.96\u001b[0m, \u001b[1;36m1432.75\u001b[0m, \u001b[1;36m1373.4\u001b[0m , \u001b[1;36m1500.37\u001b[0m, \u001b[1;36m1419.73\u001b[0m,\n",
       "       \u001b[1;36m1496\u001b[0m.  , \u001b[1;36m1362.3\u001b[0m , \u001b[1;36m1326.37\u001b[0m, \u001b[1;36m1271.79\u001b[0m, \u001b[1;36m1313.12\u001b[0m, \u001b[1;36m1423.62\u001b[0m, \u001b[1;36m1735.66\u001b[0m,\n",
       "       \u001b[1;36m1370.04\u001b[0m, \u001b[1;36m1640.43\u001b[0m, \u001b[1;36m3631.36\u001b[0m, \u001b[1;36m1291.6\u001b[0m , \u001b[1;36m1496.58\u001b[0m, \u001b[1;36m1404.62\u001b[0m, \u001b[1;36m1660.39\u001b[0m,\n",
       "       \u001b[1;36m1637.86\u001b[0m, \u001b[1;36m1635.98\u001b[0m, \u001b[1;36m1526.58\u001b[0m, \u001b[1;36m1516.05\u001b[0m, \u001b[1;36m1436.93\u001b[0m, \u001b[1;36m1536.48\u001b[0m, \u001b[1;36m1335.7\u001b[0m ,\n",
       "       \u001b[1;36m1400.46\u001b[0m, \u001b[1;36m1390.95\u001b[0m, \u001b[1;36m1593.25\u001b[0m, \u001b[1;36m1511.93\u001b[0m, \u001b[1;36m1680.36\u001b[0m, \u001b[1;36m4340.28\u001b[0m, \u001b[1;36m1488.21\u001b[0m,\n",
       "       \u001b[1;36m1253.5\u001b[0m , \u001b[1;36m1371.8\u001b[0m , \u001b[1;36m1434.87\u001b[0m, \u001b[1;36m1496.94\u001b[0m, \u001b[1;36m1638.78\u001b[0m, \u001b[1;36m1361.53\u001b[0m, \u001b[1;36m1364.46\u001b[0m,\n",
       "       \u001b[1;36m1227.76\u001b[0m, \u001b[1;36m1441.68\u001b[0m, \u001b[1;36m1622.73\u001b[0m, \u001b[1;36m1273.58\u001b[0m, \u001b[1;36m1555\u001b[0m.  , \u001b[1;36m1671.92\u001b[0m, \u001b[1;36m1447.98\u001b[0m,\n",
       "       \u001b[1;36m1506.42\u001b[0m, \u001b[1;36m1768.45\u001b[0m, \u001b[1;36m1869.05\u001b[0m, \u001b[1;36m1905.77\u001b[0m, \u001b[1;36m1520.46\u001b[0m, \u001b[1;36m1480.21\u001b[0m, \u001b[1;36m1238\u001b[0m.  ,\n",
       "       \u001b[1;36m3945.68\u001b[0m, \u001b[1;36m1737.78\u001b[0m, \u001b[1;36m1835.32\u001b[0m, \u001b[1;36m1652.33\u001b[0m, \u001b[1;36m1607.62\u001b[0m, \u001b[1;36m1726.95\u001b[0m, \u001b[1;36m1510.88\u001b[0m,\n",
       "       \u001b[1;36m1483.89\u001b[0m, \u001b[1;36m1426.79\u001b[0m, \u001b[1;36m1557.62\u001b[0m, \u001b[1;36m1683.29\u001b[0m, \u001b[1;36m1582.88\u001b[0m, \u001b[1;36m1406.51\u001b[0m, \u001b[1;36m1567.57\u001b[0m,\n",
       "       \u001b[1;36m1419.02\u001b[0m, \u001b[1;36m1408.11\u001b[0m, \u001b[1;36m1315.1\u001b[0m , \u001b[1;36m1669.7\u001b[0m , \u001b[1;36m1223.97\u001b[0m, \u001b[1;36m1810.38\u001b[0m, \u001b[1;36m1171.48\u001b[0m,\n",
       "       \u001b[1;36m1375.93\u001b[0m, \u001b[1;36m1648.31\u001b[0m, \u001b[1;36m1439.54\u001b[0m, \u001b[1;36m1680.69\u001b[0m, \u001b[1;36m1604.86\u001b[0m, \u001b[1;36m1224.2\u001b[0m , \u001b[1;36m1582.78\u001b[0m,\n",
       "       \u001b[1;36m1387.44\u001b[0m, \u001b[1;36m1595.28\u001b[0m, \u001b[1;36m1501.94\u001b[0m, \u001b[1;36m1388.62\u001b[0m, \u001b[1;36m1601.51\u001b[0m, \u001b[1;36m1488.28\u001b[0m, \u001b[1;36m1498.99\u001b[0m,\n",
       "       \u001b[1;36m1672.11\u001b[0m, \u001b[1;36m1302.7\u001b[0m , \u001b[1;36m1211.42\u001b[0m, \u001b[1;36m1560.09\u001b[0m, \u001b[1;36m1422.92\u001b[0m, \u001b[1;36m1472.71\u001b[0m, \u001b[1;36m1764.23\u001b[0m,\n",
       "       \u001b[1;36m1678.5\u001b[0m , \u001b[1;36m1474.29\u001b[0m, \u001b[1;36m1195.81\u001b[0m, \u001b[1;36m1860.26\u001b[0m, \u001b[1;36m1447.63\u001b[0m, \u001b[1;36m1743.26\u001b[0m, \u001b[1;36m1466.32\u001b[0m,\n",
       "       \u001b[1;36m1647.13\u001b[0m, \u001b[1;36m1245.35\u001b[0m, \u001b[1;36m1287.46\u001b[0m, \u001b[1;36m1534.56\u001b[0m, \u001b[1;36m1587.23\u001b[0m, \u001b[1;36m1489.68\u001b[0m, \u001b[1;36m1437.95\u001b[0m,\n",
       "       \u001b[1;36m1562.39\u001b[0m, \u001b[1;36m1223.56\u001b[0m, \u001b[1;36m1394.2\u001b[0m , \u001b[1;36m1594.09\u001b[0m, \u001b[1;36m1616.63\u001b[0m, \u001b[1;36m1552.17\u001b[0m, \u001b[1;36m1444.78\u001b[0m,\n",
       "       \u001b[1;36m1524.46\u001b[0m, \u001b[1;36m1813.7\u001b[0m , \u001b[1;36m1625.66\u001b[0m, \u001b[1;36m1431.54\u001b[0m, \u001b[1;36m1704.46\u001b[0m, \u001b[1;36m1528.4\u001b[0m , \u001b[1;36m1336.18\u001b[0m,\n",
       "       \u001b[1;36m1241.83\u001b[0m, \u001b[1;36m1290.65\u001b[0m, \u001b[1;36m1329.3\u001b[0m , \u001b[1;36m1447.92\u001b[0m, \u001b[1;36m1423.35\u001b[0m, \u001b[1;36m1812.86\u001b[0m, \u001b[1;36m1530.85\u001b[0m,\n",
       "       \u001b[1;36m1700.8\u001b[0m , \u001b[1;36m1378.22\u001b[0m, \u001b[1;36m1283.2\u001b[0m , \u001b[1;36m1364.57\u001b[0m, \u001b[1;36m1471.87\u001b[0m, \u001b[1;36m1711.08\u001b[0m, \u001b[1;36m1508.69\u001b[0m,\n",
       "       \u001b[1;36m1639.35\u001b[0m, \u001b[1;36m1529.94\u001b[0m, \u001b[1;36m1285.1\u001b[0m , \u001b[1;36m1366.98\u001b[0m, \u001b[1;36m1469.22\u001b[0m, \u001b[1;36m1869.22\u001b[0m, \u001b[1;36m1625.23\u001b[0m,\n",
       "       \u001b[1;36m1658.76\u001b[0m, \u001b[1;36m1434.81\u001b[0m, \u001b[1;36m1513.98\u001b[0m, \u001b[1;36m1803.52\u001b[0m, \u001b[1;36m1463.4\u001b[0m , \u001b[1;36m1741.9\u001b[0m , \u001b[1;36m1705.95\u001b[0m,\n",
       "       \u001b[1;36m1451.33\u001b[0m, \u001b[1;36m1459.76\u001b[0m, \u001b[1;36m1563.34\u001b[0m, \u001b[1;36m1474.15\u001b[0m, \u001b[1;36m1662.4\u001b[0m , \u001b[1;36m1625.59\u001b[0m, \u001b[1;36m1557.63\u001b[0m,\n",
       "       \u001b[1;36m1520.54\u001b[0m, \u001b[1;36m1635.43\u001b[0m, \u001b[1;36m1532.35\u001b[0m, \u001b[1;36m1405.62\u001b[0m, \u001b[1;36m1632.68\u001b[0m, \u001b[1;36m1702.41\u001b[0m, \u001b[1;36m1485.04\u001b[0m,\n",
       "       \u001b[1;36m1388.41\u001b[0m, \u001b[1;36m1431.23\u001b[0m, \u001b[1;36m1810.92\u001b[0m, \u001b[1;36m4186.06\u001b[0m, \u001b[1;36m1453.84\u001b[0m, \u001b[1;36m1388.15\u001b[0m, \u001b[1;36m1371.3\u001b[0m ,\n",
       "       \u001b[1;36m1445.8\u001b[0m , \u001b[1;36m4034.9\u001b[0m , \u001b[1;36m1464.33\u001b[0m, \u001b[1;36m1791.52\u001b[0m, \u001b[1;36m1500.48\u001b[0m, \u001b[1;36m1350.62\u001b[0m, \u001b[1;36m1697.18\u001b[0m,\n",
       "       \u001b[1;36m1516.31\u001b[0m, \u001b[1;36m1291.62\u001b[0m, \u001b[1;36m1357.51\u001b[0m, \u001b[1;36m1756.23\u001b[0m, \u001b[1;36m1476.02\u001b[0m, \u001b[1;36m1418.8\u001b[0m , \u001b[1;36m1481.69\u001b[0m,\n",
       "       \u001b[1;36m1725.26\u001b[0m, \u001b[1;36m1480.75\u001b[0m, \u001b[1;36m1259.65\u001b[0m, \u001b[1;36m1605.9\u001b[0m , \u001b[1;36m1631.87\u001b[0m, \u001b[1;36m1354.57\u001b[0m, \u001b[1;36m4228.9\u001b[0m ,\n",
       "       \u001b[1;36m1777.74\u001b[0m, \u001b[1;36m1558.13\u001b[0m, \u001b[1;36m1392.92\u001b[0m, \u001b[1;36m1323.08\u001b[0m, \u001b[1;36m1825.66\u001b[0m, \u001b[1;36m1666.48\u001b[0m, \u001b[1;36m1456.78\u001b[0m,\n",
       "       \u001b[1;36m1504.03\u001b[0m, \u001b[1;36m4286.46\u001b[0m, \u001b[1;36m1495.32\u001b[0m, \u001b[1;36m1227.64\u001b[0m, \u001b[1;36m1891.51\u001b[0m, \u001b[1;36m1619.44\u001b[0m, \u001b[1;36m1747.56\u001b[0m,\n",
       "       \u001b[1;36m1311.57\u001b[0m, \u001b[1;36m1711.02\u001b[0m, \u001b[1;36m1369.45\u001b[0m, \u001b[1;36m1698.91\u001b[0m, \u001b[1;36m1268.09\u001b[0m, \u001b[1;36m1439.55\u001b[0m, \u001b[1;36m1503.19\u001b[0m,\n",
       "       \u001b[1;36m1467.75\u001b[0m, \u001b[1;36m1389.23\u001b[0m, \u001b[1;36m1410.26\u001b[0m, \u001b[1;36m1556.71\u001b[0m, \u001b[1;36m1521.03\u001b[0m, \u001b[1;36m1410.77\u001b[0m, \u001b[1;36m1876.59\u001b[0m,\n",
       "       \u001b[1;36m1654.09\u001b[0m, \u001b[1;36m1575.95\u001b[0m, \u001b[1;36m1875.19\u001b[0m, \u001b[1;36m1549.3\u001b[0m , \u001b[1;36m1559.76\u001b[0m, \u001b[1;36m1756.58\u001b[0m, \u001b[1;36m1781.2\u001b[0m ,\n",
       "       \u001b[1;36m1246.04\u001b[0m, \u001b[1;36m1500.77\u001b[0m, \u001b[1;36m1792.95\u001b[0m, \u001b[1;36m1644.32\u001b[0m, \u001b[1;36m1525.74\u001b[0m, \u001b[1;36m1406.43\u001b[0m, \u001b[1;36m1658.34\u001b[0m,\n",
       "       \u001b[1;36m1456.75\u001b[0m, \u001b[1;36m1697.05\u001b[0m, \u001b[1;36m1525.35\u001b[0m, \u001b[1;36m1482.6\u001b[0m , \u001b[1;36m1759.95\u001b[0m, \u001b[1;36m1353.08\u001b[0m, \u001b[1;36m1443.89\u001b[0m,\n",
       "       \u001b[1;36m1574.79\u001b[0m, \u001b[1;36m1610.15\u001b[0m, \u001b[1;36m1539.15\u001b[0m, \u001b[1;36m1744.5\u001b[0m , \u001b[1;36m1532.66\u001b[0m, \u001b[1;36m1697.22\u001b[0m, \u001b[1;36m1690.3\u001b[0m ,\n",
       "       \u001b[1;36m1269\u001b[0m.  , \u001b[1;36m1548.28\u001b[0m, \u001b[1;36m1402.63\u001b[0m, \u001b[1;36m1645.99\u001b[0m, \u001b[1;36m1440.76\u001b[0m, \u001b[1;36m1229.65\u001b[0m, \u001b[1;36m1281.23\u001b[0m,\n",
       "       \u001b[1;36m1485.34\u001b[0m, \u001b[1;36m1370.99\u001b[0m, \u001b[1;36m1787.65\u001b[0m, \u001b[1;36m1673.35\u001b[0m, \u001b[1;36m1487.66\u001b[0m, \u001b[1;36m1369.86\u001b[0m, \u001b[1;36m1342.79\u001b[0m,\n",
       "       \u001b[1;36m1706.4\u001b[0m , \u001b[1;36m1539.32\u001b[0m, \u001b[1;36m1408.81\u001b[0m, \u001b[1;36m1586.06\u001b[0m, \u001b[1;36m1751.51\u001b[0m, \u001b[1;36m1262.53\u001b[0m, \u001b[1;36m3887.39\u001b[0m,\n",
       "       \u001b[1;36m1721.5\u001b[0m , \u001b[1;36m1605.29\u001b[0m, \u001b[1;36m1337.1\u001b[0m , \u001b[1;36m1663.62\u001b[0m, \u001b[1;36m1584.34\u001b[0m, \u001b[1;36m1333.68\u001b[0m, \u001b[1;36m1328.8\u001b[0m ,\n",
       "       \u001b[1;36m1404.64\u001b[0m, \u001b[1;36m1501.8\u001b[0m , \u001b[1;36m1126.65\u001b[0m, \u001b[1;36m1300.77\u001b[0m, \u001b[1;36m1675.51\u001b[0m, \u001b[1;36m1403.93\u001b[0m, \u001b[1;36m1662.63\u001b[0m,\n",
       "       \u001b[1;36m1891.61\u001b[0m, \u001b[1;36m1780.66\u001b[0m, \u001b[1;36m1448.89\u001b[0m, \u001b[1;36m1624.49\u001b[0m, \u001b[1;36m1749.07\u001b[0m, \u001b[1;36m1707.15\u001b[0m, \u001b[1;36m1822.81\u001b[0m,\n",
       "       \u001b[1;36m1616.51\u001b[0m, \u001b[1;36m1598.52\u001b[0m, \u001b[1;36m1633.94\u001b[0m, \u001b[1;36m1733.63\u001b[0m, \u001b[1;36m1448.32\u001b[0m, \u001b[1;36m1429.92\u001b[0m, \u001b[1;36m1705.02\u001b[0m,\n",
       "       \u001b[1;36m1364.96\u001b[0m, \u001b[1;36m1395.03\u001b[0m, \u001b[1;36m1573.33\u001b[0m, \u001b[1;36m1330.5\u001b[0m , \u001b[1;36m1501.95\u001b[0m, \u001b[1;36m1409.92\u001b[0m, \u001b[1;36m1599.33\u001b[0m,\n",
       "       \u001b[1;36m1569.23\u001b[0m, \u001b[1;36m1718.99\u001b[0m, \u001b[1;36m1756.49\u001b[0m, \u001b[1;36m1600.8\u001b[0m , \u001b[1;36m1688.32\u001b[0m, \u001b[1;36m1239.93\u001b[0m, \u001b[1;36m1435.43\u001b[0m,\n",
       "       \u001b[1;36m1828.89\u001b[0m, \u001b[1;36m1425.19\u001b[0m, \u001b[1;36m1954.71\u001b[0m, \u001b[1;36m1501.37\u001b[0m, \u001b[1;36m1385.92\u001b[0m, \u001b[1;36m1757.14\u001b[0m, \u001b[1;36m1818.6\u001b[0m ,\n",
       "       \u001b[1;36m1888.95\u001b[0m, \u001b[1;36m1409.64\u001b[0m, \u001b[1;36m1268.86\u001b[0m, \u001b[1;36m1481.76\u001b[0m, \u001b[1;36m1401.74\u001b[0m, \u001b[1;36m1550.88\u001b[0m, \u001b[1;36m1412.12\u001b[0m,\n",
       "       \u001b[1;36m1323.04\u001b[0m, \u001b[1;36m1294.69\u001b[0m, \u001b[1;36m1715.35\u001b[0m, \u001b[1;36m1784.42\u001b[0m, \u001b[1;36m1525.36\u001b[0m, \u001b[1;36m1407.1\u001b[0m , \u001b[1;36m1482.78\u001b[0m,\n",
       "       \u001b[1;36m1475.36\u001b[0m, \u001b[1;36m1491.07\u001b[0m, \u001b[1;36m1422.06\u001b[0m, \u001b[1;36m1779.5\u001b[0m , \u001b[1;36m1282.86\u001b[0m, \u001b[1;36m1548.81\u001b[0m, \u001b[1;36m1515.82\u001b[0m,\n",
       "       \u001b[1;36m1467.21\u001b[0m, \u001b[1;36m1579.48\u001b[0m, \u001b[1;36m1571.26\u001b[0m, \u001b[1;36m1606.56\u001b[0m, \u001b[1;36m1472.37\u001b[0m, \u001b[1;36m1659.33\u001b[0m, \u001b[1;36m1324.54\u001b[0m,\n",
       "       \u001b[1;36m1547.11\u001b[0m, \u001b[1;36m1303.17\u001b[0m, \u001b[1;36m1491.16\u001b[0m, \u001b[1;36m1780.88\u001b[0m, \u001b[1;36m1534.12\u001b[0m, \u001b[1;36m1442.36\u001b[0m, \u001b[1;36m1622.64\u001b[0m,\n",
       "       \u001b[1;36m1546.48\u001b[0m, \u001b[1;36m1775.19\u001b[0m, \u001b[1;36m1536.38\u001b[0m, \u001b[1;36m1587.66\u001b[0m, \u001b[1;36m1496.51\u001b[0m, \u001b[1;36m1379.46\u001b[0m, \u001b[1;36m1632.9\u001b[0m ,\n",
       "       \u001b[1;36m1602.6\u001b[0m , \u001b[1;36m1521.53\u001b[0m, \u001b[1;36m1375.19\u001b[0m, \u001b[1;36m1538.2\u001b[0m , \u001b[1;36m1687.53\u001b[0m, \u001b[1;36m1570.9\u001b[0m , \u001b[1;36m1607.18\u001b[0m,\n",
       "       \u001b[1;36m1335.53\u001b[0m, \u001b[1;36m1673.58\u001b[0m, \u001b[1;36m1462.53\u001b[0m, \u001b[1;36m1478.97\u001b[0m, \u001b[1;36m1396.43\u001b[0m, \u001b[1;36m1855.69\u001b[0m, \u001b[1;36m1430.06\u001b[0m,\n",
       "       \u001b[1;36m1395.69\u001b[0m, \u001b[1;36m1485.6\u001b[0m \u001b[1m]\u001b[0m\u001b[1m)\u001b[0m"
      ]
     },
     "execution_count": 67,
     "metadata": {},
     "output_type": "execute_result"
    }
   ],
   "source": [
    "encounters['TOTAL_CLAIM_COST'].unique()"
   ]
  },
  {
   "cell_type": "code",
   "execution_count": 68,
   "id": "b0949a35-0359-4af5-beb8-c9b8b374d2b0",
   "metadata": {},
   "outputs": [
    {
     "data": {
      "text/html": [
       "<pre style=\"white-space:pre;overflow-x:auto;line-height:normal;font-family:Menlo,'DejaVu Sans Mono',consolas,'Courier New',monospace\"></pre>\n"
      ],
      "text/plain": []
     },
     "metadata": {},
     "output_type": "display_data"
    },
    {
     "data": {
      "text/plain": [
       "\n",
       "\u001b[1;35marray\u001b[0m\u001b[1m(\u001b[0m\u001b[1m[\u001b[0m\u001b[1;36m0.00000e+00\u001b[0m, \u001b[1;36m1.37890e+02\u001b[0m, \u001b[1;36m1.34200e+01\u001b[0m, \u001b[1;36m1.99820e+02\u001b[0m, \u001b[1;36m2.15490e+02\u001b[0m,\n",
       "       \u001b[1;36m5.46100e+01\u001b[0m, \u001b[1;36m2.90900e+01\u001b[0m, \u001b[1;36m3.24290e+02\u001b[0m, \u001b[1;36m2.16000e+01\u001b[0m, \u001b[1;36m3.61700e+01\u001b[0m,\n",
       "       \u001b[1;36m1.58200e+02\u001b[0m, \u001b[1;36m1.69360e+02\u001b[0m, \u001b[1;36m2.69360e+02\u001b[0m, \u001b[1;36m8.13360e+02\u001b[0m, \u001b[1;36m1.33360e+02\u001b[0m,\n",
       "       \u001b[1;36m7.13360e+02\u001b[0m, \u001b[1;36m3.33600e+01\u001b[0m, \u001b[1;36m2.74100e+02\u001b[0m, \u001b[1;36m6.00000e+01\u001b[0m, \u001b[1;36m5.65950e+02\u001b[0m,\n",
       "       \u001b[1;36m6.50690e+02\u001b[0m, \u001b[1;36m1.06690e+02\u001b[0m, \u001b[1;36m3.05360e+02\u001b[0m, \u001b[1;36m5.77360e+02\u001b[0m, \u001b[1;36m3.61840e+02\u001b[0m,\n",
       "       \u001b[1;36m3.41920e+02\u001b[0m, \u001b[1;36m7.28670e+02\u001b[0m, \u001b[1;36m6.70000e+02\u001b[0m, \u001b[1;36m1.99770e+02\u001b[0m, \u001b[1;36m2.13950e+02\u001b[0m,\n",
       "       \u001b[1;36m8.68600e+01\u001b[0m, \u001b[1;36m3.21600e+01\u001b[0m, \u001b[1;36m2.62600e+01\u001b[0m, \u001b[1;36m8.67720e+02\u001b[0m, \u001b[1;36m7.04480e+02\u001b[0m,\n",
       "       \u001b[1;36m3.33000e+02\u001b[0m, \u001b[1;36m9.97700e+01\u001b[0m, \u001b[1;36m4.05360e+02\u001b[0m, \u001b[1;36m5.90000e+00\u001b[0m, \u001b[1;36m4.81000e+02\u001b[0m,\n",
       "       \u001b[1;36m3.14300e+01\u001b[0m, \u001b[1;36m1.83220e+02\u001b[0m, \u001b[1;36m2.55410e+02\u001b[0m, \u001b[1;36m1.59910e+02\u001b[0m, \u001b[1;36m1.67620e+02\u001b[0m,\n",
       "       \u001b[1;36m2.27100e+01\u001b[0m, \u001b[1;36m1.17682e+03\u001b[0m, \u001b[1;36m2.44300e+01\u001b[0m, \u001b[1;36m4.84600e+01\u001b[0m, \u001b[1;36m7.43850e+02\u001b[0m,\n",
       "       \u001b[1;36m9.02000e+00\u001b[0m, \u001b[1;36m1.87650e+02\u001b[0m, \u001b[1;36m8.52540e+02\u001b[0m, \u001b[1;36m2.12180e+02\u001b[0m, \u001b[1;36m1.60000e+00\u001b[0m,\n",
       "       \u001b[1;36m1.22900e+01\u001b[0m, \u001b[1;36m4.66900e+02\u001b[0m, \u001b[1;36m4.80900e+01\u001b[0m, \u001b[1;36m1.70220e+02\u001b[0m, \u001b[1;36m1.61000e+01\u001b[0m,\n",
       "       \u001b[1;36m1.97050e+02\u001b[0m, \u001b[1;36m8.30380e+02\u001b[0m, \u001b[1;36m1.95340e+02\u001b[0m, \u001b[1;36m6.31920e+02\u001b[0m, \u001b[1;36m8.49400e+01\u001b[0m,\n",
       "       \u001b[1;36m4.51500e+01\u001b[0m, \u001b[1;36m1.00840e+02\u001b[0m, \u001b[1;36m2.07580e+02\u001b[0m, \u001b[1;36m3.34400e+01\u001b[0m, \u001b[1;36m2.72570e+02\u001b[0m,\n",
       "       \u001b[1;36m4.88080e+02\u001b[0m, \u001b[1;36m2.72000e+01\u001b[0m, \u001b[1;36m1.12337e+03\u001b[0m, \u001b[1;36m4.33090e+02\u001b[0m, \u001b[1;36m1.88450e+02\u001b[0m,\n",
       "       \u001b[1;36m2.46690e+02\u001b[0m, \u001b[1;36m1.46730e+02\u001b[0m, \u001b[1;36m1.77500e+01\u001b[0m, \u001b[1;36m2.74035e+03\u001b[0m, \u001b[1;36m1.49620e+02\u001b[0m,\n",
       "       \u001b[1;36m4.80540e+02\u001b[0m, \u001b[1;36m1.16652e+03\u001b[0m, \u001b[1;36m2.98600e+01\u001b[0m, \u001b[1;36m8.08720e+02\u001b[0m, \u001b[1;36m1.16792e+03\u001b[0m,\n",
       "       \u001b[1;36m3.74300e+02\u001b[0m, \u001b[1;36m6.80410e+02\u001b[0m, \u001b[1;36m3.02740e+02\u001b[0m, \u001b[1;36m2.06180e+02\u001b[0m, \u001b[1;36m1.75360e+02\u001b[0m,\n",
       "       \u001b[1;36m2.80790e+02\u001b[0m, \u001b[1;36m1.30910e+02\u001b[0m, \u001b[1;36m1.72990e+02\u001b[0m, \u001b[1;36m1.37637e+03\u001b[0m, \u001b[1;36m1.22154e+03\u001b[0m,\n",
       "       \u001b[1;36m6.15720e+02\u001b[0m, \u001b[1;36m3.18300e+01\u001b[0m, \u001b[1;36m1.55000e+01\u001b[0m, \u001b[1;36m1.42400e+01\u001b[0m, \u001b[1;36m1.73420e+02\u001b[0m,\n",
       "       \u001b[1;36m3.21400e+01\u001b[0m, \u001b[1;36m2.81280e+02\u001b[0m, \u001b[1;36m5.06900e+01\u001b[0m, \u001b[1;36m6.41740e+02\u001b[0m, \u001b[1;36m2.90010e+02\u001b[0m,\n",
       "       \u001b[1;36m9.03000e+00\u001b[0m, \u001b[1;36m3.21100e+01\u001b[0m, \u001b[1;36m3.79400e+01\u001b[0m, \u001b[1;36m1.34677e+03\u001b[0m, \u001b[1;36m3.25200e+01\u001b[0m,\n",
       "       \u001b[1;36m2.04900e+02\u001b[0m, \u001b[1;36m1.48200e+01\u001b[0m, \u001b[1;36m3.67000e+01\u001b[0m, \u001b[1;36m1.32274e+03\u001b[0m, \u001b[1;36m2.38457e+03\u001b[0m,\n",
       "       \u001b[1;36m4.99800e+01\u001b[0m, \u001b[1;36m7.83130e+02\u001b[0m, \u001b[1;36m8.32710e+02\u001b[0m, \u001b[1;36m1.03800e+01\u001b[0m, \u001b[1;36m3.66980e+02\u001b[0m,\n",
       "       \u001b[1;36m1.40150e+02\u001b[0m, \u001b[1;36m1.67420e+02\u001b[0m, \u001b[1;36m6.32000e+00\u001b[0m, \u001b[1;36m4.16800e+01\u001b[0m, \u001b[1;36m2.19400e+01\u001b[0m,\n",
       "       \u001b[1;36m2.79470e+02\u001b[0m, \u001b[1;36m4.93730e+02\u001b[0m, \u001b[1;36m1.52201e+03\u001b[0m, \u001b[1;36m3.07344e+03\u001b[0m, \u001b[1;36m4.51100e+01\u001b[0m,\n",
       "       \u001b[1;36m2.08800e+01\u001b[0m, \u001b[1;36m6.46000e+00\u001b[0m, \u001b[1;36m5.88970e+02\u001b[0m, \u001b[1;36m2.10410e+02\u001b[0m, \u001b[1;36m1.50240e+02\u001b[0m,\n",
       "       \u001b[1;36m1.88520e+02\u001b[0m, \u001b[1;36m3.03814e+03\u001b[0m, \u001b[1;36m4.17900e+01\u001b[0m, \u001b[1;36m7.50660e+02\u001b[0m, \u001b[1;36m3.88000e+01\u001b[0m,\n",
       "       \u001b[1;36m2.75170e+02\u001b[0m, \u001b[1;36m4.37650e+02\u001b[0m, \u001b[1;36m2.97200e+01\u001b[0m, \u001b[1;36m1.68500e+01\u001b[0m, \u001b[1;36m1.27599e+03\u001b[0m,\n",
       "       \u001b[1;36m3.42600e+01\u001b[0m, \u001b[1;36m1.14132e+03\u001b[0m, \u001b[1;36m4.21200e+01\u001b[0m, \u001b[1;36m4.41360e+02\u001b[0m, \u001b[1;36m1.41000e+01\u001b[0m,\n",
       "       \u001b[1;36m5.05920e+02\u001b[0m, \u001b[1;36m6.05820e+02\u001b[0m, \u001b[1;36m7.22260e+02\u001b[0m, \u001b[1;36m2.07120e+02\u001b[0m, \u001b[1;36m9.59300e+01\u001b[0m,\n",
       "       \u001b[1;36m1.09979e+03\u001b[0m, \u001b[1;36m7.59420e+02\u001b[0m, \u001b[1;36m4.38000e+00\u001b[0m, \u001b[1;36m2.39660e+02\u001b[0m, \u001b[1;36m1.93370e+02\u001b[0m,\n",
       "       \u001b[1;36m1.53318e+03\u001b[0m, \u001b[1;36m1.25676e+03\u001b[0m, \u001b[1;36m3.67200e+01\u001b[0m, \u001b[1;36m1.22000e+00\u001b[0m, \u001b[1;36m2.02220e+02\u001b[0m,\n",
       "       \u001b[1;36m5.34800e+01\u001b[0m, \u001b[1;36m4.14000e+01\u001b[0m, \u001b[1;36m2.97600e+01\u001b[0m, \u001b[1;36m3.86000e+00\u001b[0m, \u001b[1;36m5.20600e+01\u001b[0m,\n",
       "       \u001b[1;36m2.03650e+02\u001b[0m, \u001b[1;36m5.78990e+02\u001b[0m, \u001b[1;36m5.11000e+00\u001b[0m, \u001b[1;36m1.45837e+03\u001b[0m, \u001b[1;36m2.98200e+01\u001b[0m,\n",
       "       \u001b[1;36m1.44100e+01\u001b[0m, \u001b[1;36m1.91780e+02\u001b[0m, \u001b[1;36m1.07003e+03\u001b[0m, \u001b[1;36m4.83480e+02\u001b[0m, \u001b[1;36m2.08170e+02\u001b[0m,\n",
       "       \u001b[1;36m1.03796e+03\u001b[0m, \u001b[1;36m1.83260e+02\u001b[0m, \u001b[1;36m1.70940e+02\u001b[0m, \u001b[1;36m1.31813e+03\u001b[0m, \u001b[1;36m3.29800e+01\u001b[0m,\n",
       "       \u001b[1;36m4.41300e+01\u001b[0m, \u001b[1;36m4.28900e+01\u001b[0m, \u001b[1;36m5.09560e+02\u001b[0m, \u001b[1;36m2.97670e+02\u001b[0m, \u001b[1;36m2.99500e+02\u001b[0m,\n",
       "       \u001b[1;36m4.43800e+01\u001b[0m, \u001b[1;36m1.82790e+02\u001b[0m, \u001b[1;36m5.14280e+02\u001b[0m, \u001b[1;36m4.19720e+02\u001b[0m, \u001b[1;36m2.15600e+02\u001b[0m,\n",
       "       \u001b[1;36m5.97170e+02\u001b[0m, \u001b[1;36m2.12607e+03\u001b[0m, \u001b[1;36m1.59000e+00\u001b[0m, \u001b[1;36m1.62500e+01\u001b[0m, \u001b[1;36m5.03800e+01\u001b[0m,\n",
       "       \u001b[1;36m1.99060e+02\u001b[0m, \u001b[1;36m3.50200e+01\u001b[0m, \u001b[1;36m3.81300e+01\u001b[0m, \u001b[1;36m4.45050e+02\u001b[0m, \u001b[1;36m4.28960e+02\u001b[0m,\n",
       "       \u001b[1;36m3.05110e+02\u001b[0m, \u001b[1;36m4.56300e+01\u001b[0m, \u001b[1;36m4.81000e+00\u001b[0m, \u001b[1;36m2.22460e+02\u001b[0m, \u001b[1;36m1.20100e+02\u001b[0m,\n",
       "       \u001b[1;36m1.27574e+03\u001b[0m, \u001b[1;36m1.91860e+02\u001b[0m, \u001b[1;36m7.25840e+02\u001b[0m, \u001b[1;36m4.63940e+02\u001b[0m, \u001b[1;36m9.45270e+02\u001b[0m,\n",
       "       \u001b[1;36m1.97430e+02\u001b[0m, \u001b[1;36m3.24400e+01\u001b[0m, \u001b[1;36m6.95870e+02\u001b[0m, \u001b[1;36m1.93670e+02\u001b[0m, \u001b[1;36m2.39000e+01\u001b[0m,\n",
       "       \u001b[1;36m4.59000e+00\u001b[0m, \u001b[1;36m3.36800e+01\u001b[0m, \u001b[1;36m5.18100e+01\u001b[0m, \u001b[1;36m1.42750e+02\u001b[0m, \u001b[1;36m2.12110e+02\u001b[0m,\n",
       "       \u001b[1;36m3.64300e+01\u001b[0m, \u001b[1;36m3.66500e+01\u001b[0m, \u001b[1;36m3.21500e+02\u001b[0m, \u001b[1;36m8.35500e+02\u001b[0m, \u001b[1;36m2.37210e+02\u001b[0m,\n",
       "       \u001b[1;36m4.81400e+01\u001b[0m, \u001b[1;36m2.69500e+01\u001b[0m, \u001b[1;36m9.95200e+01\u001b[0m, \u001b[1;36m5.83310e+02\u001b[0m, \u001b[1;36m6.97630e+02\u001b[0m,\n",
       "       \u001b[1;36m5.17100e+01\u001b[0m, \u001b[1;36m1.09400e+01\u001b[0m, \u001b[1;36m3.46220e+02\u001b[0m, \u001b[1;36m2.19200e+01\u001b[0m, \u001b[1;36m4.59800e+01\u001b[0m,\n",
       "       \u001b[1;36m4.90400e+01\u001b[0m, \u001b[1;36m1.12371e+03\u001b[0m, \u001b[1;36m4.37730e+02\u001b[0m, \u001b[1;36m1.31029e+03\u001b[0m, \u001b[1;36m4.28320e+02\u001b[0m,\n",
       "       \u001b[1;36m6.29000e+00\u001b[0m, \u001b[1;36m1.54460e+02\u001b[0m, \u001b[1;36m4.73700e+01\u001b[0m, \u001b[1;36m3.99200e+01\u001b[0m, \u001b[1;36m3.48000e+00\u001b[0m,\n",
       "       \u001b[1;36m1.12037e+03\u001b[0m, \u001b[1;36m3.22770e+02\u001b[0m, \u001b[1;36m1.20954e+03\u001b[0m, \u001b[1;36m1.34429e+03\u001b[0m, \u001b[1;36m5.62750e+02\u001b[0m,\n",
       "       \u001b[1;36m4.35020e+02\u001b[0m, \u001b[1;36m4.13600e+01\u001b[0m, \u001b[1;36m3.50000e+00\u001b[0m, \u001b[1;36m6.52630e+02\u001b[0m, \u001b[1;36m1.51500e+01\u001b[0m,\n",
       "       \u001b[1;36m7.07600e+02\u001b[0m, \u001b[1;36m5.26000e+00\u001b[0m, \u001b[1;36m5.52000e+00\u001b[0m, \u001b[1;36m5.90500e+01\u001b[0m, \u001b[1;36m4.38100e+01\u001b[0m,\n",
       "       \u001b[1;36m4.91500e+01\u001b[0m, \u001b[1;36m2.11020e+02\u001b[0m, \u001b[1;36m4.22900e+01\u001b[0m, \u001b[1;36m3.09060e+02\u001b[0m, \u001b[1;36m5.43630e+02\u001b[0m,\n",
       "       \u001b[1;36m1.03660e+02\u001b[0m, \u001b[1;36m2.85700e+02\u001b[0m, \u001b[1;36m5.21700e+01\u001b[0m, \u001b[1;36m7.26670e+02\u001b[0m, \u001b[1;36m1.12000e+01\u001b[0m,\n",
       "       \u001b[1;36m1.20870e+03\u001b[0m, \u001b[1;36m1.78400e+02\u001b[0m, \u001b[1;36m2.10800e+01\u001b[0m, \u001b[1;36m2.62800e+01\u001b[0m, \u001b[1;36m5.41360e+02\u001b[0m,\n",
       "       \u001b[1;36m4.67300e+01\u001b[0m, \u001b[1;36m4.08400e+01\u001b[0m, \u001b[1;36m2.30400e+01\u001b[0m, \u001b[1;36m2.77500e+01\u001b[0m, \u001b[1;36m8.09000e+00\u001b[0m,\n",
       "       \u001b[1;36m4.72600e+01\u001b[0m, \u001b[1;36m5.09000e+00\u001b[0m, \u001b[1;36m4.85100e+01\u001b[0m, \u001b[1;36m5.42600e+01\u001b[0m, \u001b[1;36m1.88050e+02\u001b[0m,\n",
       "       \u001b[1;36m2.03980e+02\u001b[0m, \u001b[1;36m4.23000e+00\u001b[0m, \u001b[1;36m5.82420e+02\u001b[0m, \u001b[1;36m1.41400e+01\u001b[0m, \u001b[1;36m2.40840e+02\u001b[0m,\n",
       "       \u001b[1;36m4.78000e+01\u001b[0m, \u001b[1;36m1.28389e+03\u001b[0m, \u001b[1;36m8.95400e+01\u001b[0m, \u001b[1;36m1.49400e+01\u001b[0m, \u001b[1;36m5.42830e+02\u001b[0m,\n",
       "       \u001b[1;36m1.89800e+01\u001b[0m, \u001b[1;36m1.11089e+03\u001b[0m, \u001b[1;36m1.04500e+01\u001b[0m, \u001b[1;36m3.77140e+02\u001b[0m, \u001b[1;36m2.09400e+01\u001b[0m,\n",
       "       \u001b[1;36m2.04600e+01\u001b[0m, \u001b[1;36m1.74900e+01\u001b[0m, \u001b[1;36m9.20000e-01\u001b[0m, \u001b[1;36m2.10860e+02\u001b[0m, \u001b[1;36m4.95800e+01\u001b[0m,\n",
       "       \u001b[1;36m1.44520e+02\u001b[0m, \u001b[1;36m2.97000e+00\u001b[0m, \u001b[1;36m4.99400e+01\u001b[0m, \u001b[1;36m5.00600e+01\u001b[0m, \u001b[1;36m4.70190e+02\u001b[0m,\n",
       "       \u001b[1;36m1.24808e+03\u001b[0m, \u001b[1;36m3.73020e+02\u001b[0m, \u001b[1;36m1.92970e+02\u001b[0m, \u001b[1;36m3.50900e+01\u001b[0m, \u001b[1;36m4.69820e+02\u001b[0m,\n",
       "       \u001b[1;36m4.08800e+01\u001b[0m, \u001b[1;36m3.99500e+01\u001b[0m, \u001b[1;36m5.39110e+02\u001b[0m, \u001b[1;36m3.74200e+01\u001b[0m, \u001b[1;36m1.81840e+02\u001b[0m,\n",
       "       \u001b[1;36m1.91750e+02\u001b[0m, \u001b[1;36m1.65600e+01\u001b[0m, \u001b[1;36m3.31400e+01\u001b[0m, \u001b[1;36m4.51000e+01\u001b[0m, \u001b[1;36m2.93420e+02\u001b[0m,\n",
       "       \u001b[1;36m9.96280e+02\u001b[0m, \u001b[1;36m4.16200e+01\u001b[0m, \u001b[1;36m2.43000e+01\u001b[0m, \u001b[1;36m5.12200e+02\u001b[0m, \u001b[1;36m1.92810e+02\u001b[0m,\n",
       "       \u001b[1;36m4.75600e+01\u001b[0m, \u001b[1;36m2.20200e+01\u001b[0m, \u001b[1;36m3.86930e+02\u001b[0m, \u001b[1;36m5.46730e+02\u001b[0m, \u001b[1;36m1.30053e+03\u001b[0m,\n",
       "       \u001b[1;36m5.44300e+01\u001b[0m, \u001b[1;36m6.27390e+02\u001b[0m, \u001b[1;36m1.46200e+01\u001b[0m, \u001b[1;36m1.15833e+03\u001b[0m, \u001b[1;36m1.13868e+03\u001b[0m,\n",
       "       \u001b[1;36m4.37400e+01\u001b[0m, \u001b[1;36m5.32100e+01\u001b[0m, \u001b[1;36m1.10257e+03\u001b[0m, \u001b[1;36m1.09165e+03\u001b[0m, \u001b[1;36m3.17500e+01\u001b[0m,\n",
       "       \u001b[1;36m2.02460e+02\u001b[0m, \u001b[1;36m5.28690e+02\u001b[0m, \u001b[1;36m4.11300e+01\u001b[0m, \u001b[1;36m4.25300e+01\u001b[0m, \u001b[1;36m6.14000e+00\u001b[0m,\n",
       "       \u001b[1;36m6.56190e+02\u001b[0m, \u001b[1;36m1.71800e+01\u001b[0m, \u001b[1;36m1.16782e+03\u001b[0m, \u001b[1;36m1.21644e+03\u001b[0m, \u001b[1;36m1.30835e+03\u001b[0m,\n",
       "       \u001b[1;36m1.93060e+02\u001b[0m, \u001b[1;36m1.84260e+02\u001b[0m, \u001b[1;36m3.65400e+01\u001b[0m, \u001b[1;36m6.40000e+00\u001b[0m, \u001b[1;36m1.16307e+03\u001b[0m,\n",
       "       \u001b[1;36m6.53780e+02\u001b[0m, \u001b[1;36m5.25900e+01\u001b[0m, \u001b[1;36m4.53500e+01\u001b[0m, \u001b[1;36m4.23100e+01\u001b[0m, \u001b[1;36m1.08600e+01\u001b[0m,\n",
       "       \u001b[1;36m1.20038e+03\u001b[0m, \u001b[1;36m4.44100e+01\u001b[0m, \u001b[1;36m1.08050e+03\u001b[0m, \u001b[1;36m2.33500e+01\u001b[0m, \u001b[1;36m3.67500e+01\u001b[0m,\n",
       "       \u001b[1;36m7.48000e+00\u001b[0m, \u001b[1;36m3.90300e+01\u001b[0m, \u001b[1;36m3.89300e+01\u001b[0m, \u001b[1;36m8.02710e+02\u001b[0m, \u001b[1;36m1.82660e+02\u001b[0m,\n",
       "       \u001b[1;36m4.47000e+01\u001b[0m, \u001b[1;36m2.15250e+02\u001b[0m, \u001b[1;36m7.73320e+02\u001b[0m, \u001b[1;36m4.93600e+01\u001b[0m, \u001b[1;36m1.28472e+03\u001b[0m,\n",
       "       \u001b[1;36m2.75232e+03\u001b[0m, \u001b[1;36m2.43100e+01\u001b[0m, \u001b[1;36m4.11500e+01\u001b[0m, \u001b[1;36m3.07980e+02\u001b[0m, \u001b[1;36m5.37150e+02\u001b[0m,\n",
       "       \u001b[1;36m7.84210e+02\u001b[0m, \u001b[1;36m2.63000e+01\u001b[0m, \u001b[1;36m2.47400e+01\u001b[0m, \u001b[1;36m5.92830e+02\u001b[0m, \u001b[1;36m5.66000e+00\u001b[0m,\n",
       "       \u001b[1;36m4.40700e+01\u001b[0m, \u001b[1;36m1.69470e+02\u001b[0m, \u001b[1;36m2.10820e+02\u001b[0m, \u001b[1;36m7.40530e+02\u001b[0m, \u001b[1;36m2.89100e+01\u001b[0m,\n",
       "       \u001b[1;36m3.16920e+02\u001b[0m, \u001b[1;36m8.47560e+02\u001b[0m, \u001b[1;36m3.66900e+01\u001b[0m, \u001b[1;36m1.04926e+03\u001b[0m, \u001b[1;36m3.70000e+00\u001b[0m,\n",
       "       \u001b[1;36m1.36882e+03\u001b[0m, \u001b[1;36m2.95900e+01\u001b[0m, \u001b[1;36m1.36800e+01\u001b[0m, \u001b[1;36m2.97400e+01\u001b[0m, \u001b[1;36m5.22080e+02\u001b[0m,\n",
       "       \u001b[1;36m1.94150e+02\u001b[0m, \u001b[1;36m8.65750e+02\u001b[0m, \u001b[1;36m3.55340e+02\u001b[0m, \u001b[1;36m2.01140e+02\u001b[0m, \u001b[1;36m1.86910e+02\u001b[0m,\n",
       "       \u001b[1;36m2.67100e+01\u001b[0m, \u001b[1;36m1.70700e+01\u001b[0m, \u001b[1;36m2.78800e+01\u001b[0m, \u001b[1;36m4.76950e+02\u001b[0m, \u001b[1;36m1.11800e+01\u001b[0m,\n",
       "       \u001b[1;36m7.03000e+01\u001b[0m, \u001b[1;36m5.81000e+00\u001b[0m, \u001b[1;36m1.74900e+02\u001b[0m, \u001b[1;36m3.73870e+02\u001b[0m, \u001b[1;36m3.21000e+01\u001b[0m,\n",
       "       \u001b[1;36m1.75340e+02\u001b[0m, \u001b[1;36m2.76800e+02\u001b[0m, \u001b[1;36m6.25730e+02\u001b[0m, \u001b[1;36m4.93200e+01\u001b[0m, \u001b[1;36m1.67690e+02\u001b[0m,\n",
       "       \u001b[1;36m3.25300e+02\u001b[0m, \u001b[1;36m2.72400e+01\u001b[0m, \u001b[1;36m1.57800e+01\u001b[0m, \u001b[1;36m2.96400e+01\u001b[0m, \u001b[1;36m3.74400e+01\u001b[0m,\n",
       "       \u001b[1;36m5.30290e+02\u001b[0m, \u001b[1;36m6.02000e+00\u001b[0m, \u001b[1;36m2.44120e+02\u001b[0m, \u001b[1;36m4.57500e+01\u001b[0m, \u001b[1;36m1.48000e+00\u001b[0m,\n",
       "       \u001b[1;36m9.94300e+01\u001b[0m, \u001b[1;36m1.84740e+02\u001b[0m, \u001b[1;36m1.47900e+01\u001b[0m, \u001b[1;36m1.59040e+02\u001b[0m, \u001b[1;36m2.49200e+01\u001b[0m,\n",
       "       \u001b[1;36m6.42320e+02\u001b[0m, \u001b[1;36m4.74200e+01\u001b[0m, \u001b[1;36m5.71400e+01\u001b[0m, \u001b[1;36m1.36100e+01\u001b[0m, \u001b[1;36m3.38000e+01\u001b[0m,\n",
       "       \u001b[1;36m2.60600e+01\u001b[0m, \u001b[1;36m1.34041e+03\u001b[0m, \u001b[1;36m6.53000e+00\u001b[0m, \u001b[1;36m3.88600e+01\u001b[0m, \u001b[1;36m3.23000e+01\u001b[0m,\n",
       "       \u001b[1;36m1.09800e+03\u001b[0m, \u001b[1;36m2.71500e+02\u001b[0m, \u001b[1;36m7.21040e+02\u001b[0m, \u001b[1;36m1.36402e+03\u001b[0m, \u001b[1;36m2.32880e+02\u001b[0m,\n",
       "       \u001b[1;36m1.97660e+02\u001b[0m, \u001b[1;36m2.82600e+02\u001b[0m, \u001b[1;36m2.17400e+01\u001b[0m, \u001b[1;36m2.08700e+02\u001b[0m, \u001b[1;36m7.47210e+02\u001b[0m,\n",
       "       \u001b[1;36m4.90940e+02\u001b[0m, \u001b[1;36m2.06590e+02\u001b[0m, \u001b[1;36m7.59620e+02\u001b[0m, \u001b[1;36m7.92930e+02\u001b[0m, \u001b[1;36m6.61940e+02\u001b[0m,\n",
       "       \u001b[1;36m2.35500e+01\u001b[0m, \u001b[1;36m1.14835e+03\u001b[0m, \u001b[1;36m7.98330e+02\u001b[0m, \u001b[1;36m1.85580e+02\u001b[0m, \u001b[1;36m4.01260e+02\u001b[0m,\n",
       "       \u001b[1;36m5.06000e+01\u001b[0m, \u001b[1;36m2.06520e+02\u001b[0m, \u001b[1;36m1.97100e+02\u001b[0m, \u001b[1;36m1.00183e+03\u001b[0m, \u001b[1;36m4.65840e+02\u001b[0m,\n",
       "       \u001b[1;36m2.90600e+01\u001b[0m, \u001b[1;36m4.12600e+01\u001b[0m, \u001b[1;36m5.97230e+02\u001b[0m, \u001b[1;36m1.30580e+02\u001b[0m, \u001b[1;36m1.57000e+01\u001b[0m,\n",
       "       \u001b[1;36m1.41820e+02\u001b[0m, \u001b[1;36m1.42755e+03\u001b[0m, \u001b[1;36m3.52100e+01\u001b[0m, \u001b[1;36m1.10400e+01\u001b[0m, \u001b[1;36m7.22470e+02\u001b[0m,\n",
       "       \u001b[1;36m1.95620e+02\u001b[0m, \u001b[1;36m1.82500e+02\u001b[0m, \u001b[1;36m2.03900e+02\u001b[0m, \u001b[1;36m3.66000e+01\u001b[0m, \u001b[1;36m5.92330e+02\u001b[0m,\n",
       "       \u001b[1;36m2.94910e+02\u001b[0m, \u001b[1;36m2.72170e+02\u001b[0m, \u001b[1;36m5.77000e+02\u001b[0m, \u001b[1;36m1.83090e+02\u001b[0m, \u001b[1;36m1.22430e+02\u001b[0m,\n",
       "       \u001b[1;36m3.54500e+01\u001b[0m, \u001b[1;36m1.60350e+02\u001b[0m, \u001b[1;36m6.78800e+01\u001b[0m, \u001b[1;36m9.40000e-01\u001b[0m, \u001b[1;36m2.12340e+02\u001b[0m,\n",
       "       \u001b[1;36m1.84150e+02\u001b[0m, \u001b[1;36m1.82700e+02\u001b[0m, \u001b[1;36m1.04254e+03\u001b[0m, \u001b[1;36m3.13500e+01\u001b[0m, \u001b[1;36m1.97800e+02\u001b[0m,\n",
       "       \u001b[1;36m3.84420e+02\u001b[0m, \u001b[1;36m3.43200e+01\u001b[0m, \u001b[1;36m2.02940e+02\u001b[0m, \u001b[1;36m1.32900e+01\u001b[0m, \u001b[1;36m1.62070e+02\u001b[0m,\n",
       "       \u001b[1;36m3.26700e+01\u001b[0m, \u001b[1;36m3.19890e+02\u001b[0m, \u001b[1;36m1.73720e+02\u001b[0m, \u001b[1;36m2.70600e+01\u001b[0m, \u001b[1;36m2.41960e+02\u001b[0m\u001b[1m]\u001b[0m\u001b[1m)\u001b[0m"
      ]
     },
     "execution_count": 68,
     "metadata": {},
     "output_type": "execute_result"
    }
   ],
   "source": [
    "encounters['PAYER_COVERAGE'].unique()"
   ]
  },
  {
   "cell_type": "code",
   "execution_count": 69,
   "id": "2dd2438c-4698-42e1-92a0-a71a69e8e870",
   "metadata": {},
   "outputs": [
    {
     "data": {
      "text/html": [
       "<pre style=\"white-space:pre;overflow-x:auto;line-height:normal;font-family:Menlo,'DejaVu Sans Mono',consolas,'Courier New',monospace\"></pre>\n"
      ],
      "text/plain": []
     },
     "metadata": {},
     "output_type": "display_data"
    },
    {
     "data": {
      "text/plain": [
       "\u001b[1;35marray\u001b[0m\u001b[1m(\u001b[0m\u001b[1m[\u001b[0m           nan, \u001b[1;36m2.00936003e+08\u001b[0m, \u001b[1;36m2.71737000e+08\u001b[0m\u001b[1m]\u001b[0m\u001b[1m)\u001b[0m"
      ]
     },
     "execution_count": 69,
     "metadata": {},
     "output_type": "execute_result"
    }
   ],
   "source": [
    "encounters['REASONCODE'].unique()"
   ]
  },
  {
   "cell_type": "code",
   "execution_count": 70,
   "id": "26001ff7-dfe2-4648-97d1-f6bb3284ed79",
   "metadata": {},
   "outputs": [
    {
     "data": {
      "text/html": [
       "<pre style=\"white-space:pre;overflow-x:auto;line-height:normal;font-family:Menlo,'DejaVu Sans Mono',consolas,'Courier New',monospace\"></pre>\n"
      ],
      "text/plain": []
     },
     "metadata": {},
     "output_type": "display_data"
    },
    {
     "data": {
      "text/plain": [
       "\u001b[1;35marray\u001b[0m\u001b[1m(\u001b[0m\u001b[1m[\u001b[0m\u001b[3;35mNone\u001b[0m, \u001b[32m'Lupus erythematosus'\u001b[0m, \u001b[32m'Anemia \u001b[0m\u001b[32m(\u001b[0m\u001b[32mdisorder\u001b[0m\u001b[32m)\u001b[0m\u001b[32m'\u001b[0m\u001b[1m]\u001b[0m, \u001b[33mdtype\u001b[0m=\u001b[35mobject\u001b[0m\u001b[1m)\u001b[0m"
      ]
     },
     "execution_count": 70,
     "metadata": {},
     "output_type": "execute_result"
    }
   ],
   "source": [
    "encounters['REASONDESCRIPTION'].unique()"
   ]
  },
  {
   "cell_type": "code",
   "execution_count": 71,
   "id": "5cb8539e-6aea-47f4-86da-676a9fdf8aa6",
   "metadata": {},
   "outputs": [
    {
     "name": "stdout",
     "output_type": "stream",
     "text": [
      "Empty DataFrame\n",
      "Columns: [PATIENT_ID, BIRTHDATE, DEATHDATE, SSN, DRIVERS, PASSPORT, PREFIX, FIRST, LAST, SUFFIX, MAIDEN, MARITAL, RACE, ETHNICITY, GENDER, BIRTHPLACE, ADDRESS, CITY, STATE, COUNTY, FIPS, ZIP, LAT, LON, HEALTHCARE_EXPENSES, HEALTHCARE_COVERAGE, INCOME, Id, START, STOP, PATIENT, ORGANIZATION, PROVIDER, PAYER, ENCOUNTERCLASS, CODE, DESCRIPTION, BASE_ENCOUNTER_COST, TOTAL_CLAIM_COST, PAYER_COVERAGE, REASONCODE, REASONDESCRIPTION]\n",
      "Index: []\n",
      "\n",
      "[0 rows x 42 columns]\n"
     ]
    }
   ],
   "source": [
    "merged_df = patients.merge(\n",
    "    encounters,\n",
    "    left_on='PATIENT_ID',    # column from patients\n",
    "    right_on='PATIENT',       # column from encounters\n",
    "    how='inner'               # only keep matching rows (INNER JOIN)\n",
    ")\n",
    "\n",
    "print(merged_df.head())"
   ]
  },
  {
   "cell_type": "code",
   "execution_count": null,
   "id": "f8f68d58-52bc-4654-9398-bdf7f2fbbd64",
   "metadata": {},
   "outputs": [],
   "source": [
    "merged_df = patients.merge(\n",
    "    encounters,\n",
    "    left_on='PATIENT_ID',    # column from patients\n",
    "    right_on='PATIENT',       # column from encounters\n",
    "    how='inner'               # only keep matching rows (INNER JOIN)\n",
    ")\n",
    "\n",
    "print(merged_df.head())"
   ]
  },
  {
   "cell_type": "code",
   "execution_count": 72,
   "id": "afefba10-5e6a-4b00-8b7c-a7c011c5a446",
   "metadata": {},
   "outputs": [
    {
     "name": "stdout",
     "output_type": "stream",
     "text": [
      "                             PATIENT_ID  BIRTHDATE  DEATHDATE          SSN  \\\n",
      "0  28d7b56c-6056-d0a2-2991-39d6e917216c 1993-11-13        NaN  999-31-6091   \n",
      "1  6c434506-fb4b-3e3f-c19d-553dec3b6c17 1959-08-02        NaN  999-44-3322   \n",
      "2  44a8ca45-6c6e-38bb-fac0-ddbf7a7ee3a4 1971-08-26        NaN  999-51-4389   \n",
      "3  780ec78c-22a0-fcdb-17c6-ae9b2fcace9c 1976-12-12        NaN  999-23-8384   \n",
      "4  cf5956bb-34f2-841b-2505-57b99991c377 1990-01-24        NaN  999-36-9799   \n",
      "\n",
      "     DRIVERS    PASSPORT PREFIX       FIRST        LAST SUFFIX  ...  INCOME  \\\n",
      "0  S99958903  X63033472X   Mrs.   Angela104  Stanton715    NaN  ...   67198   \n",
      "1  S99985936   X7405738X   Mrs.  Claudia969   Gracia333    NaN  ...    5779   \n",
      "2  S99916438  X49044901X    Mr.   Rudolf736    Rohan584    NaN  ...   47847   \n",
      "3  S99975300  X39564403X   Mrs.  Juliane376   Barton704    NaN  ...  116672   \n",
      "4  S99929280  X85067957X   Mrs.   Dagmar148     King743    NaN  ...   47402   \n",
      "\n",
      "                                PATIENT GENDER_y RACE_y  ETHNICITY_y  \\\n",
      "0  28d7b56c-6056-d0a2-2991-39d6e917216c      NaN  white     hispanic   \n",
      "1  6c434506-fb4b-3e3f-c19d-553dec3b6c17      NaN  black     hispanic   \n",
      "2  44a8ca45-6c6e-38bb-fac0-ddbf7a7ee3a4      NaN  white  nonhispanic   \n",
      "3  780ec78c-22a0-fcdb-17c6-ae9b2fcace9c      NaN  white     hispanic   \n",
      "4  cf5956bb-34f2-841b-2505-57b99991c377      NaN  white  nonhispanic   \n",
      "\n",
      "  AGE_BEGIN AGE_END            PATHOLOGY NUM_SYMPTOMS  \\\n",
      "0        26     NaN  Lupus erythematosus            4   \n",
      "1        58     NaN  Lupus erythematosus            4   \n",
      "2        50     NaN  Lupus erythematosus            4   \n",
      "3        39     NaN  Lupus erythematosus            4   \n",
      "4        29     NaN  Lupus erythematosus            3   \n",
      "\n",
      "                                    SYMPTOMS  \n",
      "0   Rash:34;Joint Pain:39;Fatigue:9;Fever:12  \n",
      "1  Rash:19;Joint Pain:44;Fatigue:48;Fever:15  \n",
      "2    Rash:2;Joint Pain:32;Fatigue:12;Fever:6  \n",
      "3  Rash:30;Joint Pain:30;Fatigue:41;Fever:19  \n",
      "4   Rash:28;Joint Pain:26;Fatigue:33;Fever:5  \n",
      "\n",
      "[5 rows x 36 columns]\n"
     ]
    }
   ],
   "source": [
    "merged_df = patients.merge(\n",
    "    symptoms,\n",
    "    left_on='PATIENT_ID',    # column from patients\n",
    "    right_on='PATIENT',       # column from encounters\n",
    "    how='inner'               # only keep matching rows (INNER JOIN)\n",
    ")\n",
    "\n",
    "print(merged_df.head())"
   ]
  },
  {
   "cell_type": "code",
   "execution_count": 73,
   "id": "a091d82d-cf8b-4ec1-8b5a-fb5abce9b928",
   "metadata": {},
   "outputs": [
    {
     "name": "stdout",
     "output_type": "stream",
     "text": [
      "                             PATIENT_ID  BIRTHDATE  DEATHDATE          SSN  \\\n",
      "0  28d7b56c-6056-d0a2-2991-39d6e917216c 1993-11-13        NaN  999-31-6091   \n",
      "1  28d7b56c-6056-d0a2-2991-39d6e917216c 1993-11-13        NaN  999-31-6091   \n",
      "2  28d7b56c-6056-d0a2-2991-39d6e917216c 1993-11-13        NaN  999-31-6091   \n",
      "3  28d7b56c-6056-d0a2-2991-39d6e917216c 1993-11-13        NaN  999-31-6091   \n",
      "4  28d7b56c-6056-d0a2-2991-39d6e917216c 1993-11-13        NaN  999-31-6091   \n",
      "\n",
      "     DRIVERS    PASSPORT PREFIX      FIRST        LAST SUFFIX  ...  \\\n",
      "0  S99958903  X63033472X   Mrs.  Angela104  Stanton715    NaN  ...   \n",
      "1  S99958903  X63033472X   Mrs.  Angela104  Stanton715    NaN  ...   \n",
      "2  S99958903  X63033472X   Mrs.  Angela104  Stanton715    NaN  ...   \n",
      "3  S99958903  X63033472X   Mrs.  Angela104  Stanton715    NaN  ...   \n",
      "4  S99958903  X63033472X   Mrs.  Angela104  Stanton715    NaN  ...   \n",
      "\n",
      "                                  PAYER                             ENCOUNTER  \\\n",
      "0  0133f751-9229-3cfd-815f-b6d4979bdd6a  402DFAEB-1888-F562-4651-F75203EB1E28   \n",
      "1  0133f751-9229-3cfd-815f-b6d4979bdd6a  402DFAEB-1888-F562-4651-F75203EB1E28   \n",
      "2  0133f751-9229-3cfd-815f-b6d4979bdd6a  FBC2F3B3-AB93-707E-AD9E-337990345F32   \n",
      "3  0133f751-9229-3cfd-815f-b6d4979bdd6a  FBC2F3B3-AB93-707E-AD9E-337990345F32   \n",
      "4  0133f751-9229-3cfd-815f-b6d4979bdd6a  E3989F64-4D5B-32E0-9EDC-7874A02F45E8   \n",
      "\n",
      "     CODE                                 DESCRIPTION  BASE_COST  \\\n",
      "0  849574          Naproxen sodium 220 MG Oral Tablet     274.28   \n",
      "1  312615                predniSONE 20 MG Oral Tablet      16.04   \n",
      "2  241834  cycloSPORINE  modified 100 MG Oral Capsule     473.61   \n",
      "3  312615                predniSONE 20 MG Oral Tablet       8.21   \n",
      "4  241834  cycloSPORINE  modified 100 MG Oral Capsule     408.04   \n",
      "\n",
      "  PAYER_COVERAGE DISPENSES TOTALCOST   REASONCODE    REASONDESCRIPTION  \n",
      "0            0.0        45  12342.60  200936003.0  Lupus erythematosus  \n",
      "1            0.0         1     16.04  200936003.0  Lupus erythematosus  \n",
      "2            0.0         1    473.61  200936003.0  Lupus erythematosus  \n",
      "3            0.0         1      8.21  200936003.0  Lupus erythematosus  \n",
      "4            0.0         1    408.04  200936003.0  Lupus erythematosus  \n",
      "\n",
      "[5 rows x 40 columns]\n"
     ]
    }
   ],
   "source": [
    "merged_df = patients.merge(\n",
    "    medications,\n",
    "    left_on='PATIENT_ID',    # column from patients\n",
    "    right_on='PATIENT',       # column from encounters\n",
    "    how='inner'               # only keep matching rows (INNER JOIN)\n",
    ")\n",
    "\n",
    "print(merged_df.head())"
   ]
  },
  {
   "cell_type": "code",
   "execution_count": 74,
   "id": "d763c86d-fa57-432f-97d8-fc1fdf1806fe",
   "metadata": {},
   "outputs": [
    {
     "name": "stdout",
     "output_type": "stream",
     "text": [
      "Empty DataFrame\n",
      "Columns: [PATIENT_ID, BIRTHDATE, DEATHDATE, SSN, DRIVERS, PASSPORT, PREFIX, FIRST, LAST, SUFFIX, MAIDEN, MARITAL, RACE, ETHNICITY, GENDER, BIRTHPLACE, ADDRESS, CITY, STATE, COUNTY, FIPS, ZIP, LAT, LON, HEALTHCARE_EXPENSES, HEALTHCARE_COVERAGE, INCOME, START, STOP, PATIENT, ENCOUNTER, CODE, DESCRIPTION]\n",
      "Index: []\n",
      "\n",
      "[0 rows x 33 columns]\n"
     ]
    }
   ],
   "source": [
    "merged_df = patients.merge(\n",
    "    conditions,\n",
    "    left_on='PATIENT_ID',    # column from patients\n",
    "    right_on='PATIENT',       # column from encounters\n",
    "    how='inner'               # only keep matching rows (INNER JOIN)\n",
    ")\n",
    "\n",
    "print(merged_df.head())"
   ]
  },
  {
   "cell_type": "code",
   "execution_count": 81,
   "id": "d3bde84a-11ec-45a0-9a76-cf279ea11fb8",
   "metadata": {},
   "outputs": [
    {
     "name": "stdout",
     "output_type": "stream",
     "text": [
      "Empty DataFrame\n",
      "Columns: [Id, START_x, STOP_x, PATIENT_x, ORGANIZATION, PROVIDER, PAYER_x, ENCOUNTERCLASS, CODE_x, DESCRIPTION_x, BASE_ENCOUNTER_COST, TOTAL_CLAIM_COST, PAYER_COVERAGE_x, REASONCODE_x, REASONDESCRIPTION_x, START_y, STOP_y, PATIENT_y, PAYER_y, ENCOUNTER, CODE_y, DESCRIPTION_y, BASE_COST, PAYER_COVERAGE_y, DISPENSES, TOTALCOST, REASONCODE_y, REASONDESCRIPTION_y]\n",
      "Index: []\n",
      "\n",
      "[0 rows x 28 columns]\n"
     ]
    }
   ],
   "source": [
    "merged_df = encounters.merge(\n",
    "    medications,\n",
    "    left_on='Id',    # column from patients\n",
    "    right_on='ENCOUNTER',       # column from encounters\n",
    "    how='inner'               # only keep matching rows (INNER JOIN)\n",
    ")\n",
    "\n",
    "print(merged_df.head())"
   ]
  },
  {
   "cell_type": "code",
   "execution_count": 80,
   "id": "96bf1915-fa5c-45cc-ba4c-87ea89aa2f29",
   "metadata": {},
   "outputs": [
    {
     "data": {
      "text/html": [
       "<pre style=\"white-space:pre;overflow-x:auto;line-height:normal;font-family:Menlo,'DejaVu Sans Mono',consolas,'Courier New',monospace\"></pre>\n"
      ],
      "text/plain": []
     },
     "metadata": {},
     "output_type": "display_data"
    },
    {
     "data": {
      "text/html": [
       "<div>\n",
       "<style scoped>\n",
       "    .dataframe tbody tr th:only-of-type {\n",
       "        vertical-align: middle;\n",
       "    }\n",
       "\n",
       "    .dataframe tbody tr th {\n",
       "        vertical-align: top;\n",
       "    }\n",
       "\n",
       "    .dataframe thead th {\n",
       "        text-align: right;\n",
       "    }\n",
       "</style>\n",
       "<table border=\"1\" class=\"dataframe\">\n",
       "  <thead>\n",
       "    <tr style=\"text-align: right;\">\n",
       "      <th></th>\n",
       "      <th>Id</th>\n",
       "      <th>START</th>\n",
       "      <th>STOP</th>\n",
       "      <th>PATIENT</th>\n",
       "      <th>ORGANIZATION</th>\n",
       "      <th>PROVIDER</th>\n",
       "      <th>PAYER</th>\n",
       "      <th>ENCOUNTERCLASS</th>\n",
       "      <th>CODE</th>\n",
       "      <th>DESCRIPTION</th>\n",
       "      <th>BASE_ENCOUNTER_COST</th>\n",
       "      <th>TOTAL_CLAIM_COST</th>\n",
       "      <th>PAYER_COVERAGE</th>\n",
       "      <th>REASONCODE</th>\n",
       "      <th>REASONDESCRIPTION</th>\n",
       "    </tr>\n",
       "  </thead>\n",
       "  <tbody>\n",
       "    <tr>\n",
       "      <th>0</th>\n",
       "      <td>6539c675-dcf2-cace-a90d-7f097d1799b3</td>\n",
       "      <td>2014-02-10T11:00:08Z</td>\n",
       "      <td>2014-02-10T11:15:08Z</td>\n",
       "      <td>54F1059E-6250-3949-6DD0-1DDA9B85D22A</td>\n",
       "      <td>ef42ec52-a1c1-3fc5-8e52-da46f7f3970c</td>\n",
       "      <td>35088bec-f756-35d8-8140-b2b017c0eacc</td>\n",
       "      <td>8fa6c185-e44e-3e34-8bd8-39be8694f4ce</td>\n",
       "      <td>wellness</td>\n",
       "      <td>410620009</td>\n",
       "      <td>Well child visit (procedure)</td>\n",
       "      <td>133.36</td>\n",
       "      <td>405.36</td>\n",
       "      <td>0.0</td>\n",
       "      <td>NaN</td>\n",
       "      <td>None</td>\n",
       "    </tr>\n",
       "    <tr>\n",
       "      <th>1</th>\n",
       "      <td>748a443c-9819-4f3a-8648-0096ace6d3fd</td>\n",
       "      <td>2014-06-04T05:19:43Z</td>\n",
       "      <td>2014-06-04T05:34:43Z</td>\n",
       "      <td>92675303-CA5B-136A-169B-E764C5753F06</td>\n",
       "      <td>02078b23-a943-3175-b5f0-8d386dd8eb56</td>\n",
       "      <td>af22b73b-d38f-3d92-8a95-bd57ac2dc3f1</td>\n",
       "      <td>b046940f-1664-3047-bca7-dfa76be352a4</td>\n",
       "      <td>wellness</td>\n",
       "      <td>410620009</td>\n",
       "      <td>Well child visit (procedure)</td>\n",
       "      <td>133.36</td>\n",
       "      <td>269.36</td>\n",
       "      <td>0.0</td>\n",
       "      <td>NaN</td>\n",
       "      <td>None</td>\n",
       "    </tr>\n",
       "    <tr>\n",
       "      <th>2</th>\n",
       "      <td>678e03b1-21ac-fbfa-3506-17bee72a6335</td>\n",
       "      <td>2015-06-10T05:19:43Z</td>\n",
       "      <td>2015-06-10T05:34:43Z</td>\n",
       "      <td>92675303-CA5B-136A-169B-E764C5753F06</td>\n",
       "      <td>02078b23-a943-3175-b5f0-8d386dd8eb56</td>\n",
       "      <td>af22b73b-d38f-3d92-8a95-bd57ac2dc3f1</td>\n",
       "      <td>b046940f-1664-3047-bca7-dfa76be352a4</td>\n",
       "      <td>wellness</td>\n",
       "      <td>162673000</td>\n",
       "      <td>General examination of patient (procedure)</td>\n",
       "      <td>133.36</td>\n",
       "      <td>269.36</td>\n",
       "      <td>0.0</td>\n",
       "      <td>NaN</td>\n",
       "      <td>None</td>\n",
       "    </tr>\n",
       "    <tr>\n",
       "      <th>3</th>\n",
       "      <td>45987160-8815-858e-893b-6490a63e919c</td>\n",
       "      <td>2015-04-10T03:27:04Z</td>\n",
       "      <td>2015-04-10T03:42:04Z</td>\n",
       "      <td>A0B63E97-B6FD-5FE1-8F2D-2BEC915EFA97</td>\n",
       "      <td>44f0ad91-f33b-3fe5-ba4f-868503d593fe</td>\n",
       "      <td>a79c71d6-e0b4-3450-a0e1-ee08146aeb74</td>\n",
       "      <td>734afbd6-4794-363b-9bc0-6a3981533ed5</td>\n",
       "      <td>wellness</td>\n",
       "      <td>162673000</td>\n",
       "      <td>General examination of patient (procedure)</td>\n",
       "      <td>133.36</td>\n",
       "      <td>677.36</td>\n",
       "      <td>0.0</td>\n",
       "      <td>NaN</td>\n",
       "      <td>None</td>\n",
       "    </tr>\n",
       "    <tr>\n",
       "      <th>4</th>\n",
       "      <td>c56e3b19-5a51-0fc8-a82e-8bf89575ca71</td>\n",
       "      <td>2016-06-15T05:19:43Z</td>\n",
       "      <td>2016-06-15T05:34:43Z</td>\n",
       "      <td>92675303-CA5B-136A-169B-E764C5753F06</td>\n",
       "      <td>02078b23-a943-3175-b5f0-8d386dd8eb56</td>\n",
       "      <td>af22b73b-d38f-3d92-8a95-bd57ac2dc3f1</td>\n",
       "      <td>b046940f-1664-3047-bca7-dfa76be352a4</td>\n",
       "      <td>wellness</td>\n",
       "      <td>162673000</td>\n",
       "      <td>General examination of patient (procedure)</td>\n",
       "      <td>133.36</td>\n",
       "      <td>269.36</td>\n",
       "      <td>0.0</td>\n",
       "      <td>NaN</td>\n",
       "      <td>None</td>\n",
       "    </tr>\n",
       "  </tbody>\n",
       "</table>\n",
       "</div>"
      ],
      "text/plain": [
       "\n",
       "                                     Id                 START  \\\n",
       "\u001b[1;36m0\u001b[0m  \u001b[93m6539c675-dcf2-cace-a90d-7f097d1799b3\u001b[0m  \u001b[1;36m2014\u001b[0m-\u001b[1;36m02\u001b[0m-10T\u001b[1;92m11:00:08\u001b[0mZ   \n",
       "\u001b[1;36m1\u001b[0m  \u001b[93m748a443c-9819-4f3a-8648-0096ace6d3fd\u001b[0m  \u001b[1;36m2014\u001b[0m-\u001b[1;36m06\u001b[0m-04T\u001b[1;92m05:19:43\u001b[0mZ   \n",
       "\u001b[1;36m2\u001b[0m  \u001b[93m678e03b1-21ac-fbfa-3506-17bee72a6335\u001b[0m  \u001b[1;36m2015\u001b[0m-\u001b[1;36m06\u001b[0m-10T\u001b[1;92m05:19:43\u001b[0mZ   \n",
       "\u001b[1;36m3\u001b[0m  \u001b[93m45987160-8815-858e-893b-6490a63e919c\u001b[0m  \u001b[1;36m2015\u001b[0m-\u001b[1;36m04\u001b[0m-10T\u001b[1;92m03:27:04\u001b[0mZ   \n",
       "\u001b[1;36m4\u001b[0m  \u001b[93mc56e3b19-5a51-0fc8-a82e-8bf89575ca71\u001b[0m  \u001b[1;36m2016\u001b[0m-\u001b[1;36m06\u001b[0m-15T\u001b[1;92m05:19:43\u001b[0mZ   \n",
       "\n",
       "                   STOP                               PATIENT  \\\n",
       "\u001b[1;36m0\u001b[0m  \u001b[1;36m2014\u001b[0m-\u001b[1;36m02\u001b[0m-10T\u001b[1;92m11:15:08\u001b[0mZ  \u001b[93m54F1059E-6250-3949-6DD0-1DDA9B85D22A\u001b[0m   \n",
       "\u001b[1;36m1\u001b[0m  \u001b[1;36m2014\u001b[0m-\u001b[1;36m06\u001b[0m-04T\u001b[1;92m05:34:43\u001b[0mZ  \u001b[93m92675303-CA5B-136A-169B-E764C5753F06\u001b[0m   \n",
       "\u001b[1;36m2\u001b[0m  \u001b[1;36m2015\u001b[0m-\u001b[1;36m06\u001b[0m-10T\u001b[1;92m05:34:43\u001b[0mZ  \u001b[93m92675303-CA5B-136A-169B-E764C5753F06\u001b[0m   \n",
       "\u001b[1;36m3\u001b[0m  \u001b[1;36m2015\u001b[0m-\u001b[1;36m04\u001b[0m-10T\u001b[1;92m03:42:04\u001b[0mZ  \u001b[93mA0B63E97-B6FD-5FE1-8F2D-2BEC915EFA97\u001b[0m   \n",
       "\u001b[1;36m4\u001b[0m  \u001b[1;36m2016\u001b[0m-\u001b[1;36m06\u001b[0m-15T\u001b[1;92m05:34:43\u001b[0mZ  \u001b[93m92675303-CA5B-136A-169B-E764C5753F06\u001b[0m   \n",
       "\n",
       "                           ORGANIZATION                              PROVIDER  \\\n",
       "\u001b[1;36m0\u001b[0m  \u001b[93mef42ec52-a1c1-3fc5-8e52-da46f7f3970c\u001b[0m  \u001b[93m35088bec-f756-35d8-8140-b2b017c0eacc\u001b[0m   \n",
       "\u001b[1;36m1\u001b[0m  \u001b[93m02078b23-a943-3175-b5f0-8d386dd8eb56\u001b[0m  \u001b[93maf22b73b-d38f-3d92-8a95-bd57ac2dc3f1\u001b[0m   \n",
       "\u001b[1;36m2\u001b[0m  \u001b[93m02078b23-a943-3175-b5f0-8d386dd8eb56\u001b[0m  \u001b[93maf22b73b-d38f-3d92-8a95-bd57ac2dc3f1\u001b[0m   \n",
       "\u001b[1;36m3\u001b[0m  \u001b[93m44f0ad91-f33b-3fe5-ba4f-868503d593fe\u001b[0m  \u001b[93ma79c71d6-e0b4-3450-a0e1-ee08146aeb74\u001b[0m   \n",
       "\u001b[1;36m4\u001b[0m  \u001b[93m02078b23-a943-3175-b5f0-8d386dd8eb56\u001b[0m  \u001b[93maf22b73b-d38f-3d92-8a95-bd57ac2dc3f1\u001b[0m   \n",
       "\n",
       "                                  PAYER ENCOUNTERCLASS       CODE  \\\n",
       "\u001b[1;36m0\u001b[0m  \u001b[93m8fa6c185-e44e-3e34-8bd8-39be8694f4ce\u001b[0m       wellness  \u001b[1;36m410620009\u001b[0m   \n",
       "\u001b[1;36m1\u001b[0m  \u001b[93mb046940f-1664-3047-bca7-dfa76be352a4\u001b[0m       wellness  \u001b[1;36m410620009\u001b[0m   \n",
       "\u001b[1;36m2\u001b[0m  \u001b[93mb046940f-1664-3047-bca7-dfa76be352a4\u001b[0m       wellness  \u001b[1;36m162673000\u001b[0m   \n",
       "\u001b[1;36m3\u001b[0m  \u001b[93m734afbd6-4794-363b-9bc0-6a3981533ed5\u001b[0m       wellness  \u001b[1;36m162673000\u001b[0m   \n",
       "\u001b[1;36m4\u001b[0m  \u001b[93mb046940f-1664-3047-bca7-dfa76be352a4\u001b[0m       wellness  \u001b[1;36m162673000\u001b[0m   \n",
       "\n",
       "                                  DESCRIPTION  BASE_ENCOUNTER_COST  \\\n",
       "\u001b[1;36m0\u001b[0m                Well child visit \u001b[1m(\u001b[0mprocedure\u001b[1m)\u001b[0m               \u001b[1;36m133.36\u001b[0m   \n",
       "\u001b[1;36m1\u001b[0m                Well child visit \u001b[1m(\u001b[0mprocedure\u001b[1m)\u001b[0m               \u001b[1;36m133.36\u001b[0m   \n",
       "\u001b[1;36m2\u001b[0m  General examination of patient \u001b[1m(\u001b[0mprocedure\u001b[1m)\u001b[0m               \u001b[1;36m133.36\u001b[0m   \n",
       "\u001b[1;36m3\u001b[0m  General examination of patient \u001b[1m(\u001b[0mprocedure\u001b[1m)\u001b[0m               \u001b[1;36m133.36\u001b[0m   \n",
       "\u001b[1;36m4\u001b[0m  General examination of patient \u001b[1m(\u001b[0mprocedure\u001b[1m)\u001b[0m               \u001b[1;36m133.36\u001b[0m   \n",
       "\n",
       "   TOTAL_CLAIM_COST  PAYER_COVERAGE  REASONCODE REASONDESCRIPTION  \n",
       "\u001b[1;36m0\u001b[0m            \u001b[1;36m405.36\u001b[0m             \u001b[1;36m0.0\u001b[0m         NaN              \u001b[3;35mNone\u001b[0m  \n",
       "\u001b[1;36m1\u001b[0m            \u001b[1;36m269.36\u001b[0m             \u001b[1;36m0.0\u001b[0m         NaN              \u001b[3;35mNone\u001b[0m  \n",
       "\u001b[1;36m2\u001b[0m            \u001b[1;36m269.36\u001b[0m             \u001b[1;36m0.0\u001b[0m         NaN              \u001b[3;35mNone\u001b[0m  \n",
       "\u001b[1;36m3\u001b[0m            \u001b[1;36m677.36\u001b[0m             \u001b[1;36m0.0\u001b[0m         NaN              \u001b[3;35mNone\u001b[0m  \n",
       "\u001b[1;36m4\u001b[0m            \u001b[1;36m269.36\u001b[0m             \u001b[1;36m0.0\u001b[0m         NaN              \u001b[3;35mNone\u001b[0m  "
      ]
     },
     "execution_count": 80,
     "metadata": {},
     "output_type": "execute_result"
    }
   ],
   "source": [
    "encounters.head()"
   ]
  },
  {
   "cell_type": "code",
   "execution_count": 84,
   "id": "e5d65c2a-c784-4a51-b2ae-28a5ce48ca51",
   "metadata": {},
   "outputs": [
    {
     "data": {
      "text/html": [
       "<pre style=\"white-space:pre;overflow-x:auto;line-height:normal;font-family:Menlo,'DejaVu Sans Mono',consolas,'Courier New',monospace\"></pre>\n"
      ],
      "text/plain": []
     },
     "metadata": {},
     "output_type": "display_data"
    },
    {
     "data": {
      "text/plain": [
       "\n",
       "REASONCODE\n",
       "\u001b[1;36m200936003.0\u001b[0m    \u001b[1;36m11878\u001b[0m\n",
       "\u001b[1;36m271737000.0\u001b[0m      \u001b[1;36m679\u001b[0m\n",
       "Name: count, dtype: int64"
      ]
     },
     "execution_count": 84,
     "metadata": {},
     "output_type": "execute_result"
    }
   ],
   "source": [
    "encounters['REASONCODE'].value_counts()"
   ]
  },
  {
   "cell_type": "code",
   "execution_count": 86,
   "id": "f90e2606-ced9-427b-8f66-936c838ebe5e",
   "metadata": {},
   "outputs": [
    {
     "data": {
      "text/html": [
       "<pre style=\"white-space:pre;overflow-x:auto;line-height:normal;font-family:Menlo,'DejaVu Sans Mono',consolas,'Courier New',monospace\"></pre>\n"
      ],
      "text/plain": []
     },
     "metadata": {},
     "output_type": "display_data"
    },
    {
     "data": {
      "text/plain": [
       "\n",
       "Id                     \u001b[1;36m104262\u001b[0m\n",
       "START                  \u001b[1;36m104262\u001b[0m\n",
       "STOP                   \u001b[1;36m104262\u001b[0m\n",
       "PATIENT                \u001b[1;36m104262\u001b[0m\n",
       "ORGANIZATION           \u001b[1;36m104262\u001b[0m\n",
       "PROVIDER               \u001b[1;36m104262\u001b[0m\n",
       "PAYER                  \u001b[1;36m104262\u001b[0m\n",
       "ENCOUNTERCLASS         \u001b[1;36m104262\u001b[0m\n",
       "CODE                   \u001b[1;36m104262\u001b[0m\n",
       "DESCRIPTION            \u001b[1;36m104262\u001b[0m\n",
       "BASE_ENCOUNTER_COST    \u001b[1;36m104262\u001b[0m\n",
       "TOTAL_CLAIM_COST       \u001b[1;36m104262\u001b[0m\n",
       "PAYER_COVERAGE         \u001b[1;36m104262\u001b[0m\n",
       "REASONCODE              \u001b[1;36m12557\u001b[0m\n",
       "REASONDESCRIPTION       \u001b[1;36m12557\u001b[0m\n",
       "dtype: int64"
      ]
     },
     "execution_count": 86,
     "metadata": {},
     "output_type": "execute_result"
    }
   ],
   "source": [
    "encounters.count()"
   ]
  }
 ],
 "metadata": {
  "kernelspec": {
   "display_name": "Python 3 (ipykernel)",
   "language": "python",
   "name": "python3"
  },
  "language_info": {
   "codemirror_mode": {
    "name": "ipython",
    "version": 3
   },
   "file_extension": ".py",
   "mimetype": "text/x-python",
   "name": "python",
   "nbconvert_exporter": "python",
   "pygments_lexer": "ipython3",
   "version": "3.10.16"
  }
 },
 "nbformat": 4,
 "nbformat_minor": 5
}
